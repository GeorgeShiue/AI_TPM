{
 "cells": [
  {
   "cell_type": "markdown",
   "id": "c998d6c7",
   "metadata": {},
   "source": [
    "# API Settings"
   ]
  },
  {
   "cell_type": "code",
   "execution_count": 1,
   "id": "890bd38c",
   "metadata": {},
   "outputs": [
    {
     "data": {
      "text/plain": [
       "True"
      ]
     },
     "execution_count": 1,
     "metadata": {},
     "output_type": "execute_result"
    }
   ],
   "source": [
    "import os\n",
    "from dotenv import load_dotenv\n",
    "\n",
    "api_key = os.environ.get(\"SONAR_API_KEY\")\n",
    "load_dotenv()"
   ]
  },
  {
   "cell_type": "code",
   "execution_count": 2,
   "id": "5e0a6953",
   "metadata": {},
   "outputs": [],
   "source": [
    "url = \"https://api.perplexity.ai/chat/completions\"\n",
    "headers = {\n",
    "    \"accept\": \"application/json\",\n",
    "    \"authorization\": f\"Bearer {api_key}\",\n",
    "    \"content-type\": \"application/json\"\n",
    "}"
   ]
  },
  {
   "cell_type": "markdown",
   "id": "3742a38c",
   "metadata": {},
   "source": [
    "# Payload"
   ]
  },
  {
   "cell_type": "code",
   "execution_count": 3,
   "id": "48733613",
   "metadata": {},
   "outputs": [],
   "source": [
    "# Normal\n",
    "payload = {\n",
    "    \"model\": \"sonar\",\n",
    "    \"messages\": [\n",
    "        {\"role\": \"system\", \"content\":\"\"\"You are a helpful AI assistant.\n",
    "Your task is to review all retrieved search results and synthesize them into a single, coherent answer.\n",
    "Rules:\n",
    "1. Base your answer only on the provided search results.\n",
    "2. Merge overlapping information and resolve any contradictions using the most credible sources.\n",
    "3. Present the answer in a clear, well-structured format with concise language.\n",
    "4. If relevant, include key facts, dates, figures, and context to support the explanation.\n",
    "5. If search results do not fully answer the question, explicitly state the missing information.\n",
    "\"\"\"},\n",
    "        {\"role\": \"user\", \"content\": \"What is dark vessel detection?\"}\n",
    "    ],\n",
    "    \"stream\": False,\n",
    "}\n",
    "\n",
    "# Academic\n",
    "# payload = {\n",
    "#     \"model\": \"sonar\",\n",
    "#     \"messages\": [{\"role\": \"user\", \"content\": \"What is dark vessel detection?\"}],\n",
    "#     \"stream\": False,\n",
    "#     \"search_mode\": \"academic\",\n",
    "#     \"search_after_date_filter\": \"8/1/2023\",\n",
    "#     \"web_search_options\": {\"search_context_size\": \"high\"},\n",
    "#     # \"search_domain_filter\": [\n",
    "#     #     \"ieee.org\",\n",
    "#     # ]\n",
    "# }"
   ]
  },
  {
   "cell_type": "markdown",
   "id": "7a6e8f23",
   "metadata": {},
   "source": [
    "# Search"
   ]
  },
  {
   "cell_type": "code",
   "execution_count": 4,
   "id": "dda8c8d6",
   "metadata": {},
   "outputs": [
    {
     "name": "stdout",
     "output_type": "stream",
     "text": [
      "Response:\n",
      "**Dark vessel detection** is the process of identifying ships that intentionally turn off or disable their Automatic Identification System (AIS), making them invisible to conventional maritime tracking systems. These vessels, known as **dark vessels** or **ghost ships**, evade detection to conceal illegal or covert activities such as illegal fishing, smuggling, or unauthorized maritime presence.\n",
      "\n",
      "Detection relies heavily on satellite technologies combined with advanced data processing techniques:\n",
      "\n",
      "- **Satellite Sensors:** Optical imagers, Synthetic Aperture Radar (SAR), and radio frequency (RF) geolocation sensors scan vast ocean areas regularly from low-Earth orbit satellites to detect vessels independent of AIS signals[1][3]. SAR is particularly important because it penetrates cloud cover and works day or night[3].\n",
      "\n",
      "- **Data Processing:** Satellite images undergo processing using feature detection algorithms and machine learning models to identify potential vessels by spotting anomalies that differ from the background ocean surface. AI-based systems, such as REMIS, can pre-filter images on-board satellites to prioritize potential dark vessels, reducing data transmission and speeding detection times[2][5].\n",
      "\n",
      "- **Cross-Referencing:** Detected vessel positions from satellites are matched against AIS and VMS (Vessel Monitoring System) ship registries to confirm which detected ships are \"dark\" by their absence in AIS data, considering location accuracy tolerances (1 km for SAR, 5 km for RF)[1].\n",
      "\n",
      "- **Integration:** Systems like MDA Space’s Dark Vessel Detection platform integrate multi-sensor satellite data, including RADARSAT-2 imagery and space-based RF collection, along with geo-spectrum analysis, providing near real-time monitoring to combat illegal fishing and protect marine ecosystems[4].\n",
      "\n",
      "- **Global Efforts:** Organizations such as Global Fishing Watch apply deep learning to petabytes of satellite radar and optical data to reveal and track previously unseen dark fleets globally, aiming to create near real-time mapping of all ocean vessel activity[5].\n",
      "\n",
      "In summary, dark vessel detection uses a combination of satellite remote sensing technologies, AI and machine learning, and cross-referencing with known ship data to locate and monitor vessels that avoid traditional tracking by switching off AIS, thereby enhancing maritime security, law enforcement, and environmental protection efforts[1][2][3][4][5].\n",
      "\n",
      "Total 5 Citations:\n",
      "https://www.starboardintelligence.com/articles/satellite-dark-vessel-detection-for-maritime-domain-awareness\n",
      "https://www.esa.int/Enabling_Support/Space_Engineering_Technology/Shaping_the_Future/Machine-learning_system_can_detect_dark_vessels_faster\n",
      "https://insights.blurgs.ai/dark-vessel-detection-ai-maritime-security/\n",
      "https://mda.space/dark-vessel\n",
      "https://globalfishingwatch.org/research-project-dark-vessels/\n",
      "\n",
      "Total 5 Search Results:\n",
      "{\n",
      "  \"title\": \"Satellite dark vessel detection for maritime domain ...\",\n",
      "  \"url\": \"https://www.starboardintelligence.com/articles/satellite-dark-vessel-detection-for-maritime-domain-awareness\",\n",
      "  \"date\": \"2022-11-12\",\n",
      "  \"last_updated\": \"2025-06-16\"\n",
      "}\n",
      "{\n",
      "  \"title\": \"Machine-learning system can detect dark vessels faster\",\n",
      "  \"url\": \"https://www.esa.int/Enabling_Support/Space_Engineering_Technology/Shaping_the_Future/Machine-learning_system_can_detect_dark_vessels_faster\",\n",
      "  \"date\": \"2024-10-16\",\n",
      "  \"last_updated\": \"2024-10-31\"\n",
      "}\n",
      "{\n",
      "  \"title\": \"Dark Vessel Detection: The Power of AI in Maritime Security\",\n",
      "  \"url\": \"https://insights.blurgs.ai/dark-vessel-detection-ai-maritime-security/\",\n",
      "  \"date\": \"2024-09-10\",\n",
      "  \"last_updated\": \"2024-10-08\"\n",
      "}\n",
      "{\n",
      "  \"title\": \"Dark Vessel Detection\",\n",
      "  \"url\": \"https://mda.space/dark-vessel\",\n",
      "  \"date\": \"2025-07-18\",\n",
      "  \"last_updated\": \"2025-07-18\"\n",
      "}\n",
      "{\n",
      "  \"title\": \"Dark Vessels\",\n",
      "  \"url\": \"https://globalfishingwatch.org/research-project-dark-vessels/\",\n",
      "  \"date\": \"2022-05-03\",\n",
      "  \"last_updated\": \"2024-10-30\"\n",
      "}\n"
     ]
    }
   ],
   "source": [
    "import requests\n",
    "import json\n",
    "\n",
    "response = requests.post(url, headers=headers, json=payload).json()\n",
    "print(f\"Response:\\n{response['choices'][0]['message']['content']}\")\n",
    "\n",
    "citations = response.get(\"citations\", [])\n",
    "print(f\"\\nTotal {len(citations)} Citations:\")\n",
    "for citation in citations:\n",
    "    print(citation)\n",
    "\n",
    "search_results = response.get(\"search_results\", [])\n",
    "print(f\"\\nTotal {len(search_results)} Search Results:\")\n",
    "for search_result in search_results:\n",
    "    print(json.dumps(search_result, indent=2, ensure_ascii=False))"
   ]
  },
  {
   "cell_type": "code",
   "execution_count": 10,
   "id": "e566d6eb",
   "metadata": {},
   "outputs": [],
   "source": [
    "# save search result as json file\n",
    "import json\n",
    "\n",
    "with open(\"result/response.md\", \"w\", encoding=\"utf-8\") as f:\n",
    "    f.write(response['choices'][0]['message']['content'])\n",
    "\n",
    "with open(\"result/search_results.json\", \"w\", encoding=\"utf-8\") as f:\n",
    "    json.dump(search_results, f, ensure_ascii=False, indent=2)"
   ]
  },
  {
   "cell_type": "markdown",
   "id": "31c63483",
   "metadata": {},
   "source": [
    "# Crawling"
   ]
  },
  {
   "cell_type": "code",
   "execution_count": 6,
   "id": "993daa8f",
   "metadata": {},
   "outputs": [],
   "source": [
    "import shutil\n",
    "\n",
    "shutil.rmtree(\"result/md_docs\")\n",
    "os.makedirs(\"result/md_docs\", exist_ok=True)"
   ]
  },
  {
   "cell_type": "code",
   "execution_count": 7,
   "id": "85e5287b",
   "metadata": {},
   "outputs": [
    {
     "data": {
      "text/html": [
       "<pre style=\"white-space:pre;overflow-x:auto;line-height:normal;font-family:Menlo,'DejaVu Sans Mono',consolas,'Courier New',monospace\"><span style=\"color: #008080; text-decoration-color: #008080; font-weight: bold\">[</span><span style=\"color: #008080; text-decoration-color: #008080\">INIT</span><span style=\"color: #008080; text-decoration-color: #008080; font-weight: bold\">]</span><span style=\"color: #008080; text-decoration-color: #008080\">.... → Crawl4AI </span><span style=\"color: #008080; text-decoration-color: #008080; font-weight: bold\">0.7</span><span style=\"color: #008080; text-decoration-color: #008080\">.</span><span style=\"color: #008080; text-decoration-color: #008080; font-weight: bold\">3</span><span style=\"color: #008080; text-decoration-color: #008080\"> </span>\n",
       "</pre>\n"
      ],
      "text/plain": [
       "\u001b[1;36m[\u001b[0m\u001b[36mINIT\u001b[0m\u001b[1;36m]\u001b[0m\u001b[36m...\u001b[0m\u001b[36m. → Crawl4AI \u001b[0m\u001b[1;36m0.7\u001b[0m\u001b[36m.\u001b[0m\u001b[1;36m3\u001b[0m\u001b[36m \u001b[0m\n"
      ]
     },
     "metadata": {},
     "output_type": "display_data"
    },
    {
     "data": {
      "text/html": [
       "<pre style=\"white-space:pre;overflow-x:auto;line-height:normal;font-family:Menlo,'DejaVu Sans Mono',consolas,'Courier New',monospace\"><span style=\"color: #008000; text-decoration-color: #008000; font-weight: bold\">[</span><span style=\"color: #008000; text-decoration-color: #008000\">FETCH</span><span style=\"color: #008000; text-decoration-color: #008000; font-weight: bold\">]</span><span style=\"color: #008000; text-decoration-color: #008000\">... ↓ </span><span style=\"color: #008000; text-decoration-color: #008000; text-decoration: underline\">https://www.esa.int/Enabling_Support/Space_Engin...e-learning_system_can_detect_dark_vessels_faster</span><span style=\"color: #008000; text-decoration-color: #008000\">  |</span>\n",
       "<span style=\"color: #008000; text-decoration-color: #008000\">✓ | ⏱: </span><span style=\"color: #008000; text-decoration-color: #008000; font-weight: bold\">1.</span><span style=\"color: #008000; text-decoration-color: #008000\">17s </span>\n",
       "</pre>\n"
      ],
      "text/plain": [
       "\u001b[1;32m[\u001b[0m\u001b[32mFETCH\u001b[0m\u001b[1;32m]\u001b[0m\u001b[32m...\u001b[0m\u001b[32m ↓ \u001b[0m\u001b[4;32mhttps://www.esa.int/Enabling_Support/Space_Engin...e-learning_system_can_detect_dark_vessels_faster\u001b[0m\u001b[32m  |\u001b[0m\n",
       "\u001b[32m✓\u001b[0m\u001b[32m | ⏱: \u001b[0m\u001b[1;32m1.\u001b[0m\u001b[32m17s \u001b[0m\n"
      ]
     },
     "metadata": {},
     "output_type": "display_data"
    },
    {
     "data": {
      "text/html": [
       "<pre style=\"white-space:pre;overflow-x:auto;line-height:normal;font-family:Menlo,'DejaVu Sans Mono',consolas,'Courier New',monospace\"><span style=\"color: #008000; text-decoration-color: #008000; font-weight: bold\">[</span><span style=\"color: #008000; text-decoration-color: #008000\">SCRAPE</span><span style=\"color: #008000; text-decoration-color: #008000; font-weight: bold\">]</span><span style=\"color: #008000; text-decoration-color: #008000\">.. ◆ </span><span style=\"color: #008000; text-decoration-color: #008000; text-decoration: underline\">https://www.esa.int/Enabling_Support/Space_Engin...e-learning_system_can_detect_dark_vessels_faster</span><span style=\"color: #008000; text-decoration-color: #008000\">  |</span>\n",
       "<span style=\"color: #008000; text-decoration-color: #008000\">✓ | ⏱: </span><span style=\"color: #008000; text-decoration-color: #008000; font-weight: bold\">0.</span><span style=\"color: #008000; text-decoration-color: #008000\">01s </span>\n",
       "</pre>\n"
      ],
      "text/plain": [
       "\u001b[1;32m[\u001b[0m\u001b[32mSCRAPE\u001b[0m\u001b[1;32m]\u001b[0m\u001b[32m.. ◆ \u001b[0m\u001b[4;32mhttps://www.esa.int/Enabling_Support/Space_Engin...e-learning_system_can_detect_dark_vessels_faster\u001b[0m\u001b[32m  |\u001b[0m\n",
       "\u001b[32m✓\u001b[0m\u001b[32m | ⏱: \u001b[0m\u001b[1;32m0.\u001b[0m\u001b[32m01s \u001b[0m\n"
      ]
     },
     "metadata": {},
     "output_type": "display_data"
    },
    {
     "data": {
      "text/html": [
       "<pre style=\"white-space:pre;overflow-x:auto;line-height:normal;font-family:Menlo,'DejaVu Sans Mono',consolas,'Courier New',monospace\"><span style=\"color: #008000; text-decoration-color: #008000; font-weight: bold\">[</span><span style=\"color: #008000; text-decoration-color: #008000\">COMPLETE</span><span style=\"color: #008000; text-decoration-color: #008000; font-weight: bold\">]</span><span style=\"color: #008000; text-decoration-color: #008000\"> ● </span><span style=\"color: #008000; text-decoration-color: #008000; text-decoration: underline\">https://www.esa.int/Enabling_Support/Space_Engin...e-learning_system_can_detect_dark_vessels_faster</span><span style=\"color: #008000; text-decoration-color: #008000\">  |</span>\n",
       "<span style=\"color: #008000; text-decoration-color: #008000\">✓ | ⏱: </span><span style=\"color: #008000; text-decoration-color: #008000; font-weight: bold\">1.</span><span style=\"color: #008000; text-decoration-color: #008000\">18s </span>\n",
       "</pre>\n"
      ],
      "text/plain": [
       "\u001b[1;32m[\u001b[0m\u001b[32mCOMPLETE\u001b[0m\u001b[1;32m]\u001b[0m\u001b[32m ● \u001b[0m\u001b[4;32mhttps://www.esa.int/Enabling_Support/Space_Engin...e-learning_system_can_detect_dark_vessels_faster\u001b[0m\u001b[32m  |\u001b[0m\n",
       "\u001b[32m✓\u001b[0m\u001b[32m | ⏱: \u001b[0m\u001b[1;32m1.\u001b[0m\u001b[32m18s \u001b[0m\n"
      ]
     },
     "metadata": {},
     "output_type": "display_data"
    },
    {
     "data": {
      "text/html": [
       "<pre style=\"white-space:pre;overflow-x:auto;line-height:normal;font-family:Menlo,'DejaVu Sans Mono',consolas,'Courier New',monospace\"><span style=\"color: #008000; text-decoration-color: #008000; font-weight: bold\">[</span><span style=\"color: #008000; text-decoration-color: #008000\">FETCH</span><span style=\"color: #008000; text-decoration-color: #008000; font-weight: bold\">]</span><span style=\"color: #008000; text-decoration-color: #008000\">... ↓ </span><span style=\"color: #008000; text-decoration-color: #008000; text-decoration: underline\">https://globalfishingwatch.org/research-project-dark-vessels/</span><span style=\"color: #008000; text-decoration-color: #008000\">                                        |</span>\n",
       "<span style=\"color: #008000; text-decoration-color: #008000\">✓ | ⏱: </span><span style=\"color: #008000; text-decoration-color: #008000; font-weight: bold\">2.</span><span style=\"color: #008000; text-decoration-color: #008000\">26s </span>\n",
       "</pre>\n"
      ],
      "text/plain": [
       "\u001b[1;32m[\u001b[0m\u001b[32mFETCH\u001b[0m\u001b[1;32m]\u001b[0m\u001b[32m...\u001b[0m\u001b[32m ↓ \u001b[0m\u001b[4;32mhttps://globalfishingwatch.org/research-project-dark-vessels/\u001b[0m\u001b[32m                                        |\u001b[0m\n",
       "\u001b[32m✓\u001b[0m\u001b[32m | ⏱: \u001b[0m\u001b[1;32m2.\u001b[0m\u001b[32m26s \u001b[0m\n"
      ]
     },
     "metadata": {},
     "output_type": "display_data"
    },
    {
     "data": {
      "text/html": [
       "<pre style=\"white-space:pre;overflow-x:auto;line-height:normal;font-family:Menlo,'DejaVu Sans Mono',consolas,'Courier New',monospace\"><span style=\"color: #008000; text-decoration-color: #008000; font-weight: bold\">[</span><span style=\"color: #008000; text-decoration-color: #008000\">SCRAPE</span><span style=\"color: #008000; text-decoration-color: #008000; font-weight: bold\">]</span><span style=\"color: #008000; text-decoration-color: #008000\">.. ◆ </span><span style=\"color: #008000; text-decoration-color: #008000; text-decoration: underline\">https://globalfishingwatch.org/research-project-dark-vessels/</span><span style=\"color: #008000; text-decoration-color: #008000\">                                        |</span>\n",
       "<span style=\"color: #008000; text-decoration-color: #008000\">✓ | ⏱: </span><span style=\"color: #008000; text-decoration-color: #008000; font-weight: bold\">0.</span><span style=\"color: #008000; text-decoration-color: #008000\">04s </span>\n",
       "</pre>\n"
      ],
      "text/plain": [
       "\u001b[1;32m[\u001b[0m\u001b[32mSCRAPE\u001b[0m\u001b[1;32m]\u001b[0m\u001b[32m.. ◆ \u001b[0m\u001b[4;32mhttps://globalfishingwatch.org/research-project-dark-vessels/\u001b[0m\u001b[32m                                        |\u001b[0m\n",
       "\u001b[32m✓\u001b[0m\u001b[32m | ⏱: \u001b[0m\u001b[1;32m0.\u001b[0m\u001b[32m04s \u001b[0m\n"
      ]
     },
     "metadata": {},
     "output_type": "display_data"
    },
    {
     "data": {
      "text/html": [
       "<pre style=\"white-space:pre;overflow-x:auto;line-height:normal;font-family:Menlo,'DejaVu Sans Mono',consolas,'Courier New',monospace\"><span style=\"color: #008000; text-decoration-color: #008000; font-weight: bold\">[</span><span style=\"color: #008000; text-decoration-color: #008000\">COMPLETE</span><span style=\"color: #008000; text-decoration-color: #008000; font-weight: bold\">]</span><span style=\"color: #008000; text-decoration-color: #008000\"> ● </span><span style=\"color: #008000; text-decoration-color: #008000; text-decoration: underline\">https://globalfishingwatch.org/research-project-dark-vessels/</span><span style=\"color: #008000; text-decoration-color: #008000\">                                        |</span>\n",
       "<span style=\"color: #008000; text-decoration-color: #008000\">✓ | ⏱: </span><span style=\"color: #008000; text-decoration-color: #008000; font-weight: bold\">2.</span><span style=\"color: #008000; text-decoration-color: #008000\">30s </span>\n",
       "</pre>\n"
      ],
      "text/plain": [
       "\u001b[1;32m[\u001b[0m\u001b[32mCOMPLETE\u001b[0m\u001b[1;32m]\u001b[0m\u001b[32m ● \u001b[0m\u001b[4;32mhttps://globalfishingwatch.org/research-project-dark-vessels/\u001b[0m\u001b[32m                                        |\u001b[0m\n",
       "\u001b[32m✓\u001b[0m\u001b[32m | ⏱: \u001b[0m\u001b[1;32m2.\u001b[0m\u001b[32m30s \u001b[0m\n"
      ]
     },
     "metadata": {},
     "output_type": "display_data"
    },
    {
     "data": {
      "text/html": [
       "<pre style=\"white-space:pre;overflow-x:auto;line-height:normal;font-family:Menlo,'DejaVu Sans Mono',consolas,'Courier New',monospace\"><span style=\"color: #008000; text-decoration-color: #008000; font-weight: bold\">[</span><span style=\"color: #008000; text-decoration-color: #008000\">FETCH</span><span style=\"color: #008000; text-decoration-color: #008000; font-weight: bold\">]</span><span style=\"color: #008000; text-decoration-color: #008000\">... ↓ </span><span style=\"color: #008000; text-decoration-color: #008000; text-decoration: underline\">https://insights.blurgs.ai/dark-vessel-detection-ai-maritime-security/</span><span style=\"color: #008000; text-decoration-color: #008000\">                               |</span>\n",
       "<span style=\"color: #008000; text-decoration-color: #008000\">✓ | ⏱: </span><span style=\"color: #008000; text-decoration-color: #008000; font-weight: bold\">2.</span><span style=\"color: #008000; text-decoration-color: #008000\">25s </span>\n",
       "</pre>\n"
      ],
      "text/plain": [
       "\u001b[1;32m[\u001b[0m\u001b[32mFETCH\u001b[0m\u001b[1;32m]\u001b[0m\u001b[32m...\u001b[0m\u001b[32m ↓ \u001b[0m\u001b[4;32mhttps://insights.blurgs.ai/dark-vessel-detection-ai-maritime-security/\u001b[0m\u001b[32m                               |\u001b[0m\n",
       "\u001b[32m✓\u001b[0m\u001b[32m | ⏱: \u001b[0m\u001b[1;32m2.\u001b[0m\u001b[32m25s \u001b[0m\n"
      ]
     },
     "metadata": {},
     "output_type": "display_data"
    },
    {
     "data": {
      "text/html": [
       "<pre style=\"white-space:pre;overflow-x:auto;line-height:normal;font-family:Menlo,'DejaVu Sans Mono',consolas,'Courier New',monospace\"><span style=\"color: #008000; text-decoration-color: #008000; font-weight: bold\">[</span><span style=\"color: #008000; text-decoration-color: #008000\">SCRAPE</span><span style=\"color: #008000; text-decoration-color: #008000; font-weight: bold\">]</span><span style=\"color: #008000; text-decoration-color: #008000\">.. ◆ </span><span style=\"color: #008000; text-decoration-color: #008000; text-decoration: underline\">https://insights.blurgs.ai/dark-vessel-detection-ai-maritime-security/</span><span style=\"color: #008000; text-decoration-color: #008000\">                               |</span>\n",
       "<span style=\"color: #008000; text-decoration-color: #008000\">✓ | ⏱: </span><span style=\"color: #008000; text-decoration-color: #008000; font-weight: bold\">0.</span><span style=\"color: #008000; text-decoration-color: #008000\">01s </span>\n",
       "</pre>\n"
      ],
      "text/plain": [
       "\u001b[1;32m[\u001b[0m\u001b[32mSCRAPE\u001b[0m\u001b[1;32m]\u001b[0m\u001b[32m.. ◆ \u001b[0m\u001b[4;32mhttps://insights.blurgs.ai/dark-vessel-detection-ai-maritime-security/\u001b[0m\u001b[32m                               |\u001b[0m\n",
       "\u001b[32m✓\u001b[0m\u001b[32m | ⏱: \u001b[0m\u001b[1;32m0.\u001b[0m\u001b[32m01s \u001b[0m\n"
      ]
     },
     "metadata": {},
     "output_type": "display_data"
    },
    {
     "data": {
      "text/html": [
       "<pre style=\"white-space:pre;overflow-x:auto;line-height:normal;font-family:Menlo,'DejaVu Sans Mono',consolas,'Courier New',monospace\"><span style=\"color: #008000; text-decoration-color: #008000; font-weight: bold\">[</span><span style=\"color: #008000; text-decoration-color: #008000\">COMPLETE</span><span style=\"color: #008000; text-decoration-color: #008000; font-weight: bold\">]</span><span style=\"color: #008000; text-decoration-color: #008000\"> ● </span><span style=\"color: #008000; text-decoration-color: #008000; text-decoration: underline\">https://insights.blurgs.ai/dark-vessel-detection-ai-maritime-security/</span><span style=\"color: #008000; text-decoration-color: #008000\">                               |</span>\n",
       "<span style=\"color: #008000; text-decoration-color: #008000\">✓ | ⏱: </span><span style=\"color: #008000; text-decoration-color: #008000; font-weight: bold\">2.</span><span style=\"color: #008000; text-decoration-color: #008000\">26s </span>\n",
       "</pre>\n"
      ],
      "text/plain": [
       "\u001b[1;32m[\u001b[0m\u001b[32mCOMPLETE\u001b[0m\u001b[1;32m]\u001b[0m\u001b[32m ● \u001b[0m\u001b[4;32mhttps://insights.blurgs.ai/dark-vessel-detection-ai-maritime-security/\u001b[0m\u001b[32m                               |\u001b[0m\n",
       "\u001b[32m✓\u001b[0m\u001b[32m | ⏱: \u001b[0m\u001b[1;32m2.\u001b[0m\u001b[32m26s \u001b[0m\n"
      ]
     },
     "metadata": {},
     "output_type": "display_data"
    },
    {
     "data": {
      "text/html": [
       "<pre style=\"white-space:pre;overflow-x:auto;line-height:normal;font-family:Menlo,'DejaVu Sans Mono',consolas,'Courier New',monospace\"><span style=\"color: #008000; text-decoration-color: #008000; font-weight: bold\">[</span><span style=\"color: #008000; text-decoration-color: #008000\">FETCH</span><span style=\"color: #008000; text-decoration-color: #008000; font-weight: bold\">]</span><span style=\"color: #008000; text-decoration-color: #008000\">... ↓ </span><span style=\"color: #008000; text-decoration-color: #008000; text-decoration: underline\">https://mda.space/dark-vessel</span><span style=\"color: #008000; text-decoration-color: #008000\">                                                                        |</span>\n",
       "<span style=\"color: #008000; text-decoration-color: #008000\">✓ | ⏱: </span><span style=\"color: #008000; text-decoration-color: #008000; font-weight: bold\">2.</span><span style=\"color: #008000; text-decoration-color: #008000\">29s </span>\n",
       "</pre>\n"
      ],
      "text/plain": [
       "\u001b[1;32m[\u001b[0m\u001b[32mFETCH\u001b[0m\u001b[1;32m]\u001b[0m\u001b[32m...\u001b[0m\u001b[32m ↓ \u001b[0m\u001b[4;32mhttps://mda.space/dark-vessel\u001b[0m\u001b[32m                                                                        |\u001b[0m\n",
       "\u001b[32m✓\u001b[0m\u001b[32m | ⏱: \u001b[0m\u001b[1;32m2.\u001b[0m\u001b[32m29s \u001b[0m\n"
      ]
     },
     "metadata": {},
     "output_type": "display_data"
    },
    {
     "data": {
      "text/html": [
       "<pre style=\"white-space:pre;overflow-x:auto;line-height:normal;font-family:Menlo,'DejaVu Sans Mono',consolas,'Courier New',monospace\"><span style=\"color: #008000; text-decoration-color: #008000; font-weight: bold\">[</span><span style=\"color: #008000; text-decoration-color: #008000\">SCRAPE</span><span style=\"color: #008000; text-decoration-color: #008000; font-weight: bold\">]</span><span style=\"color: #008000; text-decoration-color: #008000\">.. ◆ </span><span style=\"color: #008000; text-decoration-color: #008000; text-decoration: underline\">https://mda.space/dark-vessel</span><span style=\"color: #008000; text-decoration-color: #008000\">                                                                        |</span>\n",
       "<span style=\"color: #008000; text-decoration-color: #008000\">✓ | ⏱: </span><span style=\"color: #008000; text-decoration-color: #008000; font-weight: bold\">0.</span><span style=\"color: #008000; text-decoration-color: #008000\">00s </span>\n",
       "</pre>\n"
      ],
      "text/plain": [
       "\u001b[1;32m[\u001b[0m\u001b[32mSCRAPE\u001b[0m\u001b[1;32m]\u001b[0m\u001b[32m.. ◆ \u001b[0m\u001b[4;32mhttps://mda.space/dark-vessel\u001b[0m\u001b[32m                                                                        |\u001b[0m\n",
       "\u001b[32m✓\u001b[0m\u001b[32m | ⏱: \u001b[0m\u001b[1;32m0.\u001b[0m\u001b[32m00s \u001b[0m\n"
      ]
     },
     "metadata": {},
     "output_type": "display_data"
    },
    {
     "data": {
      "text/html": [
       "<pre style=\"white-space:pre;overflow-x:auto;line-height:normal;font-family:Menlo,'DejaVu Sans Mono',consolas,'Courier New',monospace\"><span style=\"color: #008000; text-decoration-color: #008000; font-weight: bold\">[</span><span style=\"color: #008000; text-decoration-color: #008000\">COMPLETE</span><span style=\"color: #008000; text-decoration-color: #008000; font-weight: bold\">]</span><span style=\"color: #008000; text-decoration-color: #008000\"> ● </span><span style=\"color: #008000; text-decoration-color: #008000; text-decoration: underline\">https://mda.space/dark-vessel</span><span style=\"color: #008000; text-decoration-color: #008000\">                                                                        |</span>\n",
       "<span style=\"color: #008000; text-decoration-color: #008000\">✓ | ⏱: </span><span style=\"color: #008000; text-decoration-color: #008000; font-weight: bold\">2.</span><span style=\"color: #008000; text-decoration-color: #008000\">29s </span>\n",
       "</pre>\n"
      ],
      "text/plain": [
       "\u001b[1;32m[\u001b[0m\u001b[32mCOMPLETE\u001b[0m\u001b[1;32m]\u001b[0m\u001b[32m ● \u001b[0m\u001b[4;32mhttps://mda.space/dark-vessel\u001b[0m\u001b[32m                                                                        |\u001b[0m\n",
       "\u001b[32m✓\u001b[0m\u001b[32m | ⏱: \u001b[0m\u001b[1;32m2.\u001b[0m\u001b[32m29s \u001b[0m\n"
      ]
     },
     "metadata": {},
     "output_type": "display_data"
    },
    {
     "data": {
      "text/html": [
       "<pre style=\"white-space:pre;overflow-x:auto;line-height:normal;font-family:Menlo,'DejaVu Sans Mono',consolas,'Courier New',monospace\"><span style=\"color: #008000; text-decoration-color: #008000; font-weight: bold\">[</span><span style=\"color: #008000; text-decoration-color: #008000\">FETCH</span><span style=\"color: #008000; text-decoration-color: #008000; font-weight: bold\">]</span><span style=\"color: #008000; text-decoration-color: #008000\">... ↓ </span><span style=\"color: #008000; text-decoration-color: #008000; text-decoration: underline\">https://www.starboardintelligence.com/articles/s...k-vessel-detection-for-maritime-domain-awareness</span><span style=\"color: #008000; text-decoration-color: #008000\">  |</span>\n",
       "<span style=\"color: #008000; text-decoration-color: #008000\">✓ | ⏱: </span><span style=\"color: #008000; text-decoration-color: #008000; font-weight: bold\">2.</span><span style=\"color: #008000; text-decoration-color: #008000\">34s </span>\n",
       "</pre>\n"
      ],
      "text/plain": [
       "\u001b[1;32m[\u001b[0m\u001b[32mFETCH\u001b[0m\u001b[1;32m]\u001b[0m\u001b[32m...\u001b[0m\u001b[32m ↓ \u001b[0m\u001b[4;32mhttps://www.starboardintelligence.com/articles/s...k-vessel-detection-for-maritime-domain-awareness\u001b[0m\u001b[32m  |\u001b[0m\n",
       "\u001b[32m✓\u001b[0m\u001b[32m | ⏱: \u001b[0m\u001b[1;32m2.\u001b[0m\u001b[32m34s \u001b[0m\n"
      ]
     },
     "metadata": {},
     "output_type": "display_data"
    },
    {
     "data": {
      "text/html": [
       "<pre style=\"white-space:pre;overflow-x:auto;line-height:normal;font-family:Menlo,'DejaVu Sans Mono',consolas,'Courier New',monospace\"><span style=\"color: #008000; text-decoration-color: #008000; font-weight: bold\">[</span><span style=\"color: #008000; text-decoration-color: #008000\">SCRAPE</span><span style=\"color: #008000; text-decoration-color: #008000; font-weight: bold\">]</span><span style=\"color: #008000; text-decoration-color: #008000\">.. ◆ </span><span style=\"color: #008000; text-decoration-color: #008000; text-decoration: underline\">https://www.starboardintelligence.com/articles/s...k-vessel-detection-for-maritime-domain-awareness</span><span style=\"color: #008000; text-decoration-color: #008000\">  |</span>\n",
       "<span style=\"color: #008000; text-decoration-color: #008000\">✓ | ⏱: </span><span style=\"color: #008000; text-decoration-color: #008000; font-weight: bold\">0.</span><span style=\"color: #008000; text-decoration-color: #008000\">01s </span>\n",
       "</pre>\n"
      ],
      "text/plain": [
       "\u001b[1;32m[\u001b[0m\u001b[32mSCRAPE\u001b[0m\u001b[1;32m]\u001b[0m\u001b[32m.. ◆ \u001b[0m\u001b[4;32mhttps://www.starboardintelligence.com/articles/s...k-vessel-detection-for-maritime-domain-awareness\u001b[0m\u001b[32m  |\u001b[0m\n",
       "\u001b[32m✓\u001b[0m\u001b[32m | ⏱: \u001b[0m\u001b[1;32m0.\u001b[0m\u001b[32m01s \u001b[0m\n"
      ]
     },
     "metadata": {},
     "output_type": "display_data"
    },
    {
     "data": {
      "text/html": [
       "<pre style=\"white-space:pre;overflow-x:auto;line-height:normal;font-family:Menlo,'DejaVu Sans Mono',consolas,'Courier New',monospace\"><span style=\"color: #008000; text-decoration-color: #008000; font-weight: bold\">[</span><span style=\"color: #008000; text-decoration-color: #008000\">COMPLETE</span><span style=\"color: #008000; text-decoration-color: #008000; font-weight: bold\">]</span><span style=\"color: #008000; text-decoration-color: #008000\"> ● </span><span style=\"color: #008000; text-decoration-color: #008000; text-decoration: underline\">https://www.starboardintelligence.com/articles/s...k-vessel-detection-for-maritime-domain-awareness</span><span style=\"color: #008000; text-decoration-color: #008000\">  |</span>\n",
       "<span style=\"color: #008000; text-decoration-color: #008000\">✓ | ⏱: </span><span style=\"color: #008000; text-decoration-color: #008000; font-weight: bold\">2.</span><span style=\"color: #008000; text-decoration-color: #008000\">35s </span>\n",
       "</pre>\n"
      ],
      "text/plain": [
       "\u001b[1;32m[\u001b[0m\u001b[32mCOMPLETE\u001b[0m\u001b[1;32m]\u001b[0m\u001b[32m ● \u001b[0m\u001b[4;32mhttps://www.starboardintelligence.com/articles/s...k-vessel-detection-for-maritime-domain-awareness\u001b[0m\u001b[32m  |\u001b[0m\n",
       "\u001b[32m✓\u001b[0m\u001b[32m | ⏱: \u001b[0m\u001b[1;32m2.\u001b[0m\u001b[32m35s \u001b[0m\n"
      ]
     },
     "metadata": {},
     "output_type": "display_data"
    },
    {
     "name": "stdout",
     "output_type": "stream",
     "text": [
      "[OK] https://www.esa.int/Enabling_Support/Space_Engineering_Technology/Shaping_the_Future/Machine-learning_system_can_detect_dark_vessels_faster, length: 9627\n",
      "[OK] https://globalfishingwatch.org/research-project-dark-vessels/, length: 22751\n",
      "[OK] https://insights.blurgs.ai/dark-vessel-detection-ai-maritime-security/, length: 10908\n",
      "[OK] https://mda.space/dark-vessel, length: 3654\n",
      "[OK] https://www.starboardintelligence.com/articles/satellite-dark-vessel-detection-for-maritime-domain-awareness, length: 33367\n"
     ]
    }
   ],
   "source": [
    "import asyncio\n",
    "import nest_asyncio\n",
    "from crawl4ai import AsyncWebCrawler, CrawlerRunConfig, CacheMode\n",
    "\n",
    "nest_asyncio.apply()\n",
    "\n",
    "async def quick_parallel_example(urls):\n",
    "    run_conf = CrawlerRunConfig(\n",
    "        cache_mode=CacheMode.BYPASS,\n",
    "        stream=True  # Enable streaming mode\n",
    "    )\n",
    "\n",
    "    async with AsyncWebCrawler() as crawler:\n",
    "        # # Stream results as they complete\n",
    "        # async for result in await crawler.arun_many(urls, config=run_conf):\n",
    "        #     if result.success:\n",
    "        #         print(f\"[OK] {result.url}, length: {len(result.markdown.raw_markdown)}\")\n",
    "        #     else:\n",
    "        #         print(f\"[ERROR] {result.url} => {result.error_message}\")\n",
    "\n",
    "        # Or get all results at once (default behavior)\n",
    "        run_conf = run_conf.clone(stream=False)\n",
    "        results = await crawler.arun_many(urls, config=run_conf)\n",
    "\n",
    "        index = 1\n",
    "        for res in results:\n",
    "            if res.success:\n",
    "                print(f\"[OK] {res.url}, length: {len(res.markdown.raw_markdown)}\")\n",
    "                with open(f\"result/md_docs/citation_{index}.md\", \"w\") as f:\n",
    "                    f.write(res.markdown.raw_markdown)\n",
    "                index += 1\n",
    "            else:\n",
    "                print(f\"[ERROR] {res.url} => {res.error_message}\")\n",
    "\n",
    "asyncio.run(quick_parallel_example(citations))"
   ]
  }
 ],
 "metadata": {
  "kernelspec": {
   "display_name": "ai_tpm",
   "language": "python",
   "name": "python3"
  },
  "language_info": {
   "codemirror_mode": {
    "name": "ipython",
    "version": 3
   },
   "file_extension": ".py",
   "mimetype": "text/x-python",
   "name": "python",
   "nbconvert_exporter": "python",
   "pygments_lexer": "ipython3",
   "version": "3.13.5"
  }
 },
 "nbformat": 4,
 "nbformat_minor": 5
}
