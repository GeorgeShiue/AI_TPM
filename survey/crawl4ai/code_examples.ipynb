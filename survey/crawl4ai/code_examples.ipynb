{
 "cells": [
  {
   "cell_type": "code",
   "execution_count": 2,
   "id": "93a08d38",
   "metadata": {},
   "outputs": [],
   "source": [
    "from dotenv import load_dotenv\n",
    "import nest_asyncio\n",
    "\n",
    "load_dotenv()\n",
    "nest_asyncio.apply()"
   ]
  },
  {
   "cell_type": "markdown",
   "id": "ff42c84e",
   "metadata": {},
   "source": [
    "# First Crawl"
   ]
  },
  {
   "cell_type": "code",
   "execution_count": 4,
   "id": "0d6520f1",
   "metadata": {},
   "outputs": [
    {
     "data": {
      "text/html": [
       "<pre style=\"white-space:pre;overflow-x:auto;line-height:normal;font-family:Menlo,'DejaVu Sans Mono',consolas,'Courier New',monospace\"><span style=\"color: #008080; text-decoration-color: #008080; font-weight: bold\">[</span><span style=\"color: #008080; text-decoration-color: #008080\">INIT</span><span style=\"color: #008080; text-decoration-color: #008080; font-weight: bold\">]</span><span style=\"color: #008080; text-decoration-color: #008080\">.... → Crawl4AI </span><span style=\"color: #008080; text-decoration-color: #008080; font-weight: bold\">0.7</span><span style=\"color: #008080; text-decoration-color: #008080\">.</span><span style=\"color: #008080; text-decoration-color: #008080; font-weight: bold\">3</span><span style=\"color: #008080; text-decoration-color: #008080\"> </span>\n",
       "</pre>\n"
      ],
      "text/plain": [
       "\u001b[1;36m[\u001b[0m\u001b[36mINIT\u001b[0m\u001b[1;36m]\u001b[0m\u001b[36m...\u001b[0m\u001b[36m. → Crawl4AI \u001b[0m\u001b[1;36m0.7\u001b[0m\u001b[36m.\u001b[0m\u001b[1;36m3\u001b[0m\u001b[36m \u001b[0m\n"
      ]
     },
     "metadata": {},
     "output_type": "display_data"
    },
    {
     "data": {
      "text/html": [
       "<pre style=\"white-space:pre;overflow-x:auto;line-height:normal;font-family:Menlo,'DejaVu Sans Mono',consolas,'Courier New',monospace\"><span style=\"color: #008000; text-decoration-color: #008000; font-weight: bold\">[</span><span style=\"color: #008000; text-decoration-color: #008000\">FETCH</span><span style=\"color: #008000; text-decoration-color: #008000; font-weight: bold\">]</span><span style=\"color: #008000; text-decoration-color: #008000\">... ↓ </span><span style=\"color: #008000; text-decoration-color: #008000; text-decoration: underline\">https://example.com</span><span style=\"color: #008000; text-decoration-color: #008000\">                                                                                  |</span>\n",
       "<span style=\"color: #008000; text-decoration-color: #008000\">✓ | ⏱: </span><span style=\"color: #008000; text-decoration-color: #008000; font-weight: bold\">0.</span><span style=\"color: #008000; text-decoration-color: #008000\">86s </span>\n",
       "</pre>\n"
      ],
      "text/plain": [
       "\u001b[1;32m[\u001b[0m\u001b[32mFETCH\u001b[0m\u001b[1;32m]\u001b[0m\u001b[32m...\u001b[0m\u001b[32m ↓ \u001b[0m\u001b[4;32mhttps://example.com\u001b[0m\u001b[32m                                                                                  |\u001b[0m\n",
       "\u001b[32m✓\u001b[0m\u001b[32m | ⏱: \u001b[0m\u001b[1;32m0.\u001b[0m\u001b[32m86s \u001b[0m\n"
      ]
     },
     "metadata": {},
     "output_type": "display_data"
    },
    {
     "data": {
      "text/html": [
       "<pre style=\"white-space:pre;overflow-x:auto;line-height:normal;font-family:Menlo,'DejaVu Sans Mono',consolas,'Courier New',monospace\"><span style=\"color: #008000; text-decoration-color: #008000; font-weight: bold\">[</span><span style=\"color: #008000; text-decoration-color: #008000\">SCRAPE</span><span style=\"color: #008000; text-decoration-color: #008000; font-weight: bold\">]</span><span style=\"color: #008000; text-decoration-color: #008000\">.. ◆ </span><span style=\"color: #008000; text-decoration-color: #008000; text-decoration: underline\">https://example.com</span><span style=\"color: #008000; text-decoration-color: #008000\">                                                                                  |</span>\n",
       "<span style=\"color: #008000; text-decoration-color: #008000\">✓ | ⏱: </span><span style=\"color: #008000; text-decoration-color: #008000; font-weight: bold\">0.</span><span style=\"color: #008000; text-decoration-color: #008000\">00s </span>\n",
       "</pre>\n"
      ],
      "text/plain": [
       "\u001b[1;32m[\u001b[0m\u001b[32mSCRAPE\u001b[0m\u001b[1;32m]\u001b[0m\u001b[32m.. ◆ \u001b[0m\u001b[4;32mhttps://example.com\u001b[0m\u001b[32m                                                                                  |\u001b[0m\n",
       "\u001b[32m✓\u001b[0m\u001b[32m | ⏱: \u001b[0m\u001b[1;32m0.\u001b[0m\u001b[32m00s \u001b[0m\n"
      ]
     },
     "metadata": {},
     "output_type": "display_data"
    },
    {
     "data": {
      "text/html": [
       "<pre style=\"white-space:pre;overflow-x:auto;line-height:normal;font-family:Menlo,'DejaVu Sans Mono',consolas,'Courier New',monospace\"><span style=\"color: #008000; text-decoration-color: #008000; font-weight: bold\">[</span><span style=\"color: #008000; text-decoration-color: #008000\">COMPLETE</span><span style=\"color: #008000; text-decoration-color: #008000; font-weight: bold\">]</span><span style=\"color: #008000; text-decoration-color: #008000\"> ● </span><span style=\"color: #008000; text-decoration-color: #008000; text-decoration: underline\">https://example.com</span><span style=\"color: #008000; text-decoration-color: #008000\">                                                                                  |</span>\n",
       "<span style=\"color: #008000; text-decoration-color: #008000\">✓ | ⏱: </span><span style=\"color: #008000; text-decoration-color: #008000; font-weight: bold\">0.</span><span style=\"color: #008000; text-decoration-color: #008000\">87s </span>\n",
       "</pre>\n"
      ],
      "text/plain": [
       "\u001b[1;32m[\u001b[0m\u001b[32mCOMPLETE\u001b[0m\u001b[1;32m]\u001b[0m\u001b[32m ● \u001b[0m\u001b[4;32mhttps://example.com\u001b[0m\u001b[32m                                                                                  |\u001b[0m\n",
       "\u001b[32m✓\u001b[0m\u001b[32m | ⏱: \u001b[0m\u001b[1;32m0.\u001b[0m\u001b[32m87s \u001b[0m\n"
      ]
     },
     "metadata": {},
     "output_type": "display_data"
    },
    {
     "name": "stdout",
     "output_type": "stream",
     "text": [
      "# Example Domain\n",
      "This domain is for use in illustrative examples in documents. You may use this domain in literature without prior coordination or asking for permission.\n",
      "[More information...](https://www.iana.org/domains/example)\n",
      "\n"
     ]
    }
   ],
   "source": [
    "import asyncio\n",
    "from crawl4ai import AsyncWebCrawler\n",
    "\n",
    "async def main():\n",
    "    async with AsyncWebCrawler() as crawler:\n",
    "        result = await crawler.arun(\"https://example.com\")\n",
    "        print(result.markdown[:300])  # Print first 300 chars\n",
    "\n",
    "if __name__ == \"__main__\":\n",
    "    asyncio.run(main())"
   ]
  },
  {
   "cell_type": "markdown",
   "id": "79d2f45f",
   "metadata": {},
   "source": [
    "# Basic Configuration (Light Introduction)"
   ]
  },
  {
   "cell_type": "code",
   "execution_count": 5,
   "id": "0442ff4b",
   "metadata": {},
   "outputs": [
    {
     "data": {
      "text/html": [
       "<pre style=\"white-space:pre;overflow-x:auto;line-height:normal;font-family:Menlo,'DejaVu Sans Mono',consolas,'Courier New',monospace\"><span style=\"color: #008080; text-decoration-color: #008080; font-weight: bold\">[</span><span style=\"color: #008080; text-decoration-color: #008080\">INIT</span><span style=\"color: #008080; text-decoration-color: #008080; font-weight: bold\">]</span><span style=\"color: #008080; text-decoration-color: #008080\">.... → Crawl4AI </span><span style=\"color: #008080; text-decoration-color: #008080; font-weight: bold\">0.7</span><span style=\"color: #008080; text-decoration-color: #008080\">.</span><span style=\"color: #008080; text-decoration-color: #008080; font-weight: bold\">3</span><span style=\"color: #008080; text-decoration-color: #008080\"> </span>\n",
       "</pre>\n"
      ],
      "text/plain": [
       "\u001b[1;36m[\u001b[0m\u001b[36mINIT\u001b[0m\u001b[1;36m]\u001b[0m\u001b[36m...\u001b[0m\u001b[36m. → Crawl4AI \u001b[0m\u001b[1;36m0.7\u001b[0m\u001b[36m.\u001b[0m\u001b[1;36m3\u001b[0m\u001b[36m \u001b[0m\n"
      ]
     },
     "metadata": {},
     "output_type": "display_data"
    },
    {
     "data": {
      "text/html": [
       "<pre style=\"white-space:pre;overflow-x:auto;line-height:normal;font-family:Menlo,'DejaVu Sans Mono',consolas,'Courier New',monospace\"><span style=\"color: #008000; text-decoration-color: #008000; font-weight: bold\">[</span><span style=\"color: #008000; text-decoration-color: #008000\">FETCH</span><span style=\"color: #008000; text-decoration-color: #008000; font-weight: bold\">]</span><span style=\"color: #008000; text-decoration-color: #008000\">... ↓ </span><span style=\"color: #008000; text-decoration-color: #008000; text-decoration: underline\">https://example.com</span><span style=\"color: #008000; text-decoration-color: #008000\">                                                                                  |</span>\n",
       "<span style=\"color: #008000; text-decoration-color: #008000\">✓ | ⏱: </span><span style=\"color: #008000; text-decoration-color: #008000; font-weight: bold\">0.</span><span style=\"color: #008000; text-decoration-color: #008000\">96s </span>\n",
       "</pre>\n"
      ],
      "text/plain": [
       "\u001b[1;32m[\u001b[0m\u001b[32mFETCH\u001b[0m\u001b[1;32m]\u001b[0m\u001b[32m...\u001b[0m\u001b[32m ↓ \u001b[0m\u001b[4;32mhttps://example.com\u001b[0m\u001b[32m                                                                                  |\u001b[0m\n",
       "\u001b[32m✓\u001b[0m\u001b[32m | ⏱: \u001b[0m\u001b[1;32m0.\u001b[0m\u001b[32m96s \u001b[0m\n"
      ]
     },
     "metadata": {},
     "output_type": "display_data"
    },
    {
     "data": {
      "text/html": [
       "<pre style=\"white-space:pre;overflow-x:auto;line-height:normal;font-family:Menlo,'DejaVu Sans Mono',consolas,'Courier New',monospace\"><span style=\"color: #008000; text-decoration-color: #008000; font-weight: bold\">[</span><span style=\"color: #008000; text-decoration-color: #008000\">SCRAPE</span><span style=\"color: #008000; text-decoration-color: #008000; font-weight: bold\">]</span><span style=\"color: #008000; text-decoration-color: #008000\">.. ◆ </span><span style=\"color: #008000; text-decoration-color: #008000; text-decoration: underline\">https://example.com</span><span style=\"color: #008000; text-decoration-color: #008000\">                                                                                  |</span>\n",
       "<span style=\"color: #008000; text-decoration-color: #008000\">✓ | ⏱: </span><span style=\"color: #008000; text-decoration-color: #008000; font-weight: bold\">0.</span><span style=\"color: #008000; text-decoration-color: #008000\">00s </span>\n",
       "</pre>\n"
      ],
      "text/plain": [
       "\u001b[1;32m[\u001b[0m\u001b[32mSCRAPE\u001b[0m\u001b[1;32m]\u001b[0m\u001b[32m.. ◆ \u001b[0m\u001b[4;32mhttps://example.com\u001b[0m\u001b[32m                                                                                  |\u001b[0m\n",
       "\u001b[32m✓\u001b[0m\u001b[32m | ⏱: \u001b[0m\u001b[1;32m0.\u001b[0m\u001b[32m00s \u001b[0m\n"
      ]
     },
     "metadata": {},
     "output_type": "display_data"
    },
    {
     "data": {
      "text/html": [
       "<pre style=\"white-space:pre;overflow-x:auto;line-height:normal;font-family:Menlo,'DejaVu Sans Mono',consolas,'Courier New',monospace\"><span style=\"color: #008000; text-decoration-color: #008000; font-weight: bold\">[</span><span style=\"color: #008000; text-decoration-color: #008000\">COMPLETE</span><span style=\"color: #008000; text-decoration-color: #008000; font-weight: bold\">]</span><span style=\"color: #008000; text-decoration-color: #008000\"> ● </span><span style=\"color: #008000; text-decoration-color: #008000; text-decoration: underline\">https://example.com</span><span style=\"color: #008000; text-decoration-color: #008000\">                                                                                  |</span>\n",
       "<span style=\"color: #008000; text-decoration-color: #008000\">✓ | ⏱: </span><span style=\"color: #008000; text-decoration-color: #008000; font-weight: bold\">0.</span><span style=\"color: #008000; text-decoration-color: #008000\">96s </span>\n",
       "</pre>\n"
      ],
      "text/plain": [
       "\u001b[1;32m[\u001b[0m\u001b[32mCOMPLETE\u001b[0m\u001b[1;32m]\u001b[0m\u001b[32m ● \u001b[0m\u001b[4;32mhttps://example.com\u001b[0m\u001b[32m                                                                                  |\u001b[0m\n",
       "\u001b[32m✓\u001b[0m\u001b[32m | ⏱: \u001b[0m\u001b[1;32m0.\u001b[0m\u001b[32m96s \u001b[0m\n"
      ]
     },
     "metadata": {},
     "output_type": "display_data"
    },
    {
     "name": "stdout",
     "output_type": "stream",
     "text": [
      "# Example Domain\n",
      "This domain is for use in illustrative examples in documents. You may use this domain in literature without prior coordination or asking for permission.\n",
      "[More information...](https://www.iana.org/domains/example)\n",
      "\n"
     ]
    }
   ],
   "source": [
    "import asyncio\n",
    "from crawl4ai import AsyncWebCrawler, BrowserConfig, CrawlerRunConfig, CacheMode\n",
    "\n",
    "# 1. BrowserConfig: Controls browser behavior (headless or full UI, user agent, JavaScript toggles, etc.).\n",
    "# 2. CrawlerRunConfig: Controls how each crawl runs (caching, extraction, timeouts, hooking, etc.).\n",
    "\n",
    "async def main():\n",
    "    browser_conf = BrowserConfig(headless=True)  # or False to see the browser\n",
    "    run_conf = CrawlerRunConfig(\n",
    "        cache_mode=CacheMode.BYPASS\n",
    "    )\n",
    "\n",
    "    async with AsyncWebCrawler(config=browser_conf) as crawler:\n",
    "        result = await crawler.arun(\n",
    "            url=\"https://example.com\",\n",
    "            config=run_conf\n",
    "        )\n",
    "        print(result.markdown)\n",
    "\n",
    "if __name__ == \"__main__\":\n",
    "    asyncio.run(main())"
   ]
  },
  {
   "cell_type": "markdown",
   "id": "4e0b5f56",
   "metadata": {},
   "source": [
    "# Generating Markdown Output"
   ]
  },
  {
   "cell_type": "code",
   "execution_count": 6,
   "id": "28b16dc6",
   "metadata": {},
   "outputs": [
    {
     "data": {
      "text/html": [
       "<pre style=\"white-space:pre;overflow-x:auto;line-height:normal;font-family:Menlo,'DejaVu Sans Mono',consolas,'Courier New',monospace\"><span style=\"color: #008080; text-decoration-color: #008080; font-weight: bold\">[</span><span style=\"color: #008080; text-decoration-color: #008080\">INIT</span><span style=\"color: #008080; text-decoration-color: #008080; font-weight: bold\">]</span><span style=\"color: #008080; text-decoration-color: #008080\">.... → Crawl4AI </span><span style=\"color: #008080; text-decoration-color: #008080; font-weight: bold\">0.7</span><span style=\"color: #008080; text-decoration-color: #008080\">.</span><span style=\"color: #008080; text-decoration-color: #008080; font-weight: bold\">3</span><span style=\"color: #008080; text-decoration-color: #008080\"> </span>\n",
       "</pre>\n"
      ],
      "text/plain": [
       "\u001b[1;36m[\u001b[0m\u001b[36mINIT\u001b[0m\u001b[1;36m]\u001b[0m\u001b[36m...\u001b[0m\u001b[36m. → Crawl4AI \u001b[0m\u001b[1;36m0.7\u001b[0m\u001b[36m.\u001b[0m\u001b[1;36m3\u001b[0m\u001b[36m \u001b[0m\n"
      ]
     },
     "metadata": {},
     "output_type": "display_data"
    },
    {
     "data": {
      "text/html": [
       "<pre style=\"white-space:pre;overflow-x:auto;line-height:normal;font-family:Menlo,'DejaVu Sans Mono',consolas,'Courier New',monospace\"><span style=\"color: #008000; text-decoration-color: #008000; font-weight: bold\">[</span><span style=\"color: #008000; text-decoration-color: #008000\">FETCH</span><span style=\"color: #008000; text-decoration-color: #008000; font-weight: bold\">]</span><span style=\"color: #008000; text-decoration-color: #008000\">... ↓ </span><span style=\"color: #008000; text-decoration-color: #008000; text-decoration: underline\">https://news.ycombinator.com</span><span style=\"color: #008000; text-decoration-color: #008000\">                                                                         |</span>\n",
       "<span style=\"color: #008000; text-decoration-color: #008000\">✓ | ⏱: </span><span style=\"color: #008000; text-decoration-color: #008000; font-weight: bold\">1.</span><span style=\"color: #008000; text-decoration-color: #008000\">11s </span>\n",
       "</pre>\n"
      ],
      "text/plain": [
       "\u001b[1;32m[\u001b[0m\u001b[32mFETCH\u001b[0m\u001b[1;32m]\u001b[0m\u001b[32m...\u001b[0m\u001b[32m ↓ \u001b[0m\u001b[4;32mhttps://news.ycombinator.com\u001b[0m\u001b[32m                                                                         |\u001b[0m\n",
       "\u001b[32m✓\u001b[0m\u001b[32m | ⏱: \u001b[0m\u001b[1;32m1.\u001b[0m\u001b[32m11s \u001b[0m\n"
      ]
     },
     "metadata": {},
     "output_type": "display_data"
    },
    {
     "data": {
      "text/html": [
       "<pre style=\"white-space:pre;overflow-x:auto;line-height:normal;font-family:Menlo,'DejaVu Sans Mono',consolas,'Courier New',monospace\"><span style=\"color: #008000; text-decoration-color: #008000; font-weight: bold\">[</span><span style=\"color: #008000; text-decoration-color: #008000\">SCRAPE</span><span style=\"color: #008000; text-decoration-color: #008000; font-weight: bold\">]</span><span style=\"color: #008000; text-decoration-color: #008000\">.. ◆ </span><span style=\"color: #008000; text-decoration-color: #008000; text-decoration: underline\">https://news.ycombinator.com</span><span style=\"color: #008000; text-decoration-color: #008000\">                                                                         |</span>\n",
       "<span style=\"color: #008000; text-decoration-color: #008000\">✓ | ⏱: </span><span style=\"color: #008000; text-decoration-color: #008000; font-weight: bold\">0.</span><span style=\"color: #008000; text-decoration-color: #008000\">07s </span>\n",
       "</pre>\n"
      ],
      "text/plain": [
       "\u001b[1;32m[\u001b[0m\u001b[32mSCRAPE\u001b[0m\u001b[1;32m]\u001b[0m\u001b[32m.. ◆ \u001b[0m\u001b[4;32mhttps://news.ycombinator.com\u001b[0m\u001b[32m                                                                         |\u001b[0m\n",
       "\u001b[32m✓\u001b[0m\u001b[32m | ⏱: \u001b[0m\u001b[1;32m0.\u001b[0m\u001b[32m07s \u001b[0m\n"
      ]
     },
     "metadata": {},
     "output_type": "display_data"
    },
    {
     "data": {
      "text/html": [
       "<pre style=\"white-space:pre;overflow-x:auto;line-height:normal;font-family:Menlo,'DejaVu Sans Mono',consolas,'Courier New',monospace\"><span style=\"color: #008000; text-decoration-color: #008000; font-weight: bold\">[</span><span style=\"color: #008000; text-decoration-color: #008000\">COMPLETE</span><span style=\"color: #008000; text-decoration-color: #008000; font-weight: bold\">]</span><span style=\"color: #008000; text-decoration-color: #008000\"> ● </span><span style=\"color: #008000; text-decoration-color: #008000; text-decoration: underline\">https://news.ycombinator.com</span><span style=\"color: #008000; text-decoration-color: #008000\">                                                                         |</span>\n",
       "<span style=\"color: #008000; text-decoration-color: #008000\">✓ | ⏱: </span><span style=\"color: #008000; text-decoration-color: #008000; font-weight: bold\">1.</span><span style=\"color: #008000; text-decoration-color: #008000\">18s </span>\n",
       "</pre>\n"
      ],
      "text/plain": [
       "\u001b[1;32m[\u001b[0m\u001b[32mCOMPLETE\u001b[0m\u001b[1;32m]\u001b[0m\u001b[32m ● \u001b[0m\u001b[4;32mhttps://news.ycombinator.com\u001b[0m\u001b[32m                                                                         |\u001b[0m\n",
       "\u001b[32m✓\u001b[0m\u001b[32m | ⏱: \u001b[0m\u001b[1;32m1.\u001b[0m\u001b[32m18s \u001b[0m\n"
      ]
     },
     "metadata": {},
     "output_type": "display_data"
    },
    {
     "name": "stdout",
     "output_type": "stream",
     "text": [
      "Raw Markdown length: 16487\n",
      "Fit Markdown length: 14015\n"
     ]
    }
   ],
   "source": [
    "# Example: Using a Filter with DefaultMarkdownGenerator\n",
    "\n",
    "from crawl4ai import AsyncWebCrawler, CrawlerRunConfig\n",
    "from crawl4ai.content_filter_strategy import PruningContentFilter\n",
    "from crawl4ai.markdown_generation_strategy import DefaultMarkdownGenerator\n",
    "\n",
    "md_generator = DefaultMarkdownGenerator(\n",
    "    content_filter=PruningContentFilter(threshold=0.4, threshold_type=\"fixed\")\n",
    ")\n",
    "\n",
    "config = CrawlerRunConfig(\n",
    "    cache_mode=CacheMode.BYPASS,\n",
    "    markdown_generator=md_generator\n",
    ")\n",
    "\n",
    "async with AsyncWebCrawler() as crawler:\n",
    "    result = await crawler.arun(\"https://news.ycombinator.com\", config=config)\n",
    "    print(\"Raw Markdown length:\", len(result.markdown.raw_markdown))\n",
    "    print(\"Fit Markdown length:\", len(result.markdown.fit_markdown))"
   ]
  },
  {
   "cell_type": "markdown",
   "id": "fcbaf6f3",
   "metadata": {},
   "source": [
    "# Simple Data Extraction (CSS-based)"
   ]
  },
  {
   "cell_type": "code",
   "execution_count": 10,
   "id": "3fe9738e",
   "metadata": {},
   "outputs": [],
   "source": [
    "from crawl4ai import JsonCssExtractionStrategy\n",
    "from crawl4ai import LLMConfig\n",
    "\n",
    "# Generate a schema (one-time cost)\n",
    "html = \"<div class='product'><h2>Gaming Laptop</h2><span class='price'>$999.99</span></div>\"\n",
    "\n",
    "# Using OpenAI (requires API token)\n",
    "schema = JsonCssExtractionStrategy.generate_schema(\n",
    "    html,\n",
    "    llm_config = LLMConfig(provider=\"openai/gpt-4o\")  # Required for OpenAI\n",
    ")\n",
    "\n",
    "# Or using Ollama (open source, no token needed)\n",
    "# schema = JsonCssExtractionStrategy.generate_schema(\n",
    "#     html,\n",
    "#     llm_config = LLMConfig(provider=\"ollama/llama3.3\", api_token=None)  # Not needed for Ollama\n",
    "# )\n",
    "\n",
    "# Use the schema for fast, repeated extractions\n",
    "strategy = JsonCssExtractionStrategy(schema)"
   ]
  },
  {
   "cell_type": "code",
   "execution_count": 11,
   "id": "ab4e63f2",
   "metadata": {},
   "outputs": [
    {
     "data": {
      "text/html": [
       "<pre style=\"white-space:pre;overflow-x:auto;line-height:normal;font-family:Menlo,'DejaVu Sans Mono',consolas,'Courier New',monospace\"><span style=\"color: #008080; text-decoration-color: #008080; font-weight: bold\">[</span><span style=\"color: #008080; text-decoration-color: #008080\">INIT</span><span style=\"color: #008080; text-decoration-color: #008080; font-weight: bold\">]</span><span style=\"color: #008080; text-decoration-color: #008080\">.... → Crawl4AI </span><span style=\"color: #008080; text-decoration-color: #008080; font-weight: bold\">0.7</span><span style=\"color: #008080; text-decoration-color: #008080\">.</span><span style=\"color: #008080; text-decoration-color: #008080; font-weight: bold\">3</span><span style=\"color: #008080; text-decoration-color: #008080\"> </span>\n",
       "</pre>\n"
      ],
      "text/plain": [
       "\u001b[1;36m[\u001b[0m\u001b[36mINIT\u001b[0m\u001b[1;36m]\u001b[0m\u001b[36m...\u001b[0m\u001b[36m. → Crawl4AI \u001b[0m\u001b[1;36m0.7\u001b[0m\u001b[36m.\u001b[0m\u001b[1;36m3\u001b[0m\u001b[36m \u001b[0m\n"
      ]
     },
     "metadata": {},
     "output_type": "display_data"
    },
    {
     "data": {
      "text/html": [
       "<pre style=\"white-space:pre;overflow-x:auto;line-height:normal;font-family:Menlo,'DejaVu Sans Mono',consolas,'Courier New',monospace\"><span style=\"color: #008000; text-decoration-color: #008000; font-weight: bold\">[</span><span style=\"color: #008000; text-decoration-color: #008000\">FETCH</span><span style=\"color: #008000; text-decoration-color: #008000; font-weight: bold\">]</span><span style=\"color: #008000; text-decoration-color: #008000\">... ↓ Raw HTML                                                                                             |</span>\n",
       "<span style=\"color: #008000; text-decoration-color: #008000\">✓ | ⏱: </span><span style=\"color: #008000; text-decoration-color: #008000; font-weight: bold\">0.</span><span style=\"color: #008000; text-decoration-color: #008000\">00s </span>\n",
       "</pre>\n"
      ],
      "text/plain": [
       "\u001b[1;32m[\u001b[0m\u001b[32mFETCH\u001b[0m\u001b[1;32m]\u001b[0m\u001b[32m...\u001b[0m\u001b[32m ↓ Raw HTML                                                                                             |\u001b[0m\n",
       "\u001b[32m✓\u001b[0m\u001b[32m | ⏱: \u001b[0m\u001b[1;32m0.\u001b[0m\u001b[32m00s \u001b[0m\n"
      ]
     },
     "metadata": {},
     "output_type": "display_data"
    },
    {
     "data": {
      "text/html": [
       "<pre style=\"white-space:pre;overflow-x:auto;line-height:normal;font-family:Menlo,'DejaVu Sans Mono',consolas,'Courier New',monospace\"><span style=\"color: #008000; text-decoration-color: #008000; font-weight: bold\">[</span><span style=\"color: #008000; text-decoration-color: #008000\">SCRAPE</span><span style=\"color: #008000; text-decoration-color: #008000; font-weight: bold\">]</span><span style=\"color: #008000; text-decoration-color: #008000\">.. ◆ Raw HTML                                                                                             |</span>\n",
       "<span style=\"color: #008000; text-decoration-color: #008000\">✓ | ⏱: </span><span style=\"color: #008000; text-decoration-color: #008000; font-weight: bold\">0.</span><span style=\"color: #008000; text-decoration-color: #008000\">00s </span>\n",
       "</pre>\n"
      ],
      "text/plain": [
       "\u001b[1;32m[\u001b[0m\u001b[32mSCRAPE\u001b[0m\u001b[1;32m]\u001b[0m\u001b[32m.. ◆ Raw HTML                                                                                             |\u001b[0m\n",
       "\u001b[32m✓\u001b[0m\u001b[32m | ⏱: \u001b[0m\u001b[1;32m0.\u001b[0m\u001b[32m00s \u001b[0m\n"
      ]
     },
     "metadata": {},
     "output_type": "display_data"
    },
    {
     "data": {
      "text/html": [
       "<pre style=\"white-space:pre;overflow-x:auto;line-height:normal;font-family:Menlo,'DejaVu Sans Mono',consolas,'Courier New',monospace\"><span style=\"color: #008000; text-decoration-color: #008000; font-weight: bold\">[</span><span style=\"color: #008000; text-decoration-color: #008000\">EXTRACT</span><span style=\"color: #008000; text-decoration-color: #008000; font-weight: bold\">]</span><span style=\"color: #008000; text-decoration-color: #008000\">. ■ Raw HTML                                                                                             |</span>\n",
       "<span style=\"color: #008000; text-decoration-color: #008000\">✓ | ⏱: </span><span style=\"color: #008000; text-decoration-color: #008000; font-weight: bold\">0.</span><span style=\"color: #008000; text-decoration-color: #008000\">00s </span>\n",
       "</pre>\n"
      ],
      "text/plain": [
       "\u001b[1;32m[\u001b[0m\u001b[32mEXTRACT\u001b[0m\u001b[1;32m]\u001b[0m\u001b[32m. ■ Raw HTML                                                                                             |\u001b[0m\n",
       "\u001b[32m✓\u001b[0m\u001b[32m | ⏱: \u001b[0m\u001b[1;32m0.\u001b[0m\u001b[32m00s \u001b[0m\n"
      ]
     },
     "metadata": {},
     "output_type": "display_data"
    },
    {
     "data": {
      "text/html": [
       "<pre style=\"white-space:pre;overflow-x:auto;line-height:normal;font-family:Menlo,'DejaVu Sans Mono',consolas,'Courier New',monospace\"><span style=\"color: #008000; text-decoration-color: #008000; font-weight: bold\">[</span><span style=\"color: #008000; text-decoration-color: #008000\">COMPLETE</span><span style=\"color: #008000; text-decoration-color: #008000; font-weight: bold\">]</span><span style=\"color: #008000; text-decoration-color: #008000\"> ● Raw HTML                                                                                             |</span>\n",
       "<span style=\"color: #008000; text-decoration-color: #008000\">✓ | ⏱: </span><span style=\"color: #008000; text-decoration-color: #008000; font-weight: bold\">0.</span><span style=\"color: #008000; text-decoration-color: #008000\">01s </span>\n",
       "</pre>\n"
      ],
      "text/plain": [
       "\u001b[1;32m[\u001b[0m\u001b[32mCOMPLETE\u001b[0m\u001b[1;32m]\u001b[0m\u001b[32m ● Raw HTML                                                                                             |\u001b[0m\n",
       "\u001b[32m✓\u001b[0m\u001b[32m | ⏱: \u001b[0m\u001b[1;32m0.\u001b[0m\u001b[32m01s \u001b[0m\n"
      ]
     },
     "metadata": {},
     "output_type": "display_data"
    },
    {
     "name": "stdout",
     "output_type": "stream",
     "text": [
      "[{'title': 'Item 1', 'link': 'https://example.com/item1'}]\n"
     ]
    }
   ],
   "source": [
    "import asyncio\n",
    "import json\n",
    "from crawl4ai import AsyncWebCrawler, CrawlerRunConfig, CacheMode\n",
    "from crawl4ai import JsonCssExtractionStrategy\n",
    "\n",
    "async def main():\n",
    "    schema = {\n",
    "        \"name\": \"Example Items\",\n",
    "        \"baseSelector\": \"div.item\",\n",
    "        \"fields\": [\n",
    "            {\"name\": \"title\", \"selector\": \"h2\", \"type\": \"text\"},\n",
    "            {\"name\": \"link\", \"selector\": \"a\", \"type\": \"attribute\", \"attribute\": \"href\"}\n",
    "        ]\n",
    "    }\n",
    "\n",
    "    raw_html = \"<div class='item'><h2>Item 1</h2><a href='https://example.com/item1'>Link 1</a></div>\"\n",
    "\n",
    "    async with AsyncWebCrawler() as crawler:\n",
    "        result = await crawler.arun(\n",
    "            url=\"raw://\" + raw_html,\n",
    "            config=CrawlerRunConfig(\n",
    "                cache_mode=CacheMode.BYPASS,\n",
    "                extraction_strategy=JsonCssExtractionStrategy(schema)\n",
    "            )\n",
    "        )\n",
    "        # The JSON output is stored in 'extracted_content'\n",
    "        data = json.loads(result.extracted_content)\n",
    "        print(data)\n",
    "\n",
    "if __name__ == \"__main__\":\n",
    "    asyncio.run(main())\n"
   ]
  },
  {
   "cell_type": "markdown",
   "id": "e9f464e9",
   "metadata": {},
   "source": [
    "# Simple Data Extraction (LLM-based)"
   ]
  },
  {
   "cell_type": "code",
   "execution_count": 12,
   "id": "10958aba",
   "metadata": {},
   "outputs": [
    {
     "name": "stdout",
     "output_type": "stream",
     "text": [
      "\n",
      "--- Extracting Structured Data with openai/gpt-4o ---\n"
     ]
    },
    {
     "data": {
      "text/html": [
       "<pre style=\"white-space:pre;overflow-x:auto;line-height:normal;font-family:Menlo,'DejaVu Sans Mono',consolas,'Courier New',monospace\"><span style=\"color: #008080; text-decoration-color: #008080; font-weight: bold\">[</span><span style=\"color: #008080; text-decoration-color: #008080\">INIT</span><span style=\"color: #008080; text-decoration-color: #008080; font-weight: bold\">]</span><span style=\"color: #008080; text-decoration-color: #008080\">.... → Crawl4AI </span><span style=\"color: #008080; text-decoration-color: #008080; font-weight: bold\">0.7</span><span style=\"color: #008080; text-decoration-color: #008080\">.</span><span style=\"color: #008080; text-decoration-color: #008080; font-weight: bold\">3</span><span style=\"color: #008080; text-decoration-color: #008080\"> </span>\n",
       "</pre>\n"
      ],
      "text/plain": [
       "\u001b[1;36m[\u001b[0m\u001b[36mINIT\u001b[0m\u001b[1;36m]\u001b[0m\u001b[36m...\u001b[0m\u001b[36m. → Crawl4AI \u001b[0m\u001b[1;36m0.7\u001b[0m\u001b[36m.\u001b[0m\u001b[1;36m3\u001b[0m\u001b[36m \u001b[0m\n"
      ]
     },
     "metadata": {},
     "output_type": "display_data"
    },
    {
     "data": {
      "text/html": [
       "<pre style=\"white-space:pre;overflow-x:auto;line-height:normal;font-family:Menlo,'DejaVu Sans Mono',consolas,'Courier New',monospace\"><span style=\"color: #008000; text-decoration-color: #008000; font-weight: bold\">[</span><span style=\"color: #008000; text-decoration-color: #008000\">FETCH</span><span style=\"color: #008000; text-decoration-color: #008000; font-weight: bold\">]</span><span style=\"color: #008000; text-decoration-color: #008000\">... ↓ </span><span style=\"color: #008000; text-decoration-color: #008000; text-decoration: underline\">https://openai.com/api/pricing/</span><span style=\"color: #008000; text-decoration-color: #008000\">                                                                      |</span>\n",
       "<span style=\"color: #008000; text-decoration-color: #008000\">✓ | ⏱: </span><span style=\"color: #008000; text-decoration-color: #008000; font-weight: bold\">1.</span><span style=\"color: #008000; text-decoration-color: #008000\">31s </span>\n",
       "</pre>\n"
      ],
      "text/plain": [
       "\u001b[1;32m[\u001b[0m\u001b[32mFETCH\u001b[0m\u001b[1;32m]\u001b[0m\u001b[32m...\u001b[0m\u001b[32m ↓ \u001b[0m\u001b[4;32mhttps://openai.com/api/pricing/\u001b[0m\u001b[32m                                                                      |\u001b[0m\n",
       "\u001b[32m✓\u001b[0m\u001b[32m | ⏱: \u001b[0m\u001b[1;32m1.\u001b[0m\u001b[32m31s \u001b[0m\n"
      ]
     },
     "metadata": {},
     "output_type": "display_data"
    },
    {
     "data": {
      "text/html": [
       "<pre style=\"white-space:pre;overflow-x:auto;line-height:normal;font-family:Menlo,'DejaVu Sans Mono',consolas,'Courier New',monospace\"><span style=\"color: #008000; text-decoration-color: #008000; font-weight: bold\">[</span><span style=\"color: #008000; text-decoration-color: #008000\">SCRAPE</span><span style=\"color: #008000; text-decoration-color: #008000; font-weight: bold\">]</span><span style=\"color: #008000; text-decoration-color: #008000\">.. ◆ </span><span style=\"color: #008000; text-decoration-color: #008000; text-decoration: underline\">https://openai.com/api/pricing/</span><span style=\"color: #008000; text-decoration-color: #008000\">                                                                      |</span>\n",
       "<span style=\"color: #008000; text-decoration-color: #008000\">✓ | ⏱: </span><span style=\"color: #008000; text-decoration-color: #008000; font-weight: bold\">0.</span><span style=\"color: #008000; text-decoration-color: #008000\">03s </span>\n",
       "</pre>\n"
      ],
      "text/plain": [
       "\u001b[1;32m[\u001b[0m\u001b[32mSCRAPE\u001b[0m\u001b[1;32m]\u001b[0m\u001b[32m.. ◆ \u001b[0m\u001b[4;32mhttps://openai.com/api/pricing/\u001b[0m\u001b[32m                                                                      |\u001b[0m\n",
       "\u001b[32m✓\u001b[0m\u001b[32m | ⏱: \u001b[0m\u001b[1;32m0.\u001b[0m\u001b[32m03s \u001b[0m\n"
      ]
     },
     "metadata": {},
     "output_type": "display_data"
    },
    {
     "data": {
      "text/html": [
       "<pre style=\"white-space:pre;overflow-x:auto;line-height:normal;font-family:Menlo,'DejaVu Sans Mono',consolas,'Courier New',monospace\"><span style=\"color: #008000; text-decoration-color: #008000; font-weight: bold\">[</span><span style=\"color: #008000; text-decoration-color: #008000\">EXTRACT</span><span style=\"color: #008000; text-decoration-color: #008000; font-weight: bold\">]</span><span style=\"color: #008000; text-decoration-color: #008000\">. ■ </span><span style=\"color: #008000; text-decoration-color: #008000; text-decoration: underline\">https://openai.com/api/pricing/</span><span style=\"color: #008000; text-decoration-color: #008000\">                                                                      |</span>\n",
       "<span style=\"color: #008000; text-decoration-color: #008000\">✓ | ⏱: </span><span style=\"color: #008000; text-decoration-color: #008000; font-weight: bold\">7.</span><span style=\"color: #008000; text-decoration-color: #008000\">09s </span>\n",
       "</pre>\n"
      ],
      "text/plain": [
       "\u001b[1;32m[\u001b[0m\u001b[32mEXTRACT\u001b[0m\u001b[1;32m]\u001b[0m\u001b[32m. ■ \u001b[0m\u001b[4;32mhttps://openai.com/api/pricing/\u001b[0m\u001b[32m                                                                      |\u001b[0m\n",
       "\u001b[32m✓\u001b[0m\u001b[32m | ⏱: \u001b[0m\u001b[1;32m7.\u001b[0m\u001b[32m09s \u001b[0m\n"
      ]
     },
     "metadata": {},
     "output_type": "display_data"
    },
    {
     "data": {
      "text/html": [
       "<pre style=\"white-space:pre;overflow-x:auto;line-height:normal;font-family:Menlo,'DejaVu Sans Mono',consolas,'Courier New',monospace\"><span style=\"color: #008000; text-decoration-color: #008000; font-weight: bold\">[</span><span style=\"color: #008000; text-decoration-color: #008000\">COMPLETE</span><span style=\"color: #008000; text-decoration-color: #008000; font-weight: bold\">]</span><span style=\"color: #008000; text-decoration-color: #008000\"> ● </span><span style=\"color: #008000; text-decoration-color: #008000; text-decoration: underline\">https://openai.com/api/pricing/</span><span style=\"color: #008000; text-decoration-color: #008000\">                                                                      |</span>\n",
       "<span style=\"color: #008000; text-decoration-color: #008000\">✓ | ⏱: </span><span style=\"color: #008000; text-decoration-color: #008000; font-weight: bold\">8.</span><span style=\"color: #008000; text-decoration-color: #008000\">45s </span>\n",
       "</pre>\n"
      ],
      "text/plain": [
       "\u001b[1;32m[\u001b[0m\u001b[32mCOMPLETE\u001b[0m\u001b[1;32m]\u001b[0m\u001b[32m ● \u001b[0m\u001b[4;32mhttps://openai.com/api/pricing/\u001b[0m\u001b[32m                                                                      |\u001b[0m\n",
       "\u001b[32m✓\u001b[0m\u001b[32m | ⏱: \u001b[0m\u001b[1;32m8.\u001b[0m\u001b[32m45s \u001b[0m\n"
      ]
     },
     "metadata": {},
     "output_type": "display_data"
    },
    {
     "name": "stdout",
     "output_type": "stream",
     "text": [
      "[\n",
      "    {\n",
      "        \"model_name\": \"GPT-5\",\n",
      "        \"input_fee\": \"US$1.250 / 一百萬個 token\",\n",
      "        \"output_fee\": \"US$10.000 / 一百萬個 token\",\n",
      "        \"error\": false\n",
      "    },\n",
      "    {\n",
      "        \"model_name\": \"gpt-5-mini\",\n",
      "        \"input_fee\": \"US$0.250 / 一百萬個 token\",\n",
      "        \"output_fee\": \"US$2.000 / 一百萬個 token\",\n",
      "        \"error\": false\n",
      "    },\n",
      "    {\n",
      "        \"model_name\": \"gpt-5-nano\",\n",
      "        \"input_fee\": \"US$0.050 / 一百萬個 token\",\n",
      "        \"output_fee\": \"US$0.400 / 一百萬個 token\",\n",
      "        \"error\": false\n",
      "    },\n",
      "    {\n",
      "        \"model_name\": \"GPT-4.1\",\n",
      "        \"input_fee\": \"US$3.00 / 一百萬個 token\",\n",
      "        \"output_fee\": \"US$12.00 / 一百萬個 token\",\n",
      "        \"error\": false\n",
      "    },\n",
      "    {\n",
      "        \"model_name\": \"GPT-4.1 mini\",\n",
      "        \"input_fee\": \"US$0.80 / 一百萬個 token\",\n",
      "        \"output_fee\": \"US$3.20 / 一百萬個 token\",\n",
      "        \"error\": false\n",
      "    },\n",
      "    {\n",
      "        \"model_name\": \"GPT-4.1 nano\",\n",
      "        \"input_fee\": \"US$0.20 / 一百萬個 token\",\n",
      "        \"output_fee\": \"US$0.80 / 一百萬個 token\",\n",
      "        \"error\": false\n",
      "    },\n",
      "    {\n",
      "        \"model_name\": \"o4-mini\",\n",
      "        \"input_fee\": \"US$4.00 / 一百萬個 token\",\n",
      "        \"output_fee\": \"US$16.00 / 一百萬個 token\",\n",
      "        \"error\": false\n",
      "    },\n",
      "    {\n",
      "        \"model_name\": \"GPT-4o\",\n",
      "        \"input_fee\": \"US$5.00 / 一百萬個 token\",\n",
      "        \"output_fee\": \"US$20.00 / 一百萬個 token\",\n",
      "        \"error\": false\n",
      "    },\n",
      "    {\n",
      "        \"model_name\": \"GPT-4o mini\",\n",
      "        \"input_fee\": \"US$0.60 / 一百萬個 token\",\n",
      "        \"output_fee\": \"US$2.40 / 一百萬個 token\",\n",
      "        \"error\": false\n",
      "    },\n",
      "    {\n",
      "        \"model_name\": \"GPT-image-1\",\n",
      "        \"input_fee\": \"US$5.00 / 一百萬個 token\",\n",
      "        \"output_fee\": \"US$40.00 / 一百萬個 token\",\n",
      "        \"error\": false\n",
      "    }\n",
      "]\n"
     ]
    }
   ],
   "source": [
    "# - We define a Pydantic schema (PricingInfo) describing the fields we want. \n",
    "# - The LLM extraction strategy uses that schema and your instructions to transform raw text into structured JSON. \n",
    "# - Depending on the provider and api_token, you can use local models or a remote API.\n",
    "\n",
    "\n",
    "import os\n",
    "import json\n",
    "import asyncio\n",
    "from typing import Dict\n",
    "from pydantic import BaseModel, Field\n",
    "from crawl4ai import AsyncWebCrawler, CrawlerRunConfig, LLMConfig\n",
    "from crawl4ai import LLMExtractionStrategy\n",
    "\n",
    "class OpenAIModelFee(BaseModel):\n",
    "    model_name: str = Field(..., description=\"Name of the OpenAI model.\")\n",
    "    input_fee: str = Field(..., description=\"Fee for input token for the OpenAI model.\")\n",
    "    output_fee: str = Field(\n",
    "        ..., description=\"Fee for output token for the OpenAI model.\"\n",
    "    )\n",
    "\n",
    "async def extract_structured_data_using_llm(\n",
    "    provider: str, api_token: str = None, extra_headers: Dict[str, str] = None\n",
    "):\n",
    "    print(f\"\\n--- Extracting Structured Data with {provider} ---\")\n",
    "\n",
    "    if api_token is None and provider != \"ollama\":\n",
    "        print(f\"API token is required for {provider}. Skipping this example.\")\n",
    "        return\n",
    "\n",
    "    browser_config = BrowserConfig(headless=True)\n",
    "\n",
    "    extra_args = {\"temperature\": 0, \"top_p\": 0.9, \"max_tokens\": 2000}\n",
    "    if extra_headers:\n",
    "        extra_args[\"extra_headers\"] = extra_headers\n",
    "\n",
    "    crawler_config = CrawlerRunConfig(\n",
    "        cache_mode=CacheMode.BYPASS,\n",
    "        word_count_threshold=1,\n",
    "        page_timeout=80000,\n",
    "        extraction_strategy=LLMExtractionStrategy(\n",
    "            llm_config = LLMConfig(provider=provider,api_token=api_token),\n",
    "            schema=OpenAIModelFee.model_json_schema(),\n",
    "            extraction_type=\"schema\",\n",
    "            instruction=\"\"\"From the crawled content, extract all mentioned model names along with their fees for input and output tokens. \n",
    "            Do not miss any models in the entire content.\"\"\",\n",
    "            extra_args=extra_args,\n",
    "        ),\n",
    "    )\n",
    "\n",
    "    async with AsyncWebCrawler(config=browser_config) as crawler:\n",
    "        result = await crawler.arun(\n",
    "            url=\"https://openai.com/api/pricing/\", config=crawler_config\n",
    "        )\n",
    "        print(result.extracted_content)\n",
    "\n",
    "if __name__ == \"__main__\":\n",
    "\n",
    "    asyncio.run(\n",
    "        extract_structured_data_using_llm(\n",
    "            provider=\"openai/gpt-4o\", api_token=os.getenv(\"OPENAI_API_KEY\")\n",
    "        )\n",
    "    )"
   ]
  },
  {
   "cell_type": "markdown",
   "id": "4ae10487",
   "metadata": {},
   "source": [
    "# Adaptive Crawling"
   ]
  },
  {
   "cell_type": "code",
   "execution_count": 13,
   "id": "d8735d46",
   "metadata": {},
   "outputs": [
    {
     "data": {
      "text/html": [
       "<pre style=\"white-space:pre;overflow-x:auto;line-height:normal;font-family:Menlo,'DejaVu Sans Mono',consolas,'Courier New',monospace\"><span style=\"color: #008080; text-decoration-color: #008080; font-weight: bold\">[</span><span style=\"color: #008080; text-decoration-color: #008080\">INIT</span><span style=\"color: #008080; text-decoration-color: #008080; font-weight: bold\">]</span><span style=\"color: #008080; text-decoration-color: #008080\">.... → Crawl4AI </span><span style=\"color: #008080; text-decoration-color: #008080; font-weight: bold\">0.7</span><span style=\"color: #008080; text-decoration-color: #008080\">.</span><span style=\"color: #008080; text-decoration-color: #008080; font-weight: bold\">3</span><span style=\"color: #008080; text-decoration-color: #008080\"> </span>\n",
       "</pre>\n"
      ],
      "text/plain": [
       "\u001b[1;36m[\u001b[0m\u001b[36mINIT\u001b[0m\u001b[1;36m]\u001b[0m\u001b[36m...\u001b[0m\u001b[36m. → Crawl4AI \u001b[0m\u001b[1;36m0.7\u001b[0m\u001b[36m.\u001b[0m\u001b[1;36m3\u001b[0m\u001b[36m \u001b[0m\n"
      ]
     },
     "metadata": {},
     "output_type": "display_data"
    },
    {
     "data": {
      "text/html": [
       "<pre style=\"white-space:pre;overflow-x:auto;line-height:normal;font-family:Menlo,'DejaVu Sans Mono',consolas,'Courier New',monospace\"><span style=\"color: #008000; text-decoration-color: #008000; font-weight: bold\">[</span><span style=\"color: #008000; text-decoration-color: #008000\">FETCH</span><span style=\"color: #008000; text-decoration-color: #008000; font-weight: bold\">]</span><span style=\"color: #008000; text-decoration-color: #008000\">... ↓ </span><span style=\"color: #008000; text-decoration-color: #008000; text-decoration: underline\">https://docs.python.org/3/</span><span style=\"color: #008000; text-decoration-color: #008000\">                                                                           |</span>\n",
       "<span style=\"color: #008000; text-decoration-color: #008000\">✓ | ⏱: </span><span style=\"color: #008000; text-decoration-color: #008000; font-weight: bold\">1.</span><span style=\"color: #008000; text-decoration-color: #008000\">08s </span>\n",
       "</pre>\n"
      ],
      "text/plain": [
       "\u001b[1;32m[\u001b[0m\u001b[32mFETCH\u001b[0m\u001b[1;32m]\u001b[0m\u001b[32m...\u001b[0m\u001b[32m ↓ \u001b[0m\u001b[4;32mhttps://docs.python.org/3/\u001b[0m\u001b[32m                                                                           |\u001b[0m\n",
       "\u001b[32m✓\u001b[0m\u001b[32m | ⏱: \u001b[0m\u001b[1;32m1.\u001b[0m\u001b[32m08s \u001b[0m\n"
      ]
     },
     "metadata": {},
     "output_type": "display_data"
    },
    {
     "data": {
      "text/html": [
       "<pre style=\"white-space:pre;overflow-x:auto;line-height:normal;font-family:Menlo,'DejaVu Sans Mono',consolas,'Courier New',monospace\"><span style=\"color: #808080; text-decoration-color: #808080; font-weight: bold\">[</span><span style=\"color: #808080; text-decoration-color: #808080\">LINK_EXTRACT</span><span style=\"color: #808080; text-decoration-color: #808080; font-weight: bold\">]</span><span style=\"color: #808080; text-decoration-color: #808080\"> ℹ Added </span><span style=\"color: #808080; text-decoration-color: #808080; font-weight: bold\">53</span><span style=\"color: #808080; text-decoration-color: #808080\"> internal links </span>\n",
       "</pre>\n"
      ],
      "text/plain": [
       "\u001b[1;90m[\u001b[0m\u001b[90mLINK_EXTRACT\u001b[0m\u001b[1;90m]\u001b[0m\u001b[90m ℹ Added \u001b[0m\u001b[1;90m53\u001b[0m\u001b[90m internal links \u001b[0m\n"
      ]
     },
     "metadata": {},
     "output_type": "display_data"
    },
    {
     "data": {
      "text/html": [
       "<pre style=\"white-space:pre;overflow-x:auto;line-height:normal;font-family:Menlo,'DejaVu Sans Mono',consolas,'Courier New',monospace\"><span style=\"color: #808080; text-decoration-color: #808080; font-weight: bold\">[</span><span style=\"color: #808080; text-decoration-color: #808080\">LINK_EXTRACT</span><span style=\"color: #808080; text-decoration-color: #808080; font-weight: bold\">]</span><span style=\"color: #808080; text-decoration-color: #808080\"> ℹ Limited to </span><span style=\"color: #808080; text-decoration-color: #808080; font-weight: bold\">50</span><span style=\"color: #808080; text-decoration-color: #808080\"> links </span>\n",
       "</pre>\n"
      ],
      "text/plain": [
       "\u001b[1;90m[\u001b[0m\u001b[90mLINK_EXTRACT\u001b[0m\u001b[1;90m]\u001b[0m\u001b[90m ℹ Limited to \u001b[0m\u001b[1;90m50\u001b[0m\u001b[90m links \u001b[0m\n"
      ]
     },
     "metadata": {},
     "output_type": "display_data"
    },
    {
     "data": {
      "text/html": [
       "<pre style=\"white-space:pre;overflow-x:auto;line-height:normal;font-family:Menlo,'DejaVu Sans Mono',consolas,'Courier New',monospace\"><span style=\"color: #808080; text-decoration-color: #808080; font-weight: bold\">[</span><span style=\"color: #808080; text-decoration-color: #808080\">LINK_EXTRACT</span><span style=\"color: #808080; text-decoration-color: #808080; font-weight: bold\">]</span><span style=\"color: #808080; text-decoration-color: #808080\"> ℹ Final filtered URLs: </span><span style=\"color: #808080; text-decoration-color: #808080; font-weight: bold\">50</span><span style=\"color: #808080; text-decoration-color: #808080\"> unique links </span>\n",
       "</pre>\n"
      ],
      "text/plain": [
       "\u001b[1;90m[\u001b[0m\u001b[90mLINK_EXTRACT\u001b[0m\u001b[1;90m]\u001b[0m\u001b[90m ℹ Final filtered URLs: \u001b[0m\u001b[1;90m50\u001b[0m\u001b[90m unique links \u001b[0m\n"
      ]
     },
     "metadata": {},
     "output_type": "display_data"
    },
    {
     "data": {
      "text/html": [
       "<pre style=\"white-space:pre;overflow-x:auto;line-height:normal;font-family:Menlo,'DejaVu Sans Mono',consolas,'Courier New',monospace\"><span style=\"color: #008080; text-decoration-color: #008080; font-weight: bold\">[</span><span style=\"color: #008080; text-decoration-color: #008080\">LINK_EXTRACT</span><span style=\"color: #008080; text-decoration-color: #008080; font-weight: bold\">]</span><span style=\"color: #008080; text-decoration-color: #008080\"> ℹ Extracting head content for </span><span style=\"color: #008080; text-decoration-color: #008080; font-weight: bold\">50</span><span style=\"color: #008080; text-decoration-color: #008080\"> filtered links </span>\n",
       "</pre>\n"
      ],
      "text/plain": [
       "\u001b[1;36m[\u001b[0m\u001b[36mLINK_EXTRACT\u001b[0m\u001b[1;36m]\u001b[0m\u001b[36m ℹ Extracting head content for \u001b[0m\u001b[1;36m50\u001b[0m\u001b[36m filtered links \u001b[0m\n"
      ]
     },
     "metadata": {},
     "output_type": "display_data"
    },
    {
     "data": {
      "text/html": [
       "<pre style=\"white-space:pre;overflow-x:auto;line-height:normal;font-family:Menlo,'DejaVu Sans Mono',consolas,'Courier New',monospace\"><span style=\"color: #008080; text-decoration-color: #008080; font-weight: bold\">[</span><span style=\"color: #008080; text-decoration-color: #008080\">URL_SEED</span><span style=\"color: #008080; text-decoration-color: #008080; font-weight: bold\">]</span><span style=\"color: #008080; text-decoration-color: #008080\"> ℹ Starting head extraction for </span><span style=\"color: #008080; text-decoration-color: #008080; font-weight: bold\">50</span><span style=\"color: #008080; text-decoration-color: #008080\"> custom URLs </span>\n",
       "</pre>\n"
      ],
      "text/plain": [
       "\u001b[1;36m[\u001b[0m\u001b[36mURL_SEED\u001b[0m\u001b[1;36m]\u001b[0m\u001b[36m ℹ Starting head extraction for \u001b[0m\u001b[1;36m50\u001b[0m\u001b[36m custom URLs \u001b[0m\n"
      ]
     },
     "metadata": {},
     "output_type": "display_data"
    },
    {
     "data": {
      "text/html": [
       "<pre style=\"white-space:pre;overflow-x:auto;line-height:normal;font-family:Menlo,'DejaVu Sans Mono',consolas,'Courier New',monospace\"><span style=\"color: #808080; text-decoration-color: #808080; font-weight: bold\">[</span><span style=\"color: #808080; text-decoration-color: #808080\">URL_SEED</span><span style=\"color: #808080; text-decoration-color: #808080; font-weight: bold\">]</span><span style=\"color: #808080; text-decoration-color: #808080\"> ℹ Fetching head for </span><span style=\"color: #808080; text-decoration-color: #808080; text-decoration: underline\">https://www.python.org/</span><span style=\"color: #808080; text-decoration-color: #808080\"> </span>\n",
       "</pre>\n"
      ],
      "text/plain": [
       "\u001b[1;90m[\u001b[0m\u001b[90mURL_SEED\u001b[0m\u001b[1;90m]\u001b[0m\u001b[90m ℹ Fetching head for \u001b[0m\u001b[4;90mhttps://www.python.org/\u001b[0m\u001b[90m \u001b[0m\n"
      ]
     },
     "metadata": {},
     "output_type": "display_data"
    },
    {
     "data": {
      "text/html": [
       "<pre style=\"white-space:pre;overflow-x:auto;line-height:normal;font-family:Menlo,'DejaVu Sans Mono',consolas,'Courier New',monospace\"><span style=\"color: #808080; text-decoration-color: #808080; font-weight: bold\">[</span><span style=\"color: #808080; text-decoration-color: #808080\">URL_SEED</span><span style=\"color: #808080; text-decoration-color: #808080; font-weight: bold\">]</span><span style=\"color: #808080; text-decoration-color: #808080\"> ℹ Fetching head for </span><span style=\"color: #808080; text-decoration-color: #808080; text-decoration: underline\">https://docs.python.org/3/download.html</span><span style=\"color: #808080; text-decoration-color: #808080\"> </span>\n",
       "</pre>\n"
      ],
      "text/plain": [
       "\u001b[1;90m[\u001b[0m\u001b[90mURL_SEED\u001b[0m\u001b[1;90m]\u001b[0m\u001b[90m ℹ Fetching head for \u001b[0m\u001b[4;90mhttps://docs.python.org/3/download.html\u001b[0m\u001b[90m \u001b[0m\n"
      ]
     },
     "metadata": {},
     "output_type": "display_data"
    },
    {
     "data": {
      "text/html": [
       "<pre style=\"white-space:pre;overflow-x:auto;line-height:normal;font-family:Menlo,'DejaVu Sans Mono',consolas,'Courier New',monospace\"><span style=\"color: #808080; text-decoration-color: #808080; font-weight: bold\">[</span><span style=\"color: #808080; text-decoration-color: #808080\">URL_SEED</span><span style=\"color: #808080; text-decoration-color: #808080; font-weight: bold\">]</span><span style=\"color: #808080; text-decoration-color: #808080\"> ℹ Fetching head for </span><span style=\"color: #808080; text-decoration-color: #808080; text-decoration: underline\">https://docs.python.org/3.15</span><span style=\"color: #808080; text-decoration-color: #808080\"> </span>\n",
       "</pre>\n"
      ],
      "text/plain": [
       "\u001b[1;90m[\u001b[0m\u001b[90mURL_SEED\u001b[0m\u001b[1;90m]\u001b[0m\u001b[90m ℹ Fetching head for \u001b[0m\u001b[4;90mhttps://docs.python.org/3.15\u001b[0m\u001b[90m \u001b[0m\n"
      ]
     },
     "metadata": {},
     "output_type": "display_data"
    },
    {
     "data": {
      "text/html": [
       "<pre style=\"white-space:pre;overflow-x:auto;line-height:normal;font-family:Menlo,'DejaVu Sans Mono',consolas,'Courier New',monospace\"><span style=\"color: #808080; text-decoration-color: #808080; font-weight: bold\">[</span><span style=\"color: #808080; text-decoration-color: #808080\">URL_SEED</span><span style=\"color: #808080; text-decoration-color: #808080; font-weight: bold\">]</span><span style=\"color: #808080; text-decoration-color: #808080\"> ℹ Fetching head for </span><span style=\"color: #808080; text-decoration-color: #808080; text-decoration: underline\">https://docs.python.org/3.14</span><span style=\"color: #808080; text-decoration-color: #808080\"> </span>\n",
       "</pre>\n"
      ],
      "text/plain": [
       "\u001b[1;90m[\u001b[0m\u001b[90mURL_SEED\u001b[0m\u001b[1;90m]\u001b[0m\u001b[90m ℹ Fetching head for \u001b[0m\u001b[4;90mhttps://docs.python.org/3.14\u001b[0m\u001b[90m \u001b[0m\n"
      ]
     },
     "metadata": {},
     "output_type": "display_data"
    },
    {
     "data": {
      "text/html": [
       "<pre style=\"white-space:pre;overflow-x:auto;line-height:normal;font-family:Menlo,'DejaVu Sans Mono',consolas,'Courier New',monospace\"><span style=\"color: #808080; text-decoration-color: #808080; font-weight: bold\">[</span><span style=\"color: #808080; text-decoration-color: #808080\">URL_SEED</span><span style=\"color: #808080; text-decoration-color: #808080; font-weight: bold\">]</span><span style=\"color: #808080; text-decoration-color: #808080\"> ℹ Fetching head for </span><span style=\"color: #808080; text-decoration-color: #808080; text-decoration: underline\">https://docs.python.org/3.13</span><span style=\"color: #808080; text-decoration-color: #808080\"> </span>\n",
       "</pre>\n"
      ],
      "text/plain": [
       "\u001b[1;90m[\u001b[0m\u001b[90mURL_SEED\u001b[0m\u001b[1;90m]\u001b[0m\u001b[90m ℹ Fetching head for \u001b[0m\u001b[4;90mhttps://docs.python.org/3.13\u001b[0m\u001b[90m \u001b[0m\n"
      ]
     },
     "metadata": {},
     "output_type": "display_data"
    },
    {
     "data": {
      "text/html": [
       "<pre style=\"white-space:pre;overflow-x:auto;line-height:normal;font-family:Menlo,'DejaVu Sans Mono',consolas,'Courier New',monospace\"><span style=\"color: #808080; text-decoration-color: #808080; font-weight: bold\">[</span><span style=\"color: #808080; text-decoration-color: #808080\">URL_SEED</span><span style=\"color: #808080; text-decoration-color: #808080; font-weight: bold\">]</span><span style=\"color: #808080; text-decoration-color: #808080\"> ℹ Skipping bogus gzip for </span><span style=\"color: #808080; text-decoration-color: #808080; text-decoration: underline\">https://www.python.org/</span><span style=\"color: #808080; text-decoration-color: #808080\"> </span>\n",
       "</pre>\n"
      ],
      "text/plain": [
       "\u001b[1;90m[\u001b[0m\u001b[90mURL_SEED\u001b[0m\u001b[1;90m]\u001b[0m\u001b[90m ℹ Skipping bogus gzip for \u001b[0m\u001b[4;90mhttps://www.python.org/\u001b[0m\u001b[90m \u001b[0m\n"
      ]
     },
     "metadata": {},
     "output_type": "display_data"
    },
    {
     "data": {
      "text/html": [
       "<pre style=\"white-space:pre;overflow-x:auto;line-height:normal;font-family:Menlo,'DejaVu Sans Mono',consolas,'Courier New',monospace\"><span style=\"color: #008080; text-decoration-color: #008080; font-weight: bold\">[</span><span style=\"color: #008080; text-decoration-color: #008080\">URL_SEED</span><span style=\"color: #008080; text-decoration-color: #008080; font-weight: bold\">]</span><span style=\"color: #008080; text-decoration-color: #008080\"> ℹ HEAD VALID for </span><span style=\"color: #008080; text-decoration-color: #008080; text-decoration: underline\">https://www.python.org/</span><span style=\"color: #008080; text-decoration-color: #008080\"> </span>\n",
       "</pre>\n"
      ],
      "text/plain": [
       "\u001b[1;36m[\u001b[0m\u001b[36mURL_SEED\u001b[0m\u001b[1;36m]\u001b[0m\u001b[36m ℹ HEAD VALID for \u001b[0m\u001b[4;36mhttps://www.python.org/\u001b[0m\u001b[36m \u001b[0m\n"
      ]
     },
     "metadata": {},
     "output_type": "display_data"
    },
    {
     "data": {
      "text/html": [
       "<pre style=\"white-space:pre;overflow-x:auto;line-height:normal;font-family:Menlo,'DejaVu Sans Mono',consolas,'Courier New',monospace\"><span style=\"color: #808080; text-decoration-color: #808080; font-weight: bold\">[</span><span style=\"color: #808080; text-decoration-color: #808080\">URL_SEED</span><span style=\"color: #808080; text-decoration-color: #808080; font-weight: bold\">]</span><span style=\"color: #808080; text-decoration-color: #808080\"> ℹ Fetching head for </span><span style=\"color: #808080; text-decoration-color: #808080; text-decoration: underline\">https://docs.python.org/3.12</span><span style=\"color: #808080; text-decoration-color: #808080\"> </span>\n",
       "</pre>\n"
      ],
      "text/plain": [
       "\u001b[1;90m[\u001b[0m\u001b[90mURL_SEED\u001b[0m\u001b[1;90m]\u001b[0m\u001b[90m ℹ Fetching head for \u001b[0m\u001b[4;90mhttps://docs.python.org/3.12\u001b[0m\u001b[90m \u001b[0m\n"
      ]
     },
     "metadata": {},
     "output_type": "display_data"
    },
    {
     "data": {
      "text/html": [
       "<pre style=\"white-space:pre;overflow-x:auto;line-height:normal;font-family:Menlo,'DejaVu Sans Mono',consolas,'Courier New',monospace\"><span style=\"color: #808080; text-decoration-color: #808080; font-weight: bold\">[</span><span style=\"color: #808080; text-decoration-color: #808080\">URL_SEED</span><span style=\"color: #808080; text-decoration-color: #808080; font-weight: bold\">]</span><span style=\"color: #808080; text-decoration-color: #808080\"> ℹ Redirecting from </span><span style=\"color: #808080; text-decoration-color: #808080; text-decoration: underline\">https://docs.python.org/3.15</span><span style=\"color: #808080; text-decoration-color: #808080\"> to </span><span style=\"color: #808080; text-decoration-color: #808080; text-decoration: underline\">https://docs.python.org/3.15/</span><span style=\"color: #808080; text-decoration-color: #808080\"> </span>\n",
       "</pre>\n"
      ],
      "text/plain": [
       "\u001b[1;90m[\u001b[0m\u001b[90mURL_SEED\u001b[0m\u001b[1;90m]\u001b[0m\u001b[90m ℹ Redirecting from \u001b[0m\u001b[4;90mhttps://docs.python.org/3.15\u001b[0m\u001b[90m to \u001b[0m\u001b[4;90mhttps://docs.python.org/3.15/\u001b[0m\u001b[90m \u001b[0m\n"
      ]
     },
     "metadata": {},
     "output_type": "display_data"
    },
    {
     "data": {
      "text/html": [
       "<pre style=\"white-space:pre;overflow-x:auto;line-height:normal;font-family:Menlo,'DejaVu Sans Mono',consolas,'Courier New',monospace\"><span style=\"color: #808080; text-decoration-color: #808080; font-weight: bold\">[</span><span style=\"color: #808080; text-decoration-color: #808080\">URL_SEED</span><span style=\"color: #808080; text-decoration-color: #808080; font-weight: bold\">]</span><span style=\"color: #808080; text-decoration-color: #808080\"> ℹ Redirecting from </span><span style=\"color: #808080; text-decoration-color: #808080; text-decoration: underline\">https://docs.python.org/3.13</span><span style=\"color: #808080; text-decoration-color: #808080\"> to </span><span style=\"color: #808080; text-decoration-color: #808080; text-decoration: underline\">https://docs.python.org/3.13/</span><span style=\"color: #808080; text-decoration-color: #808080\"> </span>\n",
       "</pre>\n"
      ],
      "text/plain": [
       "\u001b[1;90m[\u001b[0m\u001b[90mURL_SEED\u001b[0m\u001b[1;90m]\u001b[0m\u001b[90m ℹ Redirecting from \u001b[0m\u001b[4;90mhttps://docs.python.org/3.13\u001b[0m\u001b[90m to \u001b[0m\u001b[4;90mhttps://docs.python.org/3.13/\u001b[0m\u001b[90m \u001b[0m\n"
      ]
     },
     "metadata": {},
     "output_type": "display_data"
    },
    {
     "data": {
      "text/html": [
       "<pre style=\"white-space:pre;overflow-x:auto;line-height:normal;font-family:Menlo,'DejaVu Sans Mono',consolas,'Courier New',monospace\"><span style=\"color: #808080; text-decoration-color: #808080; font-weight: bold\">[</span><span style=\"color: #808080; text-decoration-color: #808080\">URL_SEED</span><span style=\"color: #808080; text-decoration-color: #808080; font-weight: bold\">]</span><span style=\"color: #808080; text-decoration-color: #808080\"> ℹ Redirecting from </span><span style=\"color: #808080; text-decoration-color: #808080; text-decoration: underline\">https://docs.python.org/3.14</span><span style=\"color: #808080; text-decoration-color: #808080\"> to </span><span style=\"color: #808080; text-decoration-color: #808080; text-decoration: underline\">https://docs.python.org/3.14/</span><span style=\"color: #808080; text-decoration-color: #808080\"> </span>\n",
       "</pre>\n"
      ],
      "text/plain": [
       "\u001b[1;90m[\u001b[0m\u001b[90mURL_SEED\u001b[0m\u001b[1;90m]\u001b[0m\u001b[90m ℹ Redirecting from \u001b[0m\u001b[4;90mhttps://docs.python.org/3.14\u001b[0m\u001b[90m to \u001b[0m\u001b[4;90mhttps://docs.python.org/3.14/\u001b[0m\u001b[90m \u001b[0m\n"
      ]
     },
     "metadata": {},
     "output_type": "display_data"
    },
    {
     "data": {
      "text/html": [
       "<pre style=\"white-space:pre;overflow-x:auto;line-height:normal;font-family:Menlo,'DejaVu Sans Mono',consolas,'Courier New',monospace\"><span style=\"color: #808080; text-decoration-color: #808080; font-weight: bold\">[</span><span style=\"color: #808080; text-decoration-color: #808080\">URL_SEED</span><span style=\"color: #808080; text-decoration-color: #808080; font-weight: bold\">]</span><span style=\"color: #808080; text-decoration-color: #808080\"> ℹ Redirecting from </span><span style=\"color: #808080; text-decoration-color: #808080; text-decoration: underline\">https://docs.python.org/3.12</span><span style=\"color: #808080; text-decoration-color: #808080\"> to </span><span style=\"color: #808080; text-decoration-color: #808080; text-decoration: underline\">https://docs.python.org/3.12/</span><span style=\"color: #808080; text-decoration-color: #808080\"> </span>\n",
       "</pre>\n"
      ],
      "text/plain": [
       "\u001b[1;90m[\u001b[0m\u001b[90mURL_SEED\u001b[0m\u001b[1;90m]\u001b[0m\u001b[90m ℹ Redirecting from \u001b[0m\u001b[4;90mhttps://docs.python.org/3.12\u001b[0m\u001b[90m to \u001b[0m\u001b[4;90mhttps://docs.python.org/3.12/\u001b[0m\u001b[90m \u001b[0m\n"
      ]
     },
     "metadata": {},
     "output_type": "display_data"
    },
    {
     "data": {
      "text/html": [
       "<pre style=\"white-space:pre;overflow-x:auto;line-height:normal;font-family:Menlo,'DejaVu Sans Mono',consolas,'Courier New',monospace\"><span style=\"color: #008080; text-decoration-color: #008080; font-weight: bold\">[</span><span style=\"color: #008080; text-decoration-color: #008080\">URL_SEED</span><span style=\"color: #008080; text-decoration-color: #008080; font-weight: bold\">]</span><span style=\"color: #008080; text-decoration-color: #008080\"> ℹ HEAD VALID for </span><span style=\"color: #008080; text-decoration-color: #008080; text-decoration: underline\">https://docs.python.org/3/download.html</span><span style=\"color: #008080; text-decoration-color: #008080\"> </span>\n",
       "</pre>\n"
      ],
      "text/plain": [
       "\u001b[1;36m[\u001b[0m\u001b[36mURL_SEED\u001b[0m\u001b[1;36m]\u001b[0m\u001b[36m ℹ HEAD VALID for \u001b[0m\u001b[4;36mhttps://docs.python.org/3/download.html\u001b[0m\u001b[36m \u001b[0m\n"
      ]
     },
     "metadata": {},
     "output_type": "display_data"
    },
    {
     "data": {
      "text/html": [
       "<pre style=\"white-space:pre;overflow-x:auto;line-height:normal;font-family:Menlo,'DejaVu Sans Mono',consolas,'Courier New',monospace\"><span style=\"color: #808080; text-decoration-color: #808080; font-weight: bold\">[</span><span style=\"color: #808080; text-decoration-color: #808080\">URL_SEED</span><span style=\"color: #808080; text-decoration-color: #808080; font-weight: bold\">]</span><span style=\"color: #808080; text-decoration-color: #808080\"> ℹ Fetching head for </span><span style=\"color: #808080; text-decoration-color: #808080; text-decoration: underline\">https://docs.python.org/3.11</span><span style=\"color: #808080; text-decoration-color: #808080\"> </span>\n",
       "</pre>\n"
      ],
      "text/plain": [
       "\u001b[1;90m[\u001b[0m\u001b[90mURL_SEED\u001b[0m\u001b[1;90m]\u001b[0m\u001b[90m ℹ Fetching head for \u001b[0m\u001b[4;90mhttps://docs.python.org/3.11\u001b[0m\u001b[90m \u001b[0m\n"
      ]
     },
     "metadata": {},
     "output_type": "display_data"
    },
    {
     "data": {
      "text/html": [
       "<pre style=\"white-space:pre;overflow-x:auto;line-height:normal;font-family:Menlo,'DejaVu Sans Mono',consolas,'Courier New',monospace\"><span style=\"color: #808080; text-decoration-color: #808080; font-weight: bold\">[</span><span style=\"color: #808080; text-decoration-color: #808080\">URL_SEED</span><span style=\"color: #808080; text-decoration-color: #808080; font-weight: bold\">]</span><span style=\"color: #808080; text-decoration-color: #808080\"> ℹ Redirecting from </span><span style=\"color: #808080; text-decoration-color: #808080; text-decoration: underline\">https://docs.python.org/3.11</span><span style=\"color: #808080; text-decoration-color: #808080\"> to </span><span style=\"color: #808080; text-decoration-color: #808080; text-decoration: underline\">https://docs.python.org/3.11/</span><span style=\"color: #808080; text-decoration-color: #808080\"> </span>\n",
       "</pre>\n"
      ],
      "text/plain": [
       "\u001b[1;90m[\u001b[0m\u001b[90mURL_SEED\u001b[0m\u001b[1;90m]\u001b[0m\u001b[90m ℹ Redirecting from \u001b[0m\u001b[4;90mhttps://docs.python.org/3.11\u001b[0m\u001b[90m to \u001b[0m\u001b[4;90mhttps://docs.python.org/3.11/\u001b[0m\u001b[90m \u001b[0m\n"
      ]
     },
     "metadata": {},
     "output_type": "display_data"
    },
    {
     "data": {
      "text/html": [
       "<pre style=\"white-space:pre;overflow-x:auto;line-height:normal;font-family:Menlo,'DejaVu Sans Mono',consolas,'Courier New',monospace\"><span style=\"color: #008080; text-decoration-color: #008080; font-weight: bold\">[</span><span style=\"color: #008080; text-decoration-color: #008080\">URL_SEED</span><span style=\"color: #008080; text-decoration-color: #008080; font-weight: bold\">]</span><span style=\"color: #008080; text-decoration-color: #008080\"> ℹ HEAD VALID for </span><span style=\"color: #008080; text-decoration-color: #008080; text-decoration: underline\">https://docs.python.org/3.13/</span><span style=\"color: #008080; text-decoration-color: #008080\"> </span>\n",
       "</pre>\n"
      ],
      "text/plain": [
       "\u001b[1;36m[\u001b[0m\u001b[36mURL_SEED\u001b[0m\u001b[1;36m]\u001b[0m\u001b[36m ℹ HEAD VALID for \u001b[0m\u001b[4;36mhttps://docs.python.org/3.13/\u001b[0m\u001b[36m \u001b[0m\n"
      ]
     },
     "metadata": {},
     "output_type": "display_data"
    },
    {
     "data": {
      "text/html": [
       "<pre style=\"white-space:pre;overflow-x:auto;line-height:normal;font-family:Menlo,'DejaVu Sans Mono',consolas,'Courier New',monospace\"><span style=\"color: #808080; text-decoration-color: #808080; font-weight: bold\">[</span><span style=\"color: #808080; text-decoration-color: #808080\">URL_SEED</span><span style=\"color: #808080; text-decoration-color: #808080; font-weight: bold\">]</span><span style=\"color: #808080; text-decoration-color: #808080\"> ℹ Fetching head for </span><span style=\"color: #808080; text-decoration-color: #808080; text-decoration: underline\">https://docs.python.org/3.10</span><span style=\"color: #808080; text-decoration-color: #808080\"> </span>\n",
       "</pre>\n"
      ],
      "text/plain": [
       "\u001b[1;90m[\u001b[0m\u001b[90mURL_SEED\u001b[0m\u001b[1;90m]\u001b[0m\u001b[90m ℹ Fetching head for \u001b[0m\u001b[4;90mhttps://docs.python.org/3.10\u001b[0m\u001b[90m \u001b[0m\n"
      ]
     },
     "metadata": {},
     "output_type": "display_data"
    },
    {
     "data": {
      "text/html": [
       "<pre style=\"white-space:pre;overflow-x:auto;line-height:normal;font-family:Menlo,'DejaVu Sans Mono',consolas,'Courier New',monospace\"><span style=\"color: #008080; text-decoration-color: #008080; font-weight: bold\">[</span><span style=\"color: #008080; text-decoration-color: #008080\">URL_SEED</span><span style=\"color: #008080; text-decoration-color: #008080; font-weight: bold\">]</span><span style=\"color: #008080; text-decoration-color: #008080\"> ℹ HEAD VALID for </span><span style=\"color: #008080; text-decoration-color: #008080; text-decoration: underline\">https://docs.python.org/3.15/</span><span style=\"color: #008080; text-decoration-color: #008080\"> </span>\n",
       "</pre>\n"
      ],
      "text/plain": [
       "\u001b[1;36m[\u001b[0m\u001b[36mURL_SEED\u001b[0m\u001b[1;36m]\u001b[0m\u001b[36m ℹ HEAD VALID for \u001b[0m\u001b[4;36mhttps://docs.python.org/3.15/\u001b[0m\u001b[36m \u001b[0m\n"
      ]
     },
     "metadata": {},
     "output_type": "display_data"
    },
    {
     "data": {
      "text/html": [
       "<pre style=\"white-space:pre;overflow-x:auto;line-height:normal;font-family:Menlo,'DejaVu Sans Mono',consolas,'Courier New',monospace\"><span style=\"color: #808080; text-decoration-color: #808080; font-weight: bold\">[</span><span style=\"color: #808080; text-decoration-color: #808080\">URL_SEED</span><span style=\"color: #808080; text-decoration-color: #808080; font-weight: bold\">]</span><span style=\"color: #808080; text-decoration-color: #808080\"> ℹ Fetching head for </span><span style=\"color: #808080; text-decoration-color: #808080; text-decoration: underline\">https://docs.python.org/3.9</span><span style=\"color: #808080; text-decoration-color: #808080\"> </span>\n",
       "</pre>\n"
      ],
      "text/plain": [
       "\u001b[1;90m[\u001b[0m\u001b[90mURL_SEED\u001b[0m\u001b[1;90m]\u001b[0m\u001b[90m ℹ Fetching head for \u001b[0m\u001b[4;90mhttps://docs.python.org/3.9\u001b[0m\u001b[90m \u001b[0m\n"
      ]
     },
     "metadata": {},
     "output_type": "display_data"
    },
    {
     "data": {
      "text/html": [
       "<pre style=\"white-space:pre;overflow-x:auto;line-height:normal;font-family:Menlo,'DejaVu Sans Mono',consolas,'Courier New',monospace\"><span style=\"color: #008080; text-decoration-color: #008080; font-weight: bold\">[</span><span style=\"color: #008080; text-decoration-color: #008080\">URL_SEED</span><span style=\"color: #008080; text-decoration-color: #008080; font-weight: bold\">]</span><span style=\"color: #008080; text-decoration-color: #008080\"> ℹ HEAD VALID for </span><span style=\"color: #008080; text-decoration-color: #008080; text-decoration: underline\">https://docs.python.org/3.14/</span><span style=\"color: #008080; text-decoration-color: #008080\"> </span>\n",
       "</pre>\n"
      ],
      "text/plain": [
       "\u001b[1;36m[\u001b[0m\u001b[36mURL_SEED\u001b[0m\u001b[1;36m]\u001b[0m\u001b[36m ℹ HEAD VALID for \u001b[0m\u001b[4;36mhttps://docs.python.org/3.14/\u001b[0m\u001b[36m \u001b[0m\n"
      ]
     },
     "metadata": {},
     "output_type": "display_data"
    },
    {
     "data": {
      "text/html": [
       "<pre style=\"white-space:pre;overflow-x:auto;line-height:normal;font-family:Menlo,'DejaVu Sans Mono',consolas,'Courier New',monospace\"><span style=\"color: #808080; text-decoration-color: #808080; font-weight: bold\">[</span><span style=\"color: #808080; text-decoration-color: #808080\">URL_SEED</span><span style=\"color: #808080; text-decoration-color: #808080; font-weight: bold\">]</span><span style=\"color: #808080; text-decoration-color: #808080\"> ℹ Fetching head for </span><span style=\"color: #808080; text-decoration-color: #808080; text-decoration: underline\">https://docs.python.org/3.8</span><span style=\"color: #808080; text-decoration-color: #808080\"> </span>\n",
       "</pre>\n"
      ],
      "text/plain": [
       "\u001b[1;90m[\u001b[0m\u001b[90mURL_SEED\u001b[0m\u001b[1;90m]\u001b[0m\u001b[90m ℹ Fetching head for \u001b[0m\u001b[4;90mhttps://docs.python.org/3.8\u001b[0m\u001b[90m \u001b[0m\n"
      ]
     },
     "metadata": {},
     "output_type": "display_data"
    },
    {
     "data": {
      "text/html": [
       "<pre style=\"white-space:pre;overflow-x:auto;line-height:normal;font-family:Menlo,'DejaVu Sans Mono',consolas,'Courier New',monospace\"><span style=\"color: #008080; text-decoration-color: #008080; font-weight: bold\">[</span><span style=\"color: #008080; text-decoration-color: #008080\">URL_SEED</span><span style=\"color: #008080; text-decoration-color: #008080; font-weight: bold\">]</span><span style=\"color: #008080; text-decoration-color: #008080\"> ℹ HEAD VALID for </span><span style=\"color: #008080; text-decoration-color: #008080; text-decoration: underline\">https://docs.python.org/3.12/</span><span style=\"color: #008080; text-decoration-color: #008080\"> </span>\n",
       "</pre>\n"
      ],
      "text/plain": [
       "\u001b[1;36m[\u001b[0m\u001b[36mURL_SEED\u001b[0m\u001b[1;36m]\u001b[0m\u001b[36m ℹ HEAD VALID for \u001b[0m\u001b[4;36mhttps://docs.python.org/3.12/\u001b[0m\u001b[36m \u001b[0m\n"
      ]
     },
     "metadata": {},
     "output_type": "display_data"
    },
    {
     "data": {
      "text/html": [
       "<pre style=\"white-space:pre;overflow-x:auto;line-height:normal;font-family:Menlo,'DejaVu Sans Mono',consolas,'Courier New',monospace\"><span style=\"color: #808080; text-decoration-color: #808080; font-weight: bold\">[</span><span style=\"color: #808080; text-decoration-color: #808080\">URL_SEED</span><span style=\"color: #808080; text-decoration-color: #808080; font-weight: bold\">]</span><span style=\"color: #808080; text-decoration-color: #808080\"> ℹ Fetching head for </span><span style=\"color: #808080; text-decoration-color: #808080; text-decoration: underline\">https://docs.python.org/3.7</span><span style=\"color: #808080; text-decoration-color: #808080\"> </span>\n",
       "</pre>\n"
      ],
      "text/plain": [
       "\u001b[1;90m[\u001b[0m\u001b[90mURL_SEED\u001b[0m\u001b[1;90m]\u001b[0m\u001b[90m ℹ Fetching head for \u001b[0m\u001b[4;90mhttps://docs.python.org/3.7\u001b[0m\u001b[90m \u001b[0m\n"
      ]
     },
     "metadata": {},
     "output_type": "display_data"
    },
    {
     "data": {
      "text/html": [
       "<pre style=\"white-space:pre;overflow-x:auto;line-height:normal;font-family:Menlo,'DejaVu Sans Mono',consolas,'Courier New',monospace\"><span style=\"color: #808080; text-decoration-color: #808080; font-weight: bold\">[</span><span style=\"color: #808080; text-decoration-color: #808080\">URL_SEED</span><span style=\"color: #808080; text-decoration-color: #808080; font-weight: bold\">]</span><span style=\"color: #808080; text-decoration-color: #808080\"> ℹ Redirecting from </span><span style=\"color: #808080; text-decoration-color: #808080; text-decoration: underline\">https://docs.python.org/3.10</span><span style=\"color: #808080; text-decoration-color: #808080\"> to </span><span style=\"color: #808080; text-decoration-color: #808080; text-decoration: underline\">https://docs.python.org/3.10/</span><span style=\"color: #808080; text-decoration-color: #808080\"> </span>\n",
       "</pre>\n"
      ],
      "text/plain": [
       "\u001b[1;90m[\u001b[0m\u001b[90mURL_SEED\u001b[0m\u001b[1;90m]\u001b[0m\u001b[90m ℹ Redirecting from \u001b[0m\u001b[4;90mhttps://docs.python.org/3.10\u001b[0m\u001b[90m to \u001b[0m\u001b[4;90mhttps://docs.python.org/3.10/\u001b[0m\u001b[90m \u001b[0m\n"
      ]
     },
     "metadata": {},
     "output_type": "display_data"
    },
    {
     "data": {
      "text/html": [
       "<pre style=\"white-space:pre;overflow-x:auto;line-height:normal;font-family:Menlo,'DejaVu Sans Mono',consolas,'Courier New',monospace\"><span style=\"color: #808080; text-decoration-color: #808080; font-weight: bold\">[</span><span style=\"color: #808080; text-decoration-color: #808080\">URL_SEED</span><span style=\"color: #808080; text-decoration-color: #808080; font-weight: bold\">]</span><span style=\"color: #808080; text-decoration-color: #808080\"> ℹ Redirecting from </span><span style=\"color: #808080; text-decoration-color: #808080; text-decoration: underline\">https://docs.python.org/3.9</span><span style=\"color: #808080; text-decoration-color: #808080\"> to </span><span style=\"color: #808080; text-decoration-color: #808080; text-decoration: underline\">https://docs.python.org/3.9/</span><span style=\"color: #808080; text-decoration-color: #808080\"> </span>\n",
       "</pre>\n"
      ],
      "text/plain": [
       "\u001b[1;90m[\u001b[0m\u001b[90mURL_SEED\u001b[0m\u001b[1;90m]\u001b[0m\u001b[90m ℹ Redirecting from \u001b[0m\u001b[4;90mhttps://docs.python.org/3.9\u001b[0m\u001b[90m to \u001b[0m\u001b[4;90mhttps://docs.python.org/3.9/\u001b[0m\u001b[90m \u001b[0m\n"
      ]
     },
     "metadata": {},
     "output_type": "display_data"
    },
    {
     "data": {
      "text/html": [
       "<pre style=\"white-space:pre;overflow-x:auto;line-height:normal;font-family:Menlo,'DejaVu Sans Mono',consolas,'Courier New',monospace\"><span style=\"color: #808080; text-decoration-color: #808080; font-weight: bold\">[</span><span style=\"color: #808080; text-decoration-color: #808080\">URL_SEED</span><span style=\"color: #808080; text-decoration-color: #808080; font-weight: bold\">]</span><span style=\"color: #808080; text-decoration-color: #808080\"> ℹ Redirecting from </span><span style=\"color: #808080; text-decoration-color: #808080; text-decoration: underline\">https://docs.python.org/3.8</span><span style=\"color: #808080; text-decoration-color: #808080\"> to </span><span style=\"color: #808080; text-decoration-color: #808080; text-decoration: underline\">https://docs.python.org/3.8/</span><span style=\"color: #808080; text-decoration-color: #808080\"> </span>\n",
       "</pre>\n"
      ],
      "text/plain": [
       "\u001b[1;90m[\u001b[0m\u001b[90mURL_SEED\u001b[0m\u001b[1;90m]\u001b[0m\u001b[90m ℹ Redirecting from \u001b[0m\u001b[4;90mhttps://docs.python.org/3.8\u001b[0m\u001b[90m to \u001b[0m\u001b[4;90mhttps://docs.python.org/3.8/\u001b[0m\u001b[90m \u001b[0m\n"
      ]
     },
     "metadata": {},
     "output_type": "display_data"
    },
    {
     "data": {
      "text/html": [
       "<pre style=\"white-space:pre;overflow-x:auto;line-height:normal;font-family:Menlo,'DejaVu Sans Mono',consolas,'Courier New',monospace\"><span style=\"color: #808080; text-decoration-color: #808080; font-weight: bold\">[</span><span style=\"color: #808080; text-decoration-color: #808080\">URL_SEED</span><span style=\"color: #808080; text-decoration-color: #808080; font-weight: bold\">]</span><span style=\"color: #808080; text-decoration-color: #808080\"> ℹ Redirecting from </span><span style=\"color: #808080; text-decoration-color: #808080; text-decoration: underline\">https://docs.python.org/3.7</span><span style=\"color: #808080; text-decoration-color: #808080\"> to </span><span style=\"color: #808080; text-decoration-color: #808080; text-decoration: underline\">https://docs.python.org/3.7/</span><span style=\"color: #808080; text-decoration-color: #808080\"> </span>\n",
       "</pre>\n"
      ],
      "text/plain": [
       "\u001b[1;90m[\u001b[0m\u001b[90mURL_SEED\u001b[0m\u001b[1;90m]\u001b[0m\u001b[90m ℹ Redirecting from \u001b[0m\u001b[4;90mhttps://docs.python.org/3.7\u001b[0m\u001b[90m to \u001b[0m\u001b[4;90mhttps://docs.python.org/3.7/\u001b[0m\u001b[90m \u001b[0m\n"
      ]
     },
     "metadata": {},
     "output_type": "display_data"
    },
    {
     "data": {
      "text/html": [
       "<pre style=\"white-space:pre;overflow-x:auto;line-height:normal;font-family:Menlo,'DejaVu Sans Mono',consolas,'Courier New',monospace\"><span style=\"color: #008080; text-decoration-color: #008080; font-weight: bold\">[</span><span style=\"color: #008080; text-decoration-color: #008080\">URL_SEED</span><span style=\"color: #008080; text-decoration-color: #008080; font-weight: bold\">]</span><span style=\"color: #008080; text-decoration-color: #008080\"> ℹ HEAD VALID for </span><span style=\"color: #008080; text-decoration-color: #008080; text-decoration: underline\">https://docs.python.org/3.11/</span><span style=\"color: #008080; text-decoration-color: #008080\"> </span>\n",
       "</pre>\n"
      ],
      "text/plain": [
       "\u001b[1;36m[\u001b[0m\u001b[36mURL_SEED\u001b[0m\u001b[1;36m]\u001b[0m\u001b[36m ℹ HEAD VALID for \u001b[0m\u001b[4;36mhttps://docs.python.org/3.11/\u001b[0m\u001b[36m \u001b[0m\n"
      ]
     },
     "metadata": {},
     "output_type": "display_data"
    },
    {
     "data": {
      "text/html": [
       "<pre style=\"white-space:pre;overflow-x:auto;line-height:normal;font-family:Menlo,'DejaVu Sans Mono',consolas,'Courier New',monospace\"><span style=\"color: #008080; text-decoration-color: #008080; font-weight: bold\">[</span><span style=\"color: #008080; text-decoration-color: #008080\">URL_SEED</span><span style=\"color: #008080; text-decoration-color: #008080; font-weight: bold\">]</span><span style=\"color: #008080; text-decoration-color: #008080\"> ℹ HEAD VALID for </span><span style=\"color: #008080; text-decoration-color: #008080; text-decoration: underline\">https://docs.python.org/3.10/</span><span style=\"color: #008080; text-decoration-color: #008080\"> </span>\n",
       "</pre>\n"
      ],
      "text/plain": [
       "\u001b[1;36m[\u001b[0m\u001b[36mURL_SEED\u001b[0m\u001b[1;36m]\u001b[0m\u001b[36m ℹ HEAD VALID for \u001b[0m\u001b[4;36mhttps://docs.python.org/3.10/\u001b[0m\u001b[36m \u001b[0m\n"
      ]
     },
     "metadata": {},
     "output_type": "display_data"
    },
    {
     "data": {
      "text/html": [
       "<pre style=\"white-space:pre;overflow-x:auto;line-height:normal;font-family:Menlo,'DejaVu Sans Mono',consolas,'Courier New',monospace\"><span style=\"color: #808080; text-decoration-color: #808080; font-weight: bold\">[</span><span style=\"color: #808080; text-decoration-color: #808080\">URL_SEED</span><span style=\"color: #808080; text-decoration-color: #808080; font-weight: bold\">]</span><span style=\"color: #808080; text-decoration-color: #808080\"> ℹ Fetching head for </span><span style=\"color: #808080; text-decoration-color: #808080; text-decoration: underline\">https://docs.python.org/3.6</span><span style=\"color: #808080; text-decoration-color: #808080\"> </span>\n",
       "</pre>\n"
      ],
      "text/plain": [
       "\u001b[1;90m[\u001b[0m\u001b[90mURL_SEED\u001b[0m\u001b[1;90m]\u001b[0m\u001b[90m ℹ Fetching head for \u001b[0m\u001b[4;90mhttps://docs.python.org/3.6\u001b[0m\u001b[90m \u001b[0m\n"
      ]
     },
     "metadata": {},
     "output_type": "display_data"
    },
    {
     "data": {
      "text/html": [
       "<pre style=\"white-space:pre;overflow-x:auto;line-height:normal;font-family:Menlo,'DejaVu Sans Mono',consolas,'Courier New',monospace\"><span style=\"color: #808080; text-decoration-color: #808080; font-weight: bold\">[</span><span style=\"color: #808080; text-decoration-color: #808080\">URL_SEED</span><span style=\"color: #808080; text-decoration-color: #808080; font-weight: bold\">]</span><span style=\"color: #808080; text-decoration-color: #808080\"> ℹ Fetching head for </span><span style=\"color: #808080; text-decoration-color: #808080; text-decoration: underline\">https://docs.python.org/3.5</span><span style=\"color: #808080; text-decoration-color: #808080\"> </span>\n",
       "</pre>\n"
      ],
      "text/plain": [
       "\u001b[1;90m[\u001b[0m\u001b[90mURL_SEED\u001b[0m\u001b[1;90m]\u001b[0m\u001b[90m ℹ Fetching head for \u001b[0m\u001b[4;90mhttps://docs.python.org/3.5\u001b[0m\u001b[90m \u001b[0m\n"
      ]
     },
     "metadata": {},
     "output_type": "display_data"
    },
    {
     "data": {
      "text/html": [
       "<pre style=\"white-space:pre;overflow-x:auto;line-height:normal;font-family:Menlo,'DejaVu Sans Mono',consolas,'Courier New',monospace\"><span style=\"color: #008080; text-decoration-color: #008080; font-weight: bold\">[</span><span style=\"color: #008080; text-decoration-color: #008080\">URL_SEED</span><span style=\"color: #008080; text-decoration-color: #008080; font-weight: bold\">]</span><span style=\"color: #008080; text-decoration-color: #008080\"> ℹ HEAD VALID for </span><span style=\"color: #008080; text-decoration-color: #008080; text-decoration: underline\">https://docs.python.org/3.8/</span><span style=\"color: #008080; text-decoration-color: #008080\"> </span>\n",
       "</pre>\n"
      ],
      "text/plain": [
       "\u001b[1;36m[\u001b[0m\u001b[36mURL_SEED\u001b[0m\u001b[1;36m]\u001b[0m\u001b[36m ℹ HEAD VALID for \u001b[0m\u001b[4;36mhttps://docs.python.org/3.8/\u001b[0m\u001b[36m \u001b[0m\n"
      ]
     },
     "metadata": {},
     "output_type": "display_data"
    },
    {
     "data": {
      "text/html": [
       "<pre style=\"white-space:pre;overflow-x:auto;line-height:normal;font-family:Menlo,'DejaVu Sans Mono',consolas,'Courier New',monospace\"><span style=\"color: #008080; text-decoration-color: #008080; font-weight: bold\">[</span><span style=\"color: #008080; text-decoration-color: #008080\">URL_SEED</span><span style=\"color: #008080; text-decoration-color: #008080; font-weight: bold\">]</span><span style=\"color: #008080; text-decoration-color: #008080\"> ℹ HEAD VALID for </span><span style=\"color: #008080; text-decoration-color: #008080; text-decoration: underline\">https://docs.python.org/3.9/</span><span style=\"color: #008080; text-decoration-color: #008080\"> </span>\n",
       "</pre>\n"
      ],
      "text/plain": [
       "\u001b[1;36m[\u001b[0m\u001b[36mURL_SEED\u001b[0m\u001b[1;36m]\u001b[0m\u001b[36m ℹ HEAD VALID for \u001b[0m\u001b[4;36mhttps://docs.python.org/3.9/\u001b[0m\u001b[36m \u001b[0m\n"
      ]
     },
     "metadata": {},
     "output_type": "display_data"
    },
    {
     "data": {
      "text/html": [
       "<pre style=\"white-space:pre;overflow-x:auto;line-height:normal;font-family:Menlo,'DejaVu Sans Mono',consolas,'Courier New',monospace\"><span style=\"color: #808080; text-decoration-color: #808080; font-weight: bold\">[</span><span style=\"color: #808080; text-decoration-color: #808080\">URL_SEED</span><span style=\"color: #808080; text-decoration-color: #808080; font-weight: bold\">]</span><span style=\"color: #808080; text-decoration-color: #808080\"> ℹ Fetching head for </span><span style=\"color: #808080; text-decoration-color: #808080; text-decoration: underline\">https://docs.python.org/3.4</span><span style=\"color: #808080; text-decoration-color: #808080\"> </span>\n",
       "</pre>\n"
      ],
      "text/plain": [
       "\u001b[1;90m[\u001b[0m\u001b[90mURL_SEED\u001b[0m\u001b[1;90m]\u001b[0m\u001b[90m ℹ Fetching head for \u001b[0m\u001b[4;90mhttps://docs.python.org/3.4\u001b[0m\u001b[90m \u001b[0m\n"
      ]
     },
     "metadata": {},
     "output_type": "display_data"
    },
    {
     "data": {
      "text/html": [
       "<pre style=\"white-space:pre;overflow-x:auto;line-height:normal;font-family:Menlo,'DejaVu Sans Mono',consolas,'Courier New',monospace\"><span style=\"color: #808080; text-decoration-color: #808080; font-weight: bold\">[</span><span style=\"color: #808080; text-decoration-color: #808080\">URL_SEED</span><span style=\"color: #808080; text-decoration-color: #808080; font-weight: bold\">]</span><span style=\"color: #808080; text-decoration-color: #808080\"> ℹ Fetching head for </span><span style=\"color: #808080; text-decoration-color: #808080; text-decoration: underline\">https://docs.python.org/3.3</span><span style=\"color: #808080; text-decoration-color: #808080\"> </span>\n",
       "</pre>\n"
      ],
      "text/plain": [
       "\u001b[1;90m[\u001b[0m\u001b[90mURL_SEED\u001b[0m\u001b[1;90m]\u001b[0m\u001b[90m ℹ Fetching head for \u001b[0m\u001b[4;90mhttps://docs.python.org/3.3\u001b[0m\u001b[90m \u001b[0m\n"
      ]
     },
     "metadata": {},
     "output_type": "display_data"
    },
    {
     "data": {
      "text/html": [
       "<pre style=\"white-space:pre;overflow-x:auto;line-height:normal;font-family:Menlo,'DejaVu Sans Mono',consolas,'Courier New',monospace\"><span style=\"color: #808080; text-decoration-color: #808080; font-weight: bold\">[</span><span style=\"color: #808080; text-decoration-color: #808080\">URL_SEED</span><span style=\"color: #808080; text-decoration-color: #808080; font-weight: bold\">]</span><span style=\"color: #808080; text-decoration-color: #808080\"> ℹ Redirecting from </span><span style=\"color: #808080; text-decoration-color: #808080; text-decoration: underline\">https://docs.python.org/3.6</span><span style=\"color: #808080; text-decoration-color: #808080\"> to </span><span style=\"color: #808080; text-decoration-color: #808080; text-decoration: underline\">https://docs.python.org/3.6/</span><span style=\"color: #808080; text-decoration-color: #808080\"> </span>\n",
       "</pre>\n"
      ],
      "text/plain": [
       "\u001b[1;90m[\u001b[0m\u001b[90mURL_SEED\u001b[0m\u001b[1;90m]\u001b[0m\u001b[90m ℹ Redirecting from \u001b[0m\u001b[4;90mhttps://docs.python.org/3.6\u001b[0m\u001b[90m to \u001b[0m\u001b[4;90mhttps://docs.python.org/3.6/\u001b[0m\u001b[90m \u001b[0m\n"
      ]
     },
     "metadata": {},
     "output_type": "display_data"
    },
    {
     "data": {
      "text/html": [
       "<pre style=\"white-space:pre;overflow-x:auto;line-height:normal;font-family:Menlo,'DejaVu Sans Mono',consolas,'Courier New',monospace\"><span style=\"color: #008080; text-decoration-color: #008080; font-weight: bold\">[</span><span style=\"color: #008080; text-decoration-color: #008080\">URL_SEED</span><span style=\"color: #008080; text-decoration-color: #008080; font-weight: bold\">]</span><span style=\"color: #008080; text-decoration-color: #008080\"> ℹ HEAD VALID for </span><span style=\"color: #008080; text-decoration-color: #008080; text-decoration: underline\">https://docs.python.org/3.7/</span><span style=\"color: #008080; text-decoration-color: #008080\"> </span>\n",
       "</pre>\n"
      ],
      "text/plain": [
       "\u001b[1;36m[\u001b[0m\u001b[36mURL_SEED\u001b[0m\u001b[1;36m]\u001b[0m\u001b[36m ℹ HEAD VALID for \u001b[0m\u001b[4;36mhttps://docs.python.org/3.7/\u001b[0m\u001b[36m \u001b[0m\n"
      ]
     },
     "metadata": {},
     "output_type": "display_data"
    },
    {
     "data": {
      "text/html": [
       "<pre style=\"white-space:pre;overflow-x:auto;line-height:normal;font-family:Menlo,'DejaVu Sans Mono',consolas,'Courier New',monospace\"><span style=\"color: #808080; text-decoration-color: #808080; font-weight: bold\">[</span><span style=\"color: #808080; text-decoration-color: #808080\">URL_SEED</span><span style=\"color: #808080; text-decoration-color: #808080; font-weight: bold\">]</span><span style=\"color: #808080; text-decoration-color: #808080\"> ℹ Fetching head for </span><span style=\"color: #808080; text-decoration-color: #808080; text-decoration: underline\">https://docs.python.org/3.2</span><span style=\"color: #808080; text-decoration-color: #808080\"> </span>\n",
       "</pre>\n"
      ],
      "text/plain": [
       "\u001b[1;90m[\u001b[0m\u001b[90mURL_SEED\u001b[0m\u001b[1;90m]\u001b[0m\u001b[90m ℹ Fetching head for \u001b[0m\u001b[4;90mhttps://docs.python.org/3.2\u001b[0m\u001b[90m \u001b[0m\n"
      ]
     },
     "metadata": {},
     "output_type": "display_data"
    },
    {
     "data": {
      "text/html": [
       "<pre style=\"white-space:pre;overflow-x:auto;line-height:normal;font-family:Menlo,'DejaVu Sans Mono',consolas,'Courier New',monospace\"><span style=\"color: #808080; text-decoration-color: #808080; font-weight: bold\">[</span><span style=\"color: #808080; text-decoration-color: #808080\">URL_SEED</span><span style=\"color: #808080; text-decoration-color: #808080; font-weight: bold\">]</span><span style=\"color: #808080; text-decoration-color: #808080\"> ℹ Redirecting from </span><span style=\"color: #808080; text-decoration-color: #808080; text-decoration: underline\">https://docs.python.org/3.3</span><span style=\"color: #808080; text-decoration-color: #808080\"> to </span><span style=\"color: #808080; text-decoration-color: #808080; text-decoration: underline\">https://docs.python.org/3.3/</span><span style=\"color: #808080; text-decoration-color: #808080\"> </span>\n",
       "</pre>\n"
      ],
      "text/plain": [
       "\u001b[1;90m[\u001b[0m\u001b[90mURL_SEED\u001b[0m\u001b[1;90m]\u001b[0m\u001b[90m ℹ Redirecting from \u001b[0m\u001b[4;90mhttps://docs.python.org/3.3\u001b[0m\u001b[90m to \u001b[0m\u001b[4;90mhttps://docs.python.org/3.3/\u001b[0m\u001b[90m \u001b[0m\n"
      ]
     },
     "metadata": {},
     "output_type": "display_data"
    },
    {
     "data": {
      "text/html": [
       "<pre style=\"white-space:pre;overflow-x:auto;line-height:normal;font-family:Menlo,'DejaVu Sans Mono',consolas,'Courier New',monospace\"><span style=\"color: #808080; text-decoration-color: #808080; font-weight: bold\">[</span><span style=\"color: #808080; text-decoration-color: #808080\">URL_SEED</span><span style=\"color: #808080; text-decoration-color: #808080; font-weight: bold\">]</span><span style=\"color: #808080; text-decoration-color: #808080\"> ℹ Redirecting from </span><span style=\"color: #808080; text-decoration-color: #808080; text-decoration: underline\">https://docs.python.org/3.2</span><span style=\"color: #808080; text-decoration-color: #808080\"> to </span><span style=\"color: #808080; text-decoration-color: #808080; text-decoration: underline\">https://docs.python.org/3.2/</span><span style=\"color: #808080; text-decoration-color: #808080\"> </span>\n",
       "</pre>\n"
      ],
      "text/plain": [
       "\u001b[1;90m[\u001b[0m\u001b[90mURL_SEED\u001b[0m\u001b[1;90m]\u001b[0m\u001b[90m ℹ Redirecting from \u001b[0m\u001b[4;90mhttps://docs.python.org/3.2\u001b[0m\u001b[90m to \u001b[0m\u001b[4;90mhttps://docs.python.org/3.2/\u001b[0m\u001b[90m \u001b[0m\n"
      ]
     },
     "metadata": {},
     "output_type": "display_data"
    },
    {
     "data": {
      "text/html": [
       "<pre style=\"white-space:pre;overflow-x:auto;line-height:normal;font-family:Menlo,'DejaVu Sans Mono',consolas,'Courier New',monospace\"><span style=\"color: #808080; text-decoration-color: #808080; font-weight: bold\">[</span><span style=\"color: #808080; text-decoration-color: #808080\">URL_SEED</span><span style=\"color: #808080; text-decoration-color: #808080; font-weight: bold\">]</span><span style=\"color: #808080; text-decoration-color: #808080\"> ℹ Redirecting from </span><span style=\"color: #808080; text-decoration-color: #808080; text-decoration: underline\">https://docs.python.org/3.5</span><span style=\"color: #808080; text-decoration-color: #808080\"> to </span><span style=\"color: #808080; text-decoration-color: #808080; text-decoration: underline\">https://docs.python.org/3.5/</span><span style=\"color: #808080; text-decoration-color: #808080\"> </span>\n",
       "</pre>\n"
      ],
      "text/plain": [
       "\u001b[1;90m[\u001b[0m\u001b[90mURL_SEED\u001b[0m\u001b[1;90m]\u001b[0m\u001b[90m ℹ Redirecting from \u001b[0m\u001b[4;90mhttps://docs.python.org/3.5\u001b[0m\u001b[90m to \u001b[0m\u001b[4;90mhttps://docs.python.org/3.5/\u001b[0m\u001b[90m \u001b[0m\n"
      ]
     },
     "metadata": {},
     "output_type": "display_data"
    },
    {
     "data": {
      "text/html": [
       "<pre style=\"white-space:pre;overflow-x:auto;line-height:normal;font-family:Menlo,'DejaVu Sans Mono',consolas,'Courier New',monospace\"><span style=\"color: #808080; text-decoration-color: #808080; font-weight: bold\">[</span><span style=\"color: #808080; text-decoration-color: #808080\">URL_SEED</span><span style=\"color: #808080; text-decoration-color: #808080; font-weight: bold\">]</span><span style=\"color: #808080; text-decoration-color: #808080\"> ℹ Redirecting from </span><span style=\"color: #808080; text-decoration-color: #808080; text-decoration: underline\">https://docs.python.org/3.4</span><span style=\"color: #808080; text-decoration-color: #808080\"> to </span><span style=\"color: #808080; text-decoration-color: #808080; text-decoration: underline\">https://docs.python.org/3.4/</span><span style=\"color: #808080; text-decoration-color: #808080\"> </span>\n",
       "</pre>\n"
      ],
      "text/plain": [
       "\u001b[1;90m[\u001b[0m\u001b[90mURL_SEED\u001b[0m\u001b[1;90m]\u001b[0m\u001b[90m ℹ Redirecting from \u001b[0m\u001b[4;90mhttps://docs.python.org/3.4\u001b[0m\u001b[90m to \u001b[0m\u001b[4;90mhttps://docs.python.org/3.4/\u001b[0m\u001b[90m \u001b[0m\n"
      ]
     },
     "metadata": {},
     "output_type": "display_data"
    },
    {
     "data": {
      "text/html": [
       "<pre style=\"white-space:pre;overflow-x:auto;line-height:normal;font-family:Menlo,'DejaVu Sans Mono',consolas,'Courier New',monospace\"><span style=\"color: #008080; text-decoration-color: #008080; font-weight: bold\">[</span><span style=\"color: #008080; text-decoration-color: #008080\">URL_SEED</span><span style=\"color: #008080; text-decoration-color: #008080; font-weight: bold\">]</span><span style=\"color: #008080; text-decoration-color: #008080\"> ℹ HEAD VALID for </span><span style=\"color: #008080; text-decoration-color: #008080; text-decoration: underline\">https://docs.python.org/3.3/</span><span style=\"color: #008080; text-decoration-color: #008080\"> </span>\n",
       "</pre>\n"
      ],
      "text/plain": [
       "\u001b[1;36m[\u001b[0m\u001b[36mURL_SEED\u001b[0m\u001b[1;36m]\u001b[0m\u001b[36m ℹ HEAD VALID for \u001b[0m\u001b[4;36mhttps://docs.python.org/3.3/\u001b[0m\u001b[36m \u001b[0m\n"
      ]
     },
     "metadata": {},
     "output_type": "display_data"
    },
    {
     "data": {
      "text/html": [
       "<pre style=\"white-space:pre;overflow-x:auto;line-height:normal;font-family:Menlo,'DejaVu Sans Mono',consolas,'Courier New',monospace\"><span style=\"color: #808080; text-decoration-color: #808080; font-weight: bold\">[</span><span style=\"color: #808080; text-decoration-color: #808080\">URL_SEED</span><span style=\"color: #808080; text-decoration-color: #808080; font-weight: bold\">]</span><span style=\"color: #808080; text-decoration-color: #808080\"> ℹ Fetching head for </span><span style=\"color: #808080; text-decoration-color: #808080; text-decoration: underline\">https://docs.python.org/3.1</span><span style=\"color: #808080; text-decoration-color: #808080\"> </span>\n",
       "</pre>\n"
      ],
      "text/plain": [
       "\u001b[1;90m[\u001b[0m\u001b[90mURL_SEED\u001b[0m\u001b[1;90m]\u001b[0m\u001b[90m ℹ Fetching head for \u001b[0m\u001b[4;90mhttps://docs.python.org/3.1\u001b[0m\u001b[90m \u001b[0m\n"
      ]
     },
     "metadata": {},
     "output_type": "display_data"
    },
    {
     "data": {
      "text/html": [
       "<pre style=\"white-space:pre;overflow-x:auto;line-height:normal;font-family:Menlo,'DejaVu Sans Mono',consolas,'Courier New',monospace\"><span style=\"color: #008080; text-decoration-color: #008080; font-weight: bold\">[</span><span style=\"color: #008080; text-decoration-color: #008080\">URL_SEED</span><span style=\"color: #008080; text-decoration-color: #008080; font-weight: bold\">]</span><span style=\"color: #008080; text-decoration-color: #008080\"> ℹ HEAD VALID for </span><span style=\"color: #008080; text-decoration-color: #008080; text-decoration: underline\">https://docs.python.org/3.6/</span><span style=\"color: #008080; text-decoration-color: #008080\"> </span>\n",
       "</pre>\n"
      ],
      "text/plain": [
       "\u001b[1;36m[\u001b[0m\u001b[36mURL_SEED\u001b[0m\u001b[1;36m]\u001b[0m\u001b[36m ℹ HEAD VALID for \u001b[0m\u001b[4;36mhttps://docs.python.org/3.6/\u001b[0m\u001b[36m \u001b[0m\n"
      ]
     },
     "metadata": {},
     "output_type": "display_data"
    },
    {
     "data": {
      "text/html": [
       "<pre style=\"white-space:pre;overflow-x:auto;line-height:normal;font-family:Menlo,'DejaVu Sans Mono',consolas,'Courier New',monospace\"><span style=\"color: #008080; text-decoration-color: #008080; font-weight: bold\">[</span><span style=\"color: #008080; text-decoration-color: #008080\">URL_SEED</span><span style=\"color: #008080; text-decoration-color: #008080; font-weight: bold\">]</span><span style=\"color: #008080; text-decoration-color: #008080\"> ℹ HEAD VALID for </span><span style=\"color: #008080; text-decoration-color: #008080; text-decoration: underline\">https://docs.python.org/3.2/</span><span style=\"color: #008080; text-decoration-color: #008080\"> </span>\n",
       "</pre>\n"
      ],
      "text/plain": [
       "\u001b[1;36m[\u001b[0m\u001b[36mURL_SEED\u001b[0m\u001b[1;36m]\u001b[0m\u001b[36m ℹ HEAD VALID for \u001b[0m\u001b[4;36mhttps://docs.python.org/3.2/\u001b[0m\u001b[36m \u001b[0m\n"
      ]
     },
     "metadata": {},
     "output_type": "display_data"
    },
    {
     "data": {
      "text/html": [
       "<pre style=\"white-space:pre;overflow-x:auto;line-height:normal;font-family:Menlo,'DejaVu Sans Mono',consolas,'Courier New',monospace\"><span style=\"color: #808080; text-decoration-color: #808080; font-weight: bold\">[</span><span style=\"color: #808080; text-decoration-color: #808080\">URL_SEED</span><span style=\"color: #808080; text-decoration-color: #808080; font-weight: bold\">]</span><span style=\"color: #808080; text-decoration-color: #808080\"> ℹ Fetching head for </span><span style=\"color: #808080; text-decoration-color: #808080; text-decoration: underline\">https://docs.python.org/3.0</span><span style=\"color: #808080; text-decoration-color: #808080\"> </span>\n",
       "</pre>\n"
      ],
      "text/plain": [
       "\u001b[1;90m[\u001b[0m\u001b[90mURL_SEED\u001b[0m\u001b[1;90m]\u001b[0m\u001b[90m ℹ Fetching head for \u001b[0m\u001b[4;90mhttps://docs.python.org/3.0\u001b[0m\u001b[90m \u001b[0m\n"
      ]
     },
     "metadata": {},
     "output_type": "display_data"
    },
    {
     "data": {
      "text/html": [
       "<pre style=\"white-space:pre;overflow-x:auto;line-height:normal;font-family:Menlo,'DejaVu Sans Mono',consolas,'Courier New',monospace\"><span style=\"color: #808080; text-decoration-color: #808080; font-weight: bold\">[</span><span style=\"color: #808080; text-decoration-color: #808080\">URL_SEED</span><span style=\"color: #808080; text-decoration-color: #808080; font-weight: bold\">]</span><span style=\"color: #808080; text-decoration-color: #808080\"> ℹ Fetching head for </span><span style=\"color: #808080; text-decoration-color: #808080; text-decoration: underline\">https://docs.python.org/2.7</span><span style=\"color: #808080; text-decoration-color: #808080\"> </span>\n",
       "</pre>\n"
      ],
      "text/plain": [
       "\u001b[1;90m[\u001b[0m\u001b[90mURL_SEED\u001b[0m\u001b[1;90m]\u001b[0m\u001b[90m ℹ Fetching head for \u001b[0m\u001b[4;90mhttps://docs.python.org/2.7\u001b[0m\u001b[90m \u001b[0m\n"
      ]
     },
     "metadata": {},
     "output_type": "display_data"
    },
    {
     "data": {
      "text/html": [
       "<pre style=\"white-space:pre;overflow-x:auto;line-height:normal;font-family:Menlo,'DejaVu Sans Mono',consolas,'Courier New',monospace\"><span style=\"color: #808080; text-decoration-color: #808080; font-weight: bold\">[</span><span style=\"color: #808080; text-decoration-color: #808080\">URL_SEED</span><span style=\"color: #808080; text-decoration-color: #808080; font-weight: bold\">]</span><span style=\"color: #808080; text-decoration-color: #808080\"> ℹ Redirecting from </span><span style=\"color: #808080; text-decoration-color: #808080; text-decoration: underline\">https://docs.python.org/3.1</span><span style=\"color: #808080; text-decoration-color: #808080\"> to </span><span style=\"color: #808080; text-decoration-color: #808080; text-decoration: underline\">https://docs.python.org/3.1/</span><span style=\"color: #808080; text-decoration-color: #808080\"> </span>\n",
       "</pre>\n"
      ],
      "text/plain": [
       "\u001b[1;90m[\u001b[0m\u001b[90mURL_SEED\u001b[0m\u001b[1;90m]\u001b[0m\u001b[90m ℹ Redirecting from \u001b[0m\u001b[4;90mhttps://docs.python.org/3.1\u001b[0m\u001b[90m to \u001b[0m\u001b[4;90mhttps://docs.python.org/3.1/\u001b[0m\u001b[90m \u001b[0m\n"
      ]
     },
     "metadata": {},
     "output_type": "display_data"
    },
    {
     "data": {
      "text/html": [
       "<pre style=\"white-space:pre;overflow-x:auto;line-height:normal;font-family:Menlo,'DejaVu Sans Mono',consolas,'Courier New',monospace\"><span style=\"color: #808080; text-decoration-color: #808080; font-weight: bold\">[</span><span style=\"color: #808080; text-decoration-color: #808080\">URL_SEED</span><span style=\"color: #808080; text-decoration-color: #808080; font-weight: bold\">]</span><span style=\"color: #808080; text-decoration-color: #808080\"> ℹ Redirecting from </span><span style=\"color: #808080; text-decoration-color: #808080; text-decoration: underline\">https://docs.python.org/3.0</span><span style=\"color: #808080; text-decoration-color: #808080\"> to </span><span style=\"color: #808080; text-decoration-color: #808080; text-decoration: underline\">https://docs.python.org/3.0/</span><span style=\"color: #808080; text-decoration-color: #808080\"> </span>\n",
       "</pre>\n"
      ],
      "text/plain": [
       "\u001b[1;90m[\u001b[0m\u001b[90mURL_SEED\u001b[0m\u001b[1;90m]\u001b[0m\u001b[90m ℹ Redirecting from \u001b[0m\u001b[4;90mhttps://docs.python.org/3.0\u001b[0m\u001b[90m to \u001b[0m\u001b[4;90mhttps://docs.python.org/3.0/\u001b[0m\u001b[90m \u001b[0m\n"
      ]
     },
     "metadata": {},
     "output_type": "display_data"
    },
    {
     "data": {
      "text/html": [
       "<pre style=\"white-space:pre;overflow-x:auto;line-height:normal;font-family:Menlo,'DejaVu Sans Mono',consolas,'Courier New',monospace\"><span style=\"color: #008080; text-decoration-color: #008080; font-weight: bold\">[</span><span style=\"color: #008080; text-decoration-color: #008080\">URL_SEED</span><span style=\"color: #008080; text-decoration-color: #008080; font-weight: bold\">]</span><span style=\"color: #008080; text-decoration-color: #008080\"> ℹ HEAD VALID for </span><span style=\"color: #008080; text-decoration-color: #008080; text-decoration: underline\">https://docs.python.org/3.5/</span><span style=\"color: #008080; text-decoration-color: #008080\"> </span>\n",
       "</pre>\n"
      ],
      "text/plain": [
       "\u001b[1;36m[\u001b[0m\u001b[36mURL_SEED\u001b[0m\u001b[1;36m]\u001b[0m\u001b[36m ℹ HEAD VALID for \u001b[0m\u001b[4;36mhttps://docs.python.org/3.5/\u001b[0m\u001b[36m \u001b[0m\n"
      ]
     },
     "metadata": {},
     "output_type": "display_data"
    },
    {
     "data": {
      "text/html": [
       "<pre style=\"white-space:pre;overflow-x:auto;line-height:normal;font-family:Menlo,'DejaVu Sans Mono',consolas,'Courier New',monospace\"><span style=\"color: #808080; text-decoration-color: #808080; font-weight: bold\">[</span><span style=\"color: #808080; text-decoration-color: #808080\">URL_SEED</span><span style=\"color: #808080; text-decoration-color: #808080; font-weight: bold\">]</span><span style=\"color: #808080; text-decoration-color: #808080\"> ℹ Fetching head for </span><span style=\"color: #808080; text-decoration-color: #808080; text-decoration: underline\">https://docs.python.org/2.6</span><span style=\"color: #808080; text-decoration-color: #808080\"> </span>\n",
       "</pre>\n"
      ],
      "text/plain": [
       "\u001b[1;90m[\u001b[0m\u001b[90mURL_SEED\u001b[0m\u001b[1;90m]\u001b[0m\u001b[90m ℹ Fetching head for \u001b[0m\u001b[4;90mhttps://docs.python.org/2.6\u001b[0m\u001b[90m \u001b[0m\n"
      ]
     },
     "metadata": {},
     "output_type": "display_data"
    },
    {
     "data": {
      "text/html": [
       "<pre style=\"white-space:pre;overflow-x:auto;line-height:normal;font-family:Menlo,'DejaVu Sans Mono',consolas,'Courier New',monospace\"><span style=\"color: #808080; text-decoration-color: #808080; font-weight: bold\">[</span><span style=\"color: #808080; text-decoration-color: #808080\">URL_SEED</span><span style=\"color: #808080; text-decoration-color: #808080; font-weight: bold\">]</span><span style=\"color: #808080; text-decoration-color: #808080\"> ℹ Redirecting from </span><span style=\"color: #808080; text-decoration-color: #808080; text-decoration: underline\">https://docs.python.org/2.7</span><span style=\"color: #808080; text-decoration-color: #808080\"> to </span><span style=\"color: #808080; text-decoration-color: #808080; text-decoration: underline\">https://docs.python.org/2.7/</span><span style=\"color: #808080; text-decoration-color: #808080\"> </span>\n",
       "</pre>\n"
      ],
      "text/plain": [
       "\u001b[1;90m[\u001b[0m\u001b[90mURL_SEED\u001b[0m\u001b[1;90m]\u001b[0m\u001b[90m ℹ Redirecting from \u001b[0m\u001b[4;90mhttps://docs.python.org/2.7\u001b[0m\u001b[90m to \u001b[0m\u001b[4;90mhttps://docs.python.org/2.7/\u001b[0m\u001b[90m \u001b[0m\n"
      ]
     },
     "metadata": {},
     "output_type": "display_data"
    },
    {
     "data": {
      "text/html": [
       "<pre style=\"white-space:pre;overflow-x:auto;line-height:normal;font-family:Menlo,'DejaVu Sans Mono',consolas,'Courier New',monospace\"><span style=\"color: #008080; text-decoration-color: #008080; font-weight: bold\">[</span><span style=\"color: #008080; text-decoration-color: #008080\">URL_SEED</span><span style=\"color: #008080; text-decoration-color: #008080; font-weight: bold\">]</span><span style=\"color: #008080; text-decoration-color: #008080\"> ℹ HEAD VALID for </span><span style=\"color: #008080; text-decoration-color: #008080; text-decoration: underline\">https://docs.python.org/3.4/</span><span style=\"color: #008080; text-decoration-color: #008080\"> </span>\n",
       "</pre>\n"
      ],
      "text/plain": [
       "\u001b[1;36m[\u001b[0m\u001b[36mURL_SEED\u001b[0m\u001b[1;36m]\u001b[0m\u001b[36m ℹ HEAD VALID for \u001b[0m\u001b[4;36mhttps://docs.python.org/3.4/\u001b[0m\u001b[36m \u001b[0m\n"
      ]
     },
     "metadata": {},
     "output_type": "display_data"
    },
    {
     "data": {
      "text/html": [
       "<pre style=\"white-space:pre;overflow-x:auto;line-height:normal;font-family:Menlo,'DejaVu Sans Mono',consolas,'Courier New',monospace\"><span style=\"color: #808080; text-decoration-color: #808080; font-weight: bold\">[</span><span style=\"color: #808080; text-decoration-color: #808080\">URL_SEED</span><span style=\"color: #808080; text-decoration-color: #808080; font-weight: bold\">]</span><span style=\"color: #808080; text-decoration-color: #808080\"> ℹ Fetching head for </span><span style=\"color: #808080; text-decoration-color: #808080; text-decoration: underline\">https://www.python.org/doc/versions</span><span style=\"color: #808080; text-decoration-color: #808080\"> </span>\n",
       "</pre>\n"
      ],
      "text/plain": [
       "\u001b[1;90m[\u001b[0m\u001b[90mURL_SEED\u001b[0m\u001b[1;90m]\u001b[0m\u001b[90m ℹ Fetching head for \u001b[0m\u001b[4;90mhttps://www.python.org/doc/versions\u001b[0m\u001b[90m \u001b[0m\n"
      ]
     },
     "metadata": {},
     "output_type": "display_data"
    },
    {
     "data": {
      "text/html": [
       "<pre style=\"white-space:pre;overflow-x:auto;line-height:normal;font-family:Menlo,'DejaVu Sans Mono',consolas,'Courier New',monospace\"><span style=\"color: #008080; text-decoration-color: #008080; font-weight: bold\">[</span><span style=\"color: #008080; text-decoration-color: #008080\">URL_SEED</span><span style=\"color: #008080; text-decoration-color: #008080; font-weight: bold\">]</span><span style=\"color: #008080; text-decoration-color: #008080\"> ℹ HEAD VALID for </span><span style=\"color: #008080; text-decoration-color: #008080; text-decoration: underline\">https://docs.python.org/3.1/</span><span style=\"color: #008080; text-decoration-color: #008080\"> </span>\n",
       "</pre>\n"
      ],
      "text/plain": [
       "\u001b[1;36m[\u001b[0m\u001b[36mURL_SEED\u001b[0m\u001b[1;36m]\u001b[0m\u001b[36m ℹ HEAD VALID for \u001b[0m\u001b[4;36mhttps://docs.python.org/3.1/\u001b[0m\u001b[36m \u001b[0m\n"
      ]
     },
     "metadata": {},
     "output_type": "display_data"
    },
    {
     "data": {
      "text/html": [
       "<pre style=\"white-space:pre;overflow-x:auto;line-height:normal;font-family:Menlo,'DejaVu Sans Mono',consolas,'Courier New',monospace\"><span style=\"color: #808080; text-decoration-color: #808080; font-weight: bold\">[</span><span style=\"color: #808080; text-decoration-color: #808080\">URL_SEED</span><span style=\"color: #808080; text-decoration-color: #808080; font-weight: bold\">]</span><span style=\"color: #808080; text-decoration-color: #808080\"> ℹ Fetching head for </span><span style=\"color: #808080; text-decoration-color: #808080; text-decoration: underline\">https://peps.python.org/</span><span style=\"color: #808080; text-decoration-color: #808080\"> </span>\n",
       "</pre>\n"
      ],
      "text/plain": [
       "\u001b[1;90m[\u001b[0m\u001b[90mURL_SEED\u001b[0m\u001b[1;90m]\u001b[0m\u001b[90m ℹ Fetching head for \u001b[0m\u001b[4;90mhttps://peps.python.org/\u001b[0m\u001b[90m \u001b[0m\n"
      ]
     },
     "metadata": {},
     "output_type": "display_data"
    },
    {
     "data": {
      "text/html": [
       "<pre style=\"white-space:pre;overflow-x:auto;line-height:normal;font-family:Menlo,'DejaVu Sans Mono',consolas,'Courier New',monospace\"><span style=\"color: #808080; text-decoration-color: #808080; font-weight: bold\">[</span><span style=\"color: #808080; text-decoration-color: #808080\">URL_SEED</span><span style=\"color: #808080; text-decoration-color: #808080; font-weight: bold\">]</span><span style=\"color: #808080; text-decoration-color: #808080\"> ℹ Redirecting from </span><span style=\"color: #808080; text-decoration-color: #808080; text-decoration: underline\">https://docs.python.org/2.6</span><span style=\"color: #808080; text-decoration-color: #808080\"> to </span><span style=\"color: #808080; text-decoration-color: #808080; text-decoration: underline\">https://docs.python.org/2.6/</span><span style=\"color: #808080; text-decoration-color: #808080\"> </span>\n",
       "</pre>\n"
      ],
      "text/plain": [
       "\u001b[1;90m[\u001b[0m\u001b[90mURL_SEED\u001b[0m\u001b[1;90m]\u001b[0m\u001b[90m ℹ Redirecting from \u001b[0m\u001b[4;90mhttps://docs.python.org/2.6\u001b[0m\u001b[90m to \u001b[0m\u001b[4;90mhttps://docs.python.org/2.6/\u001b[0m\u001b[90m \u001b[0m\n"
      ]
     },
     "metadata": {},
     "output_type": "display_data"
    },
    {
     "data": {
      "text/html": [
       "<pre style=\"white-space:pre;overflow-x:auto;line-height:normal;font-family:Menlo,'DejaVu Sans Mono',consolas,'Courier New',monospace\"><span style=\"color: #008080; text-decoration-color: #008080; font-weight: bold\">[</span><span style=\"color: #008080; text-decoration-color: #008080\">URL_SEED</span><span style=\"color: #008080; text-decoration-color: #008080; font-weight: bold\">]</span><span style=\"color: #008080; text-decoration-color: #008080\"> ℹ HEAD VALID for </span><span style=\"color: #008080; text-decoration-color: #008080; text-decoration: underline\">https://docs.python.org/3.0/</span><span style=\"color: #008080; text-decoration-color: #008080\"> </span>\n",
       "</pre>\n"
      ],
      "text/plain": [
       "\u001b[1;36m[\u001b[0m\u001b[36mURL_SEED\u001b[0m\u001b[1;36m]\u001b[0m\u001b[36m ℹ HEAD VALID for \u001b[0m\u001b[4;36mhttps://docs.python.org/3.0/\u001b[0m\u001b[36m \u001b[0m\n"
      ]
     },
     "metadata": {},
     "output_type": "display_data"
    },
    {
     "data": {
      "text/html": [
       "<pre style=\"white-space:pre;overflow-x:auto;line-height:normal;font-family:Menlo,'DejaVu Sans Mono',consolas,'Courier New',monospace\"><span style=\"color: #808080; text-decoration-color: #808080; font-weight: bold\">[</span><span style=\"color: #808080; text-decoration-color: #808080\">URL_SEED</span><span style=\"color: #808080; text-decoration-color: #808080; font-weight: bold\">]</span><span style=\"color: #808080; text-decoration-color: #808080\"> ℹ Fetching head for </span><span style=\"color: #808080; text-decoration-color: #808080; text-decoration: underline\">https://wiki.python.org/moin/BeginnersGuide</span><span style=\"color: #808080; text-decoration-color: #808080\"> </span>\n",
       "</pre>\n"
      ],
      "text/plain": [
       "\u001b[1;90m[\u001b[0m\u001b[90mURL_SEED\u001b[0m\u001b[1;90m]\u001b[0m\u001b[90m ℹ Fetching head for \u001b[0m\u001b[4;90mhttps://wiki.python.org/moin/BeginnersGuide\u001b[0m\u001b[90m \u001b[0m\n"
      ]
     },
     "metadata": {},
     "output_type": "display_data"
    },
    {
     "data": {
      "text/html": [
       "<pre style=\"white-space:pre;overflow-x:auto;line-height:normal;font-family:Menlo,'DejaVu Sans Mono',consolas,'Courier New',monospace\"><span style=\"color: #808080; text-decoration-color: #808080; font-weight: bold\">[</span><span style=\"color: #808080; text-decoration-color: #808080\">URL_SEED</span><span style=\"color: #808080; text-decoration-color: #808080; font-weight: bold\">]</span><span style=\"color: #808080; text-decoration-color: #808080\"> ℹ Redirecting from </span><span style=\"color: #808080; text-decoration-color: #808080; text-decoration: underline\">https://www.python.org/doc/versions</span><span style=\"color: #808080; text-decoration-color: #808080\"> to </span><span style=\"color: #808080; text-decoration-color: #808080; text-decoration: underline\">https://www.python.org/doc/versions/</span><span style=\"color: #808080; text-decoration-color: #808080\"> </span>\n",
       "</pre>\n"
      ],
      "text/plain": [
       "\u001b[1;90m[\u001b[0m\u001b[90mURL_SEED\u001b[0m\u001b[1;90m]\u001b[0m\u001b[90m ℹ Redirecting from \u001b[0m\u001b[4;90mhttps://www.python.org/doc/versions\u001b[0m\u001b[90m to \u001b[0m\u001b[4;90mhttps://www.python.org/doc/versions/\u001b[0m\u001b[90m \u001b[0m\n"
      ]
     },
     "metadata": {},
     "output_type": "display_data"
    },
    {
     "data": {
      "text/html": [
       "<pre style=\"white-space:pre;overflow-x:auto;line-height:normal;font-family:Menlo,'DejaVu Sans Mono',consolas,'Courier New',monospace\"><span style=\"color: #808080; text-decoration-color: #808080; font-weight: bold\">[</span><span style=\"color: #808080; text-decoration-color: #808080\">URL_SEED</span><span style=\"color: #808080; text-decoration-color: #808080; font-weight: bold\">]</span><span style=\"color: #808080; text-decoration-color: #808080\"> ℹ Skipping bogus gzip for </span><span style=\"color: #808080; text-decoration-color: #808080; text-decoration: underline\">https://www.python.org/doc/versions/</span><span style=\"color: #808080; text-decoration-color: #808080\"> </span>\n",
       "</pre>\n"
      ],
      "text/plain": [
       "\u001b[1;90m[\u001b[0m\u001b[90mURL_SEED\u001b[0m\u001b[1;90m]\u001b[0m\u001b[90m ℹ Skipping bogus gzip for \u001b[0m\u001b[4;90mhttps://www.python.org/doc/versions/\u001b[0m\u001b[90m \u001b[0m\n"
      ]
     },
     "metadata": {},
     "output_type": "display_data"
    },
    {
     "data": {
      "text/html": [
       "<pre style=\"white-space:pre;overflow-x:auto;line-height:normal;font-family:Menlo,'DejaVu Sans Mono',consolas,'Courier New',monospace\"><span style=\"color: #008080; text-decoration-color: #008080; font-weight: bold\">[</span><span style=\"color: #008080; text-decoration-color: #008080\">URL_SEED</span><span style=\"color: #008080; text-decoration-color: #008080; font-weight: bold\">]</span><span style=\"color: #008080; text-decoration-color: #008080\"> ℹ HEAD VALID for </span><span style=\"color: #008080; text-decoration-color: #008080; text-decoration: underline\">https://www.python.org/doc/versions/</span><span style=\"color: #008080; text-decoration-color: #008080\"> </span>\n",
       "</pre>\n"
      ],
      "text/plain": [
       "\u001b[1;36m[\u001b[0m\u001b[36mURL_SEED\u001b[0m\u001b[1;36m]\u001b[0m\u001b[36m ℹ HEAD VALID for \u001b[0m\u001b[4;36mhttps://www.python.org/doc/versions/\u001b[0m\u001b[36m \u001b[0m\n"
      ]
     },
     "metadata": {},
     "output_type": "display_data"
    },
    {
     "data": {
      "text/html": [
       "<pre style=\"white-space:pre;overflow-x:auto;line-height:normal;font-family:Menlo,'DejaVu Sans Mono',consolas,'Courier New',monospace\"><span style=\"color: #808080; text-decoration-color: #808080; font-weight: bold\">[</span><span style=\"color: #808080; text-decoration-color: #808080\">URL_SEED</span><span style=\"color: #808080; text-decoration-color: #808080; font-weight: bold\">]</span><span style=\"color: #808080; text-decoration-color: #808080\"> ℹ Fetching head for </span><span style=\"color: #808080; text-decoration-color: #808080; text-decoration: underline\">https://wiki.python.org/moin/PythonBooks</span><span style=\"color: #808080; text-decoration-color: #808080\"> </span>\n",
       "</pre>\n"
      ],
      "text/plain": [
       "\u001b[1;90m[\u001b[0m\u001b[90mURL_SEED\u001b[0m\u001b[1;90m]\u001b[0m\u001b[90m ℹ Fetching head for \u001b[0m\u001b[4;90mhttps://wiki.python.org/moin/PythonBooks\u001b[0m\u001b[90m \u001b[0m\n"
      ]
     },
     "metadata": {},
     "output_type": "display_data"
    },
    {
     "data": {
      "text/html": [
       "<pre style=\"white-space:pre;overflow-x:auto;line-height:normal;font-family:Menlo,'DejaVu Sans Mono',consolas,'Courier New',monospace\"><span style=\"color: #008080; text-decoration-color: #008080; font-weight: bold\">[</span><span style=\"color: #008080; text-decoration-color: #008080\">URL_SEED</span><span style=\"color: #008080; text-decoration-color: #008080; font-weight: bold\">]</span><span style=\"color: #008080; text-decoration-color: #008080\"> ℹ HEAD VALID for </span><span style=\"color: #008080; text-decoration-color: #008080; text-decoration: underline\">https://docs.python.org/2.7/</span><span style=\"color: #008080; text-decoration-color: #008080\"> </span>\n",
       "</pre>\n"
      ],
      "text/plain": [
       "\u001b[1;36m[\u001b[0m\u001b[36mURL_SEED\u001b[0m\u001b[1;36m]\u001b[0m\u001b[36m ℹ HEAD VALID for \u001b[0m\u001b[4;36mhttps://docs.python.org/2.7/\u001b[0m\u001b[36m \u001b[0m\n"
      ]
     },
     "metadata": {},
     "output_type": "display_data"
    },
    {
     "data": {
      "text/html": [
       "<pre style=\"white-space:pre;overflow-x:auto;line-height:normal;font-family:Menlo,'DejaVu Sans Mono',consolas,'Courier New',monospace\"><span style=\"color: #808080; text-decoration-color: #808080; font-weight: bold\">[</span><span style=\"color: #808080; text-decoration-color: #808080\">URL_SEED</span><span style=\"color: #808080; text-decoration-color: #808080; font-weight: bold\">]</span><span style=\"color: #808080; text-decoration-color: #808080\"> ℹ Fetching head for </span><span style=\"color: #808080; text-decoration-color: #808080; text-decoration: underline\">https://www.python.org/doc/av</span><span style=\"color: #808080; text-decoration-color: #808080\"> </span>\n",
       "</pre>\n"
      ],
      "text/plain": [
       "\u001b[1;90m[\u001b[0m\u001b[90mURL_SEED\u001b[0m\u001b[1;90m]\u001b[0m\u001b[90m ℹ Fetching head for \u001b[0m\u001b[4;90mhttps://www.python.org/doc/av\u001b[0m\u001b[90m \u001b[0m\n"
      ]
     },
     "metadata": {},
     "output_type": "display_data"
    },
    {
     "data": {
      "text/html": [
       "<pre style=\"white-space:pre;overflow-x:auto;line-height:normal;font-family:Menlo,'DejaVu Sans Mono',consolas,'Courier New',monospace\"><span style=\"color: #008080; text-decoration-color: #008080; font-weight: bold\">[</span><span style=\"color: #008080; text-decoration-color: #008080\">URL_SEED</span><span style=\"color: #008080; text-decoration-color: #008080; font-weight: bold\">]</span><span style=\"color: #008080; text-decoration-color: #008080\"> ℹ HEAD VALID for </span><span style=\"color: #008080; text-decoration-color: #008080; text-decoration: underline\">https://docs.python.org/2.6/</span><span style=\"color: #008080; text-decoration-color: #008080\"> </span>\n",
       "</pre>\n"
      ],
      "text/plain": [
       "\u001b[1;36m[\u001b[0m\u001b[36mURL_SEED\u001b[0m\u001b[1;36m]\u001b[0m\u001b[36m ℹ HEAD VALID for \u001b[0m\u001b[4;36mhttps://docs.python.org/2.6/\u001b[0m\u001b[36m \u001b[0m\n"
      ]
     },
     "metadata": {},
     "output_type": "display_data"
    },
    {
     "data": {
      "text/html": [
       "<pre style=\"white-space:pre;overflow-x:auto;line-height:normal;font-family:Menlo,'DejaVu Sans Mono',consolas,'Courier New',monospace\"><span style=\"color: #808080; text-decoration-color: #808080; font-weight: bold\">[</span><span style=\"color: #808080; text-decoration-color: #808080\">URL_SEED</span><span style=\"color: #808080; text-decoration-color: #808080; font-weight: bold\">]</span><span style=\"color: #808080; text-decoration-color: #808080\"> ℹ Fetching head for </span><span style=\"color: #808080; text-decoration-color: #808080; text-decoration: underline\">https://devguide.python.org/</span><span style=\"color: #808080; text-decoration-color: #808080\"> </span>\n",
       "</pre>\n"
      ],
      "text/plain": [
       "\u001b[1;90m[\u001b[0m\u001b[90mURL_SEED\u001b[0m\u001b[1;90m]\u001b[0m\u001b[90m ℹ Fetching head for \u001b[0m\u001b[4;90mhttps://devguide.python.org/\u001b[0m\u001b[90m \u001b[0m\n"
      ]
     },
     "metadata": {},
     "output_type": "display_data"
    },
    {
     "data": {
      "text/html": [
       "<pre style=\"white-space:pre;overflow-x:auto;line-height:normal;font-family:Menlo,'DejaVu Sans Mono',consolas,'Courier New',monospace\"><span style=\"color: #008080; text-decoration-color: #008080; font-weight: bold\">[</span><span style=\"color: #008080; text-decoration-color: #008080\">URL_SEED</span><span style=\"color: #008080; text-decoration-color: #008080; font-weight: bold\">]</span><span style=\"color: #008080; text-decoration-color: #008080\"> ℹ HEAD VALID for </span><span style=\"color: #008080; text-decoration-color: #008080; text-decoration: underline\">https://peps.python.org/</span><span style=\"color: #008080; text-decoration-color: #008080\"> </span>\n",
       "</pre>\n"
      ],
      "text/plain": [
       "\u001b[1;36m[\u001b[0m\u001b[36mURL_SEED\u001b[0m\u001b[1;36m]\u001b[0m\u001b[36m ℹ HEAD VALID for \u001b[0m\u001b[4;36mhttps://peps.python.org/\u001b[0m\u001b[36m \u001b[0m\n"
      ]
     },
     "metadata": {},
     "output_type": "display_data"
    },
    {
     "data": {
      "text/html": [
       "<pre style=\"white-space:pre;overflow-x:auto;line-height:normal;font-family:Menlo,'DejaVu Sans Mono',consolas,'Courier New',monospace\"><span style=\"color: #808080; text-decoration-color: #808080; font-weight: bold\">[</span><span style=\"color: #808080; text-decoration-color: #808080\">URL_SEED</span><span style=\"color: #808080; text-decoration-color: #808080; font-weight: bold\">]</span><span style=\"color: #808080; text-decoration-color: #808080\"> ℹ Fetching head for </span><span style=\"color: #808080; text-decoration-color: #808080; text-decoration: underline\">https://docs.python.org/3/genindex.html</span><span style=\"color: #808080; text-decoration-color: #808080\"> </span>\n",
       "</pre>\n"
      ],
      "text/plain": [
       "\u001b[1;90m[\u001b[0m\u001b[90mURL_SEED\u001b[0m\u001b[1;90m]\u001b[0m\u001b[90m ℹ Fetching head for \u001b[0m\u001b[4;90mhttps://docs.python.org/3/genindex.html\u001b[0m\u001b[90m \u001b[0m\n"
      ]
     },
     "metadata": {},
     "output_type": "display_data"
    },
    {
     "data": {
      "text/html": [
       "<pre style=\"white-space:pre;overflow-x:auto;line-height:normal;font-family:Menlo,'DejaVu Sans Mono',consolas,'Courier New',monospace\"><span style=\"color: #808080; text-decoration-color: #808080; font-weight: bold\">[</span><span style=\"color: #808080; text-decoration-color: #808080\">URL_SEED</span><span style=\"color: #808080; text-decoration-color: #808080; font-weight: bold\">]</span><span style=\"color: #808080; text-decoration-color: #808080\"> ℹ Redirecting from </span><span style=\"color: #808080; text-decoration-color: #808080; text-decoration: underline\">https://www.python.org/doc/av</span><span style=\"color: #808080; text-decoration-color: #808080\"> to </span><span style=\"color: #808080; text-decoration-color: #808080; text-decoration: underline\">https://www.python.org/doc/av/</span><span style=\"color: #808080; text-decoration-color: #808080\"> </span>\n",
       "</pre>\n"
      ],
      "text/plain": [
       "\u001b[1;90m[\u001b[0m\u001b[90mURL_SEED\u001b[0m\u001b[1;90m]\u001b[0m\u001b[90m ℹ Redirecting from \u001b[0m\u001b[4;90mhttps://www.python.org/doc/av\u001b[0m\u001b[90m to \u001b[0m\u001b[4;90mhttps://www.python.org/doc/av/\u001b[0m\u001b[90m \u001b[0m\n"
      ]
     },
     "metadata": {},
     "output_type": "display_data"
    },
    {
     "data": {
      "text/html": [
       "<pre style=\"white-space:pre;overflow-x:auto;line-height:normal;font-family:Menlo,'DejaVu Sans Mono',consolas,'Courier New',monospace\"><span style=\"color: #008080; text-decoration-color: #008080; font-weight: bold\">[</span><span style=\"color: #008080; text-decoration-color: #008080\">URL_SEED</span><span style=\"color: #008080; text-decoration-color: #008080; font-weight: bold\">]</span><span style=\"color: #008080; text-decoration-color: #008080\"> ℹ HEAD VALID for </span><span style=\"color: #008080; text-decoration-color: #008080; text-decoration: underline\">https://devguide.python.org/</span><span style=\"color: #008080; text-decoration-color: #008080\"> </span>\n",
       "</pre>\n"
      ],
      "text/plain": [
       "\u001b[1;36m[\u001b[0m\u001b[36mURL_SEED\u001b[0m\u001b[1;36m]\u001b[0m\u001b[36m ℹ HEAD VALID for \u001b[0m\u001b[4;36mhttps://devguide.python.org/\u001b[0m\u001b[36m \u001b[0m\n"
      ]
     },
     "metadata": {},
     "output_type": "display_data"
    },
    {
     "data": {
      "text/html": [
       "<pre style=\"white-space:pre;overflow-x:auto;line-height:normal;font-family:Menlo,'DejaVu Sans Mono',consolas,'Courier New',monospace\"><span style=\"color: #808080; text-decoration-color: #808080; font-weight: bold\">[</span><span style=\"color: #808080; text-decoration-color: #808080\">URL_SEED</span><span style=\"color: #808080; text-decoration-color: #808080; font-weight: bold\">]</span><span style=\"color: #808080; text-decoration-color: #808080\"> ℹ Fetching head for </span><span style=\"color: #808080; text-decoration-color: #808080; text-decoration: underline\">https://docs.python.org/3/py-modindex.html</span><span style=\"color: #808080; text-decoration-color: #808080\"> </span>\n",
       "</pre>\n"
      ],
      "text/plain": [
       "\u001b[1;90m[\u001b[0m\u001b[90mURL_SEED\u001b[0m\u001b[1;90m]\u001b[0m\u001b[90m ℹ Fetching head for \u001b[0m\u001b[4;90mhttps://docs.python.org/3/py-modindex.html\u001b[0m\u001b[90m \u001b[0m\n"
      ]
     },
     "metadata": {},
     "output_type": "display_data"
    },
    {
     "data": {
      "text/html": [
       "<pre style=\"white-space:pre;overflow-x:auto;line-height:normal;font-family:Menlo,'DejaVu Sans Mono',consolas,'Courier New',monospace\"><span style=\"color: #008080; text-decoration-color: #008080; font-weight: bold\">[</span><span style=\"color: #008080; text-decoration-color: #008080\">URL_SEED</span><span style=\"color: #008080; text-decoration-color: #008080; font-weight: bold\">]</span><span style=\"color: #008080; text-decoration-color: #008080\"> ℹ HEAD VALID for </span><span style=\"color: #008080; text-decoration-color: #008080; text-decoration: underline\">https://wiki.python.org/moin/BeginnersGuide</span><span style=\"color: #008080; text-decoration-color: #008080\"> </span>\n",
       "</pre>\n"
      ],
      "text/plain": [
       "\u001b[1;36m[\u001b[0m\u001b[36mURL_SEED\u001b[0m\u001b[1;36m]\u001b[0m\u001b[36m ℹ HEAD VALID for \u001b[0m\u001b[4;36mhttps://wiki.python.org/moin/BeginnersGuide\u001b[0m\u001b[36m \u001b[0m\n"
      ]
     },
     "metadata": {},
     "output_type": "display_data"
    },
    {
     "data": {
      "text/html": [
       "<pre style=\"white-space:pre;overflow-x:auto;line-height:normal;font-family:Menlo,'DejaVu Sans Mono',consolas,'Courier New',monospace\"><span style=\"color: #808080; text-decoration-color: #808080; font-weight: bold\">[</span><span style=\"color: #808080; text-decoration-color: #808080\">URL_SEED</span><span style=\"color: #808080; text-decoration-color: #808080; font-weight: bold\">]</span><span style=\"color: #808080; text-decoration-color: #808080\"> ℹ Filtered out nonsense URL: </span><span style=\"color: #808080; text-decoration-color: #808080; text-decoration: underline\">https://docs.python.org/3</span><span style=\"color: #808080; text-decoration-color: #808080\"> </span>\n",
       "</pre>\n"
      ],
      "text/plain": [
       "\u001b[1;90m[\u001b[0m\u001b[90mURL_SEED\u001b[0m\u001b[1;90m]\u001b[0m\u001b[90m ℹ Filtered out nonsense URL: \u001b[0m\u001b[4;90mhttps://docs.python.org/3\u001b[0m\u001b[90m \u001b[0m\n"
      ]
     },
     "metadata": {},
     "output_type": "display_data"
    },
    {
     "data": {
      "text/html": [
       "<pre style=\"white-space:pre;overflow-x:auto;line-height:normal;font-family:Menlo,'DejaVu Sans Mono',consolas,'Courier New',monospace\"><span style=\"color: #808080; text-decoration-color: #808080; font-weight: bold\">[</span><span style=\"color: #808080; text-decoration-color: #808080\">URL_SEED</span><span style=\"color: #808080; text-decoration-color: #808080; font-weight: bold\">]</span><span style=\"color: #808080; text-decoration-color: #808080\"> ℹ Fetching head for </span><span style=\"color: #808080; text-decoration-color: #808080; text-decoration: underline\">https://docs.python.org/3/whatsnew/3.13.html</span><span style=\"color: #808080; text-decoration-color: #808080\"> </span>\n",
       "</pre>\n"
      ],
      "text/plain": [
       "\u001b[1;90m[\u001b[0m\u001b[90mURL_SEED\u001b[0m\u001b[1;90m]\u001b[0m\u001b[90m ℹ Fetching head for \u001b[0m\u001b[4;90mhttps://docs.python.org/3/whatsnew/3.13.html\u001b[0m\u001b[90m \u001b[0m\n"
      ]
     },
     "metadata": {},
     "output_type": "display_data"
    },
    {
     "data": {
      "text/html": [
       "<pre style=\"white-space:pre;overflow-x:auto;line-height:normal;font-family:Menlo,'DejaVu Sans Mono',consolas,'Courier New',monospace\"><span style=\"color: #008080; text-decoration-color: #008080; font-weight: bold\">[</span><span style=\"color: #008080; text-decoration-color: #008080\">URL_SEED</span><span style=\"color: #008080; text-decoration-color: #008080; font-weight: bold\">]</span><span style=\"color: #008080; text-decoration-color: #008080\"> ℹ HEAD VALID for </span><span style=\"color: #008080; text-decoration-color: #008080; text-decoration: underline\">https://wiki.python.org/moin/PythonBooks</span><span style=\"color: #008080; text-decoration-color: #008080\"> </span>\n",
       "</pre>\n"
      ],
      "text/plain": [
       "\u001b[1;36m[\u001b[0m\u001b[36mURL_SEED\u001b[0m\u001b[1;36m]\u001b[0m\u001b[36m ℹ HEAD VALID for \u001b[0m\u001b[4;36mhttps://wiki.python.org/moin/PythonBooks\u001b[0m\u001b[36m \u001b[0m\n"
      ]
     },
     "metadata": {},
     "output_type": "display_data"
    },
    {
     "data": {
      "text/html": [
       "<pre style=\"white-space:pre;overflow-x:auto;line-height:normal;font-family:Menlo,'DejaVu Sans Mono',consolas,'Courier New',monospace\"><span style=\"color: #808080; text-decoration-color: #808080; font-weight: bold\">[</span><span style=\"color: #808080; text-decoration-color: #808080\">URL_SEED</span><span style=\"color: #808080; text-decoration-color: #808080; font-weight: bold\">]</span><span style=\"color: #808080; text-decoration-color: #808080\"> ℹ Fetching head for </span><span style=\"color: #808080; text-decoration-color: #808080; text-decoration: underline\">https://docs.python.org/3/whatsnew/index.html</span><span style=\"color: #808080; text-decoration-color: #808080\"> </span>\n",
       "</pre>\n"
      ],
      "text/plain": [
       "\u001b[1;90m[\u001b[0m\u001b[90mURL_SEED\u001b[0m\u001b[1;90m]\u001b[0m\u001b[90m ℹ Fetching head for \u001b[0m\u001b[4;90mhttps://docs.python.org/3/whatsnew/index.html\u001b[0m\u001b[90m \u001b[0m\n"
      ]
     },
     "metadata": {},
     "output_type": "display_data"
    },
    {
     "data": {
      "text/html": [
       "<pre style=\"white-space:pre;overflow-x:auto;line-height:normal;font-family:Menlo,'DejaVu Sans Mono',consolas,'Courier New',monospace\"><span style=\"color: #008080; text-decoration-color: #008080; font-weight: bold\">[</span><span style=\"color: #008080; text-decoration-color: #008080\">URL_SEED</span><span style=\"color: #008080; text-decoration-color: #008080; font-weight: bold\">]</span><span style=\"color: #008080; text-decoration-color: #008080\"> ℹ HEAD VALID for </span><span style=\"color: #008080; text-decoration-color: #008080; text-decoration: underline\">https://docs.python.org/3/genindex.html</span><span style=\"color: #008080; text-decoration-color: #008080\"> </span>\n",
       "</pre>\n"
      ],
      "text/plain": [
       "\u001b[1;36m[\u001b[0m\u001b[36mURL_SEED\u001b[0m\u001b[1;36m]\u001b[0m\u001b[36m ℹ HEAD VALID for \u001b[0m\u001b[4;36mhttps://docs.python.org/3/genindex.html\u001b[0m\u001b[36m \u001b[0m\n"
      ]
     },
     "metadata": {},
     "output_type": "display_data"
    },
    {
     "data": {
      "text/html": [
       "<pre style=\"white-space:pre;overflow-x:auto;line-height:normal;font-family:Menlo,'DejaVu Sans Mono',consolas,'Courier New',monospace\"><span style=\"color: #808080; text-decoration-color: #808080; font-weight: bold\">[</span><span style=\"color: #808080; text-decoration-color: #808080\">URL_SEED</span><span style=\"color: #808080; text-decoration-color: #808080; font-weight: bold\">]</span><span style=\"color: #808080; text-decoration-color: #808080\"> ℹ Fetching head for </span><span style=\"color: #808080; text-decoration-color: #808080; text-decoration: underline\">https://docs.python.org/3/tutorial/index.html</span><span style=\"color: #808080; text-decoration-color: #808080\"> </span>\n",
       "</pre>\n"
      ],
      "text/plain": [
       "\u001b[1;90m[\u001b[0m\u001b[90mURL_SEED\u001b[0m\u001b[1;90m]\u001b[0m\u001b[90m ℹ Fetching head for \u001b[0m\u001b[4;90mhttps://docs.python.org/3/tutorial/index.html\u001b[0m\u001b[90m \u001b[0m\n"
      ]
     },
     "metadata": {},
     "output_type": "display_data"
    },
    {
     "data": {
      "text/html": [
       "<pre style=\"white-space:pre;overflow-x:auto;line-height:normal;font-family:Menlo,'DejaVu Sans Mono',consolas,'Courier New',monospace\"><span style=\"color: #008080; text-decoration-color: #008080; font-weight: bold\">[</span><span style=\"color: #008080; text-decoration-color: #008080\">URL_SEED</span><span style=\"color: #008080; text-decoration-color: #008080; font-weight: bold\">]</span><span style=\"color: #008080; text-decoration-color: #008080\"> ℹ HEAD VALID for </span><span style=\"color: #008080; text-decoration-color: #008080; text-decoration: underline\">https://docs.python.org/3/py-modindex.html</span><span style=\"color: #008080; text-decoration-color: #008080\"> </span>\n",
       "</pre>\n"
      ],
      "text/plain": [
       "\u001b[1;36m[\u001b[0m\u001b[36mURL_SEED\u001b[0m\u001b[1;36m]\u001b[0m\u001b[36m ℹ HEAD VALID for \u001b[0m\u001b[4;36mhttps://docs.python.org/3/py-modindex.html\u001b[0m\u001b[36m \u001b[0m\n"
      ]
     },
     "metadata": {},
     "output_type": "display_data"
    },
    {
     "data": {
      "text/html": [
       "<pre style=\"white-space:pre;overflow-x:auto;line-height:normal;font-family:Menlo,'DejaVu Sans Mono',consolas,'Courier New',monospace\"><span style=\"color: #808080; text-decoration-color: #808080; font-weight: bold\">[</span><span style=\"color: #808080; text-decoration-color: #808080\">URL_SEED</span><span style=\"color: #808080; text-decoration-color: #808080; font-weight: bold\">]</span><span style=\"color: #808080; text-decoration-color: #808080\"> ℹ Fetching head for </span><span style=\"color: #808080; text-decoration-color: #808080; text-decoration: underline\">https://docs.python.org/3/library/index.html</span><span style=\"color: #808080; text-decoration-color: #808080\"> </span>\n",
       "</pre>\n"
      ],
      "text/plain": [
       "\u001b[1;90m[\u001b[0m\u001b[90mURL_SEED\u001b[0m\u001b[1;90m]\u001b[0m\u001b[90m ℹ Fetching head for \u001b[0m\u001b[4;90mhttps://docs.python.org/3/library/index.html\u001b[0m\u001b[90m \u001b[0m\n"
      ]
     },
     "metadata": {},
     "output_type": "display_data"
    },
    {
     "data": {
      "text/html": [
       "<pre style=\"white-space:pre;overflow-x:auto;line-height:normal;font-family:Menlo,'DejaVu Sans Mono',consolas,'Courier New',monospace\"><span style=\"color: #008080; text-decoration-color: #008080; font-weight: bold\">[</span><span style=\"color: #008080; text-decoration-color: #008080\">URL_SEED</span><span style=\"color: #008080; text-decoration-color: #008080; font-weight: bold\">]</span><span style=\"color: #008080; text-decoration-color: #008080\"> ℹ HEAD VALID for </span><span style=\"color: #008080; text-decoration-color: #008080; text-decoration: underline\">https://docs.python.org/3/whatsnew/3.13.html</span><span style=\"color: #008080; text-decoration-color: #008080\"> </span>\n",
       "</pre>\n"
      ],
      "text/plain": [
       "\u001b[1;36m[\u001b[0m\u001b[36mURL_SEED\u001b[0m\u001b[1;36m]\u001b[0m\u001b[36m ℹ HEAD VALID for \u001b[0m\u001b[4;36mhttps://docs.python.org/3/whatsnew/3.13.html\u001b[0m\u001b[36m \u001b[0m\n"
      ]
     },
     "metadata": {},
     "output_type": "display_data"
    },
    {
     "data": {
      "text/html": [
       "<pre style=\"white-space:pre;overflow-x:auto;line-height:normal;font-family:Menlo,'DejaVu Sans Mono',consolas,'Courier New',monospace\"><span style=\"color: #808080; text-decoration-color: #808080; font-weight: bold\">[</span><span style=\"color: #808080; text-decoration-color: #808080\">URL_SEED</span><span style=\"color: #808080; text-decoration-color: #808080; font-weight: bold\">]</span><span style=\"color: #808080; text-decoration-color: #808080\"> ℹ Fetching head for </span><span style=\"color: #808080; text-decoration-color: #808080; text-decoration: underline\">https://docs.python.org/3/reference/index.html</span><span style=\"color: #808080; text-decoration-color: #808080\"> </span>\n",
       "</pre>\n"
      ],
      "text/plain": [
       "\u001b[1;90m[\u001b[0m\u001b[90mURL_SEED\u001b[0m\u001b[1;90m]\u001b[0m\u001b[90m ℹ Fetching head for \u001b[0m\u001b[4;90mhttps://docs.python.org/3/reference/index.html\u001b[0m\u001b[90m \u001b[0m\n"
      ]
     },
     "metadata": {},
     "output_type": "display_data"
    },
    {
     "data": {
      "text/html": [
       "<pre style=\"white-space:pre;overflow-x:auto;line-height:normal;font-family:Menlo,'DejaVu Sans Mono',consolas,'Courier New',monospace\"><span style=\"color: #008080; text-decoration-color: #008080; font-weight: bold\">[</span><span style=\"color: #008080; text-decoration-color: #008080\">URL_SEED</span><span style=\"color: #008080; text-decoration-color: #008080; font-weight: bold\">]</span><span style=\"color: #008080; text-decoration-color: #008080\"> ℹ HEAD VALID for </span><span style=\"color: #008080; text-decoration-color: #008080; text-decoration: underline\">https://www.python.org/doc/av/</span><span style=\"color: #008080; text-decoration-color: #008080\"> </span>\n",
       "</pre>\n"
      ],
      "text/plain": [
       "\u001b[1;36m[\u001b[0m\u001b[36mURL_SEED\u001b[0m\u001b[1;36m]\u001b[0m\u001b[36m ℹ HEAD VALID for \u001b[0m\u001b[4;36mhttps://www.python.org/doc/av/\u001b[0m\u001b[36m \u001b[0m\n"
      ]
     },
     "metadata": {},
     "output_type": "display_data"
    },
    {
     "data": {
      "text/html": [
       "<pre style=\"white-space:pre;overflow-x:auto;line-height:normal;font-family:Menlo,'DejaVu Sans Mono',consolas,'Courier New',monospace\"><span style=\"color: #808080; text-decoration-color: #808080; font-weight: bold\">[</span><span style=\"color: #808080; text-decoration-color: #808080\">URL_SEED</span><span style=\"color: #808080; text-decoration-color: #808080; font-weight: bold\">]</span><span style=\"color: #808080; text-decoration-color: #808080\"> ℹ Fetching head for </span><span style=\"color: #808080; text-decoration-color: #808080; text-decoration: underline\">https://docs.python.org/3/using/index.html</span><span style=\"color: #808080; text-decoration-color: #808080\"> </span>\n",
       "</pre>\n"
      ],
      "text/plain": [
       "\u001b[1;90m[\u001b[0m\u001b[90mURL_SEED\u001b[0m\u001b[1;90m]\u001b[0m\u001b[90m ℹ Fetching head for \u001b[0m\u001b[4;90mhttps://docs.python.org/3/using/index.html\u001b[0m\u001b[90m \u001b[0m\n"
      ]
     },
     "metadata": {},
     "output_type": "display_data"
    },
    {
     "data": {
      "text/html": [
       "<pre style=\"white-space:pre;overflow-x:auto;line-height:normal;font-family:Menlo,'DejaVu Sans Mono',consolas,'Courier New',monospace\"><span style=\"color: #008080; text-decoration-color: #008080; font-weight: bold\">[</span><span style=\"color: #008080; text-decoration-color: #008080\">URL_SEED</span><span style=\"color: #008080; text-decoration-color: #008080; font-weight: bold\">]</span><span style=\"color: #008080; text-decoration-color: #008080\"> ℹ HEAD VALID for </span><span style=\"color: #008080; text-decoration-color: #008080; text-decoration: underline\">https://docs.python.org/3/whatsnew/index.html</span><span style=\"color: #008080; text-decoration-color: #008080\"> </span>\n",
       "</pre>\n"
      ],
      "text/plain": [
       "\u001b[1;36m[\u001b[0m\u001b[36mURL_SEED\u001b[0m\u001b[1;36m]\u001b[0m\u001b[36m ℹ HEAD VALID for \u001b[0m\u001b[4;36mhttps://docs.python.org/3/whatsnew/index.html\u001b[0m\u001b[36m \u001b[0m\n"
      ]
     },
     "metadata": {},
     "output_type": "display_data"
    },
    {
     "data": {
      "text/html": [
       "<pre style=\"white-space:pre;overflow-x:auto;line-height:normal;font-family:Menlo,'DejaVu Sans Mono',consolas,'Courier New',monospace\"><span style=\"color: #808080; text-decoration-color: #808080; font-weight: bold\">[</span><span style=\"color: #808080; text-decoration-color: #808080\">URL_SEED</span><span style=\"color: #808080; text-decoration-color: #808080; font-weight: bold\">]</span><span style=\"color: #808080; text-decoration-color: #808080\"> ℹ Fetching head for </span><span style=\"color: #808080; text-decoration-color: #808080; text-decoration: underline\">https://docs.python.org/3/howto/index.html</span><span style=\"color: #808080; text-decoration-color: #808080\"> </span>\n",
       "</pre>\n"
      ],
      "text/plain": [
       "\u001b[1;90m[\u001b[0m\u001b[90mURL_SEED\u001b[0m\u001b[1;90m]\u001b[0m\u001b[90m ℹ Fetching head for \u001b[0m\u001b[4;90mhttps://docs.python.org/3/howto/index.html\u001b[0m\u001b[90m \u001b[0m\n"
      ]
     },
     "metadata": {},
     "output_type": "display_data"
    },
    {
     "data": {
      "text/html": [
       "<pre style=\"white-space:pre;overflow-x:auto;line-height:normal;font-family:Menlo,'DejaVu Sans Mono',consolas,'Courier New',monospace\"><span style=\"color: #008080; text-decoration-color: #008080; font-weight: bold\">[</span><span style=\"color: #008080; text-decoration-color: #008080\">URL_SEED</span><span style=\"color: #008080; text-decoration-color: #008080; font-weight: bold\">]</span><span style=\"color: #008080; text-decoration-color: #008080\"> ℹ HEAD VALID for </span><span style=\"color: #008080; text-decoration-color: #008080; text-decoration: underline\">https://docs.python.org/3/tutorial/index.html</span><span style=\"color: #008080; text-decoration-color: #008080\"> </span>\n",
       "</pre>\n"
      ],
      "text/plain": [
       "\u001b[1;36m[\u001b[0m\u001b[36mURL_SEED\u001b[0m\u001b[1;36m]\u001b[0m\u001b[36m ℹ HEAD VALID for \u001b[0m\u001b[4;36mhttps://docs.python.org/3/tutorial/index.html\u001b[0m\u001b[36m \u001b[0m\n"
      ]
     },
     "metadata": {},
     "output_type": "display_data"
    },
    {
     "data": {
      "text/html": [
       "<pre style=\"white-space:pre;overflow-x:auto;line-height:normal;font-family:Menlo,'DejaVu Sans Mono',consolas,'Courier New',monospace\"><span style=\"color: #808080; text-decoration-color: #808080; font-weight: bold\">[</span><span style=\"color: #808080; text-decoration-color: #808080\">URL_SEED</span><span style=\"color: #808080; text-decoration-color: #808080; font-weight: bold\">]</span><span style=\"color: #808080; text-decoration-color: #808080\"> ℹ Fetching head for </span><span style=\"color: #808080; text-decoration-color: #808080; text-decoration: underline\">https://docs.python.org/3/installing/index.html</span><span style=\"color: #808080; text-decoration-color: #808080\"> </span>\n",
       "</pre>\n"
      ],
      "text/plain": [
       "\u001b[1;90m[\u001b[0m\u001b[90mURL_SEED\u001b[0m\u001b[1;90m]\u001b[0m\u001b[90m ℹ Fetching head for \u001b[0m\u001b[4;90mhttps://docs.python.org/3/installing/index.html\u001b[0m\u001b[90m \u001b[0m\n"
      ]
     },
     "metadata": {},
     "output_type": "display_data"
    },
    {
     "data": {
      "text/html": [
       "<pre style=\"white-space:pre;overflow-x:auto;line-height:normal;font-family:Menlo,'DejaVu Sans Mono',consolas,'Courier New',monospace\"><span style=\"color: #008080; text-decoration-color: #008080; font-weight: bold\">[</span><span style=\"color: #008080; text-decoration-color: #008080\">URL_SEED</span><span style=\"color: #008080; text-decoration-color: #008080; font-weight: bold\">]</span><span style=\"color: #008080; text-decoration-color: #008080\"> ℹ HEAD VALID for </span><span style=\"color: #008080; text-decoration-color: #008080; text-decoration: underline\">https://docs.python.org/3/library/index.html</span><span style=\"color: #008080; text-decoration-color: #008080\"> </span>\n",
       "</pre>\n"
      ],
      "text/plain": [
       "\u001b[1;36m[\u001b[0m\u001b[36mURL_SEED\u001b[0m\u001b[1;36m]\u001b[0m\u001b[36m ℹ HEAD VALID for \u001b[0m\u001b[4;36mhttps://docs.python.org/3/library/index.html\u001b[0m\u001b[36m \u001b[0m\n"
      ]
     },
     "metadata": {},
     "output_type": "display_data"
    },
    {
     "data": {
      "text/html": [
       "<pre style=\"white-space:pre;overflow-x:auto;line-height:normal;font-family:Menlo,'DejaVu Sans Mono',consolas,'Courier New',monospace\"><span style=\"color: #808080; text-decoration-color: #808080; font-weight: bold\">[</span><span style=\"color: #808080; text-decoration-color: #808080\">URL_SEED</span><span style=\"color: #808080; text-decoration-color: #808080; font-weight: bold\">]</span><span style=\"color: #808080; text-decoration-color: #808080\"> ℹ Fetching head for </span><span style=\"color: #808080; text-decoration-color: #808080; text-decoration: underline\">https://docs.python.org/3/distributing/index.html</span><span style=\"color: #808080; text-decoration-color: #808080\"> </span>\n",
       "</pre>\n"
      ],
      "text/plain": [
       "\u001b[1;90m[\u001b[0m\u001b[90mURL_SEED\u001b[0m\u001b[1;90m]\u001b[0m\u001b[90m ℹ Fetching head for \u001b[0m\u001b[4;90mhttps://docs.python.org/3/distributing/index.html\u001b[0m\u001b[90m \u001b[0m\n"
      ]
     },
     "metadata": {},
     "output_type": "display_data"
    },
    {
     "data": {
      "text/html": [
       "<pre style=\"white-space:pre;overflow-x:auto;line-height:normal;font-family:Menlo,'DejaVu Sans Mono',consolas,'Courier New',monospace\"><span style=\"color: #008080; text-decoration-color: #008080; font-weight: bold\">[</span><span style=\"color: #008080; text-decoration-color: #008080\">URL_SEED</span><span style=\"color: #008080; text-decoration-color: #008080; font-weight: bold\">]</span><span style=\"color: #008080; text-decoration-color: #008080\"> ℹ HEAD VALID for </span><span style=\"color: #008080; text-decoration-color: #008080; text-decoration: underline\">https://docs.python.org/3/reference/index.html</span><span style=\"color: #008080; text-decoration-color: #008080\"> </span>\n",
       "</pre>\n"
      ],
      "text/plain": [
       "\u001b[1;36m[\u001b[0m\u001b[36mURL_SEED\u001b[0m\u001b[1;36m]\u001b[0m\u001b[36m ℹ HEAD VALID for \u001b[0m\u001b[4;36mhttps://docs.python.org/3/reference/index.html\u001b[0m\u001b[36m \u001b[0m\n"
      ]
     },
     "metadata": {},
     "output_type": "display_data"
    },
    {
     "data": {
      "text/html": [
       "<pre style=\"white-space:pre;overflow-x:auto;line-height:normal;font-family:Menlo,'DejaVu Sans Mono',consolas,'Courier New',monospace\"><span style=\"color: #808080; text-decoration-color: #808080; font-weight: bold\">[</span><span style=\"color: #808080; text-decoration-color: #808080\">URL_SEED</span><span style=\"color: #808080; text-decoration-color: #808080; font-weight: bold\">]</span><span style=\"color: #808080; text-decoration-color: #808080\"> ℹ Fetching head for </span><span style=\"color: #808080; text-decoration-color: #808080; text-decoration: underline\">https://docs.python.org/3/extending/index.html</span><span style=\"color: #808080; text-decoration-color: #808080\"> </span>\n",
       "</pre>\n"
      ],
      "text/plain": [
       "\u001b[1;90m[\u001b[0m\u001b[90mURL_SEED\u001b[0m\u001b[1;90m]\u001b[0m\u001b[90m ℹ Fetching head for \u001b[0m\u001b[4;90mhttps://docs.python.org/3/extending/index.html\u001b[0m\u001b[90m \u001b[0m\n"
      ]
     },
     "metadata": {},
     "output_type": "display_data"
    },
    {
     "data": {
      "text/html": [
       "<pre style=\"white-space:pre;overflow-x:auto;line-height:normal;font-family:Menlo,'DejaVu Sans Mono',consolas,'Courier New',monospace\"><span style=\"color: #008080; text-decoration-color: #008080; font-weight: bold\">[</span><span style=\"color: #008080; text-decoration-color: #008080\">URL_SEED</span><span style=\"color: #008080; text-decoration-color: #008080; font-weight: bold\">]</span><span style=\"color: #008080; text-decoration-color: #008080\"> ℹ HEAD VALID for </span><span style=\"color: #008080; text-decoration-color: #008080; text-decoration: underline\">https://docs.python.org/3/using/index.html</span><span style=\"color: #008080; text-decoration-color: #008080\"> </span>\n",
       "</pre>\n"
      ],
      "text/plain": [
       "\u001b[1;36m[\u001b[0m\u001b[36mURL_SEED\u001b[0m\u001b[1;36m]\u001b[0m\u001b[36m ℹ HEAD VALID for \u001b[0m\u001b[4;36mhttps://docs.python.org/3/using/index.html\u001b[0m\u001b[36m \u001b[0m\n"
      ]
     },
     "metadata": {},
     "output_type": "display_data"
    },
    {
     "data": {
      "text/html": [
       "<pre style=\"white-space:pre;overflow-x:auto;line-height:normal;font-family:Menlo,'DejaVu Sans Mono',consolas,'Courier New',monospace\"><span style=\"color: #808080; text-decoration-color: #808080; font-weight: bold\">[</span><span style=\"color: #808080; text-decoration-color: #808080\">URL_SEED</span><span style=\"color: #808080; text-decoration-color: #808080; font-weight: bold\">]</span><span style=\"color: #808080; text-decoration-color: #808080\"> ℹ Fetching head for </span><span style=\"color: #808080; text-decoration-color: #808080; text-decoration: underline\">https://docs.python.org/3/c-api/index.html</span><span style=\"color: #808080; text-decoration-color: #808080\"> </span>\n",
       "</pre>\n"
      ],
      "text/plain": [
       "\u001b[1;90m[\u001b[0m\u001b[90mURL_SEED\u001b[0m\u001b[1;90m]\u001b[0m\u001b[90m ℹ Fetching head for \u001b[0m\u001b[4;90mhttps://docs.python.org/3/c-api/index.html\u001b[0m\u001b[90m \u001b[0m\n"
      ]
     },
     "metadata": {},
     "output_type": "display_data"
    },
    {
     "data": {
      "text/html": [
       "<pre style=\"white-space:pre;overflow-x:auto;line-height:normal;font-family:Menlo,'DejaVu Sans Mono',consolas,'Courier New',monospace\"><span style=\"color: #008080; text-decoration-color: #008080; font-weight: bold\">[</span><span style=\"color: #008080; text-decoration-color: #008080\">URL_SEED</span><span style=\"color: #008080; text-decoration-color: #008080; font-weight: bold\">]</span><span style=\"color: #008080; text-decoration-color: #008080\"> ℹ HEAD VALID for </span><span style=\"color: #008080; text-decoration-color: #008080; text-decoration: underline\">https://docs.python.org/3/howto/index.html</span><span style=\"color: #008080; text-decoration-color: #008080\"> </span>\n",
       "</pre>\n"
      ],
      "text/plain": [
       "\u001b[1;36m[\u001b[0m\u001b[36mURL_SEED\u001b[0m\u001b[1;36m]\u001b[0m\u001b[36m ℹ HEAD VALID for \u001b[0m\u001b[4;36mhttps://docs.python.org/3/howto/index.html\u001b[0m\u001b[36m \u001b[0m\n"
      ]
     },
     "metadata": {},
     "output_type": "display_data"
    },
    {
     "data": {
      "text/html": [
       "<pre style=\"white-space:pre;overflow-x:auto;line-height:normal;font-family:Menlo,'DejaVu Sans Mono',consolas,'Courier New',monospace\"><span style=\"color: #008080; text-decoration-color: #008080; font-weight: bold\">[</span><span style=\"color: #008080; text-decoration-color: #008080\">URL_SEED</span><span style=\"color: #008080; text-decoration-color: #008080; font-weight: bold\">]</span><span style=\"color: #008080; text-decoration-color: #008080\"> ℹ HEAD VALID for </span><span style=\"color: #008080; text-decoration-color: #008080; text-decoration: underline\">https://docs.python.org/3/distributing/index.html</span><span style=\"color: #008080; text-decoration-color: #008080\"> </span>\n",
       "</pre>\n"
      ],
      "text/plain": [
       "\u001b[1;36m[\u001b[0m\u001b[36mURL_SEED\u001b[0m\u001b[1;36m]\u001b[0m\u001b[36m ℹ HEAD VALID for \u001b[0m\u001b[4;36mhttps://docs.python.org/3/distributing/index.html\u001b[0m\u001b[36m \u001b[0m\n"
      ]
     },
     "metadata": {},
     "output_type": "display_data"
    },
    {
     "data": {
      "text/html": [
       "<pre style=\"white-space:pre;overflow-x:auto;line-height:normal;font-family:Menlo,'DejaVu Sans Mono',consolas,'Courier New',monospace\"><span style=\"color: #008080; text-decoration-color: #008080; font-weight: bold\">[</span><span style=\"color: #008080; text-decoration-color: #008080\">URL_SEED</span><span style=\"color: #008080; text-decoration-color: #008080; font-weight: bold\">]</span><span style=\"color: #008080; text-decoration-color: #008080\"> ℹ HEAD VALID for </span><span style=\"color: #008080; text-decoration-color: #008080; text-decoration: underline\">https://docs.python.org/3/installing/index.html</span><span style=\"color: #008080; text-decoration-color: #008080\"> </span>\n",
       "</pre>\n"
      ],
      "text/plain": [
       "\u001b[1;36m[\u001b[0m\u001b[36mURL_SEED\u001b[0m\u001b[1;36m]\u001b[0m\u001b[36m ℹ HEAD VALID for \u001b[0m\u001b[4;36mhttps://docs.python.org/3/installing/index.html\u001b[0m\u001b[36m \u001b[0m\n"
      ]
     },
     "metadata": {},
     "output_type": "display_data"
    },
    {
     "data": {
      "text/html": [
       "<pre style=\"white-space:pre;overflow-x:auto;line-height:normal;font-family:Menlo,'DejaVu Sans Mono',consolas,'Courier New',monospace\"><span style=\"color: #808080; text-decoration-color: #808080; font-weight: bold\">[</span><span style=\"color: #808080; text-decoration-color: #808080\">URL_SEED</span><span style=\"color: #808080; text-decoration-color: #808080; font-weight: bold\">]</span><span style=\"color: #808080; text-decoration-color: #808080\"> ℹ Fetching head for </span><span style=\"color: #808080; text-decoration-color: #808080; text-decoration: underline\">https://docs.python.org/3/faq/index.html</span><span style=\"color: #808080; text-decoration-color: #808080\"> </span>\n",
       "</pre>\n"
      ],
      "text/plain": [
       "\u001b[1;90m[\u001b[0m\u001b[90mURL_SEED\u001b[0m\u001b[1;90m]\u001b[0m\u001b[90m ℹ Fetching head for \u001b[0m\u001b[4;90mhttps://docs.python.org/3/faq/index.html\u001b[0m\u001b[90m \u001b[0m\n"
      ]
     },
     "metadata": {},
     "output_type": "display_data"
    },
    {
     "data": {
      "text/html": [
       "<pre style=\"white-space:pre;overflow-x:auto;line-height:normal;font-family:Menlo,'DejaVu Sans Mono',consolas,'Courier New',monospace\"><span style=\"color: #808080; text-decoration-color: #808080; font-weight: bold\">[</span><span style=\"color: #808080; text-decoration-color: #808080\">URL_SEED</span><span style=\"color: #808080; text-decoration-color: #808080; font-weight: bold\">]</span><span style=\"color: #808080; text-decoration-color: #808080\"> ℹ Fetching head for </span><span style=\"color: #808080; text-decoration-color: #808080; text-decoration: underline\">https://docs.python.org/3/deprecations/index.html</span><span style=\"color: #808080; text-decoration-color: #808080\"> </span>\n",
       "</pre>\n"
      ],
      "text/plain": [
       "\u001b[1;90m[\u001b[0m\u001b[90mURL_SEED\u001b[0m\u001b[1;90m]\u001b[0m\u001b[90m ℹ Fetching head for \u001b[0m\u001b[4;90mhttps://docs.python.org/3/deprecations/index.html\u001b[0m\u001b[90m \u001b[0m\n"
      ]
     },
     "metadata": {},
     "output_type": "display_data"
    },
    {
     "data": {
      "text/html": [
       "<pre style=\"white-space:pre;overflow-x:auto;line-height:normal;font-family:Menlo,'DejaVu Sans Mono',consolas,'Courier New',monospace\"><span style=\"color: #808080; text-decoration-color: #808080; font-weight: bold\">[</span><span style=\"color: #808080; text-decoration-color: #808080\">URL_SEED</span><span style=\"color: #808080; text-decoration-color: #808080; font-weight: bold\">]</span><span style=\"color: #808080; text-decoration-color: #808080\"> ℹ Fetching head for </span><span style=\"color: #808080; text-decoration-color: #808080; text-decoration: underline\">https://docs.python.org/3/glossary.html</span><span style=\"color: #808080; text-decoration-color: #808080\"> </span>\n",
       "</pre>\n"
      ],
      "text/plain": [
       "\u001b[1;90m[\u001b[0m\u001b[90mURL_SEED\u001b[0m\u001b[1;90m]\u001b[0m\u001b[90m ℹ Fetching head for \u001b[0m\u001b[4;90mhttps://docs.python.org/3/glossary.html\u001b[0m\u001b[90m \u001b[0m\n"
      ]
     },
     "metadata": {},
     "output_type": "display_data"
    },
    {
     "data": {
      "text/html": [
       "<pre style=\"white-space:pre;overflow-x:auto;line-height:normal;font-family:Menlo,'DejaVu Sans Mono',consolas,'Courier New',monospace\"><span style=\"color: #008080; text-decoration-color: #008080; font-weight: bold\">[</span><span style=\"color: #008080; text-decoration-color: #008080\">URL_SEED</span><span style=\"color: #008080; text-decoration-color: #008080; font-weight: bold\">]</span><span style=\"color: #008080; text-decoration-color: #008080\"> ℹ HEAD VALID for </span><span style=\"color: #008080; text-decoration-color: #008080; text-decoration: underline\">https://docs.python.org/3/extending/index.html</span><span style=\"color: #008080; text-decoration-color: #008080\"> </span>\n",
       "</pre>\n"
      ],
      "text/plain": [
       "\u001b[1;36m[\u001b[0m\u001b[36mURL_SEED\u001b[0m\u001b[1;36m]\u001b[0m\u001b[36m ℹ HEAD VALID for \u001b[0m\u001b[4;36mhttps://docs.python.org/3/extending/index.html\u001b[0m\u001b[36m \u001b[0m\n"
      ]
     },
     "metadata": {},
     "output_type": "display_data"
    },
    {
     "data": {
      "text/html": [
       "<pre style=\"white-space:pre;overflow-x:auto;line-height:normal;font-family:Menlo,'DejaVu Sans Mono',consolas,'Courier New',monospace\"><span style=\"color: #808080; text-decoration-color: #808080; font-weight: bold\">[</span><span style=\"color: #808080; text-decoration-color: #808080\">URL_SEED</span><span style=\"color: #808080; text-decoration-color: #808080; font-weight: bold\">]</span><span style=\"color: #808080; text-decoration-color: #808080\"> ℹ Filtered out nonsense URL: </span><span style=\"color: #808080; text-decoration-color: #808080; text-decoration: underline\">https://docs.python.org/3/search.html</span><span style=\"color: #808080; text-decoration-color: #808080\"> </span>\n",
       "</pre>\n"
      ],
      "text/plain": [
       "\u001b[1;90m[\u001b[0m\u001b[90mURL_SEED\u001b[0m\u001b[1;90m]\u001b[0m\u001b[90m ℹ Filtered out nonsense URL: \u001b[0m\u001b[4;90mhttps://docs.python.org/3/search.html\u001b[0m\u001b[90m \u001b[0m\n"
      ]
     },
     "metadata": {},
     "output_type": "display_data"
    },
    {
     "data": {
      "text/html": [
       "<pre style=\"white-space:pre;overflow-x:auto;line-height:normal;font-family:Menlo,'DejaVu Sans Mono',consolas,'Courier New',monospace\"><span style=\"color: #808080; text-decoration-color: #808080; font-weight: bold\">[</span><span style=\"color: #808080; text-decoration-color: #808080\">URL_SEED</span><span style=\"color: #808080; text-decoration-color: #808080; font-weight: bold\">]</span><span style=\"color: #808080; text-decoration-color: #808080\"> ℹ Fetching head for </span><span style=\"color: #808080; text-decoration-color: #808080; text-decoration: underline\">https://docs.python.org/3/contents.html</span><span style=\"color: #808080; text-decoration-color: #808080\"> </span>\n",
       "</pre>\n"
      ],
      "text/plain": [
       "\u001b[1;90m[\u001b[0m\u001b[90mURL_SEED\u001b[0m\u001b[1;90m]\u001b[0m\u001b[90m ℹ Fetching head for \u001b[0m\u001b[4;90mhttps://docs.python.org/3/contents.html\u001b[0m\u001b[90m \u001b[0m\n"
      ]
     },
     "metadata": {},
     "output_type": "display_data"
    },
    {
     "data": {
      "text/html": [
       "<pre style=\"white-space:pre;overflow-x:auto;line-height:normal;font-family:Menlo,'DejaVu Sans Mono',consolas,'Courier New',monospace\"><span style=\"color: #008080; text-decoration-color: #008080; font-weight: bold\">[</span><span style=\"color: #008080; text-decoration-color: #008080\">URL_SEED</span><span style=\"color: #008080; text-decoration-color: #008080; font-weight: bold\">]</span><span style=\"color: #008080; text-decoration-color: #008080\"> ℹ HEAD VALID for </span><span style=\"color: #008080; text-decoration-color: #008080; text-decoration: underline\">https://docs.python.org/3/c-api/index.html</span><span style=\"color: #008080; text-decoration-color: #008080\"> </span>\n",
       "</pre>\n"
      ],
      "text/plain": [
       "\u001b[1;36m[\u001b[0m\u001b[36mURL_SEED\u001b[0m\u001b[1;36m]\u001b[0m\u001b[36m ℹ HEAD VALID for \u001b[0m\u001b[4;36mhttps://docs.python.org/3/c-api/index.html\u001b[0m\u001b[36m \u001b[0m\n"
      ]
     },
     "metadata": {},
     "output_type": "display_data"
    },
    {
     "data": {
      "text/html": [
       "<pre style=\"white-space:pre;overflow-x:auto;line-height:normal;font-family:Menlo,'DejaVu Sans Mono',consolas,'Courier New',monospace\"><span style=\"color: #808080; text-decoration-color: #808080; font-weight: bold\">[</span><span style=\"color: #808080; text-decoration-color: #808080\">URL_SEED</span><span style=\"color: #808080; text-decoration-color: #808080; font-weight: bold\">]</span><span style=\"color: #808080; text-decoration-color: #808080\"> ℹ Fetching head for </span><span style=\"color: #808080; text-decoration-color: #808080; text-decoration: underline\">https://docs.python.org/3/bugs.html</span><span style=\"color: #808080; text-decoration-color: #808080\"> </span>\n",
       "</pre>\n"
      ],
      "text/plain": [
       "\u001b[1;90m[\u001b[0m\u001b[90mURL_SEED\u001b[0m\u001b[1;90m]\u001b[0m\u001b[90m ℹ Fetching head for \u001b[0m\u001b[4;90mhttps://docs.python.org/3/bugs.html\u001b[0m\u001b[90m \u001b[0m\n"
      ]
     },
     "metadata": {},
     "output_type": "display_data"
    },
    {
     "data": {
      "text/html": [
       "<pre style=\"white-space:pre;overflow-x:auto;line-height:normal;font-family:Menlo,'DejaVu Sans Mono',consolas,'Courier New',monospace\"><span style=\"color: #008080; text-decoration-color: #008080; font-weight: bold\">[</span><span style=\"color: #008080; text-decoration-color: #008080\">URL_SEED</span><span style=\"color: #008080; text-decoration-color: #008080; font-weight: bold\">]</span><span style=\"color: #008080; text-decoration-color: #008080\"> ℹ HEAD VALID for </span><span style=\"color: #008080; text-decoration-color: #008080; text-decoration: underline\">https://docs.python.org/3/glossary.html</span><span style=\"color: #008080; text-decoration-color: #008080\"> </span>\n",
       "</pre>\n"
      ],
      "text/plain": [
       "\u001b[1;36m[\u001b[0m\u001b[36mURL_SEED\u001b[0m\u001b[1;36m]\u001b[0m\u001b[36m ℹ HEAD VALID for \u001b[0m\u001b[4;36mhttps://docs.python.org/3/glossary.html\u001b[0m\u001b[36m \u001b[0m\n"
      ]
     },
     "metadata": {},
     "output_type": "display_data"
    },
    {
     "data": {
      "text/html": [
       "<pre style=\"white-space:pre;overflow-x:auto;line-height:normal;font-family:Menlo,'DejaVu Sans Mono',consolas,'Courier New',monospace\"><span style=\"color: #808080; text-decoration-color: #808080; font-weight: bold\">[</span><span style=\"color: #808080; text-decoration-color: #808080\">URL_SEED</span><span style=\"color: #808080; text-decoration-color: #808080; font-weight: bold\">]</span><span style=\"color: #808080; text-decoration-color: #808080\"> ℹ Fetching head for </span><span style=\"color: #808080; text-decoration-color: #808080; text-decoration: underline\">https://devguide.python.org/documentation/help-documenting</span><span style=\"color: #808080; text-decoration-color: #808080\"> </span>\n",
       "</pre>\n"
      ],
      "text/plain": [
       "\u001b[1;90m[\u001b[0m\u001b[90mURL_SEED\u001b[0m\u001b[1;90m]\u001b[0m\u001b[90m ℹ Fetching head for \u001b[0m\u001b[4;90mhttps://devguide.python.org/documentation/help-documenting\u001b[0m\u001b[90m \u001b[0m\n"
      ]
     },
     "metadata": {},
     "output_type": "display_data"
    },
    {
     "data": {
      "text/html": [
       "<pre style=\"white-space:pre;overflow-x:auto;line-height:normal;font-family:Menlo,'DejaVu Sans Mono',consolas,'Courier New',monospace\"><span style=\"color: #008080; text-decoration-color: #008080; font-weight: bold\">[</span><span style=\"color: #008080; text-decoration-color: #008080\">URL_SEED</span><span style=\"color: #008080; text-decoration-color: #008080; font-weight: bold\">]</span><span style=\"color: #008080; text-decoration-color: #008080\"> ℹ HEAD VALID for </span><span style=\"color: #008080; text-decoration-color: #008080; text-decoration: underline\">https://docs.python.org/3/deprecations/index.html</span><span style=\"color: #008080; text-decoration-color: #008080\"> </span>\n",
       "</pre>\n"
      ],
      "text/plain": [
       "\u001b[1;36m[\u001b[0m\u001b[36mURL_SEED\u001b[0m\u001b[1;36m]\u001b[0m\u001b[36m ℹ HEAD VALID for \u001b[0m\u001b[4;36mhttps://docs.python.org/3/deprecations/index.html\u001b[0m\u001b[36m \u001b[0m\n"
      ]
     },
     "metadata": {},
     "output_type": "display_data"
    },
    {
     "data": {
      "text/html": [
       "<pre style=\"white-space:pre;overflow-x:auto;line-height:normal;font-family:Menlo,'DejaVu Sans Mono',consolas,'Courier New',monospace\"><span style=\"color: #808080; text-decoration-color: #808080; font-weight: bold\">[</span><span style=\"color: #808080; text-decoration-color: #808080\">URL_SEED</span><span style=\"color: #808080; text-decoration-color: #808080; font-weight: bold\">]</span><span style=\"color: #808080; text-decoration-color: #808080\"> ℹ Fetching head for </span><span style=\"color: #808080; text-decoration-color: #808080; text-decoration: underline\">https://docs.python.org/3/license.html</span><span style=\"color: #808080; text-decoration-color: #808080\"> </span>\n",
       "</pre>\n"
      ],
      "text/plain": [
       "\u001b[1;90m[\u001b[0m\u001b[90mURL_SEED\u001b[0m\u001b[1;90m]\u001b[0m\u001b[90m ℹ Fetching head for \u001b[0m\u001b[4;90mhttps://docs.python.org/3/license.html\u001b[0m\u001b[90m \u001b[0m\n"
      ]
     },
     "metadata": {},
     "output_type": "display_data"
    },
    {
     "data": {
      "text/html": [
       "<pre style=\"white-space:pre;overflow-x:auto;line-height:normal;font-family:Menlo,'DejaVu Sans Mono',consolas,'Courier New',monospace\"><span style=\"color: #808080; text-decoration-color: #808080; font-weight: bold\">[</span><span style=\"color: #808080; text-decoration-color: #808080\">URL_SEED</span><span style=\"color: #808080; text-decoration-color: #808080; font-weight: bold\">]</span><span style=\"color: #808080; text-decoration-color: #808080\"> ℹ Redirecting from </span><span style=\"color: #808080; text-decoration-color: #808080; text-decoration: underline\">https://devguide.python.org/documentation/help-documenting</span><span style=\"color: #808080; text-decoration-color: #808080\"> to </span>\n",
       "<span style=\"color: #808080; text-decoration-color: #808080; text-decoration: underline\">https://devguide.python.org/documentation/help-documenting/</span><span style=\"color: #808080; text-decoration-color: #808080\"> </span>\n",
       "</pre>\n"
      ],
      "text/plain": [
       "\u001b[1;90m[\u001b[0m\u001b[90mURL_SEED\u001b[0m\u001b[1;90m]\u001b[0m\u001b[90m ℹ Redirecting from \u001b[0m\u001b[4;90mhttps://devguide.python.org/documentation/help-documenting\u001b[0m\u001b[90m to \u001b[0m\n",
       "\u001b[4;90mhttps://devguide.python.org/documentation/help-documenting/\u001b[0m\u001b[90m \u001b[0m\n"
      ]
     },
     "metadata": {},
     "output_type": "display_data"
    },
    {
     "data": {
      "text/html": [
       "<pre style=\"white-space:pre;overflow-x:auto;line-height:normal;font-family:Menlo,'DejaVu Sans Mono',consolas,'Courier New',monospace\"><span style=\"color: #008080; text-decoration-color: #008080; font-weight: bold\">[</span><span style=\"color: #008080; text-decoration-color: #008080\">URL_SEED</span><span style=\"color: #008080; text-decoration-color: #008080; font-weight: bold\">]</span><span style=\"color: #008080; text-decoration-color: #008080\"> ℹ HEAD VALID for </span><span style=\"color: #008080; text-decoration-color: #008080; text-decoration: underline\">https://docs.python.org/3/faq/index.html</span><span style=\"color: #008080; text-decoration-color: #008080\"> </span>\n",
       "</pre>\n"
      ],
      "text/plain": [
       "\u001b[1;36m[\u001b[0m\u001b[36mURL_SEED\u001b[0m\u001b[1;36m]\u001b[0m\u001b[36m ℹ HEAD VALID for \u001b[0m\u001b[4;36mhttps://docs.python.org/3/faq/index.html\u001b[0m\u001b[36m \u001b[0m\n"
      ]
     },
     "metadata": {},
     "output_type": "display_data"
    },
    {
     "data": {
      "text/html": [
       "<pre style=\"white-space:pre;overflow-x:auto;line-height:normal;font-family:Menlo,'DejaVu Sans Mono',consolas,'Courier New',monospace\"><span style=\"color: #808080; text-decoration-color: #808080; font-weight: bold\">[</span><span style=\"color: #808080; text-decoration-color: #808080\">URL_SEED</span><span style=\"color: #808080; text-decoration-color: #808080; font-weight: bold\">]</span><span style=\"color: #808080; text-decoration-color: #808080\"> ℹ Fetching head for </span><span style=\"color: #808080; text-decoration-color: #808080; text-decoration: underline\">https://docs.python.org/3/copyright.html</span><span style=\"color: #808080; text-decoration-color: #808080\"> </span>\n",
       "</pre>\n"
      ],
      "text/plain": [
       "\u001b[1;90m[\u001b[0m\u001b[90mURL_SEED\u001b[0m\u001b[1;90m]\u001b[0m\u001b[90m ℹ Fetching head for \u001b[0m\u001b[4;90mhttps://docs.python.org/3/copyright.html\u001b[0m\u001b[90m \u001b[0m\n"
      ]
     },
     "metadata": {},
     "output_type": "display_data"
    },
    {
     "data": {
      "text/html": [
       "<pre style=\"white-space:pre;overflow-x:auto;line-height:normal;font-family:Menlo,'DejaVu Sans Mono',consolas,'Courier New',monospace\"><span style=\"color: #008080; text-decoration-color: #008080; font-weight: bold\">[</span><span style=\"color: #008080; text-decoration-color: #008080\">URL_SEED</span><span style=\"color: #008080; text-decoration-color: #008080; font-weight: bold\">]</span><span style=\"color: #008080; text-decoration-color: #008080\"> ℹ HEAD VALID for </span><span style=\"color: #008080; text-decoration-color: #008080; text-decoration: underline\">https://docs.python.org/3/contents.html</span><span style=\"color: #008080; text-decoration-color: #008080\"> </span>\n",
       "</pre>\n"
      ],
      "text/plain": [
       "\u001b[1;36m[\u001b[0m\u001b[36mURL_SEED\u001b[0m\u001b[1;36m]\u001b[0m\u001b[36m ℹ HEAD VALID for \u001b[0m\u001b[4;36mhttps://docs.python.org/3/contents.html\u001b[0m\u001b[36m \u001b[0m\n"
      ]
     },
     "metadata": {},
     "output_type": "display_data"
    },
    {
     "data": {
      "text/html": [
       "<pre style=\"white-space:pre;overflow-x:auto;line-height:normal;font-family:Menlo,'DejaVu Sans Mono',consolas,'Courier New',monospace\"><span style=\"color: #808080; text-decoration-color: #808080; font-weight: bold\">[</span><span style=\"color: #808080; text-decoration-color: #808080\">URL_SEED</span><span style=\"color: #808080; text-decoration-color: #808080; font-weight: bold\">]</span><span style=\"color: #808080; text-decoration-color: #808080\"> ℹ Fetching head for </span><span style=\"color: #808080; text-decoration-color: #808080; text-decoration: underline\">https://docs.python.org/3/about.html</span><span style=\"color: #808080; text-decoration-color: #808080\"> </span>\n",
       "</pre>\n"
      ],
      "text/plain": [
       "\u001b[1;90m[\u001b[0m\u001b[90mURL_SEED\u001b[0m\u001b[1;90m]\u001b[0m\u001b[90m ℹ Fetching head for \u001b[0m\u001b[4;90mhttps://docs.python.org/3/about.html\u001b[0m\u001b[90m \u001b[0m\n"
      ]
     },
     "metadata": {},
     "output_type": "display_data"
    },
    {
     "data": {
      "text/html": [
       "<pre style=\"white-space:pre;overflow-x:auto;line-height:normal;font-family:Menlo,'DejaVu Sans Mono',consolas,'Courier New',monospace\"><span style=\"color: #008080; text-decoration-color: #008080; font-weight: bold\">[</span><span style=\"color: #008080; text-decoration-color: #008080\">URL_SEED</span><span style=\"color: #008080; text-decoration-color: #008080; font-weight: bold\">]</span><span style=\"color: #008080; text-decoration-color: #008080\"> ℹ HEAD VALID for </span><span style=\"color: #008080; text-decoration-color: #008080; text-decoration: underline\">https://docs.python.org/3/license.html</span><span style=\"color: #008080; text-decoration-color: #008080\"> </span>\n",
       "</pre>\n"
      ],
      "text/plain": [
       "\u001b[1;36m[\u001b[0m\u001b[36mURL_SEED\u001b[0m\u001b[1;36m]\u001b[0m\u001b[36m ℹ HEAD VALID for \u001b[0m\u001b[4;36mhttps://docs.python.org/3/license.html\u001b[0m\u001b[36m \u001b[0m\n"
      ]
     },
     "metadata": {},
     "output_type": "display_data"
    },
    {
     "data": {
      "text/html": [
       "<pre style=\"white-space:pre;overflow-x:auto;line-height:normal;font-family:Menlo,'DejaVu Sans Mono',consolas,'Courier New',monospace\"><span style=\"color: #008080; text-decoration-color: #008080; font-weight: bold\">[</span><span style=\"color: #008080; text-decoration-color: #008080\">URL_SEED</span><span style=\"color: #008080; text-decoration-color: #008080; font-weight: bold\">]</span><span style=\"color: #008080; text-decoration-color: #008080\"> ℹ HEAD VALID for </span><span style=\"color: #008080; text-decoration-color: #008080; text-decoration: underline\">https://docs.python.org/3/bugs.html</span><span style=\"color: #008080; text-decoration-color: #008080\"> </span>\n",
       "</pre>\n"
      ],
      "text/plain": [
       "\u001b[1;36m[\u001b[0m\u001b[36mURL_SEED\u001b[0m\u001b[1;36m]\u001b[0m\u001b[36m ℹ HEAD VALID for \u001b[0m\u001b[4;36mhttps://docs.python.org/3/bugs.html\u001b[0m\u001b[36m \u001b[0m\n"
      ]
     },
     "metadata": {},
     "output_type": "display_data"
    },
    {
     "data": {
      "text/html": [
       "<pre style=\"white-space:pre;overflow-x:auto;line-height:normal;font-family:Menlo,'DejaVu Sans Mono',consolas,'Courier New',monospace\"><span style=\"color: #008080; text-decoration-color: #008080; font-weight: bold\">[</span><span style=\"color: #008080; text-decoration-color: #008080\">URL_SEED</span><span style=\"color: #008080; text-decoration-color: #008080; font-weight: bold\">]</span><span style=\"color: #008080; text-decoration-color: #008080\"> ℹ HEAD VALID for </span><span style=\"color: #008080; text-decoration-color: #008080; text-decoration: underline\">https://devguide.python.org/documentation/help-documenting/</span><span style=\"color: #008080; text-decoration-color: #008080\"> </span>\n",
       "</pre>\n"
      ],
      "text/plain": [
       "\u001b[1;36m[\u001b[0m\u001b[36mURL_SEED\u001b[0m\u001b[1;36m]\u001b[0m\u001b[36m ℹ HEAD VALID for \u001b[0m\u001b[4;36mhttps://devguide.python.org/documentation/help-documenting/\u001b[0m\u001b[36m \u001b[0m\n"
      ]
     },
     "metadata": {},
     "output_type": "display_data"
    },
    {
     "data": {
      "text/html": [
       "<pre style=\"white-space:pre;overflow-x:auto;line-height:normal;font-family:Menlo,'DejaVu Sans Mono',consolas,'Courier New',monospace\"><span style=\"color: #008080; text-decoration-color: #008080; font-weight: bold\">[</span><span style=\"color: #008080; text-decoration-color: #008080\">URL_SEED</span><span style=\"color: #008080; text-decoration-color: #008080; font-weight: bold\">]</span><span style=\"color: #008080; text-decoration-color: #008080\"> ℹ HEAD VALID for </span><span style=\"color: #008080; text-decoration-color: #008080; text-decoration: underline\">https://docs.python.org/3/copyright.html</span><span style=\"color: #008080; text-decoration-color: #008080\"> </span>\n",
       "</pre>\n"
      ],
      "text/plain": [
       "\u001b[1;36m[\u001b[0m\u001b[36mURL_SEED\u001b[0m\u001b[1;36m]\u001b[0m\u001b[36m ℹ HEAD VALID for \u001b[0m\u001b[4;36mhttps://docs.python.org/3/copyright.html\u001b[0m\u001b[36m \u001b[0m\n"
      ]
     },
     "metadata": {},
     "output_type": "display_data"
    },
    {
     "data": {
      "text/html": [
       "<pre style=\"white-space:pre;overflow-x:auto;line-height:normal;font-family:Menlo,'DejaVu Sans Mono',consolas,'Courier New',monospace\"><span style=\"color: #008080; text-decoration-color: #008080; font-weight: bold\">[</span><span style=\"color: #008080; text-decoration-color: #008080\">URL_SEED</span><span style=\"color: #008080; text-decoration-color: #008080; font-weight: bold\">]</span><span style=\"color: #008080; text-decoration-color: #008080\"> ℹ HEAD VALID for </span><span style=\"color: #008080; text-decoration-color: #008080; text-decoration: underline\">https://docs.python.org/3/about.html</span><span style=\"color: #008080; text-decoration-color: #008080\"> </span>\n",
       "</pre>\n"
      ],
      "text/plain": [
       "\u001b[1;36m[\u001b[0m\u001b[36mURL_SEED\u001b[0m\u001b[1;36m]\u001b[0m\u001b[36m ℹ HEAD VALID for \u001b[0m\u001b[4;36mhttps://docs.python.org/3/about.html\u001b[0m\u001b[36m \u001b[0m\n"
      ]
     },
     "metadata": {},
     "output_type": "display_data"
    },
    {
     "data": {
      "text/html": [
       "<pre style=\"white-space:pre;overflow-x:auto;line-height:normal;font-family:Menlo,'DejaVu Sans Mono',consolas,'Courier New',monospace\"><span style=\"color: #008080; text-decoration-color: #008080; font-weight: bold\">[</span><span style=\"color: #008080; text-decoration-color: #008080\">URL_SEED</span><span style=\"color: #008080; text-decoration-color: #008080; font-weight: bold\">]</span><span style=\"color: #008080; text-decoration-color: #008080\"> ℹ Completed head extraction for </span><span style=\"color: #008080; text-decoration-color: #008080; font-weight: bold\">50</span><span style=\"color: #008080; text-decoration-color: #008080\"> URLs, </span><span style=\"color: #008080; text-decoration-color: #008080; font-weight: bold\">48</span><span style=\"color: #008080; text-decoration-color: #008080\"> successful </span>\n",
       "</pre>\n"
      ],
      "text/plain": [
       "\u001b[1;36m[\u001b[0m\u001b[36mURL_SEED\u001b[0m\u001b[1;36m]\u001b[0m\u001b[36m ℹ Completed head extraction for \u001b[0m\u001b[1;36m50\u001b[0m\u001b[36m URLs, \u001b[0m\u001b[1;36m48\u001b[0m\u001b[36m successful \u001b[0m\n"
      ]
     },
     "metadata": {},
     "output_type": "display_data"
    },
    {
     "data": {
      "text/html": [
       "<pre style=\"white-space:pre;overflow-x:auto;line-height:normal;font-family:Menlo,'DejaVu Sans Mono',consolas,'Courier New',monospace\"><span style=\"color: #008080; text-decoration-color: #008080; font-weight: bold\">[</span><span style=\"color: #008080; text-decoration-color: #008080\">LINK_EXTRACT</span><span style=\"color: #008080; text-decoration-color: #008080; font-weight: bold\">]</span><span style=\"color: #008080; text-decoration-color: #008080\"> ℹ Completed head extraction for links, </span><span style=\"color: #008080; text-decoration-color: #008080; font-weight: bold\">48</span><span style=\"color: #008080; text-decoration-color: #008080\"> successful </span>\n",
       "</pre>\n"
      ],
      "text/plain": [
       "\u001b[1;36m[\u001b[0m\u001b[36mLINK_EXTRACT\u001b[0m\u001b[1;36m]\u001b[0m\u001b[36m ℹ Completed head extraction for links, \u001b[0m\u001b[1;36m48\u001b[0m\u001b[36m successful \u001b[0m\n"
      ]
     },
     "metadata": {},
     "output_type": "display_data"
    },
    {
     "data": {
      "text/html": [
       "<pre style=\"white-space:pre;overflow-x:auto;line-height:normal;font-family:Menlo,'DejaVu Sans Mono',consolas,'Courier New',monospace\"><span style=\"color: #808080; text-decoration-color: #808080; font-weight: bold\">[</span><span style=\"color: #808080; text-decoration-color: #808080\">URL_SEED</span><span style=\"color: #808080; text-decoration-color: #808080; font-weight: bold\">]</span><span style=\"color: #808080; text-decoration-color: #808080\"> ℹ Closed HTTP client </span>\n",
       "</pre>\n"
      ],
      "text/plain": [
       "\u001b[1;90m[\u001b[0m\u001b[90mURL_SEED\u001b[0m\u001b[1;90m]\u001b[0m\u001b[90m ℹ Closed HTTP client \u001b[0m\n"
      ]
     },
     "metadata": {},
     "output_type": "display_data"
    },
    {
     "data": {
      "text/html": [
       "<pre style=\"white-space:pre;overflow-x:auto;line-height:normal;font-family:Menlo,'DejaVu Sans Mono',consolas,'Courier New',monospace\"><span style=\"color: #008080; text-decoration-color: #008080; font-weight: bold\">[</span><span style=\"color: #008080; text-decoration-color: #008080\">LINK_EXTRACT</span><span style=\"color: #008080; text-decoration-color: #008080; font-weight: bold\">]</span><span style=\"color: #008080; text-decoration-color: #008080\"> ℹ Link head extraction completed successfully </span>\n",
       "</pre>\n"
      ],
      "text/plain": [
       "\u001b[1;36m[\u001b[0m\u001b[36mLINK_EXTRACT\u001b[0m\u001b[1;36m]\u001b[0m\u001b[36m ℹ Link head extraction completed successfully \u001b[0m\n"
      ]
     },
     "metadata": {},
     "output_type": "display_data"
    },
    {
     "data": {
      "text/html": [
       "<pre style=\"white-space:pre;overflow-x:auto;line-height:normal;font-family:Menlo,'DejaVu Sans Mono',consolas,'Courier New',monospace\"><span style=\"color: #008000; text-decoration-color: #008000; font-weight: bold\">[</span><span style=\"color: #008000; text-decoration-color: #008000\">SCRAPE</span><span style=\"color: #008000; text-decoration-color: #008000; font-weight: bold\">]</span><span style=\"color: #008000; text-decoration-color: #008000\">.. ◆ </span><span style=\"color: #008000; text-decoration-color: #008000; text-decoration: underline\">https://docs.python.org/3/</span><span style=\"color: #008000; text-decoration-color: #008000\">                                                                           |</span>\n",
       "<span style=\"color: #008000; text-decoration-color: #008000\">✓ | ⏱: </span><span style=\"color: #008000; text-decoration-color: #008000; font-weight: bold\">4.</span><span style=\"color: #008000; text-decoration-color: #008000\">97s </span>\n",
       "</pre>\n"
      ],
      "text/plain": [
       "\u001b[1;32m[\u001b[0m\u001b[32mSCRAPE\u001b[0m\u001b[1;32m]\u001b[0m\u001b[32m.. ◆ \u001b[0m\u001b[4;32mhttps://docs.python.org/3/\u001b[0m\u001b[32m                                                                           |\u001b[0m\n",
       "\u001b[32m✓\u001b[0m\u001b[32m | ⏱: \u001b[0m\u001b[1;32m4.\u001b[0m\u001b[32m97s \u001b[0m\n"
      ]
     },
     "metadata": {},
     "output_type": "display_data"
    },
    {
     "data": {
      "text/html": [
       "<pre style=\"white-space:pre;overflow-x:auto;line-height:normal;font-family:Menlo,'DejaVu Sans Mono',consolas,'Courier New',monospace\"><span style=\"color: #008000; text-decoration-color: #008000; font-weight: bold\">[</span><span style=\"color: #008000; text-decoration-color: #008000\">COMPLETE</span><span style=\"color: #008000; text-decoration-color: #008000; font-weight: bold\">]</span><span style=\"color: #008000; text-decoration-color: #008000\"> ● </span><span style=\"color: #008000; text-decoration-color: #008000; text-decoration: underline\">https://docs.python.org/3/</span><span style=\"color: #008000; text-decoration-color: #008000\">                                                                           |</span>\n",
       "<span style=\"color: #008000; text-decoration-color: #008000\">✓ | ⏱: </span><span style=\"color: #008000; text-decoration-color: #008000; font-weight: bold\">6.</span><span style=\"color: #008000; text-decoration-color: #008000\">05s </span>\n",
       "</pre>\n"
      ],
      "text/plain": [
       "\u001b[1;32m[\u001b[0m\u001b[32mCOMPLETE\u001b[0m\u001b[1;32m]\u001b[0m\u001b[32m ● \u001b[0m\u001b[4;32mhttps://docs.python.org/3/\u001b[0m\u001b[32m                                                                           |\u001b[0m\n",
       "\u001b[32m✓\u001b[0m\u001b[32m | ⏱: \u001b[0m\u001b[1;32m6.\u001b[0m\u001b[32m05s \u001b[0m\n"
      ]
     },
     "metadata": {},
     "output_type": "display_data"
    },
    {
     "data": {
      "text/html": [
       "<pre style=\"white-space:pre;overflow-x:auto;line-height:normal;font-family:Menlo,'DejaVu Sans Mono',consolas,'Courier New',monospace\"><span style=\"color: #008000; text-decoration-color: #008000; font-weight: bold\">[</span><span style=\"color: #008000; text-decoration-color: #008000\">FETCH</span><span style=\"color: #008000; text-decoration-color: #008000; font-weight: bold\">]</span><span style=\"color: #008000; text-decoration-color: #008000\">... ↓ </span><span style=\"color: #008000; text-decoration-color: #008000; text-decoration: underline\">https://docs.python.org/3/c-api/index.html</span><span style=\"color: #008000; text-decoration-color: #008000\">                                                           |</span>\n",
       "<span style=\"color: #008000; text-decoration-color: #008000\">✓ | ⏱: </span><span style=\"color: #008000; text-decoration-color: #008000; font-weight: bold\">1.</span><span style=\"color: #008000; text-decoration-color: #008000\">03s </span>\n",
       "</pre>\n"
      ],
      "text/plain": [
       "\u001b[1;32m[\u001b[0m\u001b[32mFETCH\u001b[0m\u001b[1;32m]\u001b[0m\u001b[32m...\u001b[0m\u001b[32m ↓ \u001b[0m\u001b[4;32mhttps://docs.python.org/3/c-api/index.html\u001b[0m\u001b[32m                                                           |\u001b[0m\n",
       "\u001b[32m✓\u001b[0m\u001b[32m | ⏱: \u001b[0m\u001b[1;32m1.\u001b[0m\u001b[32m03s \u001b[0m\n"
      ]
     },
     "metadata": {},
     "output_type": "display_data"
    },
    {
     "data": {
      "text/html": [
       "<pre style=\"white-space:pre;overflow-x:auto;line-height:normal;font-family:Menlo,'DejaVu Sans Mono',consolas,'Courier New',monospace\"><span style=\"color: #808080; text-decoration-color: #808080; font-weight: bold\">[</span><span style=\"color: #808080; text-decoration-color: #808080\">LINK_EXTRACT</span><span style=\"color: #808080; text-decoration-color: #808080; font-weight: bold\">]</span><span style=\"color: #808080; text-decoration-color: #808080\"> ℹ Added </span><span style=\"color: #808080; text-decoration-color: #808080; font-weight: bold\">47</span><span style=\"color: #808080; text-decoration-color: #808080\"> internal links </span>\n",
       "</pre>\n"
      ],
      "text/plain": [
       "\u001b[1;90m[\u001b[0m\u001b[90mLINK_EXTRACT\u001b[0m\u001b[1;90m]\u001b[0m\u001b[90m ℹ Added \u001b[0m\u001b[1;90m47\u001b[0m\u001b[90m internal links \u001b[0m\n"
      ]
     },
     "metadata": {},
     "output_type": "display_data"
    },
    {
     "data": {
      "text/html": [
       "<pre style=\"white-space:pre;overflow-x:auto;line-height:normal;font-family:Menlo,'DejaVu Sans Mono',consolas,'Courier New',monospace\"><span style=\"color: #808080; text-decoration-color: #808080; font-weight: bold\">[</span><span style=\"color: #808080; text-decoration-color: #808080\">LINK_EXTRACT</span><span style=\"color: #808080; text-decoration-color: #808080; font-weight: bold\">]</span><span style=\"color: #808080; text-decoration-color: #808080\"> ℹ Final filtered URLs: </span><span style=\"color: #808080; text-decoration-color: #808080; font-weight: bold\">47</span><span style=\"color: #808080; text-decoration-color: #808080\"> unique links </span>\n",
       "</pre>\n"
      ],
      "text/plain": [
       "\u001b[1;90m[\u001b[0m\u001b[90mLINK_EXTRACT\u001b[0m\u001b[1;90m]\u001b[0m\u001b[90m ℹ Final filtered URLs: \u001b[0m\u001b[1;90m47\u001b[0m\u001b[90m unique links \u001b[0m\n"
      ]
     },
     "metadata": {},
     "output_type": "display_data"
    },
    {
     "data": {
      "text/html": [
       "<pre style=\"white-space:pre;overflow-x:auto;line-height:normal;font-family:Menlo,'DejaVu Sans Mono',consolas,'Courier New',monospace\"><span style=\"color: #008080; text-decoration-color: #008080; font-weight: bold\">[</span><span style=\"color: #008080; text-decoration-color: #008080\">LINK_EXTRACT</span><span style=\"color: #008080; text-decoration-color: #008080; font-weight: bold\">]</span><span style=\"color: #008080; text-decoration-color: #008080\"> ℹ Extracting head content for </span><span style=\"color: #008080; text-decoration-color: #008080; font-weight: bold\">47</span><span style=\"color: #008080; text-decoration-color: #008080\"> filtered links </span>\n",
       "</pre>\n"
      ],
      "text/plain": [
       "\u001b[1;36m[\u001b[0m\u001b[36mLINK_EXTRACT\u001b[0m\u001b[1;36m]\u001b[0m\u001b[36m ℹ Extracting head content for \u001b[0m\u001b[1;36m47\u001b[0m\u001b[36m filtered links \u001b[0m\n"
      ]
     },
     "metadata": {},
     "output_type": "display_data"
    },
    {
     "data": {
      "text/html": [
       "<pre style=\"white-space:pre;overflow-x:auto;line-height:normal;font-family:Menlo,'DejaVu Sans Mono',consolas,'Courier New',monospace\"><span style=\"color: #008080; text-decoration-color: #008080; font-weight: bold\">[</span><span style=\"color: #008080; text-decoration-color: #008080\">URL_SEED</span><span style=\"color: #008080; text-decoration-color: #008080; font-weight: bold\">]</span><span style=\"color: #008080; text-decoration-color: #008080\"> ℹ Starting head extraction for </span><span style=\"color: #008080; text-decoration-color: #008080; font-weight: bold\">47</span><span style=\"color: #008080; text-decoration-color: #008080\"> custom URLs </span>\n",
       "</pre>\n"
      ],
      "text/plain": [
       "\u001b[1;36m[\u001b[0m\u001b[36mURL_SEED\u001b[0m\u001b[1;36m]\u001b[0m\u001b[36m ℹ Starting head extraction for \u001b[0m\u001b[1;36m47\u001b[0m\u001b[36m custom URLs \u001b[0m\n"
      ]
     },
     "metadata": {},
     "output_type": "display_data"
    },
    {
     "data": {
      "text/html": [
       "<pre style=\"white-space:pre;overflow-x:auto;line-height:normal;font-family:Menlo,'DejaVu Sans Mono',consolas,'Courier New',monospace\"><span style=\"color: #808080; text-decoration-color: #808080; font-weight: bold\">[</span><span style=\"color: #808080; text-decoration-color: #808080\">URL_SEED</span><span style=\"color: #808080; text-decoration-color: #808080; font-weight: bold\">]</span><span style=\"color: #808080; text-decoration-color: #808080\"> ℹ Fetching head for </span><span style=\"color: #808080; text-decoration-color: #808080; text-decoration: underline\">https://docs.python.org/3/extending/embedding.html</span><span style=\"color: #808080; text-decoration-color: #808080\"> </span>\n",
       "</pre>\n"
      ],
      "text/plain": [
       "\u001b[1;90m[\u001b[0m\u001b[90mURL_SEED\u001b[0m\u001b[1;90m]\u001b[0m\u001b[90m ℹ Fetching head for \u001b[0m\u001b[4;90mhttps://docs.python.org/3/extending/embedding.html\u001b[0m\u001b[90m \u001b[0m\n"
      ]
     },
     "metadata": {},
     "output_type": "display_data"
    },
    {
     "data": {
      "text/html": [
       "<pre style=\"white-space:pre;overflow-x:auto;line-height:normal;font-family:Menlo,'DejaVu Sans Mono',consolas,'Courier New',monospace\"><span style=\"color: #808080; text-decoration-color: #808080; font-weight: bold\">[</span><span style=\"color: #808080; text-decoration-color: #808080\">URL_SEED</span><span style=\"color: #808080; text-decoration-color: #808080; font-weight: bold\">]</span><span style=\"color: #808080; text-decoration-color: #808080\"> ℹ Fetching head for </span><span style=\"color: #808080; text-decoration-color: #808080; text-decoration: underline\">https://docs.python.org/3/c-api/intro.html</span><span style=\"color: #808080; text-decoration-color: #808080\"> </span>\n",
       "</pre>\n"
      ],
      "text/plain": [
       "\u001b[1;90m[\u001b[0m\u001b[90mURL_SEED\u001b[0m\u001b[1;90m]\u001b[0m\u001b[90m ℹ Fetching head for \u001b[0m\u001b[4;90mhttps://docs.python.org/3/c-api/intro.html\u001b[0m\u001b[90m \u001b[0m\n"
      ]
     },
     "metadata": {},
     "output_type": "display_data"
    },
    {
     "data": {
      "text/html": [
       "<pre style=\"white-space:pre;overflow-x:auto;line-height:normal;font-family:Menlo,'DejaVu Sans Mono',consolas,'Courier New',monospace\"><span style=\"color: #808080; text-decoration-color: #808080; font-weight: bold\">[</span><span style=\"color: #808080; text-decoration-color: #808080\">URL_SEED</span><span style=\"color: #808080; text-decoration-color: #808080; font-weight: bold\">]</span><span style=\"color: #808080; text-decoration-color: #808080\"> ℹ Fetching head for </span><span style=\"color: #808080; text-decoration-color: #808080; text-decoration: underline\">https://docs.python.org/3/index.html</span><span style=\"color: #808080; text-decoration-color: #808080\"> </span>\n",
       "</pre>\n"
      ],
      "text/plain": [
       "\u001b[1;90m[\u001b[0m\u001b[90mURL_SEED\u001b[0m\u001b[1;90m]\u001b[0m\u001b[90m ℹ Fetching head for \u001b[0m\u001b[4;90mhttps://docs.python.org/3/index.html\u001b[0m\u001b[90m \u001b[0m\n"
      ]
     },
     "metadata": {},
     "output_type": "display_data"
    },
    {
     "data": {
      "text/html": [
       "<pre style=\"white-space:pre;overflow-x:auto;line-height:normal;font-family:Menlo,'DejaVu Sans Mono',consolas,'Courier New',monospace\"><span style=\"color: #808080; text-decoration-color: #808080; font-weight: bold\">[</span><span style=\"color: #808080; text-decoration-color: #808080\">URL_SEED</span><span style=\"color: #808080; text-decoration-color: #808080; font-weight: bold\">]</span><span style=\"color: #808080; text-decoration-color: #808080\"> ℹ Fetching head for </span><span style=\"color: #808080; text-decoration-color: #808080; text-decoration: underline\">https://docs.python.org/3/c-api/stable.html</span><span style=\"color: #808080; text-decoration-color: #808080\"> </span>\n",
       "</pre>\n"
      ],
      "text/plain": [
       "\u001b[1;90m[\u001b[0m\u001b[90mURL_SEED\u001b[0m\u001b[1;90m]\u001b[0m\u001b[90m ℹ Fetching head for \u001b[0m\u001b[4;90mhttps://docs.python.org/3/c-api/stable.html\u001b[0m\u001b[90m \u001b[0m\n"
      ]
     },
     "metadata": {},
     "output_type": "display_data"
    },
    {
     "data": {
      "text/html": [
       "<pre style=\"white-space:pre;overflow-x:auto;line-height:normal;font-family:Menlo,'DejaVu Sans Mono',consolas,'Courier New',monospace\"><span style=\"color: #808080; text-decoration-color: #808080; font-weight: bold\">[</span><span style=\"color: #808080; text-decoration-color: #808080\">URL_SEED</span><span style=\"color: #808080; text-decoration-color: #808080; font-weight: bold\">]</span><span style=\"color: #808080; text-decoration-color: #808080\"> ℹ Fetching head for </span><span style=\"color: #808080; text-decoration-color: #808080; text-decoration: underline\">https://docs.python.org/3/c-api/veryhigh.html</span><span style=\"color: #808080; text-decoration-color: #808080\"> </span>\n",
       "</pre>\n"
      ],
      "text/plain": [
       "\u001b[1;90m[\u001b[0m\u001b[90mURL_SEED\u001b[0m\u001b[1;90m]\u001b[0m\u001b[90m ℹ Fetching head for \u001b[0m\u001b[4;90mhttps://docs.python.org/3/c-api/veryhigh.html\u001b[0m\u001b[90m \u001b[0m\n"
      ]
     },
     "metadata": {},
     "output_type": "display_data"
    },
    {
     "data": {
      "text/html": [
       "<pre style=\"white-space:pre;overflow-x:auto;line-height:normal;font-family:Menlo,'DejaVu Sans Mono',consolas,'Courier New',monospace\"><span style=\"color: #008080; text-decoration-color: #008080; font-weight: bold\">[</span><span style=\"color: #008080; text-decoration-color: #008080\">URL_SEED</span><span style=\"color: #008080; text-decoration-color: #008080; font-weight: bold\">]</span><span style=\"color: #008080; text-decoration-color: #008080\"> ℹ HEAD VALID for </span><span style=\"color: #008080; text-decoration-color: #008080; text-decoration: underline\">https://docs.python.org/3/extending/embedding.html</span><span style=\"color: #008080; text-decoration-color: #008080\"> </span>\n",
       "</pre>\n"
      ],
      "text/plain": [
       "\u001b[1;36m[\u001b[0m\u001b[36mURL_SEED\u001b[0m\u001b[1;36m]\u001b[0m\u001b[36m ℹ HEAD VALID for \u001b[0m\u001b[4;36mhttps://docs.python.org/3/extending/embedding.html\u001b[0m\u001b[36m \u001b[0m\n"
      ]
     },
     "metadata": {},
     "output_type": "display_data"
    },
    {
     "data": {
      "text/html": [
       "<pre style=\"white-space:pre;overflow-x:auto;line-height:normal;font-family:Menlo,'DejaVu Sans Mono',consolas,'Courier New',monospace\"><span style=\"color: #808080; text-decoration-color: #808080; font-weight: bold\">[</span><span style=\"color: #808080; text-decoration-color: #808080\">URL_SEED</span><span style=\"color: #808080; text-decoration-color: #808080; font-weight: bold\">]</span><span style=\"color: #808080; text-decoration-color: #808080\"> ℹ Fetching head for </span><span style=\"color: #808080; text-decoration-color: #808080; text-decoration: underline\">https://docs.python.org/3/c-api/refcounting.html</span><span style=\"color: #808080; text-decoration-color: #808080\"> </span>\n",
       "</pre>\n"
      ],
      "text/plain": [
       "\u001b[1;90m[\u001b[0m\u001b[90mURL_SEED\u001b[0m\u001b[1;90m]\u001b[0m\u001b[90m ℹ Fetching head for \u001b[0m\u001b[4;90mhttps://docs.python.org/3/c-api/refcounting.html\u001b[0m\u001b[90m \u001b[0m\n"
      ]
     },
     "metadata": {},
     "output_type": "display_data"
    },
    {
     "data": {
      "text/html": [
       "<pre style=\"white-space:pre;overflow-x:auto;line-height:normal;font-family:Menlo,'DejaVu Sans Mono',consolas,'Courier New',monospace\"><span style=\"color: #008080; text-decoration-color: #008080; font-weight: bold\">[</span><span style=\"color: #008080; text-decoration-color: #008080\">URL_SEED</span><span style=\"color: #008080; text-decoration-color: #008080; font-weight: bold\">]</span><span style=\"color: #008080; text-decoration-color: #008080\"> ℹ HEAD VALID for </span><span style=\"color: #008080; text-decoration-color: #008080; text-decoration: underline\">https://docs.python.org/3/c-api/veryhigh.html</span><span style=\"color: #008080; text-decoration-color: #008080\"> </span>\n",
       "</pre>\n"
      ],
      "text/plain": [
       "\u001b[1;36m[\u001b[0m\u001b[36mURL_SEED\u001b[0m\u001b[1;36m]\u001b[0m\u001b[36m ℹ HEAD VALID for \u001b[0m\u001b[4;36mhttps://docs.python.org/3/c-api/veryhigh.html\u001b[0m\u001b[36m \u001b[0m\n"
      ]
     },
     "metadata": {},
     "output_type": "display_data"
    },
    {
     "data": {
      "text/html": [
       "<pre style=\"white-space:pre;overflow-x:auto;line-height:normal;font-family:Menlo,'DejaVu Sans Mono',consolas,'Courier New',monospace\"><span style=\"color: #808080; text-decoration-color: #808080; font-weight: bold\">[</span><span style=\"color: #808080; text-decoration-color: #808080\">URL_SEED</span><span style=\"color: #808080; text-decoration-color: #808080; font-weight: bold\">]</span><span style=\"color: #808080; text-decoration-color: #808080\"> ℹ Fetching head for </span><span style=\"color: #808080; text-decoration-color: #808080; text-decoration: underline\">https://docs.python.org/3/c-api/exceptions.html</span><span style=\"color: #808080; text-decoration-color: #808080\"> </span>\n",
       "</pre>\n"
      ],
      "text/plain": [
       "\u001b[1;90m[\u001b[0m\u001b[90mURL_SEED\u001b[0m\u001b[1;90m]\u001b[0m\u001b[90m ℹ Fetching head for \u001b[0m\u001b[4;90mhttps://docs.python.org/3/c-api/exceptions.html\u001b[0m\u001b[90m \u001b[0m\n"
      ]
     },
     "metadata": {},
     "output_type": "display_data"
    },
    {
     "data": {
      "text/html": [
       "<pre style=\"white-space:pre;overflow-x:auto;line-height:normal;font-family:Menlo,'DejaVu Sans Mono',consolas,'Courier New',monospace\"><span style=\"color: #008080; text-decoration-color: #008080; font-weight: bold\">[</span><span style=\"color: #008080; text-decoration-color: #008080\">URL_SEED</span><span style=\"color: #008080; text-decoration-color: #008080; font-weight: bold\">]</span><span style=\"color: #008080; text-decoration-color: #008080\"> ℹ HEAD VALID for </span><span style=\"color: #008080; text-decoration-color: #008080; text-decoration: underline\">https://docs.python.org/3/index.html</span><span style=\"color: #008080; text-decoration-color: #008080\"> </span>\n",
       "</pre>\n"
      ],
      "text/plain": [
       "\u001b[1;36m[\u001b[0m\u001b[36mURL_SEED\u001b[0m\u001b[1;36m]\u001b[0m\u001b[36m ℹ HEAD VALID for \u001b[0m\u001b[4;36mhttps://docs.python.org/3/index.html\u001b[0m\u001b[36m \u001b[0m\n"
      ]
     },
     "metadata": {},
     "output_type": "display_data"
    },
    {
     "data": {
      "text/html": [
       "<pre style=\"white-space:pre;overflow-x:auto;line-height:normal;font-family:Menlo,'DejaVu Sans Mono',consolas,'Courier New',monospace\"><span style=\"color: #808080; text-decoration-color: #808080; font-weight: bold\">[</span><span style=\"color: #808080; text-decoration-color: #808080\">URL_SEED</span><span style=\"color: #808080; text-decoration-color: #808080; font-weight: bold\">]</span><span style=\"color: #808080; text-decoration-color: #808080\"> ℹ Fetching head for </span><span style=\"color: #808080; text-decoration-color: #808080; text-decoration: underline\">https://docs.python.org/3/c-api/utilities.html</span><span style=\"color: #808080; text-decoration-color: #808080\"> </span>\n",
       "</pre>\n"
      ],
      "text/plain": [
       "\u001b[1;90m[\u001b[0m\u001b[90mURL_SEED\u001b[0m\u001b[1;90m]\u001b[0m\u001b[90m ℹ Fetching head for \u001b[0m\u001b[4;90mhttps://docs.python.org/3/c-api/utilities.html\u001b[0m\u001b[90m \u001b[0m\n"
      ]
     },
     "metadata": {},
     "output_type": "display_data"
    },
    {
     "data": {
      "text/html": [
       "<pre style=\"white-space:pre;overflow-x:auto;line-height:normal;font-family:Menlo,'DejaVu Sans Mono',consolas,'Courier New',monospace\"><span style=\"color: #008080; text-decoration-color: #008080; font-weight: bold\">[</span><span style=\"color: #008080; text-decoration-color: #008080\">URL_SEED</span><span style=\"color: #008080; text-decoration-color: #008080; font-weight: bold\">]</span><span style=\"color: #008080; text-decoration-color: #008080\"> ℹ HEAD VALID for </span><span style=\"color: #008080; text-decoration-color: #008080; text-decoration: underline\">https://docs.python.org/3/c-api/stable.html</span><span style=\"color: #008080; text-decoration-color: #008080\"> </span>\n",
       "</pre>\n"
      ],
      "text/plain": [
       "\u001b[1;36m[\u001b[0m\u001b[36mURL_SEED\u001b[0m\u001b[1;36m]\u001b[0m\u001b[36m ℹ HEAD VALID for \u001b[0m\u001b[4;36mhttps://docs.python.org/3/c-api/stable.html\u001b[0m\u001b[36m \u001b[0m\n"
      ]
     },
     "metadata": {},
     "output_type": "display_data"
    },
    {
     "data": {
      "text/html": [
       "<pre style=\"white-space:pre;overflow-x:auto;line-height:normal;font-family:Menlo,'DejaVu Sans Mono',consolas,'Courier New',monospace\"><span style=\"color: #008080; text-decoration-color: #008080; font-weight: bold\">[</span><span style=\"color: #008080; text-decoration-color: #008080\">URL_SEED</span><span style=\"color: #008080; text-decoration-color: #008080; font-weight: bold\">]</span><span style=\"color: #008080; text-decoration-color: #008080\"> ℹ HEAD VALID for </span><span style=\"color: #008080; text-decoration-color: #008080; text-decoration: underline\">https://docs.python.org/3/c-api/intro.html</span><span style=\"color: #008080; text-decoration-color: #008080\"> </span>\n",
       "</pre>\n"
      ],
      "text/plain": [
       "\u001b[1;36m[\u001b[0m\u001b[36mURL_SEED\u001b[0m\u001b[1;36m]\u001b[0m\u001b[36m ℹ HEAD VALID for \u001b[0m\u001b[4;36mhttps://docs.python.org/3/c-api/intro.html\u001b[0m\u001b[36m \u001b[0m\n"
      ]
     },
     "metadata": {},
     "output_type": "display_data"
    },
    {
     "data": {
      "text/html": [
       "<pre style=\"white-space:pre;overflow-x:auto;line-height:normal;font-family:Menlo,'DejaVu Sans Mono',consolas,'Courier New',monospace\"><span style=\"color: #808080; text-decoration-color: #808080; font-weight: bold\">[</span><span style=\"color: #808080; text-decoration-color: #808080\">URL_SEED</span><span style=\"color: #808080; text-decoration-color: #808080; font-weight: bold\">]</span><span style=\"color: #808080; text-decoration-color: #808080\"> ℹ Fetching head for </span><span style=\"color: #808080; text-decoration-color: #808080; text-decoration: underline\">https://docs.python.org/3/c-api/sys.html</span><span style=\"color: #808080; text-decoration-color: #808080\"> </span>\n",
       "</pre>\n"
      ],
      "text/plain": [
       "\u001b[1;90m[\u001b[0m\u001b[90mURL_SEED\u001b[0m\u001b[1;90m]\u001b[0m\u001b[90m ℹ Fetching head for \u001b[0m\u001b[4;90mhttps://docs.python.org/3/c-api/sys.html\u001b[0m\u001b[90m \u001b[0m\n"
      ]
     },
     "metadata": {},
     "output_type": "display_data"
    },
    {
     "data": {
      "text/html": [
       "<pre style=\"white-space:pre;overflow-x:auto;line-height:normal;font-family:Menlo,'DejaVu Sans Mono',consolas,'Courier New',monospace\"><span style=\"color: #808080; text-decoration-color: #808080; font-weight: bold\">[</span><span style=\"color: #808080; text-decoration-color: #808080\">URL_SEED</span><span style=\"color: #808080; text-decoration-color: #808080; font-weight: bold\">]</span><span style=\"color: #808080; text-decoration-color: #808080\"> ℹ Fetching head for </span><span style=\"color: #808080; text-decoration-color: #808080; text-decoration: underline\">https://docs.python.org/3/c-api/import.html</span><span style=\"color: #808080; text-decoration-color: #808080\"> </span>\n",
       "</pre>\n"
      ],
      "text/plain": [
       "\u001b[1;90m[\u001b[0m\u001b[90mURL_SEED\u001b[0m\u001b[1;90m]\u001b[0m\u001b[90m ℹ Fetching head for \u001b[0m\u001b[4;90mhttps://docs.python.org/3/c-api/import.html\u001b[0m\u001b[90m \u001b[0m\n"
      ]
     },
     "metadata": {},
     "output_type": "display_data"
    },
    {
     "data": {
      "text/html": [
       "<pre style=\"white-space:pre;overflow-x:auto;line-height:normal;font-family:Menlo,'DejaVu Sans Mono',consolas,'Courier New',monospace\"><span style=\"color: #008080; text-decoration-color: #008080; font-weight: bold\">[</span><span style=\"color: #008080; text-decoration-color: #008080\">URL_SEED</span><span style=\"color: #008080; text-decoration-color: #008080; font-weight: bold\">]</span><span style=\"color: #008080; text-decoration-color: #008080\"> ℹ HEAD VALID for </span><span style=\"color: #008080; text-decoration-color: #008080; text-decoration: underline\">https://docs.python.org/3/c-api/refcounting.html</span><span style=\"color: #008080; text-decoration-color: #008080\"> </span>\n",
       "</pre>\n"
      ],
      "text/plain": [
       "\u001b[1;36m[\u001b[0m\u001b[36mURL_SEED\u001b[0m\u001b[1;36m]\u001b[0m\u001b[36m ℹ HEAD VALID for \u001b[0m\u001b[4;36mhttps://docs.python.org/3/c-api/refcounting.html\u001b[0m\u001b[36m \u001b[0m\n"
      ]
     },
     "metadata": {},
     "output_type": "display_data"
    },
    {
     "data": {
      "text/html": [
       "<pre style=\"white-space:pre;overflow-x:auto;line-height:normal;font-family:Menlo,'DejaVu Sans Mono',consolas,'Courier New',monospace\"><span style=\"color: #808080; text-decoration-color: #808080; font-weight: bold\">[</span><span style=\"color: #808080; text-decoration-color: #808080\">URL_SEED</span><span style=\"color: #808080; text-decoration-color: #808080; font-weight: bold\">]</span><span style=\"color: #808080; text-decoration-color: #808080\"> ℹ Fetching head for </span><span style=\"color: #808080; text-decoration-color: #808080; text-decoration: underline\">https://docs.python.org/3/c-api/marshal.html</span><span style=\"color: #808080; text-decoration-color: #808080\"> </span>\n",
       "</pre>\n"
      ],
      "text/plain": [
       "\u001b[1;90m[\u001b[0m\u001b[90mURL_SEED\u001b[0m\u001b[1;90m]\u001b[0m\u001b[90m ℹ Fetching head for \u001b[0m\u001b[4;90mhttps://docs.python.org/3/c-api/marshal.html\u001b[0m\u001b[90m \u001b[0m\n"
      ]
     },
     "metadata": {},
     "output_type": "display_data"
    },
    {
     "data": {
      "text/html": [
       "<pre style=\"white-space:pre;overflow-x:auto;line-height:normal;font-family:Menlo,'DejaVu Sans Mono',consolas,'Courier New',monospace\"><span style=\"color: #008080; text-decoration-color: #008080; font-weight: bold\">[</span><span style=\"color: #008080; text-decoration-color: #008080\">URL_SEED</span><span style=\"color: #008080; text-decoration-color: #008080; font-weight: bold\">]</span><span style=\"color: #008080; text-decoration-color: #008080\"> ℹ HEAD VALID for </span><span style=\"color: #008080; text-decoration-color: #008080; text-decoration: underline\">https://docs.python.org/3/c-api/utilities.html</span><span style=\"color: #008080; text-decoration-color: #008080\"> </span>\n",
       "</pre>\n"
      ],
      "text/plain": [
       "\u001b[1;36m[\u001b[0m\u001b[36mURL_SEED\u001b[0m\u001b[1;36m]\u001b[0m\u001b[36m ℹ HEAD VALID for \u001b[0m\u001b[4;36mhttps://docs.python.org/3/c-api/utilities.html\u001b[0m\u001b[36m \u001b[0m\n"
      ]
     },
     "metadata": {},
     "output_type": "display_data"
    },
    {
     "data": {
      "text/html": [
       "<pre style=\"white-space:pre;overflow-x:auto;line-height:normal;font-family:Menlo,'DejaVu Sans Mono',consolas,'Courier New',monospace\"><span style=\"color: #808080; text-decoration-color: #808080; font-weight: bold\">[</span><span style=\"color: #808080; text-decoration-color: #808080\">URL_SEED</span><span style=\"color: #808080; text-decoration-color: #808080; font-weight: bold\">]</span><span style=\"color: #808080; text-decoration-color: #808080\"> ℹ Fetching head for </span><span style=\"color: #808080; text-decoration-color: #808080; text-decoration: underline\">https://docs.python.org/3/c-api/arg.html</span><span style=\"color: #808080; text-decoration-color: #808080\"> </span>\n",
       "</pre>\n"
      ],
      "text/plain": [
       "\u001b[1;90m[\u001b[0m\u001b[90mURL_SEED\u001b[0m\u001b[1;90m]\u001b[0m\u001b[90m ℹ Fetching head for \u001b[0m\u001b[4;90mhttps://docs.python.org/3/c-api/arg.html\u001b[0m\u001b[90m \u001b[0m\n"
      ]
     },
     "metadata": {},
     "output_type": "display_data"
    },
    {
     "data": {
      "text/html": [
       "<pre style=\"white-space:pre;overflow-x:auto;line-height:normal;font-family:Menlo,'DejaVu Sans Mono',consolas,'Courier New',monospace\"><span style=\"color: #008080; text-decoration-color: #008080; font-weight: bold\">[</span><span style=\"color: #008080; text-decoration-color: #008080\">URL_SEED</span><span style=\"color: #008080; text-decoration-color: #008080; font-weight: bold\">]</span><span style=\"color: #008080; text-decoration-color: #008080\"> ℹ HEAD VALID for </span><span style=\"color: #008080; text-decoration-color: #008080; text-decoration: underline\">https://docs.python.org/3/c-api/sys.html</span><span style=\"color: #008080; text-decoration-color: #008080\"> </span>\n",
       "</pre>\n"
      ],
      "text/plain": [
       "\u001b[1;36m[\u001b[0m\u001b[36mURL_SEED\u001b[0m\u001b[1;36m]\u001b[0m\u001b[36m ℹ HEAD VALID for \u001b[0m\u001b[4;36mhttps://docs.python.org/3/c-api/sys.html\u001b[0m\u001b[36m \u001b[0m\n"
      ]
     },
     "metadata": {},
     "output_type": "display_data"
    },
    {
     "data": {
      "text/html": [
       "<pre style=\"white-space:pre;overflow-x:auto;line-height:normal;font-family:Menlo,'DejaVu Sans Mono',consolas,'Courier New',monospace\"><span style=\"color: #808080; text-decoration-color: #808080; font-weight: bold\">[</span><span style=\"color: #808080; text-decoration-color: #808080\">URL_SEED</span><span style=\"color: #808080; text-decoration-color: #808080; font-weight: bold\">]</span><span style=\"color: #808080; text-decoration-color: #808080\"> ℹ Fetching head for </span><span style=\"color: #808080; text-decoration-color: #808080; text-decoration: underline\">https://docs.python.org/3/c-api/conversion.html</span><span style=\"color: #808080; text-decoration-color: #808080\"> </span>\n",
       "</pre>\n"
      ],
      "text/plain": [
       "\u001b[1;90m[\u001b[0m\u001b[90mURL_SEED\u001b[0m\u001b[1;90m]\u001b[0m\u001b[90m ℹ Fetching head for \u001b[0m\u001b[4;90mhttps://docs.python.org/3/c-api/conversion.html\u001b[0m\u001b[90m \u001b[0m\n"
      ]
     },
     "metadata": {},
     "output_type": "display_data"
    },
    {
     "data": {
      "text/html": [
       "<pre style=\"white-space:pre;overflow-x:auto;line-height:normal;font-family:Menlo,'DejaVu Sans Mono',consolas,'Courier New',monospace\"><span style=\"color: #008080; text-decoration-color: #008080; font-weight: bold\">[</span><span style=\"color: #008080; text-decoration-color: #008080\">URL_SEED</span><span style=\"color: #008080; text-decoration-color: #008080; font-weight: bold\">]</span><span style=\"color: #008080; text-decoration-color: #008080\"> ℹ HEAD VALID for </span><span style=\"color: #008080; text-decoration-color: #008080; text-decoration: underline\">https://docs.python.org/3/c-api/import.html</span><span style=\"color: #008080; text-decoration-color: #008080\"> </span>\n",
       "</pre>\n"
      ],
      "text/plain": [
       "\u001b[1;36m[\u001b[0m\u001b[36mURL_SEED\u001b[0m\u001b[1;36m]\u001b[0m\u001b[36m ℹ HEAD VALID for \u001b[0m\u001b[4;36mhttps://docs.python.org/3/c-api/import.html\u001b[0m\u001b[36m \u001b[0m\n"
      ]
     },
     "metadata": {},
     "output_type": "display_data"
    },
    {
     "data": {
      "text/html": [
       "<pre style=\"white-space:pre;overflow-x:auto;line-height:normal;font-family:Menlo,'DejaVu Sans Mono',consolas,'Courier New',monospace\"><span style=\"color: #808080; text-decoration-color: #808080; font-weight: bold\">[</span><span style=\"color: #808080; text-decoration-color: #808080\">URL_SEED</span><span style=\"color: #808080; text-decoration-color: #808080; font-weight: bold\">]</span><span style=\"color: #808080; text-decoration-color: #808080\"> ℹ Fetching head for </span><span style=\"color: #808080; text-decoration-color: #808080; text-decoration: underline\">https://docs.python.org/3/c-api/hash.html</span><span style=\"color: #808080; text-decoration-color: #808080\"> </span>\n",
       "</pre>\n"
      ],
      "text/plain": [
       "\u001b[1;90m[\u001b[0m\u001b[90mURL_SEED\u001b[0m\u001b[1;90m]\u001b[0m\u001b[90m ℹ Fetching head for \u001b[0m\u001b[4;90mhttps://docs.python.org/3/c-api/hash.html\u001b[0m\u001b[90m \u001b[0m\n"
      ]
     },
     "metadata": {},
     "output_type": "display_data"
    },
    {
     "data": {
      "text/html": [
       "<pre style=\"white-space:pre;overflow-x:auto;line-height:normal;font-family:Menlo,'DejaVu Sans Mono',consolas,'Courier New',monospace\"><span style=\"color: #008080; text-decoration-color: #008080; font-weight: bold\">[</span><span style=\"color: #008080; text-decoration-color: #008080\">URL_SEED</span><span style=\"color: #008080; text-decoration-color: #008080; font-weight: bold\">]</span><span style=\"color: #008080; text-decoration-color: #008080\"> ℹ HEAD VALID for </span><span style=\"color: #008080; text-decoration-color: #008080; text-decoration: underline\">https://docs.python.org/3/c-api/marshal.html</span><span style=\"color: #008080; text-decoration-color: #008080\"> </span>\n",
       "</pre>\n"
      ],
      "text/plain": [
       "\u001b[1;36m[\u001b[0m\u001b[36mURL_SEED\u001b[0m\u001b[1;36m]\u001b[0m\u001b[36m ℹ HEAD VALID for \u001b[0m\u001b[4;36mhttps://docs.python.org/3/c-api/marshal.html\u001b[0m\u001b[36m \u001b[0m\n"
      ]
     },
     "metadata": {},
     "output_type": "display_data"
    },
    {
     "data": {
      "text/html": [
       "<pre style=\"white-space:pre;overflow-x:auto;line-height:normal;font-family:Menlo,'DejaVu Sans Mono',consolas,'Courier New',monospace\"><span style=\"color: #008080; text-decoration-color: #008080; font-weight: bold\">[</span><span style=\"color: #008080; text-decoration-color: #008080\">URL_SEED</span><span style=\"color: #008080; text-decoration-color: #008080; font-weight: bold\">]</span><span style=\"color: #008080; text-decoration-color: #008080\"> ℹ HEAD VALID for </span><span style=\"color: #008080; text-decoration-color: #008080; text-decoration: underline\">https://docs.python.org/3/c-api/arg.html</span><span style=\"color: #008080; text-decoration-color: #008080\"> </span>\n",
       "</pre>\n"
      ],
      "text/plain": [
       "\u001b[1;36m[\u001b[0m\u001b[36mURL_SEED\u001b[0m\u001b[1;36m]\u001b[0m\u001b[36m ℹ HEAD VALID for \u001b[0m\u001b[4;36mhttps://docs.python.org/3/c-api/arg.html\u001b[0m\u001b[36m \u001b[0m\n"
      ]
     },
     "metadata": {},
     "output_type": "display_data"
    },
    {
     "data": {
      "text/html": [
       "<pre style=\"white-space:pre;overflow-x:auto;line-height:normal;font-family:Menlo,'DejaVu Sans Mono',consolas,'Courier New',monospace\"><span style=\"color: #808080; text-decoration-color: #808080; font-weight: bold\">[</span><span style=\"color: #808080; text-decoration-color: #808080\">URL_SEED</span><span style=\"color: #808080; text-decoration-color: #808080; font-weight: bold\">]</span><span style=\"color: #808080; text-decoration-color: #808080\"> ℹ Fetching head for </span><span style=\"color: #808080; text-decoration-color: #808080; text-decoration: underline\">https://docs.python.org/3/c-api/reflection.html</span><span style=\"color: #808080; text-decoration-color: #808080\"> </span>\n",
       "</pre>\n"
      ],
      "text/plain": [
       "\u001b[1;90m[\u001b[0m\u001b[90mURL_SEED\u001b[0m\u001b[1;90m]\u001b[0m\u001b[90m ℹ Fetching head for \u001b[0m\u001b[4;90mhttps://docs.python.org/3/c-api/reflection.html\u001b[0m\u001b[90m \u001b[0m\n"
      ]
     },
     "metadata": {},
     "output_type": "display_data"
    },
    {
     "data": {
      "text/html": [
       "<pre style=\"white-space:pre;overflow-x:auto;line-height:normal;font-family:Menlo,'DejaVu Sans Mono',consolas,'Courier New',monospace\"><span style=\"color: #808080; text-decoration-color: #808080; font-weight: bold\">[</span><span style=\"color: #808080; text-decoration-color: #808080\">URL_SEED</span><span style=\"color: #808080; text-decoration-color: #808080; font-weight: bold\">]</span><span style=\"color: #808080; text-decoration-color: #808080\"> ℹ Fetching head for </span><span style=\"color: #808080; text-decoration-color: #808080; text-decoration: underline\">https://docs.python.org/3/c-api/codec.html</span><span style=\"color: #808080; text-decoration-color: #808080\"> </span>\n",
       "</pre>\n"
      ],
      "text/plain": [
       "\u001b[1;90m[\u001b[0m\u001b[90mURL_SEED\u001b[0m\u001b[1;90m]\u001b[0m\u001b[90m ℹ Fetching head for \u001b[0m\u001b[4;90mhttps://docs.python.org/3/c-api/codec.html\u001b[0m\u001b[90m \u001b[0m\n"
      ]
     },
     "metadata": {},
     "output_type": "display_data"
    },
    {
     "data": {
      "text/html": [
       "<pre style=\"white-space:pre;overflow-x:auto;line-height:normal;font-family:Menlo,'DejaVu Sans Mono',consolas,'Courier New',monospace\"><span style=\"color: #008080; text-decoration-color: #008080; font-weight: bold\">[</span><span style=\"color: #008080; text-decoration-color: #008080\">URL_SEED</span><span style=\"color: #008080; text-decoration-color: #008080; font-weight: bold\">]</span><span style=\"color: #008080; text-decoration-color: #008080\"> ℹ HEAD VALID for </span><span style=\"color: #008080; text-decoration-color: #008080; text-decoration: underline\">https://docs.python.org/3/c-api/conversion.html</span><span style=\"color: #008080; text-decoration-color: #008080\"> </span>\n",
       "</pre>\n"
      ],
      "text/plain": [
       "\u001b[1;36m[\u001b[0m\u001b[36mURL_SEED\u001b[0m\u001b[1;36m]\u001b[0m\u001b[36m ℹ HEAD VALID for \u001b[0m\u001b[4;36mhttps://docs.python.org/3/c-api/conversion.html\u001b[0m\u001b[36m \u001b[0m\n"
      ]
     },
     "metadata": {},
     "output_type": "display_data"
    },
    {
     "data": {
      "text/html": [
       "<pre style=\"white-space:pre;overflow-x:auto;line-height:normal;font-family:Menlo,'DejaVu Sans Mono',consolas,'Courier New',monospace\"><span style=\"color: #808080; text-decoration-color: #808080; font-weight: bold\">[</span><span style=\"color: #808080; text-decoration-color: #808080\">URL_SEED</span><span style=\"color: #808080; text-decoration-color: #808080; font-weight: bold\">]</span><span style=\"color: #808080; text-decoration-color: #808080\"> ℹ Fetching head for </span><span style=\"color: #808080; text-decoration-color: #808080; text-decoration: underline\">https://docs.python.org/3/c-api/time.html</span><span style=\"color: #808080; text-decoration-color: #808080\"> </span>\n",
       "</pre>\n"
      ],
      "text/plain": [
       "\u001b[1;90m[\u001b[0m\u001b[90mURL_SEED\u001b[0m\u001b[1;90m]\u001b[0m\u001b[90m ℹ Fetching head for \u001b[0m\u001b[4;90mhttps://docs.python.org/3/c-api/time.html\u001b[0m\u001b[90m \u001b[0m\n"
      ]
     },
     "metadata": {},
     "output_type": "display_data"
    },
    {
     "data": {
      "text/html": [
       "<pre style=\"white-space:pre;overflow-x:auto;line-height:normal;font-family:Menlo,'DejaVu Sans Mono',consolas,'Courier New',monospace\"><span style=\"color: #008080; text-decoration-color: #008080; font-weight: bold\">[</span><span style=\"color: #008080; text-decoration-color: #008080\">URL_SEED</span><span style=\"color: #008080; text-decoration-color: #008080; font-weight: bold\">]</span><span style=\"color: #008080; text-decoration-color: #008080\"> ℹ HEAD VALID for </span><span style=\"color: #008080; text-decoration-color: #008080; text-decoration: underline\">https://docs.python.org/3/c-api/hash.html</span><span style=\"color: #008080; text-decoration-color: #008080\"> </span>\n",
       "</pre>\n"
      ],
      "text/plain": [
       "\u001b[1;36m[\u001b[0m\u001b[36mURL_SEED\u001b[0m\u001b[1;36m]\u001b[0m\u001b[36m ℹ HEAD VALID for \u001b[0m\u001b[4;36mhttps://docs.python.org/3/c-api/hash.html\u001b[0m\u001b[36m \u001b[0m\n"
      ]
     },
     "metadata": {},
     "output_type": "display_data"
    },
    {
     "data": {
      "text/html": [
       "<pre style=\"white-space:pre;overflow-x:auto;line-height:normal;font-family:Menlo,'DejaVu Sans Mono',consolas,'Courier New',monospace\"><span style=\"color: #008080; text-decoration-color: #008080; font-weight: bold\">[</span><span style=\"color: #008080; text-decoration-color: #008080\">URL_SEED</span><span style=\"color: #008080; text-decoration-color: #008080; font-weight: bold\">]</span><span style=\"color: #008080; text-decoration-color: #008080\"> ℹ HEAD VALID for </span><span style=\"color: #008080; text-decoration-color: #008080; text-decoration: underline\">https://docs.python.org/3/c-api/reflection.html</span><span style=\"color: #008080; text-decoration-color: #008080\"> </span>\n",
       "</pre>\n"
      ],
      "text/plain": [
       "\u001b[1;36m[\u001b[0m\u001b[36mURL_SEED\u001b[0m\u001b[1;36m]\u001b[0m\u001b[36m ℹ HEAD VALID for \u001b[0m\u001b[4;36mhttps://docs.python.org/3/c-api/reflection.html\u001b[0m\u001b[36m \u001b[0m\n"
      ]
     },
     "metadata": {},
     "output_type": "display_data"
    },
    {
     "data": {
      "text/html": [
       "<pre style=\"white-space:pre;overflow-x:auto;line-height:normal;font-family:Menlo,'DejaVu Sans Mono',consolas,'Courier New',monospace\"><span style=\"color: #008080; text-decoration-color: #008080; font-weight: bold\">[</span><span style=\"color: #008080; text-decoration-color: #008080\">URL_SEED</span><span style=\"color: #008080; text-decoration-color: #008080; font-weight: bold\">]</span><span style=\"color: #008080; text-decoration-color: #008080\"> ℹ HEAD VALID for </span><span style=\"color: #008080; text-decoration-color: #008080; text-decoration: underline\">https://docs.python.org/3/c-api/time.html</span><span style=\"color: #008080; text-decoration-color: #008080\"> </span>\n",
       "</pre>\n"
      ],
      "text/plain": [
       "\u001b[1;36m[\u001b[0m\u001b[36mURL_SEED\u001b[0m\u001b[1;36m]\u001b[0m\u001b[36m ℹ HEAD VALID for \u001b[0m\u001b[4;36mhttps://docs.python.org/3/c-api/time.html\u001b[0m\u001b[36m \u001b[0m\n"
      ]
     },
     "metadata": {},
     "output_type": "display_data"
    },
    {
     "data": {
      "text/html": [
       "<pre style=\"white-space:pre;overflow-x:auto;line-height:normal;font-family:Menlo,'DejaVu Sans Mono',consolas,'Courier New',monospace\"><span style=\"color: #808080; text-decoration-color: #808080; font-weight: bold\">[</span><span style=\"color: #808080; text-decoration-color: #808080\">URL_SEED</span><span style=\"color: #808080; text-decoration-color: #808080; font-weight: bold\">]</span><span style=\"color: #808080; text-decoration-color: #808080\"> ℹ Fetching head for </span><span style=\"color: #808080; text-decoration-color: #808080; text-decoration: underline\">https://docs.python.org/3/c-api/perfmaps.html</span><span style=\"color: #808080; text-decoration-color: #808080\"> </span>\n",
       "</pre>\n"
      ],
      "text/plain": [
       "\u001b[1;90m[\u001b[0m\u001b[90mURL_SEED\u001b[0m\u001b[1;90m]\u001b[0m\u001b[90m ℹ Fetching head for \u001b[0m\u001b[4;90mhttps://docs.python.org/3/c-api/perfmaps.html\u001b[0m\u001b[90m \u001b[0m\n"
      ]
     },
     "metadata": {},
     "output_type": "display_data"
    },
    {
     "data": {
      "text/html": [
       "<pre style=\"white-space:pre;overflow-x:auto;line-height:normal;font-family:Menlo,'DejaVu Sans Mono',consolas,'Courier New',monospace\"><span style=\"color: #008080; text-decoration-color: #008080; font-weight: bold\">[</span><span style=\"color: #008080; text-decoration-color: #008080\">URL_SEED</span><span style=\"color: #008080; text-decoration-color: #008080; font-weight: bold\">]</span><span style=\"color: #008080; text-decoration-color: #008080\"> ℹ HEAD VALID for </span><span style=\"color: #008080; text-decoration-color: #008080; text-decoration: underline\">https://docs.python.org/3/c-api/codec.html</span><span style=\"color: #008080; text-decoration-color: #008080\"> </span>\n",
       "</pre>\n"
      ],
      "text/plain": [
       "\u001b[1;36m[\u001b[0m\u001b[36mURL_SEED\u001b[0m\u001b[1;36m]\u001b[0m\u001b[36m ℹ HEAD VALID for \u001b[0m\u001b[4;36mhttps://docs.python.org/3/c-api/codec.html\u001b[0m\u001b[36m \u001b[0m\n"
      ]
     },
     "metadata": {},
     "output_type": "display_data"
    },
    {
     "data": {
      "text/html": [
       "<pre style=\"white-space:pre;overflow-x:auto;line-height:normal;font-family:Menlo,'DejaVu Sans Mono',consolas,'Courier New',monospace\"><span style=\"color: #808080; text-decoration-color: #808080; font-weight: bold\">[</span><span style=\"color: #808080; text-decoration-color: #808080\">URL_SEED</span><span style=\"color: #808080; text-decoration-color: #808080; font-weight: bold\">]</span><span style=\"color: #808080; text-decoration-color: #808080\"> ℹ Fetching head for </span><span style=\"color: #808080; text-decoration-color: #808080; text-decoration: underline\">https://docs.python.org/3/c-api/abstract.html</span><span style=\"color: #808080; text-decoration-color: #808080\"> </span>\n",
       "</pre>\n"
      ],
      "text/plain": [
       "\u001b[1;90m[\u001b[0m\u001b[90mURL_SEED\u001b[0m\u001b[1;90m]\u001b[0m\u001b[90m ℹ Fetching head for \u001b[0m\u001b[4;90mhttps://docs.python.org/3/c-api/abstract.html\u001b[0m\u001b[90m \u001b[0m\n"
      ]
     },
     "metadata": {},
     "output_type": "display_data"
    },
    {
     "data": {
      "text/html": [
       "<pre style=\"white-space:pre;overflow-x:auto;line-height:normal;font-family:Menlo,'DejaVu Sans Mono',consolas,'Courier New',monospace\"><span style=\"color: #808080; text-decoration-color: #808080; font-weight: bold\">[</span><span style=\"color: #808080; text-decoration-color: #808080\">URL_SEED</span><span style=\"color: #808080; text-decoration-color: #808080; font-weight: bold\">]</span><span style=\"color: #808080; text-decoration-color: #808080\"> ℹ Fetching head for </span><span style=\"color: #808080; text-decoration-color: #808080; text-decoration: underline\">https://docs.python.org/3/c-api/object.html</span><span style=\"color: #808080; text-decoration-color: #808080\"> </span>\n",
       "</pre>\n"
      ],
      "text/plain": [
       "\u001b[1;90m[\u001b[0m\u001b[90mURL_SEED\u001b[0m\u001b[1;90m]\u001b[0m\u001b[90m ℹ Fetching head for \u001b[0m\u001b[4;90mhttps://docs.python.org/3/c-api/object.html\u001b[0m\u001b[90m \u001b[0m\n"
      ]
     },
     "metadata": {},
     "output_type": "display_data"
    },
    {
     "data": {
      "text/html": [
       "<pre style=\"white-space:pre;overflow-x:auto;line-height:normal;font-family:Menlo,'DejaVu Sans Mono',consolas,'Courier New',monospace\"><span style=\"color: #808080; text-decoration-color: #808080; font-weight: bold\">[</span><span style=\"color: #808080; text-decoration-color: #808080\">URL_SEED</span><span style=\"color: #808080; text-decoration-color: #808080; font-weight: bold\">]</span><span style=\"color: #808080; text-decoration-color: #808080\"> ℹ Fetching head for </span><span style=\"color: #808080; text-decoration-color: #808080; text-decoration: underline\">https://docs.python.org/3/c-api/call.html</span><span style=\"color: #808080; text-decoration-color: #808080\"> </span>\n",
       "</pre>\n"
      ],
      "text/plain": [
       "\u001b[1;90m[\u001b[0m\u001b[90mURL_SEED\u001b[0m\u001b[1;90m]\u001b[0m\u001b[90m ℹ Fetching head for \u001b[0m\u001b[4;90mhttps://docs.python.org/3/c-api/call.html\u001b[0m\u001b[90m \u001b[0m\n"
      ]
     },
     "metadata": {},
     "output_type": "display_data"
    },
    {
     "data": {
      "text/html": [
       "<pre style=\"white-space:pre;overflow-x:auto;line-height:normal;font-family:Menlo,'DejaVu Sans Mono',consolas,'Courier New',monospace\"><span style=\"color: #008080; text-decoration-color: #008080; font-weight: bold\">[</span><span style=\"color: #008080; text-decoration-color: #008080\">URL_SEED</span><span style=\"color: #008080; text-decoration-color: #008080; font-weight: bold\">]</span><span style=\"color: #008080; text-decoration-color: #008080\"> ℹ HEAD VALID for </span><span style=\"color: #008080; text-decoration-color: #008080; text-decoration: underline\">https://docs.python.org/3/c-api/exceptions.html</span><span style=\"color: #008080; text-decoration-color: #008080\"> </span>\n",
       "</pre>\n"
      ],
      "text/plain": [
       "\u001b[1;36m[\u001b[0m\u001b[36mURL_SEED\u001b[0m\u001b[1;36m]\u001b[0m\u001b[36m ℹ HEAD VALID for \u001b[0m\u001b[4;36mhttps://docs.python.org/3/c-api/exceptions.html\u001b[0m\u001b[36m \u001b[0m\n"
      ]
     },
     "metadata": {},
     "output_type": "display_data"
    },
    {
     "data": {
      "text/html": [
       "<pre style=\"white-space:pre;overflow-x:auto;line-height:normal;font-family:Menlo,'DejaVu Sans Mono',consolas,'Courier New',monospace\"><span style=\"color: #808080; text-decoration-color: #808080; font-weight: bold\">[</span><span style=\"color: #808080; text-decoration-color: #808080\">URL_SEED</span><span style=\"color: #808080; text-decoration-color: #808080; font-weight: bold\">]</span><span style=\"color: #808080; text-decoration-color: #808080\"> ℹ Fetching head for </span><span style=\"color: #808080; text-decoration-color: #808080; text-decoration: underline\">https://docs.python.org/3/c-api/number.html</span><span style=\"color: #808080; text-decoration-color: #808080\"> </span>\n",
       "</pre>\n"
      ],
      "text/plain": [
       "\u001b[1;90m[\u001b[0m\u001b[90mURL_SEED\u001b[0m\u001b[1;90m]\u001b[0m\u001b[90m ℹ Fetching head for \u001b[0m\u001b[4;90mhttps://docs.python.org/3/c-api/number.html\u001b[0m\u001b[90m \u001b[0m\n"
      ]
     },
     "metadata": {},
     "output_type": "display_data"
    },
    {
     "data": {
      "text/html": [
       "<pre style=\"white-space:pre;overflow-x:auto;line-height:normal;font-family:Menlo,'DejaVu Sans Mono',consolas,'Courier New',monospace\"><span style=\"color: #008080; text-decoration-color: #008080; font-weight: bold\">[</span><span style=\"color: #008080; text-decoration-color: #008080\">URL_SEED</span><span style=\"color: #008080; text-decoration-color: #008080; font-weight: bold\">]</span><span style=\"color: #008080; text-decoration-color: #008080\"> ℹ HEAD VALID for </span><span style=\"color: #008080; text-decoration-color: #008080; text-decoration: underline\">https://docs.python.org/3/c-api/abstract.html</span><span style=\"color: #008080; text-decoration-color: #008080\"> </span>\n",
       "</pre>\n"
      ],
      "text/plain": [
       "\u001b[1;36m[\u001b[0m\u001b[36mURL_SEED\u001b[0m\u001b[1;36m]\u001b[0m\u001b[36m ℹ HEAD VALID for \u001b[0m\u001b[4;36mhttps://docs.python.org/3/c-api/abstract.html\u001b[0m\u001b[36m \u001b[0m\n"
      ]
     },
     "metadata": {},
     "output_type": "display_data"
    },
    {
     "data": {
      "text/html": [
       "<pre style=\"white-space:pre;overflow-x:auto;line-height:normal;font-family:Menlo,'DejaVu Sans Mono',consolas,'Courier New',monospace\"><span style=\"color: #808080; text-decoration-color: #808080; font-weight: bold\">[</span><span style=\"color: #808080; text-decoration-color: #808080\">URL_SEED</span><span style=\"color: #808080; text-decoration-color: #808080; font-weight: bold\">]</span><span style=\"color: #808080; text-decoration-color: #808080\"> ℹ Fetching head for </span><span style=\"color: #808080; text-decoration-color: #808080; text-decoration: underline\">https://docs.python.org/3/c-api/sequence.html</span><span style=\"color: #808080; text-decoration-color: #808080\"> </span>\n",
       "</pre>\n"
      ],
      "text/plain": [
       "\u001b[1;90m[\u001b[0m\u001b[90mURL_SEED\u001b[0m\u001b[1;90m]\u001b[0m\u001b[90m ℹ Fetching head for \u001b[0m\u001b[4;90mhttps://docs.python.org/3/c-api/sequence.html\u001b[0m\u001b[90m \u001b[0m\n"
      ]
     },
     "metadata": {},
     "output_type": "display_data"
    },
    {
     "data": {
      "text/html": [
       "<pre style=\"white-space:pre;overflow-x:auto;line-height:normal;font-family:Menlo,'DejaVu Sans Mono',consolas,'Courier New',monospace\"><span style=\"color: #008080; text-decoration-color: #008080; font-weight: bold\">[</span><span style=\"color: #008080; text-decoration-color: #008080\">URL_SEED</span><span style=\"color: #008080; text-decoration-color: #008080; font-weight: bold\">]</span><span style=\"color: #008080; text-decoration-color: #008080\"> ℹ HEAD VALID for </span><span style=\"color: #008080; text-decoration-color: #008080; text-decoration: underline\">https://docs.python.org/3/c-api/perfmaps.html</span><span style=\"color: #008080; text-decoration-color: #008080\"> </span>\n",
       "</pre>\n"
      ],
      "text/plain": [
       "\u001b[1;36m[\u001b[0m\u001b[36mURL_SEED\u001b[0m\u001b[1;36m]\u001b[0m\u001b[36m ℹ HEAD VALID for \u001b[0m\u001b[4;36mhttps://docs.python.org/3/c-api/perfmaps.html\u001b[0m\u001b[36m \u001b[0m\n"
      ]
     },
     "metadata": {},
     "output_type": "display_data"
    },
    {
     "data": {
      "text/html": [
       "<pre style=\"white-space:pre;overflow-x:auto;line-height:normal;font-family:Menlo,'DejaVu Sans Mono',consolas,'Courier New',monospace\"><span style=\"color: #808080; text-decoration-color: #808080; font-weight: bold\">[</span><span style=\"color: #808080; text-decoration-color: #808080\">URL_SEED</span><span style=\"color: #808080; text-decoration-color: #808080; font-weight: bold\">]</span><span style=\"color: #808080; text-decoration-color: #808080\"> ℹ Fetching head for </span><span style=\"color: #808080; text-decoration-color: #808080; text-decoration: underline\">https://docs.python.org/3/c-api/mapping.html</span><span style=\"color: #808080; text-decoration-color: #808080\"> </span>\n",
       "</pre>\n"
      ],
      "text/plain": [
       "\u001b[1;90m[\u001b[0m\u001b[90mURL_SEED\u001b[0m\u001b[1;90m]\u001b[0m\u001b[90m ℹ Fetching head for \u001b[0m\u001b[4;90mhttps://docs.python.org/3/c-api/mapping.html\u001b[0m\u001b[90m \u001b[0m\n"
      ]
     },
     "metadata": {},
     "output_type": "display_data"
    },
    {
     "data": {
      "text/html": [
       "<pre style=\"white-space:pre;overflow-x:auto;line-height:normal;font-family:Menlo,'DejaVu Sans Mono',consolas,'Courier New',monospace\"><span style=\"color: #008080; text-decoration-color: #008080; font-weight: bold\">[</span><span style=\"color: #008080; text-decoration-color: #008080\">URL_SEED</span><span style=\"color: #008080; text-decoration-color: #008080; font-weight: bold\">]</span><span style=\"color: #008080; text-decoration-color: #008080\"> ℹ HEAD VALID for </span><span style=\"color: #008080; text-decoration-color: #008080; text-decoration: underline\">https://docs.python.org/3/c-api/call.html</span><span style=\"color: #008080; text-decoration-color: #008080\"> </span>\n",
       "</pre>\n"
      ],
      "text/plain": [
       "\u001b[1;36m[\u001b[0m\u001b[36mURL_SEED\u001b[0m\u001b[1;36m]\u001b[0m\u001b[36m ℹ HEAD VALID for \u001b[0m\u001b[4;36mhttps://docs.python.org/3/c-api/call.html\u001b[0m\u001b[36m \u001b[0m\n"
      ]
     },
     "metadata": {},
     "output_type": "display_data"
    },
    {
     "data": {
      "text/html": [
       "<pre style=\"white-space:pre;overflow-x:auto;line-height:normal;font-family:Menlo,'DejaVu Sans Mono',consolas,'Courier New',monospace\"><span style=\"color: #808080; text-decoration-color: #808080; font-weight: bold\">[</span><span style=\"color: #808080; text-decoration-color: #808080\">URL_SEED</span><span style=\"color: #808080; text-decoration-color: #808080; font-weight: bold\">]</span><span style=\"color: #808080; text-decoration-color: #808080\"> ℹ Fetching head for </span><span style=\"color: #808080; text-decoration-color: #808080; text-decoration: underline\">https://docs.python.org/3/c-api/iter.html</span><span style=\"color: #808080; text-decoration-color: #808080\"> </span>\n",
       "</pre>\n"
      ],
      "text/plain": [
       "\u001b[1;90m[\u001b[0m\u001b[90mURL_SEED\u001b[0m\u001b[1;90m]\u001b[0m\u001b[90m ℹ Fetching head for \u001b[0m\u001b[4;90mhttps://docs.python.org/3/c-api/iter.html\u001b[0m\u001b[90m \u001b[0m\n"
      ]
     },
     "metadata": {},
     "output_type": "display_data"
    },
    {
     "data": {
      "text/html": [
       "<pre style=\"white-space:pre;overflow-x:auto;line-height:normal;font-family:Menlo,'DejaVu Sans Mono',consolas,'Courier New',monospace\"><span style=\"color: #008080; text-decoration-color: #008080; font-weight: bold\">[</span><span style=\"color: #008080; text-decoration-color: #008080\">URL_SEED</span><span style=\"color: #008080; text-decoration-color: #008080; font-weight: bold\">]</span><span style=\"color: #008080; text-decoration-color: #008080\"> ℹ HEAD VALID for </span><span style=\"color: #008080; text-decoration-color: #008080; text-decoration: underline\">https://docs.python.org/3/c-api/object.html</span><span style=\"color: #008080; text-decoration-color: #008080\"> </span>\n",
       "</pre>\n"
      ],
      "text/plain": [
       "\u001b[1;36m[\u001b[0m\u001b[36mURL_SEED\u001b[0m\u001b[1;36m]\u001b[0m\u001b[36m ℹ HEAD VALID for \u001b[0m\u001b[4;36mhttps://docs.python.org/3/c-api/object.html\u001b[0m\u001b[36m \u001b[0m\n"
      ]
     },
     "metadata": {},
     "output_type": "display_data"
    },
    {
     "data": {
      "text/html": [
       "<pre style=\"white-space:pre;overflow-x:auto;line-height:normal;font-family:Menlo,'DejaVu Sans Mono',consolas,'Courier New',monospace\"><span style=\"color: #808080; text-decoration-color: #808080; font-weight: bold\">[</span><span style=\"color: #808080; text-decoration-color: #808080\">URL_SEED</span><span style=\"color: #808080; text-decoration-color: #808080; font-weight: bold\">]</span><span style=\"color: #808080; text-decoration-color: #808080\"> ℹ Fetching head for </span><span style=\"color: #808080; text-decoration-color: #808080; text-decoration: underline\">https://docs.python.org/3/c-api/buffer.html</span><span style=\"color: #808080; text-decoration-color: #808080\"> </span>\n",
       "</pre>\n"
      ],
      "text/plain": [
       "\u001b[1;90m[\u001b[0m\u001b[90mURL_SEED\u001b[0m\u001b[1;90m]\u001b[0m\u001b[90m ℹ Fetching head for \u001b[0m\u001b[4;90mhttps://docs.python.org/3/c-api/buffer.html\u001b[0m\u001b[90m \u001b[0m\n"
      ]
     },
     "metadata": {},
     "output_type": "display_data"
    },
    {
     "data": {
      "text/html": [
       "<pre style=\"white-space:pre;overflow-x:auto;line-height:normal;font-family:Menlo,'DejaVu Sans Mono',consolas,'Courier New',monospace\"><span style=\"color: #008080; text-decoration-color: #008080; font-weight: bold\">[</span><span style=\"color: #008080; text-decoration-color: #008080\">URL_SEED</span><span style=\"color: #008080; text-decoration-color: #008080; font-weight: bold\">]</span><span style=\"color: #008080; text-decoration-color: #008080\"> ℹ HEAD VALID for </span><span style=\"color: #008080; text-decoration-color: #008080; text-decoration: underline\">https://docs.python.org/3/c-api/number.html</span><span style=\"color: #008080; text-decoration-color: #008080\"> </span>\n",
       "</pre>\n"
      ],
      "text/plain": [
       "\u001b[1;36m[\u001b[0m\u001b[36mURL_SEED\u001b[0m\u001b[1;36m]\u001b[0m\u001b[36m ℹ HEAD VALID for \u001b[0m\u001b[4;36mhttps://docs.python.org/3/c-api/number.html\u001b[0m\u001b[36m \u001b[0m\n"
      ]
     },
     "metadata": {},
     "output_type": "display_data"
    },
    {
     "data": {
      "text/html": [
       "<pre style=\"white-space:pre;overflow-x:auto;line-height:normal;font-family:Menlo,'DejaVu Sans Mono',consolas,'Courier New',monospace\"><span style=\"color: #808080; text-decoration-color: #808080; font-weight: bold\">[</span><span style=\"color: #808080; text-decoration-color: #808080\">URL_SEED</span><span style=\"color: #808080; text-decoration-color: #808080; font-weight: bold\">]</span><span style=\"color: #808080; text-decoration-color: #808080\"> ℹ Fetching head for </span><span style=\"color: #808080; text-decoration-color: #808080; text-decoration: underline\">https://docs.python.org/3/c-api/concrete.html</span><span style=\"color: #808080; text-decoration-color: #808080\"> </span>\n",
       "</pre>\n"
      ],
      "text/plain": [
       "\u001b[1;90m[\u001b[0m\u001b[90mURL_SEED\u001b[0m\u001b[1;90m]\u001b[0m\u001b[90m ℹ Fetching head for \u001b[0m\u001b[4;90mhttps://docs.python.org/3/c-api/concrete.html\u001b[0m\u001b[90m \u001b[0m\n"
      ]
     },
     "metadata": {},
     "output_type": "display_data"
    },
    {
     "data": {
      "text/html": [
       "<pre style=\"white-space:pre;overflow-x:auto;line-height:normal;font-family:Menlo,'DejaVu Sans Mono',consolas,'Courier New',monospace\"><span style=\"color: #008080; text-decoration-color: #008080; font-weight: bold\">[</span><span style=\"color: #008080; text-decoration-color: #008080\">URL_SEED</span><span style=\"color: #008080; text-decoration-color: #008080; font-weight: bold\">]</span><span style=\"color: #008080; text-decoration-color: #008080\"> ℹ HEAD VALID for </span><span style=\"color: #008080; text-decoration-color: #008080; text-decoration: underline\">https://docs.python.org/3/c-api/sequence.html</span><span style=\"color: #008080; text-decoration-color: #008080\"> </span>\n",
       "</pre>\n"
      ],
      "text/plain": [
       "\u001b[1;36m[\u001b[0m\u001b[36mURL_SEED\u001b[0m\u001b[1;36m]\u001b[0m\u001b[36m ℹ HEAD VALID for \u001b[0m\u001b[4;36mhttps://docs.python.org/3/c-api/sequence.html\u001b[0m\u001b[36m \u001b[0m\n"
      ]
     },
     "metadata": {},
     "output_type": "display_data"
    },
    {
     "data": {
      "text/html": [
       "<pre style=\"white-space:pre;overflow-x:auto;line-height:normal;font-family:Menlo,'DejaVu Sans Mono',consolas,'Courier New',monospace\"><span style=\"color: #808080; text-decoration-color: #808080; font-weight: bold\">[</span><span style=\"color: #808080; text-decoration-color: #808080\">URL_SEED</span><span style=\"color: #808080; text-decoration-color: #808080; font-weight: bold\">]</span><span style=\"color: #808080; text-decoration-color: #808080\"> ℹ Fetching head for </span><span style=\"color: #808080; text-decoration-color: #808080; text-decoration: underline\">https://docs.python.org/3/c-api/init.html</span><span style=\"color: #808080; text-decoration-color: #808080\"> </span>\n",
       "</pre>\n"
      ],
      "text/plain": [
       "\u001b[1;90m[\u001b[0m\u001b[90mURL_SEED\u001b[0m\u001b[1;90m]\u001b[0m\u001b[90m ℹ Fetching head for \u001b[0m\u001b[4;90mhttps://docs.python.org/3/c-api/init.html\u001b[0m\u001b[90m \u001b[0m\n"
      ]
     },
     "metadata": {},
     "output_type": "display_data"
    },
    {
     "data": {
      "text/html": [
       "<pre style=\"white-space:pre;overflow-x:auto;line-height:normal;font-family:Menlo,'DejaVu Sans Mono',consolas,'Courier New',monospace\"><span style=\"color: #008080; text-decoration-color: #008080; font-weight: bold\">[</span><span style=\"color: #008080; text-decoration-color: #008080\">URL_SEED</span><span style=\"color: #008080; text-decoration-color: #008080; font-weight: bold\">]</span><span style=\"color: #008080; text-decoration-color: #008080\"> ℹ HEAD VALID for </span><span style=\"color: #008080; text-decoration-color: #008080; text-decoration: underline\">https://docs.python.org/3/c-api/mapping.html</span><span style=\"color: #008080; text-decoration-color: #008080\"> </span>\n",
       "</pre>\n"
      ],
      "text/plain": [
       "\u001b[1;36m[\u001b[0m\u001b[36mURL_SEED\u001b[0m\u001b[1;36m]\u001b[0m\u001b[36m ℹ HEAD VALID for \u001b[0m\u001b[4;36mhttps://docs.python.org/3/c-api/mapping.html\u001b[0m\u001b[36m \u001b[0m\n"
      ]
     },
     "metadata": {},
     "output_type": "display_data"
    },
    {
     "data": {
      "text/html": [
       "<pre style=\"white-space:pre;overflow-x:auto;line-height:normal;font-family:Menlo,'DejaVu Sans Mono',consolas,'Courier New',monospace\"><span style=\"color: #808080; text-decoration-color: #808080; font-weight: bold\">[</span><span style=\"color: #808080; text-decoration-color: #808080\">URL_SEED</span><span style=\"color: #808080; text-decoration-color: #808080; font-weight: bold\">]</span><span style=\"color: #808080; text-decoration-color: #808080\"> ℹ Fetching head for </span><span style=\"color: #808080; text-decoration-color: #808080; text-decoration: underline\">https://docs.python.org/3/c-api/init_config.html</span><span style=\"color: #808080; text-decoration-color: #808080\"> </span>\n",
       "</pre>\n"
      ],
      "text/plain": [
       "\u001b[1;90m[\u001b[0m\u001b[90mURL_SEED\u001b[0m\u001b[1;90m]\u001b[0m\u001b[90m ℹ Fetching head for \u001b[0m\u001b[4;90mhttps://docs.python.org/3/c-api/init_config.html\u001b[0m\u001b[90m \u001b[0m\n"
      ]
     },
     "metadata": {},
     "output_type": "display_data"
    },
    {
     "data": {
      "text/html": [
       "<pre style=\"white-space:pre;overflow-x:auto;line-height:normal;font-family:Menlo,'DejaVu Sans Mono',consolas,'Courier New',monospace\"><span style=\"color: #008080; text-decoration-color: #008080; font-weight: bold\">[</span><span style=\"color: #008080; text-decoration-color: #008080\">URL_SEED</span><span style=\"color: #008080; text-decoration-color: #008080; font-weight: bold\">]</span><span style=\"color: #008080; text-decoration-color: #008080\"> ℹ HEAD VALID for </span><span style=\"color: #008080; text-decoration-color: #008080; text-decoration: underline\">https://docs.python.org/3/c-api/iter.html</span><span style=\"color: #008080; text-decoration-color: #008080\"> </span>\n",
       "</pre>\n"
      ],
      "text/plain": [
       "\u001b[1;36m[\u001b[0m\u001b[36mURL_SEED\u001b[0m\u001b[1;36m]\u001b[0m\u001b[36m ℹ HEAD VALID for \u001b[0m\u001b[4;36mhttps://docs.python.org/3/c-api/iter.html\u001b[0m\u001b[36m \u001b[0m\n"
      ]
     },
     "metadata": {},
     "output_type": "display_data"
    },
    {
     "data": {
      "text/html": [
       "<pre style=\"white-space:pre;overflow-x:auto;line-height:normal;font-family:Menlo,'DejaVu Sans Mono',consolas,'Courier New',monospace\"><span style=\"color: #808080; text-decoration-color: #808080; font-weight: bold\">[</span><span style=\"color: #808080; text-decoration-color: #808080\">URL_SEED</span><span style=\"color: #808080; text-decoration-color: #808080; font-weight: bold\">]</span><span style=\"color: #808080; text-decoration-color: #808080\"> ℹ Fetching head for </span><span style=\"color: #808080; text-decoration-color: #808080; text-decoration: underline\">https://docs.python.org/3/c-api/memory.html</span><span style=\"color: #808080; text-decoration-color: #808080\"> </span>\n",
       "</pre>\n"
      ],
      "text/plain": [
       "\u001b[1;90m[\u001b[0m\u001b[90mURL_SEED\u001b[0m\u001b[1;90m]\u001b[0m\u001b[90m ℹ Fetching head for \u001b[0m\u001b[4;90mhttps://docs.python.org/3/c-api/memory.html\u001b[0m\u001b[90m \u001b[0m\n"
      ]
     },
     "metadata": {},
     "output_type": "display_data"
    },
    {
     "data": {
      "text/html": [
       "<pre style=\"white-space:pre;overflow-x:auto;line-height:normal;font-family:Menlo,'DejaVu Sans Mono',consolas,'Courier New',monospace\"><span style=\"color: #008080; text-decoration-color: #008080; font-weight: bold\">[</span><span style=\"color: #008080; text-decoration-color: #008080\">URL_SEED</span><span style=\"color: #008080; text-decoration-color: #008080; font-weight: bold\">]</span><span style=\"color: #008080; text-decoration-color: #008080\"> ℹ HEAD VALID for </span><span style=\"color: #008080; text-decoration-color: #008080; text-decoration: underline\">https://docs.python.org/3/c-api/buffer.html</span><span style=\"color: #008080; text-decoration-color: #008080\"> </span>\n",
       "</pre>\n"
      ],
      "text/plain": [
       "\u001b[1;36m[\u001b[0m\u001b[36mURL_SEED\u001b[0m\u001b[1;36m]\u001b[0m\u001b[36m ℹ HEAD VALID for \u001b[0m\u001b[4;36mhttps://docs.python.org/3/c-api/buffer.html\u001b[0m\u001b[36m \u001b[0m\n"
      ]
     },
     "metadata": {},
     "output_type": "display_data"
    },
    {
     "data": {
      "text/html": [
       "<pre style=\"white-space:pre;overflow-x:auto;line-height:normal;font-family:Menlo,'DejaVu Sans Mono',consolas,'Courier New',monospace\"><span style=\"color: #808080; text-decoration-color: #808080; font-weight: bold\">[</span><span style=\"color: #808080; text-decoration-color: #808080\">URL_SEED</span><span style=\"color: #808080; text-decoration-color: #808080; font-weight: bold\">]</span><span style=\"color: #808080; text-decoration-color: #808080\"> ℹ Fetching head for </span><span style=\"color: #808080; text-decoration-color: #808080; text-decoration: underline\">https://docs.python.org/3/c-api/objimpl.html</span><span style=\"color: #808080; text-decoration-color: #808080\"> </span>\n",
       "</pre>\n"
      ],
      "text/plain": [
       "\u001b[1;90m[\u001b[0m\u001b[90mURL_SEED\u001b[0m\u001b[1;90m]\u001b[0m\u001b[90m ℹ Fetching head for \u001b[0m\u001b[4;90mhttps://docs.python.org/3/c-api/objimpl.html\u001b[0m\u001b[90m \u001b[0m\n"
      ]
     },
     "metadata": {},
     "output_type": "display_data"
    },
    {
     "data": {
      "text/html": [
       "<pre style=\"white-space:pre;overflow-x:auto;line-height:normal;font-family:Menlo,'DejaVu Sans Mono',consolas,'Courier New',monospace\"><span style=\"color: #008080; text-decoration-color: #008080; font-weight: bold\">[</span><span style=\"color: #008080; text-decoration-color: #008080\">URL_SEED</span><span style=\"color: #008080; text-decoration-color: #008080; font-weight: bold\">]</span><span style=\"color: #008080; text-decoration-color: #008080\"> ℹ HEAD VALID for </span><span style=\"color: #008080; text-decoration-color: #008080; text-decoration: underline\">https://docs.python.org/3/c-api/concrete.html</span><span style=\"color: #008080; text-decoration-color: #008080\"> </span>\n",
       "</pre>\n"
      ],
      "text/plain": [
       "\u001b[1;36m[\u001b[0m\u001b[36mURL_SEED\u001b[0m\u001b[1;36m]\u001b[0m\u001b[36m ℹ HEAD VALID for \u001b[0m\u001b[4;36mhttps://docs.python.org/3/c-api/concrete.html\u001b[0m\u001b[36m \u001b[0m\n"
      ]
     },
     "metadata": {},
     "output_type": "display_data"
    },
    {
     "data": {
      "text/html": [
       "<pre style=\"white-space:pre;overflow-x:auto;line-height:normal;font-family:Menlo,'DejaVu Sans Mono',consolas,'Courier New',monospace\"><span style=\"color: #008080; text-decoration-color: #008080; font-weight: bold\">[</span><span style=\"color: #008080; text-decoration-color: #008080\">URL_SEED</span><span style=\"color: #008080; text-decoration-color: #008080; font-weight: bold\">]</span><span style=\"color: #008080; text-decoration-color: #008080\"> ℹ HEAD VALID for </span><span style=\"color: #008080; text-decoration-color: #008080; text-decoration: underline\">https://docs.python.org/3/c-api/init.html</span><span style=\"color: #008080; text-decoration-color: #008080\"> </span>\n",
       "</pre>\n"
      ],
      "text/plain": [
       "\u001b[1;36m[\u001b[0m\u001b[36mURL_SEED\u001b[0m\u001b[1;36m]\u001b[0m\u001b[36m ℹ HEAD VALID for \u001b[0m\u001b[4;36mhttps://docs.python.org/3/c-api/init.html\u001b[0m\u001b[36m \u001b[0m\n"
      ]
     },
     "metadata": {},
     "output_type": "display_data"
    },
    {
     "data": {
      "text/html": [
       "<pre style=\"white-space:pre;overflow-x:auto;line-height:normal;font-family:Menlo,'DejaVu Sans Mono',consolas,'Courier New',monospace\"><span style=\"color: #808080; text-decoration-color: #808080; font-weight: bold\">[</span><span style=\"color: #808080; text-decoration-color: #808080\">URL_SEED</span><span style=\"color: #808080; text-decoration-color: #808080; font-weight: bold\">]</span><span style=\"color: #808080; text-decoration-color: #808080\"> ℹ Fetching head for </span><span style=\"color: #808080; text-decoration-color: #808080; text-decoration: underline\">https://docs.python.org/3/c-api/allocation.html</span><span style=\"color: #808080; text-decoration-color: #808080\"> </span>\n",
       "</pre>\n"
      ],
      "text/plain": [
       "\u001b[1;90m[\u001b[0m\u001b[90mURL_SEED\u001b[0m\u001b[1;90m]\u001b[0m\u001b[90m ℹ Fetching head for \u001b[0m\u001b[4;90mhttps://docs.python.org/3/c-api/allocation.html\u001b[0m\u001b[90m \u001b[0m\n"
      ]
     },
     "metadata": {},
     "output_type": "display_data"
    },
    {
     "data": {
      "text/html": [
       "<pre style=\"white-space:pre;overflow-x:auto;line-height:normal;font-family:Menlo,'DejaVu Sans Mono',consolas,'Courier New',monospace\"><span style=\"color: #808080; text-decoration-color: #808080; font-weight: bold\">[</span><span style=\"color: #808080; text-decoration-color: #808080\">URL_SEED</span><span style=\"color: #808080; text-decoration-color: #808080; font-weight: bold\">]</span><span style=\"color: #808080; text-decoration-color: #808080\"> ℹ Fetching head for </span><span style=\"color: #808080; text-decoration-color: #808080; text-decoration: underline\">https://docs.python.org/3/c-api/structures.html</span><span style=\"color: #808080; text-decoration-color: #808080\"> </span>\n",
       "</pre>\n"
      ],
      "text/plain": [
       "\u001b[1;90m[\u001b[0m\u001b[90mURL_SEED\u001b[0m\u001b[1;90m]\u001b[0m\u001b[90m ℹ Fetching head for \u001b[0m\u001b[4;90mhttps://docs.python.org/3/c-api/structures.html\u001b[0m\u001b[90m \u001b[0m\n"
      ]
     },
     "metadata": {},
     "output_type": "display_data"
    },
    {
     "data": {
      "text/html": [
       "<pre style=\"white-space:pre;overflow-x:auto;line-height:normal;font-family:Menlo,'DejaVu Sans Mono',consolas,'Courier New',monospace\"><span style=\"color: #008080; text-decoration-color: #008080; font-weight: bold\">[</span><span style=\"color: #008080; text-decoration-color: #008080\">URL_SEED</span><span style=\"color: #008080; text-decoration-color: #008080; font-weight: bold\">]</span><span style=\"color: #008080; text-decoration-color: #008080\"> ℹ HEAD VALID for </span><span style=\"color: #008080; text-decoration-color: #008080; text-decoration: underline\">https://docs.python.org/3/c-api/init_config.html</span><span style=\"color: #008080; text-decoration-color: #008080\"> </span>\n",
       "</pre>\n"
      ],
      "text/plain": [
       "\u001b[1;36m[\u001b[0m\u001b[36mURL_SEED\u001b[0m\u001b[1;36m]\u001b[0m\u001b[36m ℹ HEAD VALID for \u001b[0m\u001b[4;36mhttps://docs.python.org/3/c-api/init_config.html\u001b[0m\u001b[36m \u001b[0m\n"
      ]
     },
     "metadata": {},
     "output_type": "display_data"
    },
    {
     "data": {
      "text/html": [
       "<pre style=\"white-space:pre;overflow-x:auto;line-height:normal;font-family:Menlo,'DejaVu Sans Mono',consolas,'Courier New',monospace\"><span style=\"color: #808080; text-decoration-color: #808080; font-weight: bold\">[</span><span style=\"color: #808080; text-decoration-color: #808080\">URL_SEED</span><span style=\"color: #808080; text-decoration-color: #808080; font-weight: bold\">]</span><span style=\"color: #808080; text-decoration-color: #808080\"> ℹ Fetching head for </span><span style=\"color: #808080; text-decoration-color: #808080; text-decoration: underline\">https://docs.python.org/3/c-api/typeobj.html</span><span style=\"color: #808080; text-decoration-color: #808080\"> </span>\n",
       "</pre>\n"
      ],
      "text/plain": [
       "\u001b[1;90m[\u001b[0m\u001b[90mURL_SEED\u001b[0m\u001b[1;90m]\u001b[0m\u001b[90m ℹ Fetching head for \u001b[0m\u001b[4;90mhttps://docs.python.org/3/c-api/typeobj.html\u001b[0m\u001b[90m \u001b[0m\n"
      ]
     },
     "metadata": {},
     "output_type": "display_data"
    },
    {
     "data": {
      "text/html": [
       "<pre style=\"white-space:pre;overflow-x:auto;line-height:normal;font-family:Menlo,'DejaVu Sans Mono',consolas,'Courier New',monospace\"><span style=\"color: #008080; text-decoration-color: #008080; font-weight: bold\">[</span><span style=\"color: #008080; text-decoration-color: #008080\">URL_SEED</span><span style=\"color: #008080; text-decoration-color: #008080; font-weight: bold\">]</span><span style=\"color: #008080; text-decoration-color: #008080\"> ℹ HEAD VALID for </span><span style=\"color: #008080; text-decoration-color: #008080; text-decoration: underline\">https://docs.python.org/3/c-api/objimpl.html</span><span style=\"color: #008080; text-decoration-color: #008080\"> </span>\n",
       "</pre>\n"
      ],
      "text/plain": [
       "\u001b[1;36m[\u001b[0m\u001b[36mURL_SEED\u001b[0m\u001b[1;36m]\u001b[0m\u001b[36m ℹ HEAD VALID for \u001b[0m\u001b[4;36mhttps://docs.python.org/3/c-api/objimpl.html\u001b[0m\u001b[36m \u001b[0m\n"
      ]
     },
     "metadata": {},
     "output_type": "display_data"
    },
    {
     "data": {
      "text/html": [
       "<pre style=\"white-space:pre;overflow-x:auto;line-height:normal;font-family:Menlo,'DejaVu Sans Mono',consolas,'Courier New',monospace\"><span style=\"color: #008080; text-decoration-color: #008080; font-weight: bold\">[</span><span style=\"color: #008080; text-decoration-color: #008080\">URL_SEED</span><span style=\"color: #008080; text-decoration-color: #008080; font-weight: bold\">]</span><span style=\"color: #008080; text-decoration-color: #008080\"> ℹ HEAD VALID for </span><span style=\"color: #008080; text-decoration-color: #008080; text-decoration: underline\">https://docs.python.org/3/c-api/memory.html</span><span style=\"color: #008080; text-decoration-color: #008080\"> </span>\n",
       "</pre>\n"
      ],
      "text/plain": [
       "\u001b[1;36m[\u001b[0m\u001b[36mURL_SEED\u001b[0m\u001b[1;36m]\u001b[0m\u001b[36m ℹ HEAD VALID for \u001b[0m\u001b[4;36mhttps://docs.python.org/3/c-api/memory.html\u001b[0m\u001b[36m \u001b[0m\n"
      ]
     },
     "metadata": {},
     "output_type": "display_data"
    },
    {
     "data": {
      "text/html": [
       "<pre style=\"white-space:pre;overflow-x:auto;line-height:normal;font-family:Menlo,'DejaVu Sans Mono',consolas,'Courier New',monospace\"><span style=\"color: #808080; text-decoration-color: #808080; font-weight: bold\">[</span><span style=\"color: #808080; text-decoration-color: #808080\">URL_SEED</span><span style=\"color: #808080; text-decoration-color: #808080; font-weight: bold\">]</span><span style=\"color: #808080; text-decoration-color: #808080\"> ℹ Fetching head for </span><span style=\"color: #808080; text-decoration-color: #808080; text-decoration: underline\">https://docs.python.org/3/c-api/gcsupport.html</span><span style=\"color: #808080; text-decoration-color: #808080\"> </span>\n",
       "</pre>\n"
      ],
      "text/plain": [
       "\u001b[1;90m[\u001b[0m\u001b[90mURL_SEED\u001b[0m\u001b[1;90m]\u001b[0m\u001b[90m ℹ Fetching head for \u001b[0m\u001b[4;90mhttps://docs.python.org/3/c-api/gcsupport.html\u001b[0m\u001b[90m \u001b[0m\n"
      ]
     },
     "metadata": {},
     "output_type": "display_data"
    },
    {
     "data": {
      "text/html": [
       "<pre style=\"white-space:pre;overflow-x:auto;line-height:normal;font-family:Menlo,'DejaVu Sans Mono',consolas,'Courier New',monospace\"><span style=\"color: #808080; text-decoration-color: #808080; font-weight: bold\">[</span><span style=\"color: #808080; text-decoration-color: #808080\">URL_SEED</span><span style=\"color: #808080; text-decoration-color: #808080; font-weight: bold\">]</span><span style=\"color: #808080; text-decoration-color: #808080\"> ℹ Fetching head for </span><span style=\"color: #808080; text-decoration-color: #808080; text-decoration: underline\">https://docs.python.org/3/c-api/apiabiversion.html</span><span style=\"color: #808080; text-decoration-color: #808080\"> </span>\n",
       "</pre>\n"
      ],
      "text/plain": [
       "\u001b[1;90m[\u001b[0m\u001b[90mURL_SEED\u001b[0m\u001b[1;90m]\u001b[0m\u001b[90m ℹ Fetching head for \u001b[0m\u001b[4;90mhttps://docs.python.org/3/c-api/apiabiversion.html\u001b[0m\u001b[90m \u001b[0m\n"
      ]
     },
     "metadata": {},
     "output_type": "display_data"
    },
    {
     "data": {
      "text/html": [
       "<pre style=\"white-space:pre;overflow-x:auto;line-height:normal;font-family:Menlo,'DejaVu Sans Mono',consolas,'Courier New',monospace\"><span style=\"color: #008080; text-decoration-color: #008080; font-weight: bold\">[</span><span style=\"color: #008080; text-decoration-color: #008080\">URL_SEED</span><span style=\"color: #008080; text-decoration-color: #008080; font-weight: bold\">]</span><span style=\"color: #008080; text-decoration-color: #008080\"> ℹ HEAD VALID for </span><span style=\"color: #008080; text-decoration-color: #008080; text-decoration: underline\">https://docs.python.org/3/c-api/structures.html</span><span style=\"color: #008080; text-decoration-color: #008080\"> </span>\n",
       "</pre>\n"
      ],
      "text/plain": [
       "\u001b[1;36m[\u001b[0m\u001b[36mURL_SEED\u001b[0m\u001b[1;36m]\u001b[0m\u001b[36m ℹ HEAD VALID for \u001b[0m\u001b[4;36mhttps://docs.python.org/3/c-api/structures.html\u001b[0m\u001b[36m \u001b[0m\n"
      ]
     },
     "metadata": {},
     "output_type": "display_data"
    },
    {
     "data": {
      "text/html": [
       "<pre style=\"white-space:pre;overflow-x:auto;line-height:normal;font-family:Menlo,'DejaVu Sans Mono',consolas,'Courier New',monospace\"><span style=\"color: #808080; text-decoration-color: #808080; font-weight: bold\">[</span><span style=\"color: #808080; text-decoration-color: #808080\">URL_SEED</span><span style=\"color: #808080; text-decoration-color: #808080; font-weight: bold\">]</span><span style=\"color: #808080; text-decoration-color: #808080\"> ℹ Fetching head for </span><span style=\"color: #808080; text-decoration-color: #808080; text-decoration: underline\">https://docs.python.org/3/c-api/monitoring.html</span><span style=\"color: #808080; text-decoration-color: #808080\"> </span>\n",
       "</pre>\n"
      ],
      "text/plain": [
       "\u001b[1;90m[\u001b[0m\u001b[90mURL_SEED\u001b[0m\u001b[1;90m]\u001b[0m\u001b[90m ℹ Fetching head for \u001b[0m\u001b[4;90mhttps://docs.python.org/3/c-api/monitoring.html\u001b[0m\u001b[90m \u001b[0m\n"
      ]
     },
     "metadata": {},
     "output_type": "display_data"
    },
    {
     "data": {
      "text/html": [
       "<pre style=\"white-space:pre;overflow-x:auto;line-height:normal;font-family:Menlo,'DejaVu Sans Mono',consolas,'Courier New',monospace\"><span style=\"color: #008080; text-decoration-color: #008080; font-weight: bold\">[</span><span style=\"color: #008080; text-decoration-color: #008080\">URL_SEED</span><span style=\"color: #008080; text-decoration-color: #008080; font-weight: bold\">]</span><span style=\"color: #008080; text-decoration-color: #008080\"> ℹ HEAD VALID for </span><span style=\"color: #008080; text-decoration-color: #008080; text-decoration: underline\">https://docs.python.org/3/c-api/allocation.html</span><span style=\"color: #008080; text-decoration-color: #008080\"> </span>\n",
       "</pre>\n"
      ],
      "text/plain": [
       "\u001b[1;36m[\u001b[0m\u001b[36mURL_SEED\u001b[0m\u001b[1;36m]\u001b[0m\u001b[36m ℹ HEAD VALID for \u001b[0m\u001b[4;36mhttps://docs.python.org/3/c-api/allocation.html\u001b[0m\u001b[36m \u001b[0m\n"
      ]
     },
     "metadata": {},
     "output_type": "display_data"
    },
    {
     "data": {
      "text/html": [
       "<pre style=\"white-space:pre;overflow-x:auto;line-height:normal;font-family:Menlo,'DejaVu Sans Mono',consolas,'Courier New',monospace\"><span style=\"color: #808080; text-decoration-color: #808080; font-weight: bold\">[</span><span style=\"color: #808080; text-decoration-color: #808080\">URL_SEED</span><span style=\"color: #808080; text-decoration-color: #808080; font-weight: bold\">]</span><span style=\"color: #808080; text-decoration-color: #808080\"> ℹ Fetching head for </span><span style=\"color: #808080; text-decoration-color: #808080; text-decoration: underline\">https://docs.python.org/license.html</span><span style=\"color: #808080; text-decoration-color: #808080\"> </span>\n",
       "</pre>\n"
      ],
      "text/plain": [
       "\u001b[1;90m[\u001b[0m\u001b[90mURL_SEED\u001b[0m\u001b[1;90m]\u001b[0m\u001b[90m ℹ Fetching head for \u001b[0m\u001b[4;90mhttps://docs.python.org/license.html\u001b[0m\u001b[90m \u001b[0m\n"
      ]
     },
     "metadata": {},
     "output_type": "display_data"
    },
    {
     "data": {
      "text/html": [
       "<pre style=\"white-space:pre;overflow-x:auto;line-height:normal;font-family:Menlo,'DejaVu Sans Mono',consolas,'Courier New',monospace\"><span style=\"color: #008080; text-decoration-color: #008080; font-weight: bold\">[</span><span style=\"color: #008080; text-decoration-color: #008080\">URL_SEED</span><span style=\"color: #008080; text-decoration-color: #008080; font-weight: bold\">]</span><span style=\"color: #008080; text-decoration-color: #008080\"> ℹ HEAD VALID for </span><span style=\"color: #008080; text-decoration-color: #008080; text-decoration: underline\">https://docs.python.org/3/c-api/gcsupport.html</span><span style=\"color: #008080; text-decoration-color: #008080\"> </span>\n",
       "</pre>\n"
      ],
      "text/plain": [
       "\u001b[1;36m[\u001b[0m\u001b[36mURL_SEED\u001b[0m\u001b[1;36m]\u001b[0m\u001b[36m ℹ HEAD VALID for \u001b[0m\u001b[4;36mhttps://docs.python.org/3/c-api/gcsupport.html\u001b[0m\u001b[36m \u001b[0m\n"
      ]
     },
     "metadata": {},
     "output_type": "display_data"
    },
    {
     "data": {
      "text/html": [
       "<pre style=\"white-space:pre;overflow-x:auto;line-height:normal;font-family:Menlo,'DejaVu Sans Mono',consolas,'Courier New',monospace\"><span style=\"color: #008080; text-decoration-color: #008080; font-weight: bold\">[</span><span style=\"color: #008080; text-decoration-color: #008080\">URL_SEED</span><span style=\"color: #008080; text-decoration-color: #008080; font-weight: bold\">]</span><span style=\"color: #008080; text-decoration-color: #008080\"> ℹ HEAD VALID for </span><span style=\"color: #008080; text-decoration-color: #008080; text-decoration: underline\">https://docs.python.org/3/c-api/apiabiversion.html</span><span style=\"color: #008080; text-decoration-color: #008080\"> </span>\n",
       "</pre>\n"
      ],
      "text/plain": [
       "\u001b[1;36m[\u001b[0m\u001b[36mURL_SEED\u001b[0m\u001b[1;36m]\u001b[0m\u001b[36m ℹ HEAD VALID for \u001b[0m\u001b[4;36mhttps://docs.python.org/3/c-api/apiabiversion.html\u001b[0m\u001b[36m \u001b[0m\n"
      ]
     },
     "metadata": {},
     "output_type": "display_data"
    },
    {
     "data": {
      "text/html": [
       "<pre style=\"white-space:pre;overflow-x:auto;line-height:normal;font-family:Menlo,'DejaVu Sans Mono',consolas,'Courier New',monospace\"><span style=\"color: #808080; text-decoration-color: #808080; font-weight: bold\">[</span><span style=\"color: #808080; text-decoration-color: #808080\">URL_SEED</span><span style=\"color: #808080; text-decoration-color: #808080; font-weight: bold\">]</span><span style=\"color: #808080; text-decoration-color: #808080\"> ℹ Fetching head for </span><span style=\"color: #808080; text-decoration-color: #808080; text-decoration: underline\">https://www.python.org/psf/donations</span><span style=\"color: #808080; text-decoration-color: #808080\"> </span>\n",
       "</pre>\n"
      ],
      "text/plain": [
       "\u001b[1;90m[\u001b[0m\u001b[90mURL_SEED\u001b[0m\u001b[1;90m]\u001b[0m\u001b[90m ℹ Fetching head for \u001b[0m\u001b[4;90mhttps://www.python.org/psf/donations\u001b[0m\u001b[90m \u001b[0m\n"
      ]
     },
     "metadata": {},
     "output_type": "display_data"
    },
    {
     "data": {
      "text/html": [
       "<pre style=\"white-space:pre;overflow-x:auto;line-height:normal;font-family:Menlo,'DejaVu Sans Mono',consolas,'Courier New',monospace\"><span style=\"color: #808080; text-decoration-color: #808080; font-weight: bold\">[</span><span style=\"color: #808080; text-decoration-color: #808080\">URL_SEED</span><span style=\"color: #808080; text-decoration-color: #808080; font-weight: bold\">]</span><span style=\"color: #808080; text-decoration-color: #808080\"> ℹ Fetching head for </span><span style=\"color: #808080; text-decoration-color: #808080; text-decoration: underline\">https://docs.python.org/bugs.html</span><span style=\"color: #808080; text-decoration-color: #808080\"> </span>\n",
       "</pre>\n"
      ],
      "text/plain": [
       "\u001b[1;90m[\u001b[0m\u001b[90mURL_SEED\u001b[0m\u001b[1;90m]\u001b[0m\u001b[90m ℹ Fetching head for \u001b[0m\u001b[4;90mhttps://docs.python.org/bugs.html\u001b[0m\u001b[90m \u001b[0m\n"
      ]
     },
     "metadata": {},
     "output_type": "display_data"
    },
    {
     "data": {
      "text/html": [
       "<pre style=\"white-space:pre;overflow-x:auto;line-height:normal;font-family:Menlo,'DejaVu Sans Mono',consolas,'Courier New',monospace\"><span style=\"color: #808080; text-decoration-color: #808080; font-weight: bold\">[</span><span style=\"color: #808080; text-decoration-color: #808080\">URL_SEED</span><span style=\"color: #808080; text-decoration-color: #808080; font-weight: bold\">]</span><span style=\"color: #808080; text-decoration-color: #808080\"> ℹ Redirecting from </span><span style=\"color: #808080; text-decoration-color: #808080; text-decoration: underline\">https://docs.python.org/license.html</span><span style=\"color: #808080; text-decoration-color: #808080\"> to </span><span style=\"color: #808080; text-decoration-color: #808080; text-decoration: underline\">https://docs.python.org/3/license.html</span><span style=\"color: #808080; text-decoration-color: #808080\"> </span>\n",
       "</pre>\n"
      ],
      "text/plain": [
       "\u001b[1;90m[\u001b[0m\u001b[90mURL_SEED\u001b[0m\u001b[1;90m]\u001b[0m\u001b[90m ℹ Redirecting from \u001b[0m\u001b[4;90mhttps://docs.python.org/license.html\u001b[0m\u001b[90m to \u001b[0m\u001b[4;90mhttps://docs.python.org/3/license.html\u001b[0m\u001b[90m \u001b[0m\n"
      ]
     },
     "metadata": {},
     "output_type": "display_data"
    },
    {
     "data": {
      "text/html": [
       "<pre style=\"white-space:pre;overflow-x:auto;line-height:normal;font-family:Menlo,'DejaVu Sans Mono',consolas,'Courier New',monospace\"><span style=\"color: #008080; text-decoration-color: #008080; font-weight: bold\">[</span><span style=\"color: #008080; text-decoration-color: #008080\">URL_SEED</span><span style=\"color: #008080; text-decoration-color: #008080; font-weight: bold\">]</span><span style=\"color: #008080; text-decoration-color: #008080\"> ℹ HEAD VALID for </span><span style=\"color: #008080; text-decoration-color: #008080; text-decoration: underline\">https://docs.python.org/3/c-api/typeobj.html</span><span style=\"color: #008080; text-decoration-color: #008080\"> </span>\n",
       "</pre>\n"
      ],
      "text/plain": [
       "\u001b[1;36m[\u001b[0m\u001b[36mURL_SEED\u001b[0m\u001b[1;36m]\u001b[0m\u001b[36m ℹ HEAD VALID for \u001b[0m\u001b[4;36mhttps://docs.python.org/3/c-api/typeobj.html\u001b[0m\u001b[36m \u001b[0m\n"
      ]
     },
     "metadata": {},
     "output_type": "display_data"
    },
    {
     "data": {
      "text/html": [
       "<pre style=\"white-space:pre;overflow-x:auto;line-height:normal;font-family:Menlo,'DejaVu Sans Mono',consolas,'Courier New',monospace\"><span style=\"color: #808080; text-decoration-color: #808080; font-weight: bold\">[</span><span style=\"color: #808080; text-decoration-color: #808080\">URL_SEED</span><span style=\"color: #808080; text-decoration-color: #808080; font-weight: bold\">]</span><span style=\"color: #808080; text-decoration-color: #808080\"> ℹ Redirecting from </span><span style=\"color: #808080; text-decoration-color: #808080; text-decoration: underline\">https://docs.python.org/bugs.html</span><span style=\"color: #808080; text-decoration-color: #808080\"> to </span><span style=\"color: #808080; text-decoration-color: #808080; text-decoration: underline\">https://docs.python.org/3/bugs.html</span><span style=\"color: #808080; text-decoration-color: #808080\"> </span>\n",
       "</pre>\n"
      ],
      "text/plain": [
       "\u001b[1;90m[\u001b[0m\u001b[90mURL_SEED\u001b[0m\u001b[1;90m]\u001b[0m\u001b[90m ℹ Redirecting from \u001b[0m\u001b[4;90mhttps://docs.python.org/bugs.html\u001b[0m\u001b[90m to \u001b[0m\u001b[4;90mhttps://docs.python.org/3/bugs.html\u001b[0m\u001b[90m \u001b[0m\n"
      ]
     },
     "metadata": {},
     "output_type": "display_data"
    },
    {
     "data": {
      "text/html": [
       "<pre style=\"white-space:pre;overflow-x:auto;line-height:normal;font-family:Menlo,'DejaVu Sans Mono',consolas,'Courier New',monospace\"><span style=\"color: #008080; text-decoration-color: #008080; font-weight: bold\">[</span><span style=\"color: #008080; text-decoration-color: #008080\">URL_SEED</span><span style=\"color: #008080; text-decoration-color: #008080; font-weight: bold\">]</span><span style=\"color: #008080; text-decoration-color: #008080\"> ℹ HEAD VALID for </span><span style=\"color: #008080; text-decoration-color: #008080; text-decoration: underline\">https://docs.python.org/3/license.html</span><span style=\"color: #008080; text-decoration-color: #008080\"> </span>\n",
       "</pre>\n"
      ],
      "text/plain": [
       "\u001b[1;36m[\u001b[0m\u001b[36mURL_SEED\u001b[0m\u001b[1;36m]\u001b[0m\u001b[36m ℹ HEAD VALID for \u001b[0m\u001b[4;36mhttps://docs.python.org/3/license.html\u001b[0m\u001b[36m \u001b[0m\n"
      ]
     },
     "metadata": {},
     "output_type": "display_data"
    },
    {
     "data": {
      "text/html": [
       "<pre style=\"white-space:pre;overflow-x:auto;line-height:normal;font-family:Menlo,'DejaVu Sans Mono',consolas,'Courier New',monospace\"><span style=\"color: #808080; text-decoration-color: #808080; font-weight: bold\">[</span><span style=\"color: #808080; text-decoration-color: #808080\">URL_SEED</span><span style=\"color: #808080; text-decoration-color: #808080; font-weight: bold\">]</span><span style=\"color: #808080; text-decoration-color: #808080\"> ℹ Redirecting from </span><span style=\"color: #808080; text-decoration-color: #808080; text-decoration: underline\">https://www.python.org/psf/donations</span><span style=\"color: #808080; text-decoration-color: #808080\"> to </span><span style=\"color: #808080; text-decoration-color: #808080; text-decoration: underline\">https://www.python.org/psf/donations/</span><span style=\"color: #808080; text-decoration-color: #808080\"> </span>\n",
       "</pre>\n"
      ],
      "text/plain": [
       "\u001b[1;90m[\u001b[0m\u001b[90mURL_SEED\u001b[0m\u001b[1;90m]\u001b[0m\u001b[90m ℹ Redirecting from \u001b[0m\u001b[4;90mhttps://www.python.org/psf/donations\u001b[0m\u001b[90m to \u001b[0m\u001b[4;90mhttps://www.python.org/psf/donations/\u001b[0m\u001b[90m \u001b[0m\n"
      ]
     },
     "metadata": {},
     "output_type": "display_data"
    },
    {
     "data": {
      "text/html": [
       "<pre style=\"white-space:pre;overflow-x:auto;line-height:normal;font-family:Menlo,'DejaVu Sans Mono',consolas,'Courier New',monospace\"><span style=\"color: #808080; text-decoration-color: #808080; font-weight: bold\">[</span><span style=\"color: #808080; text-decoration-color: #808080\">URL_SEED</span><span style=\"color: #808080; text-decoration-color: #808080; font-weight: bold\">]</span><span style=\"color: #808080; text-decoration-color: #808080\"> ℹ Skipping bogus gzip for </span><span style=\"color: #808080; text-decoration-color: #808080; text-decoration: underline\">https://www.python.org/psf/donations/</span><span style=\"color: #808080; text-decoration-color: #808080\"> </span>\n",
       "</pre>\n"
      ],
      "text/plain": [
       "\u001b[1;90m[\u001b[0m\u001b[90mURL_SEED\u001b[0m\u001b[1;90m]\u001b[0m\u001b[90m ℹ Skipping bogus gzip for \u001b[0m\u001b[4;90mhttps://www.python.org/psf/donations/\u001b[0m\u001b[90m \u001b[0m\n"
      ]
     },
     "metadata": {},
     "output_type": "display_data"
    },
    {
     "data": {
      "text/html": [
       "<pre style=\"white-space:pre;overflow-x:auto;line-height:normal;font-family:Menlo,'DejaVu Sans Mono',consolas,'Courier New',monospace\"><span style=\"color: #008080; text-decoration-color: #008080; font-weight: bold\">[</span><span style=\"color: #008080; text-decoration-color: #008080\">URL_SEED</span><span style=\"color: #008080; text-decoration-color: #008080; font-weight: bold\">]</span><span style=\"color: #008080; text-decoration-color: #008080\"> ℹ HEAD VALID for </span><span style=\"color: #008080; text-decoration-color: #008080; text-decoration: underline\">https://www.python.org/psf/donations/</span><span style=\"color: #008080; text-decoration-color: #008080\"> </span>\n",
       "</pre>\n"
      ],
      "text/plain": [
       "\u001b[1;36m[\u001b[0m\u001b[36mURL_SEED\u001b[0m\u001b[1;36m]\u001b[0m\u001b[36m ℹ HEAD VALID for \u001b[0m\u001b[4;36mhttps://www.python.org/psf/donations/\u001b[0m\u001b[36m \u001b[0m\n"
      ]
     },
     "metadata": {},
     "output_type": "display_data"
    },
    {
     "data": {
      "text/html": [
       "<pre style=\"white-space:pre;overflow-x:auto;line-height:normal;font-family:Menlo,'DejaVu Sans Mono',consolas,'Courier New',monospace\"><span style=\"color: #008080; text-decoration-color: #008080; font-weight: bold\">[</span><span style=\"color: #008080; text-decoration-color: #008080\">URL_SEED</span><span style=\"color: #008080; text-decoration-color: #008080; font-weight: bold\">]</span><span style=\"color: #008080; text-decoration-color: #008080\"> ℹ HEAD VALID for </span><span style=\"color: #008080; text-decoration-color: #008080; text-decoration: underline\">https://docs.python.org/3/bugs.html</span><span style=\"color: #008080; text-decoration-color: #008080\"> </span>\n",
       "</pre>\n"
      ],
      "text/plain": [
       "\u001b[1;36m[\u001b[0m\u001b[36mURL_SEED\u001b[0m\u001b[1;36m]\u001b[0m\u001b[36m ℹ HEAD VALID for \u001b[0m\u001b[4;36mhttps://docs.python.org/3/bugs.html\u001b[0m\u001b[36m \u001b[0m\n"
      ]
     },
     "metadata": {},
     "output_type": "display_data"
    },
    {
     "data": {
      "text/html": [
       "<pre style=\"white-space:pre;overflow-x:auto;line-height:normal;font-family:Menlo,'DejaVu Sans Mono',consolas,'Courier New',monospace\"><span style=\"color: #008080; text-decoration-color: #008080; font-weight: bold\">[</span><span style=\"color: #008080; text-decoration-color: #008080\">URL_SEED</span><span style=\"color: #008080; text-decoration-color: #008080; font-weight: bold\">]</span><span style=\"color: #008080; text-decoration-color: #008080\"> ℹ HEAD VALID for </span><span style=\"color: #008080; text-decoration-color: #008080; text-decoration: underline\">https://docs.python.org/3/c-api/monitoring.html</span><span style=\"color: #008080; text-decoration-color: #008080\"> </span>\n",
       "</pre>\n"
      ],
      "text/plain": [
       "\u001b[1;36m[\u001b[0m\u001b[36mURL_SEED\u001b[0m\u001b[1;36m]\u001b[0m\u001b[36m ℹ HEAD VALID for \u001b[0m\u001b[4;36mhttps://docs.python.org/3/c-api/monitoring.html\u001b[0m\u001b[36m \u001b[0m\n"
      ]
     },
     "metadata": {},
     "output_type": "display_data"
    },
    {
     "data": {
      "text/html": [
       "<pre style=\"white-space:pre;overflow-x:auto;line-height:normal;font-family:Menlo,'DejaVu Sans Mono',consolas,'Courier New',monospace\"><span style=\"color: #008080; text-decoration-color: #008080; font-weight: bold\">[</span><span style=\"color: #008080; text-decoration-color: #008080\">URL_SEED</span><span style=\"color: #008080; text-decoration-color: #008080; font-weight: bold\">]</span><span style=\"color: #008080; text-decoration-color: #008080\"> ℹ Completed head extraction for </span><span style=\"color: #008080; text-decoration-color: #008080; font-weight: bold\">47</span><span style=\"color: #008080; text-decoration-color: #008080\"> URLs, </span><span style=\"color: #008080; text-decoration-color: #008080; font-weight: bold\">47</span><span style=\"color: #008080; text-decoration-color: #008080\"> successful </span>\n",
       "</pre>\n"
      ],
      "text/plain": [
       "\u001b[1;36m[\u001b[0m\u001b[36mURL_SEED\u001b[0m\u001b[1;36m]\u001b[0m\u001b[36m ℹ Completed head extraction for \u001b[0m\u001b[1;36m47\u001b[0m\u001b[36m URLs, \u001b[0m\u001b[1;36m47\u001b[0m\u001b[36m successful \u001b[0m\n"
      ]
     },
     "metadata": {},
     "output_type": "display_data"
    },
    {
     "data": {
      "text/html": [
       "<pre style=\"white-space:pre;overflow-x:auto;line-height:normal;font-family:Menlo,'DejaVu Sans Mono',consolas,'Courier New',monospace\"><span style=\"color: #008080; text-decoration-color: #008080; font-weight: bold\">[</span><span style=\"color: #008080; text-decoration-color: #008080\">LINK_EXTRACT</span><span style=\"color: #008080; text-decoration-color: #008080; font-weight: bold\">]</span><span style=\"color: #008080; text-decoration-color: #008080\"> ℹ Completed head extraction for links, </span><span style=\"color: #008080; text-decoration-color: #008080; font-weight: bold\">47</span><span style=\"color: #008080; text-decoration-color: #008080\"> successful </span>\n",
       "</pre>\n"
      ],
      "text/plain": [
       "\u001b[1;36m[\u001b[0m\u001b[36mLINK_EXTRACT\u001b[0m\u001b[1;36m]\u001b[0m\u001b[36m ℹ Completed head extraction for links, \u001b[0m\u001b[1;36m47\u001b[0m\u001b[36m successful \u001b[0m\n"
      ]
     },
     "metadata": {},
     "output_type": "display_data"
    },
    {
     "data": {
      "text/html": [
       "<pre style=\"white-space:pre;overflow-x:auto;line-height:normal;font-family:Menlo,'DejaVu Sans Mono',consolas,'Courier New',monospace\"><span style=\"color: #808080; text-decoration-color: #808080; font-weight: bold\">[</span><span style=\"color: #808080; text-decoration-color: #808080\">URL_SEED</span><span style=\"color: #808080; text-decoration-color: #808080; font-weight: bold\">]</span><span style=\"color: #808080; text-decoration-color: #808080\"> ℹ Closed HTTP client </span>\n",
       "</pre>\n"
      ],
      "text/plain": [
       "\u001b[1;90m[\u001b[0m\u001b[90mURL_SEED\u001b[0m\u001b[1;90m]\u001b[0m\u001b[90m ℹ Closed HTTP client \u001b[0m\n"
      ]
     },
     "metadata": {},
     "output_type": "display_data"
    },
    {
     "data": {
      "text/html": [
       "<pre style=\"white-space:pre;overflow-x:auto;line-height:normal;font-family:Menlo,'DejaVu Sans Mono',consolas,'Courier New',monospace\"><span style=\"color: #008080; text-decoration-color: #008080; font-weight: bold\">[</span><span style=\"color: #008080; text-decoration-color: #008080\">LINK_EXTRACT</span><span style=\"color: #008080; text-decoration-color: #008080; font-weight: bold\">]</span><span style=\"color: #008080; text-decoration-color: #008080\"> ℹ Link head extraction completed successfully </span>\n",
       "</pre>\n"
      ],
      "text/plain": [
       "\u001b[1;36m[\u001b[0m\u001b[36mLINK_EXTRACT\u001b[0m\u001b[1;36m]\u001b[0m\u001b[36m ℹ Link head extraction completed successfully \u001b[0m\n"
      ]
     },
     "metadata": {},
     "output_type": "display_data"
    },
    {
     "data": {
      "text/html": [
       "<pre style=\"white-space:pre;overflow-x:auto;line-height:normal;font-family:Menlo,'DejaVu Sans Mono',consolas,'Courier New',monospace\"><span style=\"color: #008000; text-decoration-color: #008000; font-weight: bold\">[</span><span style=\"color: #008000; text-decoration-color: #008000\">SCRAPE</span><span style=\"color: #008000; text-decoration-color: #008000; font-weight: bold\">]</span><span style=\"color: #008000; text-decoration-color: #008000\">.. ◆ </span><span style=\"color: #008000; text-decoration-color: #008000; text-decoration: underline\">https://docs.python.org/3/c-api/index.html</span><span style=\"color: #008000; text-decoration-color: #008000\">                                                           |</span>\n",
       "<span style=\"color: #008000; text-decoration-color: #008000\">✓ | ⏱: </span><span style=\"color: #808000; text-decoration-color: #808000; font-weight: bold\">3.</span><span style=\"color: #808000; text-decoration-color: #808000\">27</span><span style=\"color: #008000; text-decoration-color: #008000\">s </span>\n",
       "</pre>\n"
      ],
      "text/plain": [
       "\u001b[1;32m[\u001b[0m\u001b[32mSCRAPE\u001b[0m\u001b[1;32m]\u001b[0m\u001b[32m.. ◆ \u001b[0m\u001b[4;32mhttps://docs.python.org/3/c-api/index.html\u001b[0m\u001b[32m                                                           |\u001b[0m\n",
       "\u001b[32m✓\u001b[0m\u001b[32m | ⏱: \u001b[0m\u001b[1;33m3.\u001b[0m\u001b[33m27\u001b[0m\u001b[32ms \u001b[0m\n"
      ]
     },
     "metadata": {},
     "output_type": "display_data"
    },
    {
     "data": {
      "text/html": [
       "<pre style=\"white-space:pre;overflow-x:auto;line-height:normal;font-family:Menlo,'DejaVu Sans Mono',consolas,'Courier New',monospace\"><span style=\"color: #008000; text-decoration-color: #008000; font-weight: bold\">[</span><span style=\"color: #008000; text-decoration-color: #008000\">COMPLETE</span><span style=\"color: #008000; text-decoration-color: #008000; font-weight: bold\">]</span><span style=\"color: #008000; text-decoration-color: #008000\"> ● </span><span style=\"color: #008000; text-decoration-color: #008000; text-decoration: underline\">https://docs.python.org/3/c-api/index.html</span><span style=\"color: #008000; text-decoration-color: #008000\">                                                           |</span>\n",
       "<span style=\"color: #008000; text-decoration-color: #008000\">✓ | ⏱: </span><span style=\"color: #008000; text-decoration-color: #008000; font-weight: bold\">4.</span><span style=\"color: #008000; text-decoration-color: #008000\">31s </span>\n",
       "</pre>\n"
      ],
      "text/plain": [
       "\u001b[1;32m[\u001b[0m\u001b[32mCOMPLETE\u001b[0m\u001b[1;32m]\u001b[0m\u001b[32m ● \u001b[0m\u001b[4;32mhttps://docs.python.org/3/c-api/index.html\u001b[0m\u001b[32m                                                           |\u001b[0m\n",
       "\u001b[32m✓\u001b[0m\u001b[32m | ⏱: \u001b[0m\u001b[1;32m4.\u001b[0m\u001b[32m31s \u001b[0m\n"
      ]
     },
     "metadata": {},
     "output_type": "display_data"
    },
    {
     "data": {
      "text/html": [
       "<pre style=\"white-space:pre;overflow-x:auto;line-height:normal;font-family:Menlo,'DejaVu Sans Mono',consolas,'Courier New',monospace\"><span style=\"color: #008000; text-decoration-color: #008000; font-weight: bold\">[</span><span style=\"color: #008000; text-decoration-color: #008000\">FETCH</span><span style=\"color: #008000; text-decoration-color: #008000; font-weight: bold\">]</span><span style=\"color: #008000; text-decoration-color: #008000\">... ↓ </span><span style=\"color: #008000; text-decoration-color: #008000; text-decoration: underline\">https://docs.python.org/3/extending/index.html</span><span style=\"color: #008000; text-decoration-color: #008000\">                                                       |</span>\n",
       "<span style=\"color: #008000; text-decoration-color: #008000\">✓ | ⏱: </span><span style=\"color: #008000; text-decoration-color: #008000; font-weight: bold\">4.</span><span style=\"color: #008000; text-decoration-color: #008000\">50s </span>\n",
       "</pre>\n"
      ],
      "text/plain": [
       "\u001b[1;32m[\u001b[0m\u001b[32mFETCH\u001b[0m\u001b[1;32m]\u001b[0m\u001b[32m...\u001b[0m\u001b[32m ↓ \u001b[0m\u001b[4;32mhttps://docs.python.org/3/extending/index.html\u001b[0m\u001b[32m                                                       |\u001b[0m\n",
       "\u001b[32m✓\u001b[0m\u001b[32m | ⏱: \u001b[0m\u001b[1;32m4.\u001b[0m\u001b[32m50s \u001b[0m\n"
      ]
     },
     "metadata": {},
     "output_type": "display_data"
    },
    {
     "data": {
      "text/html": [
       "<pre style=\"white-space:pre;overflow-x:auto;line-height:normal;font-family:Menlo,'DejaVu Sans Mono',consolas,'Courier New',monospace\"><span style=\"color: #808080; text-decoration-color: #808080; font-weight: bold\">[</span><span style=\"color: #808080; text-decoration-color: #808080\">LINK_EXTRACT</span><span style=\"color: #808080; text-decoration-color: #808080; font-weight: bold\">]</span><span style=\"color: #808080; text-decoration-color: #808080\"> ℹ Added </span><span style=\"color: #808080; text-decoration-color: #808080; font-weight: bold\">24</span><span style=\"color: #808080; text-decoration-color: #808080\"> internal links </span>\n",
       "</pre>\n"
      ],
      "text/plain": [
       "\u001b[1;90m[\u001b[0m\u001b[90mLINK_EXTRACT\u001b[0m\u001b[1;90m]\u001b[0m\u001b[90m ℹ Added \u001b[0m\u001b[1;90m24\u001b[0m\u001b[90m internal links \u001b[0m\n"
      ]
     },
     "metadata": {},
     "output_type": "display_data"
    },
    {
     "data": {
      "text/html": [
       "<pre style=\"white-space:pre;overflow-x:auto;line-height:normal;font-family:Menlo,'DejaVu Sans Mono',consolas,'Courier New',monospace\"><span style=\"color: #808080; text-decoration-color: #808080; font-weight: bold\">[</span><span style=\"color: #808080; text-decoration-color: #808080\">LINK_EXTRACT</span><span style=\"color: #808080; text-decoration-color: #808080; font-weight: bold\">]</span><span style=\"color: #808080; text-decoration-color: #808080\"> ℹ Final filtered URLs: </span><span style=\"color: #808080; text-decoration-color: #808080; font-weight: bold\">24</span><span style=\"color: #808080; text-decoration-color: #808080\"> unique links </span>\n",
       "</pre>\n"
      ],
      "text/plain": [
       "\u001b[1;90m[\u001b[0m\u001b[90mLINK_EXTRACT\u001b[0m\u001b[1;90m]\u001b[0m\u001b[90m ℹ Final filtered URLs: \u001b[0m\u001b[1;90m24\u001b[0m\u001b[90m unique links \u001b[0m\n"
      ]
     },
     "metadata": {},
     "output_type": "display_data"
    },
    {
     "data": {
      "text/html": [
       "<pre style=\"white-space:pre;overflow-x:auto;line-height:normal;font-family:Menlo,'DejaVu Sans Mono',consolas,'Courier New',monospace\"><span style=\"color: #008080; text-decoration-color: #008080; font-weight: bold\">[</span><span style=\"color: #008080; text-decoration-color: #008080\">LINK_EXTRACT</span><span style=\"color: #008080; text-decoration-color: #008080; font-weight: bold\">]</span><span style=\"color: #008080; text-decoration-color: #008080\"> ℹ Extracting head content for </span><span style=\"color: #008080; text-decoration-color: #008080; font-weight: bold\">24</span><span style=\"color: #008080; text-decoration-color: #008080\"> filtered links </span>\n",
       "</pre>\n"
      ],
      "text/plain": [
       "\u001b[1;36m[\u001b[0m\u001b[36mLINK_EXTRACT\u001b[0m\u001b[1;36m]\u001b[0m\u001b[36m ℹ Extracting head content for \u001b[0m\u001b[1;36m24\u001b[0m\u001b[36m filtered links \u001b[0m\n"
      ]
     },
     "metadata": {},
     "output_type": "display_data"
    },
    {
     "data": {
      "text/html": [
       "<pre style=\"white-space:pre;overflow-x:auto;line-height:normal;font-family:Menlo,'DejaVu Sans Mono',consolas,'Courier New',monospace\"><span style=\"color: #008080; text-decoration-color: #008080; font-weight: bold\">[</span><span style=\"color: #008080; text-decoration-color: #008080\">URL_SEED</span><span style=\"color: #008080; text-decoration-color: #008080; font-weight: bold\">]</span><span style=\"color: #008080; text-decoration-color: #008080\"> ℹ Starting head extraction for </span><span style=\"color: #008080; text-decoration-color: #008080; font-weight: bold\">24</span><span style=\"color: #008080; text-decoration-color: #008080\"> custom URLs </span>\n",
       "</pre>\n"
      ],
      "text/plain": [
       "\u001b[1;36m[\u001b[0m\u001b[36mURL_SEED\u001b[0m\u001b[1;36m]\u001b[0m\u001b[36m ℹ Starting head extraction for \u001b[0m\u001b[1;36m24\u001b[0m\u001b[36m custom URLs \u001b[0m\n"
      ]
     },
     "metadata": {},
     "output_type": "display_data"
    },
    {
     "data": {
      "text/html": [
       "<pre style=\"white-space:pre;overflow-x:auto;line-height:normal;font-family:Menlo,'DejaVu Sans Mono',consolas,'Courier New',monospace\"><span style=\"color: #808080; text-decoration-color: #808080; font-weight: bold\">[</span><span style=\"color: #808080; text-decoration-color: #808080\">URL_SEED</span><span style=\"color: #808080; text-decoration-color: #808080; font-weight: bold\">]</span><span style=\"color: #808080; text-decoration-color: #808080\"> ℹ Fetching head for </span><span style=\"color: #808080; text-decoration-color: #808080; text-decoration: underline\">https://docs.python.org/3/library/security_warnings.html</span><span style=\"color: #808080; text-decoration-color: #808080\"> </span>\n",
       "</pre>\n"
      ],
      "text/plain": [
       "\u001b[1;90m[\u001b[0m\u001b[90mURL_SEED\u001b[0m\u001b[1;90m]\u001b[0m\u001b[90m ℹ Fetching head for \u001b[0m\u001b[4;90mhttps://docs.python.org/3/library/security_warnings.html\u001b[0m\u001b[90m \u001b[0m\n"
      ]
     },
     "metadata": {},
     "output_type": "display_data"
    },
    {
     "data": {
      "text/html": [
       "<pre style=\"white-space:pre;overflow-x:auto;line-height:normal;font-family:Menlo,'DejaVu Sans Mono',consolas,'Courier New',monospace\"><span style=\"color: #808080; text-decoration-color: #808080; font-weight: bold\">[</span><span style=\"color: #808080; text-decoration-color: #808080\">URL_SEED</span><span style=\"color: #808080; text-decoration-color: #808080; font-weight: bold\">]</span><span style=\"color: #808080; text-decoration-color: #808080\"> ℹ Fetching head for </span><span style=\"color: #808080; text-decoration-color: #808080; text-decoration: underline\">https://docs.python.org/3/extending/extending.html</span><span style=\"color: #808080; text-decoration-color: #808080\"> </span>\n",
       "</pre>\n"
      ],
      "text/plain": [
       "\u001b[1;90m[\u001b[0m\u001b[90mURL_SEED\u001b[0m\u001b[1;90m]\u001b[0m\u001b[90m ℹ Fetching head for \u001b[0m\u001b[4;90mhttps://docs.python.org/3/extending/extending.html\u001b[0m\u001b[90m \u001b[0m\n"
      ]
     },
     "metadata": {},
     "output_type": "display_data"
    },
    {
     "data": {
      "text/html": [
       "<pre style=\"white-space:pre;overflow-x:auto;line-height:normal;font-family:Menlo,'DejaVu Sans Mono',consolas,'Courier New',monospace\"><span style=\"color: #808080; text-decoration-color: #808080; font-weight: bold\">[</span><span style=\"color: #808080; text-decoration-color: #808080\">URL_SEED</span><span style=\"color: #808080; text-decoration-color: #808080; font-weight: bold\">]</span><span style=\"color: #808080; text-decoration-color: #808080\"> ℹ Fetching head for </span><span style=\"color: #808080; text-decoration-color: #808080; text-decoration: underline\">https://peps.python.org/pep-0489</span><span style=\"color: #808080; text-decoration-color: #808080\"> </span>\n",
       "</pre>\n"
      ],
      "text/plain": [
       "\u001b[1;90m[\u001b[0m\u001b[90mURL_SEED\u001b[0m\u001b[1;90m]\u001b[0m\u001b[90m ℹ Fetching head for \u001b[0m\u001b[4;90mhttps://peps.python.org/pep-0489\u001b[0m\u001b[90m \u001b[0m\n"
      ]
     },
     "metadata": {},
     "output_type": "display_data"
    },
    {
     "data": {
      "text/html": [
       "<pre style=\"white-space:pre;overflow-x:auto;line-height:normal;font-family:Menlo,'DejaVu Sans Mono',consolas,'Courier New',monospace\"><span style=\"color: #808080; text-decoration-color: #808080; font-weight: bold\">[</span><span style=\"color: #808080; text-decoration-color: #808080\">URL_SEED</span><span style=\"color: #808080; text-decoration-color: #808080; font-weight: bold\">]</span><span style=\"color: #808080; text-decoration-color: #808080\"> ℹ Fetching head for </span><span style=\"color: #808080; text-decoration-color: #808080; text-decoration: underline\">https://docs.python.org/3/extending/newtypes_tutorial.html</span><span style=\"color: #808080; text-decoration-color: #808080\"> </span>\n",
       "</pre>\n"
      ],
      "text/plain": [
       "\u001b[1;90m[\u001b[0m\u001b[90mURL_SEED\u001b[0m\u001b[1;90m]\u001b[0m\u001b[90m ℹ Fetching head for \u001b[0m\u001b[4;90mhttps://docs.python.org/3/extending/newtypes_tutorial.html\u001b[0m\u001b[90m \u001b[0m\n"
      ]
     },
     "metadata": {},
     "output_type": "display_data"
    },
    {
     "data": {
      "text/html": [
       "<pre style=\"white-space:pre;overflow-x:auto;line-height:normal;font-family:Menlo,'DejaVu Sans Mono',consolas,'Courier New',monospace\"><span style=\"color: #808080; text-decoration-color: #808080; font-weight: bold\">[</span><span style=\"color: #808080; text-decoration-color: #808080\">URL_SEED</span><span style=\"color: #808080; text-decoration-color: #808080; font-weight: bold\">]</span><span style=\"color: #808080; text-decoration-color: #808080\"> ℹ Fetching head for </span><span style=\"color: #808080; text-decoration-color: #808080; text-decoration: underline\">https://docs.python.org/3/extending/newtypes.html</span><span style=\"color: #808080; text-decoration-color: #808080\"> </span>\n",
       "</pre>\n"
      ],
      "text/plain": [
       "\u001b[1;90m[\u001b[0m\u001b[90mURL_SEED\u001b[0m\u001b[1;90m]\u001b[0m\u001b[90m ℹ Fetching head for \u001b[0m\u001b[4;90mhttps://docs.python.org/3/extending/newtypes.html\u001b[0m\u001b[90m \u001b[0m\n"
      ]
     },
     "metadata": {},
     "output_type": "display_data"
    },
    {
     "data": {
      "text/html": [
       "<pre style=\"white-space:pre;overflow-x:auto;line-height:normal;font-family:Menlo,'DejaVu Sans Mono',consolas,'Courier New',monospace\"><span style=\"color: #008080; text-decoration-color: #008080; font-weight: bold\">[</span><span style=\"color: #008080; text-decoration-color: #008080\">URL_SEED</span><span style=\"color: #008080; text-decoration-color: #008080; font-weight: bold\">]</span><span style=\"color: #008080; text-decoration-color: #008080\"> ℹ HEAD VALID for </span><span style=\"color: #008080; text-decoration-color: #008080; text-decoration: underline\">https://docs.python.org/3/library/security_warnings.html</span><span style=\"color: #008080; text-decoration-color: #008080\"> </span>\n",
       "</pre>\n"
      ],
      "text/plain": [
       "\u001b[1;36m[\u001b[0m\u001b[36mURL_SEED\u001b[0m\u001b[1;36m]\u001b[0m\u001b[36m ℹ HEAD VALID for \u001b[0m\u001b[4;36mhttps://docs.python.org/3/library/security_warnings.html\u001b[0m\u001b[36m \u001b[0m\n"
      ]
     },
     "metadata": {},
     "output_type": "display_data"
    },
    {
     "data": {
      "text/html": [
       "<pre style=\"white-space:pre;overflow-x:auto;line-height:normal;font-family:Menlo,'DejaVu Sans Mono',consolas,'Courier New',monospace\"><span style=\"color: #808080; text-decoration-color: #808080; font-weight: bold\">[</span><span style=\"color: #808080; text-decoration-color: #808080\">URL_SEED</span><span style=\"color: #808080; text-decoration-color: #808080; font-weight: bold\">]</span><span style=\"color: #808080; text-decoration-color: #808080\"> ℹ Fetching head for </span><span style=\"color: #808080; text-decoration-color: #808080; text-decoration: underline\">https://docs.python.org/3/extending/building.html</span><span style=\"color: #808080; text-decoration-color: #808080\"> </span>\n",
       "</pre>\n"
      ],
      "text/plain": [
       "\u001b[1;90m[\u001b[0m\u001b[90mURL_SEED\u001b[0m\u001b[1;90m]\u001b[0m\u001b[90m ℹ Fetching head for \u001b[0m\u001b[4;90mhttps://docs.python.org/3/extending/building.html\u001b[0m\u001b[90m \u001b[0m\n"
      ]
     },
     "metadata": {},
     "output_type": "display_data"
    },
    {
     "data": {
      "text/html": [
       "<pre style=\"white-space:pre;overflow-x:auto;line-height:normal;font-family:Menlo,'DejaVu Sans Mono',consolas,'Courier New',monospace\"><span style=\"color: #808080; text-decoration-color: #808080; font-weight: bold\">[</span><span style=\"color: #808080; text-decoration-color: #808080\">URL_SEED</span><span style=\"color: #808080; text-decoration-color: #808080; font-weight: bold\">]</span><span style=\"color: #808080; text-decoration-color: #808080\"> ℹ Redirecting from </span><span style=\"color: #808080; text-decoration-color: #808080; text-decoration: underline\">https://peps.python.org/pep-0489</span><span style=\"color: #808080; text-decoration-color: #808080\"> to </span><span style=\"color: #808080; text-decoration-color: #808080; text-decoration: underline\">https://peps.python.org/pep-0489/</span><span style=\"color: #808080; text-decoration-color: #808080\"> </span>\n",
       "</pre>\n"
      ],
      "text/plain": [
       "\u001b[1;90m[\u001b[0m\u001b[90mURL_SEED\u001b[0m\u001b[1;90m]\u001b[0m\u001b[90m ℹ Redirecting from \u001b[0m\u001b[4;90mhttps://peps.python.org/pep-0489\u001b[0m\u001b[90m to \u001b[0m\u001b[4;90mhttps://peps.python.org/pep-0489/\u001b[0m\u001b[90m \u001b[0m\n"
      ]
     },
     "metadata": {},
     "output_type": "display_data"
    },
    {
     "data": {
      "text/html": [
       "<pre style=\"white-space:pre;overflow-x:auto;line-height:normal;font-family:Menlo,'DejaVu Sans Mono',consolas,'Courier New',monospace\"><span style=\"color: #008080; text-decoration-color: #008080; font-weight: bold\">[</span><span style=\"color: #008080; text-decoration-color: #008080\">URL_SEED</span><span style=\"color: #008080; text-decoration-color: #008080; font-weight: bold\">]</span><span style=\"color: #008080; text-decoration-color: #008080\"> ℹ HEAD VALID for </span><span style=\"color: #008080; text-decoration-color: #008080; text-decoration: underline\">https://docs.python.org/3/extending/newtypes.html</span><span style=\"color: #008080; text-decoration-color: #008080\"> </span>\n",
       "</pre>\n"
      ],
      "text/plain": [
       "\u001b[1;36m[\u001b[0m\u001b[36mURL_SEED\u001b[0m\u001b[1;36m]\u001b[0m\u001b[36m ℹ HEAD VALID for \u001b[0m\u001b[4;36mhttps://docs.python.org/3/extending/newtypes.html\u001b[0m\u001b[36m \u001b[0m\n"
      ]
     },
     "metadata": {},
     "output_type": "display_data"
    },
    {
     "data": {
      "text/html": [
       "<pre style=\"white-space:pre;overflow-x:auto;line-height:normal;font-family:Menlo,'DejaVu Sans Mono',consolas,'Courier New',monospace\"><span style=\"color: #808080; text-decoration-color: #808080; font-weight: bold\">[</span><span style=\"color: #808080; text-decoration-color: #808080\">URL_SEED</span><span style=\"color: #808080; text-decoration-color: #808080; font-weight: bold\">]</span><span style=\"color: #808080; text-decoration-color: #808080\"> ℹ Fetching head for </span><span style=\"color: #808080; text-decoration-color: #808080; text-decoration: underline\">https://docs.python.org/3/extending/windows.html</span><span style=\"color: #808080; text-decoration-color: #808080\"> </span>\n",
       "</pre>\n"
      ],
      "text/plain": [
       "\u001b[1;90m[\u001b[0m\u001b[90mURL_SEED\u001b[0m\u001b[1;90m]\u001b[0m\u001b[90m ℹ Fetching head for \u001b[0m\u001b[4;90mhttps://docs.python.org/3/extending/windows.html\u001b[0m\u001b[90m \u001b[0m\n"
      ]
     },
     "metadata": {},
     "output_type": "display_data"
    },
    {
     "data": {
      "text/html": [
       "<pre style=\"white-space:pre;overflow-x:auto;line-height:normal;font-family:Menlo,'DejaVu Sans Mono',consolas,'Courier New',monospace\"><span style=\"color: #008080; text-decoration-color: #008080; font-weight: bold\">[</span><span style=\"color: #008080; text-decoration-color: #008080\">URL_SEED</span><span style=\"color: #008080; text-decoration-color: #008080; font-weight: bold\">]</span><span style=\"color: #008080; text-decoration-color: #008080\"> ℹ HEAD VALID for </span><span style=\"color: #008080; text-decoration-color: #008080; text-decoration: underline\">https://docs.python.org/3/extending/extending.html</span><span style=\"color: #008080; text-decoration-color: #008080\"> </span>\n",
       "</pre>\n"
      ],
      "text/plain": [
       "\u001b[1;36m[\u001b[0m\u001b[36mURL_SEED\u001b[0m\u001b[1;36m]\u001b[0m\u001b[36m ℹ HEAD VALID for \u001b[0m\u001b[4;36mhttps://docs.python.org/3/extending/extending.html\u001b[0m\u001b[36m \u001b[0m\n"
      ]
     },
     "metadata": {},
     "output_type": "display_data"
    },
    {
     "data": {
      "text/html": [
       "<pre style=\"white-space:pre;overflow-x:auto;line-height:normal;font-family:Menlo,'DejaVu Sans Mono',consolas,'Courier New',monospace\"><span style=\"color: #008080; text-decoration-color: #008080; font-weight: bold\">[</span><span style=\"color: #008080; text-decoration-color: #008080\">URL_SEED</span><span style=\"color: #008080; text-decoration-color: #008080; font-weight: bold\">]</span><span style=\"color: #008080; text-decoration-color: #008080\"> ℹ HEAD VALID for </span><span style=\"color: #008080; text-decoration-color: #008080; text-decoration: underline\">https://docs.python.org/3/extending/newtypes_tutorial.html</span><span style=\"color: #008080; text-decoration-color: #008080\"> </span>\n",
       "</pre>\n"
      ],
      "text/plain": [
       "\u001b[1;36m[\u001b[0m\u001b[36mURL_SEED\u001b[0m\u001b[1;36m]\u001b[0m\u001b[36m ℹ HEAD VALID for \u001b[0m\u001b[4;36mhttps://docs.python.org/3/extending/newtypes_tutorial.html\u001b[0m\u001b[36m \u001b[0m\n"
      ]
     },
     "metadata": {},
     "output_type": "display_data"
    },
    {
     "data": {
      "text/html": [
       "<pre style=\"white-space:pre;overflow-x:auto;line-height:normal;font-family:Menlo,'DejaVu Sans Mono',consolas,'Courier New',monospace\"><span style=\"color: #008080; text-decoration-color: #008080; font-weight: bold\">[</span><span style=\"color: #008080; text-decoration-color: #008080\">URL_SEED</span><span style=\"color: #008080; text-decoration-color: #008080; font-weight: bold\">]</span><span style=\"color: #008080; text-decoration-color: #008080\"> ℹ HEAD VALID for </span><span style=\"color: #008080; text-decoration-color: #008080; text-decoration: underline\">https://docs.python.org/3/extending/building.html</span><span style=\"color: #008080; text-decoration-color: #008080\"> </span>\n",
       "</pre>\n"
      ],
      "text/plain": [
       "\u001b[1;36m[\u001b[0m\u001b[36mURL_SEED\u001b[0m\u001b[1;36m]\u001b[0m\u001b[36m ℹ HEAD VALID for \u001b[0m\u001b[4;36mhttps://docs.python.org/3/extending/building.html\u001b[0m\u001b[36m \u001b[0m\n"
      ]
     },
     "metadata": {},
     "output_type": "display_data"
    },
    {
     "data": {
      "text/html": [
       "<pre style=\"white-space:pre;overflow-x:auto;line-height:normal;font-family:Menlo,'DejaVu Sans Mono',consolas,'Courier New',monospace\"><span style=\"color: #008080; text-decoration-color: #008080; font-weight: bold\">[</span><span style=\"color: #008080; text-decoration-color: #008080\">URL_SEED</span><span style=\"color: #008080; text-decoration-color: #008080; font-weight: bold\">]</span><span style=\"color: #008080; text-decoration-color: #008080\"> ℹ HEAD VALID for </span><span style=\"color: #008080; text-decoration-color: #008080; text-decoration: underline\">https://peps.python.org/pep-0489/</span><span style=\"color: #008080; text-decoration-color: #008080\"> </span>\n",
       "</pre>\n"
      ],
      "text/plain": [
       "\u001b[1;36m[\u001b[0m\u001b[36mURL_SEED\u001b[0m\u001b[1;36m]\u001b[0m\u001b[36m ℹ HEAD VALID for \u001b[0m\u001b[4;36mhttps://peps.python.org/pep-0489/\u001b[0m\u001b[36m \u001b[0m\n"
      ]
     },
     "metadata": {},
     "output_type": "display_data"
    },
    {
     "data": {
      "text/html": [
       "<pre style=\"white-space:pre;overflow-x:auto;line-height:normal;font-family:Menlo,'DejaVu Sans Mono',consolas,'Courier New',monospace\"><span style=\"color: #008080; text-decoration-color: #008080; font-weight: bold\">[</span><span style=\"color: #008080; text-decoration-color: #008080\">URL_SEED</span><span style=\"color: #008080; text-decoration-color: #008080; font-weight: bold\">]</span><span style=\"color: #008080; text-decoration-color: #008080\"> ℹ HEAD VALID for </span><span style=\"color: #008080; text-decoration-color: #008080; text-decoration: underline\">https://docs.python.org/3/extending/windows.html</span><span style=\"color: #008080; text-decoration-color: #008080\"> </span>\n",
       "</pre>\n"
      ],
      "text/plain": [
       "\u001b[1;36m[\u001b[0m\u001b[36mURL_SEED\u001b[0m\u001b[1;36m]\u001b[0m\u001b[36m ℹ HEAD VALID for \u001b[0m\u001b[4;36mhttps://docs.python.org/3/extending/windows.html\u001b[0m\u001b[36m \u001b[0m\n"
      ]
     },
     "metadata": {},
     "output_type": "display_data"
    },
    {
     "data": {
      "text/html": [
       "<pre style=\"white-space:pre;overflow-x:auto;line-height:normal;font-family:Menlo,'DejaVu Sans Mono',consolas,'Courier New',monospace\"><span style=\"color: #008080; text-decoration-color: #008080; font-weight: bold\">[</span><span style=\"color: #008080; text-decoration-color: #008080\">URL_SEED</span><span style=\"color: #008080; text-decoration-color: #008080; font-weight: bold\">]</span><span style=\"color: #008080; text-decoration-color: #008080\"> ℹ Completed head extraction for </span><span style=\"color: #008080; text-decoration-color: #008080; font-weight: bold\">24</span><span style=\"color: #008080; text-decoration-color: #008080\"> URLs, </span><span style=\"color: #008080; text-decoration-color: #008080; font-weight: bold\">24</span><span style=\"color: #008080; text-decoration-color: #008080\"> successful </span>\n",
       "</pre>\n"
      ],
      "text/plain": [
       "\u001b[1;36m[\u001b[0m\u001b[36mURL_SEED\u001b[0m\u001b[1;36m]\u001b[0m\u001b[36m ℹ Completed head extraction for \u001b[0m\u001b[1;36m24\u001b[0m\u001b[36m URLs, \u001b[0m\u001b[1;36m24\u001b[0m\u001b[36m successful \u001b[0m\n"
      ]
     },
     "metadata": {},
     "output_type": "display_data"
    },
    {
     "data": {
      "text/html": [
       "<pre style=\"white-space:pre;overflow-x:auto;line-height:normal;font-family:Menlo,'DejaVu Sans Mono',consolas,'Courier New',monospace\"><span style=\"color: #008080; text-decoration-color: #008080; font-weight: bold\">[</span><span style=\"color: #008080; text-decoration-color: #008080\">LINK_EXTRACT</span><span style=\"color: #008080; text-decoration-color: #008080; font-weight: bold\">]</span><span style=\"color: #008080; text-decoration-color: #008080\"> ℹ Completed head extraction for links, </span><span style=\"color: #008080; text-decoration-color: #008080; font-weight: bold\">24</span><span style=\"color: #008080; text-decoration-color: #008080\"> successful </span>\n",
       "</pre>\n"
      ],
      "text/plain": [
       "\u001b[1;36m[\u001b[0m\u001b[36mLINK_EXTRACT\u001b[0m\u001b[1;36m]\u001b[0m\u001b[36m ℹ Completed head extraction for links, \u001b[0m\u001b[1;36m24\u001b[0m\u001b[36m successful \u001b[0m\n"
      ]
     },
     "metadata": {},
     "output_type": "display_data"
    },
    {
     "data": {
      "text/html": [
       "<pre style=\"white-space:pre;overflow-x:auto;line-height:normal;font-family:Menlo,'DejaVu Sans Mono',consolas,'Courier New',monospace\"><span style=\"color: #808080; text-decoration-color: #808080; font-weight: bold\">[</span><span style=\"color: #808080; text-decoration-color: #808080\">URL_SEED</span><span style=\"color: #808080; text-decoration-color: #808080; font-weight: bold\">]</span><span style=\"color: #808080; text-decoration-color: #808080\"> ℹ Closed HTTP client </span>\n",
       "</pre>\n"
      ],
      "text/plain": [
       "\u001b[1;90m[\u001b[0m\u001b[90mURL_SEED\u001b[0m\u001b[1;90m]\u001b[0m\u001b[90m ℹ Closed HTTP client \u001b[0m\n"
      ]
     },
     "metadata": {},
     "output_type": "display_data"
    },
    {
     "data": {
      "text/html": [
       "<pre style=\"white-space:pre;overflow-x:auto;line-height:normal;font-family:Menlo,'DejaVu Sans Mono',consolas,'Courier New',monospace\"><span style=\"color: #008080; text-decoration-color: #008080; font-weight: bold\">[</span><span style=\"color: #008080; text-decoration-color: #008080\">LINK_EXTRACT</span><span style=\"color: #008080; text-decoration-color: #008080; font-weight: bold\">]</span><span style=\"color: #008080; text-decoration-color: #008080\"> ℹ Link head extraction completed successfully </span>\n",
       "</pre>\n"
      ],
      "text/plain": [
       "\u001b[1;36m[\u001b[0m\u001b[36mLINK_EXTRACT\u001b[0m\u001b[1;36m]\u001b[0m\u001b[36m ℹ Link head extraction completed successfully \u001b[0m\n"
      ]
     },
     "metadata": {},
     "output_type": "display_data"
    },
    {
     "data": {
      "text/html": [
       "<pre style=\"white-space:pre;overflow-x:auto;line-height:normal;font-family:Menlo,'DejaVu Sans Mono',consolas,'Courier New',monospace\"><span style=\"color: #008000; text-decoration-color: #008000; font-weight: bold\">[</span><span style=\"color: #008000; text-decoration-color: #008000\">SCRAPE</span><span style=\"color: #008000; text-decoration-color: #008000; font-weight: bold\">]</span><span style=\"color: #008000; text-decoration-color: #008000\">.. ◆ </span><span style=\"color: #008000; text-decoration-color: #008000; text-decoration: underline\">https://docs.python.org/3/extending/index.html</span><span style=\"color: #008000; text-decoration-color: #008000\">                                                       |</span>\n",
       "<span style=\"color: #008000; text-decoration-color: #008000\">✓ | ⏱: </span><span style=\"color: #008000; text-decoration-color: #008000; font-weight: bold\">0.</span><span style=\"color: #008000; text-decoration-color: #008000\">87s </span>\n",
       "</pre>\n"
      ],
      "text/plain": [
       "\u001b[1;32m[\u001b[0m\u001b[32mSCRAPE\u001b[0m\u001b[1;32m]\u001b[0m\u001b[32m.. ◆ \u001b[0m\u001b[4;32mhttps://docs.python.org/3/extending/index.html\u001b[0m\u001b[32m                                                       |\u001b[0m\n",
       "\u001b[32m✓\u001b[0m\u001b[32m | ⏱: \u001b[0m\u001b[1;32m0.\u001b[0m\u001b[32m87s \u001b[0m\n"
      ]
     },
     "metadata": {},
     "output_type": "display_data"
    },
    {
     "data": {
      "text/html": [
       "<pre style=\"white-space:pre;overflow-x:auto;line-height:normal;font-family:Menlo,'DejaVu Sans Mono',consolas,'Courier New',monospace\"><span style=\"color: #008000; text-decoration-color: #008000; font-weight: bold\">[</span><span style=\"color: #008000; text-decoration-color: #008000\">COMPLETE</span><span style=\"color: #008000; text-decoration-color: #008000; font-weight: bold\">]</span><span style=\"color: #008000; text-decoration-color: #008000\"> ● </span><span style=\"color: #008000; text-decoration-color: #008000; text-decoration: underline\">https://docs.python.org/3/extending/index.html</span><span style=\"color: #008000; text-decoration-color: #008000\">                                                       |</span>\n",
       "<span style=\"color: #008000; text-decoration-color: #008000\">✓ | ⏱: </span><span style=\"color: #008000; text-decoration-color: #008000; font-weight: bold\">5.</span><span style=\"color: #008000; text-decoration-color: #008000\">37s </span>\n",
       "</pre>\n"
      ],
      "text/plain": [
       "\u001b[1;32m[\u001b[0m\u001b[32mCOMPLETE\u001b[0m\u001b[1;32m]\u001b[0m\u001b[32m ● \u001b[0m\u001b[4;32mhttps://docs.python.org/3/extending/index.html\u001b[0m\u001b[32m                                                       |\u001b[0m\n",
       "\u001b[32m✓\u001b[0m\u001b[32m | ⏱: \u001b[0m\u001b[1;32m5.\u001b[0m\u001b[32m37s \u001b[0m\n"
      ]
     },
     "metadata": {},
     "output_type": "display_data"
    },
    {
     "data": {
      "text/html": [
       "<pre style=\"white-space:pre;overflow-x:auto;line-height:normal;font-family:Menlo,'DejaVu Sans Mono',consolas,'Courier New',monospace\"><span style=\"color: #008000; text-decoration-color: #008000; font-weight: bold\">[</span><span style=\"color: #008000; text-decoration-color: #008000\">FETCH</span><span style=\"color: #008000; text-decoration-color: #008000; font-weight: bold\">]</span><span style=\"color: #008000; text-decoration-color: #008000\">... ↓ </span><span style=\"color: #008000; text-decoration-color: #008000; text-decoration: underline\">https://peps.python.org/</span><span style=\"color: #008000; text-decoration-color: #008000\">                                                                             |</span>\n",
       "<span style=\"color: #008000; text-decoration-color: #008000\">✓ | ⏱: </span><span style=\"color: #008000; text-decoration-color: #008000; font-weight: bold\">5.</span><span style=\"color: #008000; text-decoration-color: #008000\">40s </span>\n",
       "</pre>\n"
      ],
      "text/plain": [
       "\u001b[1;32m[\u001b[0m\u001b[32mFETCH\u001b[0m\u001b[1;32m]\u001b[0m\u001b[32m...\u001b[0m\u001b[32m ↓ \u001b[0m\u001b[4;32mhttps://peps.python.org/\u001b[0m\u001b[32m                                                                             |\u001b[0m\n",
       "\u001b[32m✓\u001b[0m\u001b[32m | ⏱: \u001b[0m\u001b[1;32m5.\u001b[0m\u001b[32m40s \u001b[0m\n"
      ]
     },
     "metadata": {},
     "output_type": "display_data"
    },
    {
     "data": {
      "text/html": [
       "<pre style=\"white-space:pre;overflow-x:auto;line-height:normal;font-family:Menlo,'DejaVu Sans Mono',consolas,'Courier New',monospace\"><span style=\"color: #808080; text-decoration-color: #808080; font-weight: bold\">[</span><span style=\"color: #808080; text-decoration-color: #808080\">LINK_EXTRACT</span><span style=\"color: #808080; text-decoration-color: #808080; font-weight: bold\">]</span><span style=\"color: #808080; text-decoration-color: #808080\"> ℹ Added </span><span style=\"color: #808080; text-decoration-color: #808080; font-weight: bold\">706</span><span style=\"color: #808080; text-decoration-color: #808080\"> internal links </span>\n",
       "</pre>\n"
      ],
      "text/plain": [
       "\u001b[1;90m[\u001b[0m\u001b[90mLINK_EXTRACT\u001b[0m\u001b[1;90m]\u001b[0m\u001b[90m ℹ Added \u001b[0m\u001b[1;90m706\u001b[0m\u001b[90m internal links \u001b[0m\n"
      ]
     },
     "metadata": {},
     "output_type": "display_data"
    },
    {
     "data": {
      "text/html": [
       "<pre style=\"white-space:pre;overflow-x:auto;line-height:normal;font-family:Menlo,'DejaVu Sans Mono',consolas,'Courier New',monospace\"><span style=\"color: #808080; text-decoration-color: #808080; font-weight: bold\">[</span><span style=\"color: #808080; text-decoration-color: #808080\">LINK_EXTRACT</span><span style=\"color: #808080; text-decoration-color: #808080; font-weight: bold\">]</span><span style=\"color: #808080; text-decoration-color: #808080\"> ℹ Limited to </span><span style=\"color: #808080; text-decoration-color: #808080; font-weight: bold\">50</span><span style=\"color: #808080; text-decoration-color: #808080\"> links </span>\n",
       "</pre>\n"
      ],
      "text/plain": [
       "\u001b[1;90m[\u001b[0m\u001b[90mLINK_EXTRACT\u001b[0m\u001b[1;90m]\u001b[0m\u001b[90m ℹ Limited to \u001b[0m\u001b[1;90m50\u001b[0m\u001b[90m links \u001b[0m\n"
      ]
     },
     "metadata": {},
     "output_type": "display_data"
    },
    {
     "data": {
      "text/html": [
       "<pre style=\"white-space:pre;overflow-x:auto;line-height:normal;font-family:Menlo,'DejaVu Sans Mono',consolas,'Courier New',monospace\"><span style=\"color: #808080; text-decoration-color: #808080; font-weight: bold\">[</span><span style=\"color: #808080; text-decoration-color: #808080\">LINK_EXTRACT</span><span style=\"color: #808080; text-decoration-color: #808080; font-weight: bold\">]</span><span style=\"color: #808080; text-decoration-color: #808080\"> ℹ Final filtered URLs: </span><span style=\"color: #808080; text-decoration-color: #808080; font-weight: bold\">50</span><span style=\"color: #808080; text-decoration-color: #808080\"> unique links </span>\n",
       "</pre>\n"
      ],
      "text/plain": [
       "\u001b[1;90m[\u001b[0m\u001b[90mLINK_EXTRACT\u001b[0m\u001b[1;90m]\u001b[0m\u001b[90m ℹ Final filtered URLs: \u001b[0m\u001b[1;90m50\u001b[0m\u001b[90m unique links \u001b[0m\n"
      ]
     },
     "metadata": {},
     "output_type": "display_data"
    },
    {
     "data": {
      "text/html": [
       "<pre style=\"white-space:pre;overflow-x:auto;line-height:normal;font-family:Menlo,'DejaVu Sans Mono',consolas,'Courier New',monospace\"><span style=\"color: #008080; text-decoration-color: #008080; font-weight: bold\">[</span><span style=\"color: #008080; text-decoration-color: #008080\">LINK_EXTRACT</span><span style=\"color: #008080; text-decoration-color: #008080; font-weight: bold\">]</span><span style=\"color: #008080; text-decoration-color: #008080\"> ℹ Extracting head content for </span><span style=\"color: #008080; text-decoration-color: #008080; font-weight: bold\">50</span><span style=\"color: #008080; text-decoration-color: #008080\"> filtered links </span>\n",
       "</pre>\n"
      ],
      "text/plain": [
       "\u001b[1;36m[\u001b[0m\u001b[36mLINK_EXTRACT\u001b[0m\u001b[1;36m]\u001b[0m\u001b[36m ℹ Extracting head content for \u001b[0m\u001b[1;36m50\u001b[0m\u001b[36m filtered links \u001b[0m\n"
      ]
     },
     "metadata": {},
     "output_type": "display_data"
    },
    {
     "data": {
      "text/html": [
       "<pre style=\"white-space:pre;overflow-x:auto;line-height:normal;font-family:Menlo,'DejaVu Sans Mono',consolas,'Courier New',monospace\"><span style=\"color: #008080; text-decoration-color: #008080; font-weight: bold\">[</span><span style=\"color: #008080; text-decoration-color: #008080\">URL_SEED</span><span style=\"color: #008080; text-decoration-color: #008080; font-weight: bold\">]</span><span style=\"color: #008080; text-decoration-color: #008080\"> ℹ Starting head extraction for </span><span style=\"color: #008080; text-decoration-color: #008080; font-weight: bold\">50</span><span style=\"color: #008080; text-decoration-color: #008080\"> custom URLs </span>\n",
       "</pre>\n"
      ],
      "text/plain": [
       "\u001b[1;36m[\u001b[0m\u001b[36mURL_SEED\u001b[0m\u001b[1;36m]\u001b[0m\u001b[36m ℹ Starting head extraction for \u001b[0m\u001b[1;36m50\u001b[0m\u001b[36m custom URLs \u001b[0m\n"
      ]
     },
     "metadata": {},
     "output_type": "display_data"
    },
    {
     "data": {
      "text/html": [
       "<pre style=\"white-space:pre;overflow-x:auto;line-height:normal;font-family:Menlo,'DejaVu Sans Mono',consolas,'Courier New',monospace\"><span style=\"color: #808080; text-decoration-color: #808080; font-weight: bold\">[</span><span style=\"color: #808080; text-decoration-color: #808080\">URL_SEED</span><span style=\"color: #808080; text-decoration-color: #808080; font-weight: bold\">]</span><span style=\"color: #808080; text-decoration-color: #808080\"> ℹ Fetching head for </span><span style=\"color: #808080; text-decoration-color: #808080; text-decoration: underline\">https://peps.python.org/pep-0001</span><span style=\"color: #808080; text-decoration-color: #808080\"> </span>\n",
       "</pre>\n"
      ],
      "text/plain": [
       "\u001b[1;90m[\u001b[0m\u001b[90mURL_SEED\u001b[0m\u001b[1;90m]\u001b[0m\u001b[90m ℹ Fetching head for \u001b[0m\u001b[4;90mhttps://peps.python.org/pep-0001\u001b[0m\u001b[90m \u001b[0m\n"
      ]
     },
     "metadata": {},
     "output_type": "display_data"
    },
    {
     "data": {
      "text/html": [
       "<pre style=\"white-space:pre;overflow-x:auto;line-height:normal;font-family:Menlo,'DejaVu Sans Mono',consolas,'Courier New',monospace\"><span style=\"color: #808080; text-decoration-color: #808080; font-weight: bold\">[</span><span style=\"color: #808080; text-decoration-color: #808080\">URL_SEED</span><span style=\"color: #808080; text-decoration-color: #808080; font-weight: bold\">]</span><span style=\"color: #808080; text-decoration-color: #808080\"> ℹ Fetching head for </span><span style=\"color: #808080; text-decoration-color: #808080; text-decoration: underline\">https://peps.python.org/topic</span><span style=\"color: #808080; text-decoration-color: #808080\"> </span>\n",
       "</pre>\n"
      ],
      "text/plain": [
       "\u001b[1;90m[\u001b[0m\u001b[90mURL_SEED\u001b[0m\u001b[1;90m]\u001b[0m\u001b[90m ℹ Fetching head for \u001b[0m\u001b[4;90mhttps://peps.python.org/topic\u001b[0m\u001b[90m \u001b[0m\n"
      ]
     },
     "metadata": {},
     "output_type": "display_data"
    },
    {
     "data": {
      "text/html": [
       "<pre style=\"white-space:pre;overflow-x:auto;line-height:normal;font-family:Menlo,'DejaVu Sans Mono',consolas,'Courier New',monospace\"><span style=\"color: #808080; text-decoration-color: #808080; font-weight: bold\">[</span><span style=\"color: #808080; text-decoration-color: #808080\">URL_SEED</span><span style=\"color: #808080; text-decoration-color: #808080; font-weight: bold\">]</span><span style=\"color: #808080; text-decoration-color: #808080\"> ℹ Fetching head for </span><span style=\"color: #808080; text-decoration-color: #808080; text-decoration: underline\">https://peps.python.org/topic/governance</span><span style=\"color: #808080; text-decoration-color: #808080\"> </span>\n",
       "</pre>\n"
      ],
      "text/plain": [
       "\u001b[1;90m[\u001b[0m\u001b[90mURL_SEED\u001b[0m\u001b[1;90m]\u001b[0m\u001b[90m ℹ Fetching head for \u001b[0m\u001b[4;90mhttps://peps.python.org/topic/governance\u001b[0m\u001b[90m \u001b[0m\n"
      ]
     },
     "metadata": {},
     "output_type": "display_data"
    },
    {
     "data": {
      "text/html": [
       "<pre style=\"white-space:pre;overflow-x:auto;line-height:normal;font-family:Menlo,'DejaVu Sans Mono',consolas,'Courier New',monospace\"><span style=\"color: #808080; text-decoration-color: #808080; font-weight: bold\">[</span><span style=\"color: #808080; text-decoration-color: #808080\">URL_SEED</span><span style=\"color: #808080; text-decoration-color: #808080; font-weight: bold\">]</span><span style=\"color: #808080; text-decoration-color: #808080\"> ℹ Fetching head for </span><span style=\"color: #808080; text-decoration-color: #808080; text-decoration: underline\">https://peps.python.org/topic/packaging</span><span style=\"color: #808080; text-decoration-color: #808080\"> </span>\n",
       "</pre>\n"
      ],
      "text/plain": [
       "\u001b[1;90m[\u001b[0m\u001b[90mURL_SEED\u001b[0m\u001b[1;90m]\u001b[0m\u001b[90m ℹ Fetching head for \u001b[0m\u001b[4;90mhttps://peps.python.org/topic/packaging\u001b[0m\u001b[90m \u001b[0m\n"
      ]
     },
     "metadata": {},
     "output_type": "display_data"
    },
    {
     "data": {
      "text/html": [
       "<pre style=\"white-space:pre;overflow-x:auto;line-height:normal;font-family:Menlo,'DejaVu Sans Mono',consolas,'Courier New',monospace\"><span style=\"color: #808080; text-decoration-color: #808080; font-weight: bold\">[</span><span style=\"color: #808080; text-decoration-color: #808080\">URL_SEED</span><span style=\"color: #808080; text-decoration-color: #808080; font-weight: bold\">]</span><span style=\"color: #808080; text-decoration-color: #808080\"> ℹ Fetching head for </span><span style=\"color: #808080; text-decoration-color: #808080; text-decoration: underline\">https://peps.python.org/topic/release</span><span style=\"color: #808080; text-decoration-color: #808080\"> </span>\n",
       "</pre>\n"
      ],
      "text/plain": [
       "\u001b[1;90m[\u001b[0m\u001b[90mURL_SEED\u001b[0m\u001b[1;90m]\u001b[0m\u001b[90m ℹ Fetching head for \u001b[0m\u001b[4;90mhttps://peps.python.org/topic/release\u001b[0m\u001b[90m \u001b[0m\n"
      ]
     },
     "metadata": {},
     "output_type": "display_data"
    },
    {
     "data": {
      "text/html": [
       "<pre style=\"white-space:pre;overflow-x:auto;line-height:normal;font-family:Menlo,'DejaVu Sans Mono',consolas,'Courier New',monospace\"><span style=\"color: #808080; text-decoration-color: #808080; font-weight: bold\">[</span><span style=\"color: #808080; text-decoration-color: #808080\">URL_SEED</span><span style=\"color: #808080; text-decoration-color: #808080; font-weight: bold\">]</span><span style=\"color: #808080; text-decoration-color: #808080\"> ℹ Redirecting from </span><span style=\"color: #808080; text-decoration-color: #808080; text-decoration: underline\">https://peps.python.org/pep-0001</span><span style=\"color: #808080; text-decoration-color: #808080\"> to </span><span style=\"color: #808080; text-decoration-color: #808080; text-decoration: underline\">https://peps.python.org/pep-0001/</span><span style=\"color: #808080; text-decoration-color: #808080\"> </span>\n",
       "</pre>\n"
      ],
      "text/plain": [
       "\u001b[1;90m[\u001b[0m\u001b[90mURL_SEED\u001b[0m\u001b[1;90m]\u001b[0m\u001b[90m ℹ Redirecting from \u001b[0m\u001b[4;90mhttps://peps.python.org/pep-0001\u001b[0m\u001b[90m to \u001b[0m\u001b[4;90mhttps://peps.python.org/pep-0001/\u001b[0m\u001b[90m \u001b[0m\n"
      ]
     },
     "metadata": {},
     "output_type": "display_data"
    },
    {
     "data": {
      "text/html": [
       "<pre style=\"white-space:pre;overflow-x:auto;line-height:normal;font-family:Menlo,'DejaVu Sans Mono',consolas,'Courier New',monospace\"><span style=\"color: #808080; text-decoration-color: #808080; font-weight: bold\">[</span><span style=\"color: #808080; text-decoration-color: #808080\">URL_SEED</span><span style=\"color: #808080; text-decoration-color: #808080; font-weight: bold\">]</span><span style=\"color: #808080; text-decoration-color: #808080\"> ℹ Redirecting from </span><span style=\"color: #808080; text-decoration-color: #808080; text-decoration: underline\">https://peps.python.org/topic/packaging</span><span style=\"color: #808080; text-decoration-color: #808080\"> to </span><span style=\"color: #808080; text-decoration-color: #808080; text-decoration: underline\">https://peps.python.org/topic/packaging/</span><span style=\"color: #808080; text-decoration-color: #808080\"> </span>\n",
       "</pre>\n"
      ],
      "text/plain": [
       "\u001b[1;90m[\u001b[0m\u001b[90mURL_SEED\u001b[0m\u001b[1;90m]\u001b[0m\u001b[90m ℹ Redirecting from \u001b[0m\u001b[4;90mhttps://peps.python.org/topic/packaging\u001b[0m\u001b[90m to \u001b[0m\u001b[4;90mhttps://peps.python.org/topic/packaging/\u001b[0m\u001b[90m \u001b[0m\n"
      ]
     },
     "metadata": {},
     "output_type": "display_data"
    },
    {
     "data": {
      "text/html": [
       "<pre style=\"white-space:pre;overflow-x:auto;line-height:normal;font-family:Menlo,'DejaVu Sans Mono',consolas,'Courier New',monospace\"><span style=\"color: #808080; text-decoration-color: #808080; font-weight: bold\">[</span><span style=\"color: #808080; text-decoration-color: #808080\">URL_SEED</span><span style=\"color: #808080; text-decoration-color: #808080; font-weight: bold\">]</span><span style=\"color: #808080; text-decoration-color: #808080\"> ℹ Redirecting from </span><span style=\"color: #808080; text-decoration-color: #808080; text-decoration: underline\">https://peps.python.org/topic/release</span><span style=\"color: #808080; text-decoration-color: #808080\"> to </span><span style=\"color: #808080; text-decoration-color: #808080; text-decoration: underline\">https://peps.python.org/topic/release/</span><span style=\"color: #808080; text-decoration-color: #808080\"> </span>\n",
       "</pre>\n"
      ],
      "text/plain": [
       "\u001b[1;90m[\u001b[0m\u001b[90mURL_SEED\u001b[0m\u001b[1;90m]\u001b[0m\u001b[90m ℹ Redirecting from \u001b[0m\u001b[4;90mhttps://peps.python.org/topic/release\u001b[0m\u001b[90m to \u001b[0m\u001b[4;90mhttps://peps.python.org/topic/release/\u001b[0m\u001b[90m \u001b[0m\n"
      ]
     },
     "metadata": {},
     "output_type": "display_data"
    },
    {
     "data": {
      "text/html": [
       "<pre style=\"white-space:pre;overflow-x:auto;line-height:normal;font-family:Menlo,'DejaVu Sans Mono',consolas,'Courier New',monospace\"><span style=\"color: #808080; text-decoration-color: #808080; font-weight: bold\">[</span><span style=\"color: #808080; text-decoration-color: #808080\">URL_SEED</span><span style=\"color: #808080; text-decoration-color: #808080; font-weight: bold\">]</span><span style=\"color: #808080; text-decoration-color: #808080\"> ℹ Redirecting from </span><span style=\"color: #808080; text-decoration-color: #808080; text-decoration: underline\">https://peps.python.org/topic</span><span style=\"color: #808080; text-decoration-color: #808080\"> to </span><span style=\"color: #808080; text-decoration-color: #808080; text-decoration: underline\">https://peps.python.org/topic/</span><span style=\"color: #808080; text-decoration-color: #808080\"> </span>\n",
       "</pre>\n"
      ],
      "text/plain": [
       "\u001b[1;90m[\u001b[0m\u001b[90mURL_SEED\u001b[0m\u001b[1;90m]\u001b[0m\u001b[90m ℹ Redirecting from \u001b[0m\u001b[4;90mhttps://peps.python.org/topic\u001b[0m\u001b[90m to \u001b[0m\u001b[4;90mhttps://peps.python.org/topic/\u001b[0m\u001b[90m \u001b[0m\n"
      ]
     },
     "metadata": {},
     "output_type": "display_data"
    },
    {
     "data": {
      "text/html": [
       "<pre style=\"white-space:pre;overflow-x:auto;line-height:normal;font-family:Menlo,'DejaVu Sans Mono',consolas,'Courier New',monospace\"><span style=\"color: #808080; text-decoration-color: #808080; font-weight: bold\">[</span><span style=\"color: #808080; text-decoration-color: #808080\">URL_SEED</span><span style=\"color: #808080; text-decoration-color: #808080; font-weight: bold\">]</span><span style=\"color: #808080; text-decoration-color: #808080\"> ℹ Redirecting from </span><span style=\"color: #808080; text-decoration-color: #808080; text-decoration: underline\">https://peps.python.org/topic/governance</span><span style=\"color: #808080; text-decoration-color: #808080\"> to </span><span style=\"color: #808080; text-decoration-color: #808080; text-decoration: underline\">https://peps.python.org/topic/governance/</span>\n",
       "</pre>\n"
      ],
      "text/plain": [
       "\u001b[1;90m[\u001b[0m\u001b[90mURL_SEED\u001b[0m\u001b[1;90m]\u001b[0m\u001b[90m ℹ Redirecting from \u001b[0m\u001b[4;90mhttps://peps.python.org/topic/governance\u001b[0m\u001b[90m to \u001b[0m\u001b[4;90mhttps://peps.python.org/topic/governance/\u001b[0m\n"
      ]
     },
     "metadata": {},
     "output_type": "display_data"
    },
    {
     "data": {
      "text/html": [
       "<pre style=\"white-space:pre;overflow-x:auto;line-height:normal;font-family:Menlo,'DejaVu Sans Mono',consolas,'Courier New',monospace\"><span style=\"color: #008080; text-decoration-color: #008080; font-weight: bold\">[</span><span style=\"color: #008080; text-decoration-color: #008080\">URL_SEED</span><span style=\"color: #008080; text-decoration-color: #008080; font-weight: bold\">]</span><span style=\"color: #008080; text-decoration-color: #008080\"> ℹ HEAD VALID for </span><span style=\"color: #008080; text-decoration-color: #008080; text-decoration: underline\">https://peps.python.org/pep-0001/</span><span style=\"color: #008080; text-decoration-color: #008080\"> </span>\n",
       "</pre>\n"
      ],
      "text/plain": [
       "\u001b[1;36m[\u001b[0m\u001b[36mURL_SEED\u001b[0m\u001b[1;36m]\u001b[0m\u001b[36m ℹ HEAD VALID for \u001b[0m\u001b[4;36mhttps://peps.python.org/pep-0001/\u001b[0m\u001b[36m \u001b[0m\n"
      ]
     },
     "metadata": {},
     "output_type": "display_data"
    },
    {
     "data": {
      "text/html": [
       "<pre style=\"white-space:pre;overflow-x:auto;line-height:normal;font-family:Menlo,'DejaVu Sans Mono',consolas,'Courier New',monospace\"><span style=\"color: #808080; text-decoration-color: #808080; font-weight: bold\">[</span><span style=\"color: #808080; text-decoration-color: #808080\">URL_SEED</span><span style=\"color: #808080; text-decoration-color: #808080; font-weight: bold\">]</span><span style=\"color: #808080; text-decoration-color: #808080\"> ℹ Fetching head for </span><span style=\"color: #808080; text-decoration-color: #808080; text-decoration: underline\">https://peps.python.org/topic/typing</span><span style=\"color: #808080; text-decoration-color: #808080\"> </span>\n",
       "</pre>\n"
      ],
      "text/plain": [
       "\u001b[1;90m[\u001b[0m\u001b[90mURL_SEED\u001b[0m\u001b[1;90m]\u001b[0m\u001b[90m ℹ Fetching head for \u001b[0m\u001b[4;90mhttps://peps.python.org/topic/typing\u001b[0m\u001b[90m \u001b[0m\n"
      ]
     },
     "metadata": {},
     "output_type": "display_data"
    },
    {
     "data": {
      "text/html": [
       "<pre style=\"white-space:pre;overflow-x:auto;line-height:normal;font-family:Menlo,'DejaVu Sans Mono',consolas,'Courier New',monospace\"><span style=\"color: #008080; text-decoration-color: #008080; font-weight: bold\">[</span><span style=\"color: #008080; text-decoration-color: #008080\">URL_SEED</span><span style=\"color: #008080; text-decoration-color: #008080; font-weight: bold\">]</span><span style=\"color: #008080; text-decoration-color: #008080\"> ℹ HEAD VALID for </span><span style=\"color: #008080; text-decoration-color: #008080; text-decoration: underline\">https://peps.python.org/topic/release/</span><span style=\"color: #008080; text-decoration-color: #008080\"> </span>\n",
       "</pre>\n"
      ],
      "text/plain": [
       "\u001b[1;36m[\u001b[0m\u001b[36mURL_SEED\u001b[0m\u001b[1;36m]\u001b[0m\u001b[36m ℹ HEAD VALID for \u001b[0m\u001b[4;36mhttps://peps.python.org/topic/release/\u001b[0m\u001b[36m \u001b[0m\n"
      ]
     },
     "metadata": {},
     "output_type": "display_data"
    },
    {
     "data": {
      "text/html": [
       "<pre style=\"white-space:pre;overflow-x:auto;line-height:normal;font-family:Menlo,'DejaVu Sans Mono',consolas,'Courier New',monospace\"><span style=\"color: #808080; text-decoration-color: #808080; font-weight: bold\">[</span><span style=\"color: #808080; text-decoration-color: #808080\">URL_SEED</span><span style=\"color: #808080; text-decoration-color: #808080; font-weight: bold\">]</span><span style=\"color: #808080; text-decoration-color: #808080\"> ℹ Fetching head for </span><span style=\"color: #808080; text-decoration-color: #808080; text-decoration: underline\">https://peps.python.org/api/peps.json</span><span style=\"color: #808080; text-decoration-color: #808080\"> </span>\n",
       "</pre>\n"
      ],
      "text/plain": [
       "\u001b[1;90m[\u001b[0m\u001b[90mURL_SEED\u001b[0m\u001b[1;90m]\u001b[0m\u001b[90m ℹ Fetching head for \u001b[0m\u001b[4;90mhttps://peps.python.org/api/peps.json\u001b[0m\u001b[90m \u001b[0m\n"
      ]
     },
     "metadata": {},
     "output_type": "display_data"
    },
    {
     "data": {
      "text/html": [
       "<pre style=\"white-space:pre;overflow-x:auto;line-height:normal;font-family:Menlo,'DejaVu Sans Mono',consolas,'Courier New',monospace\"><span style=\"color: #008080; text-decoration-color: #008080; font-weight: bold\">[</span><span style=\"color: #008080; text-decoration-color: #008080\">URL_SEED</span><span style=\"color: #008080; text-decoration-color: #008080; font-weight: bold\">]</span><span style=\"color: #008080; text-decoration-color: #008080\"> ℹ HEAD VALID for </span><span style=\"color: #008080; text-decoration-color: #008080; text-decoration: underline\">https://peps.python.org/topic/packaging/</span><span style=\"color: #008080; text-decoration-color: #008080\"> </span>\n",
       "</pre>\n"
      ],
      "text/plain": [
       "\u001b[1;36m[\u001b[0m\u001b[36mURL_SEED\u001b[0m\u001b[1;36m]\u001b[0m\u001b[36m ℹ HEAD VALID for \u001b[0m\u001b[4;36mhttps://peps.python.org/topic/packaging/\u001b[0m\u001b[36m \u001b[0m\n"
      ]
     },
     "metadata": {},
     "output_type": "display_data"
    },
    {
     "data": {
      "text/html": [
       "<pre style=\"white-space:pre;overflow-x:auto;line-height:normal;font-family:Menlo,'DejaVu Sans Mono',consolas,'Courier New',monospace\"><span style=\"color: #808080; text-decoration-color: #808080; font-weight: bold\">[</span><span style=\"color: #808080; text-decoration-color: #808080\">URL_SEED</span><span style=\"color: #808080; text-decoration-color: #808080; font-weight: bold\">]</span><span style=\"color: #808080; text-decoration-color: #808080\"> ℹ Fetching head for </span><span style=\"color: #808080; text-decoration-color: #808080; text-decoration: underline\">https://peps.python.org/api</span><span style=\"color: #808080; text-decoration-color: #808080\"> </span>\n",
       "</pre>\n"
      ],
      "text/plain": [
       "\u001b[1;90m[\u001b[0m\u001b[90mURL_SEED\u001b[0m\u001b[1;90m]\u001b[0m\u001b[90m ℹ Fetching head for \u001b[0m\u001b[4;90mhttps://peps.python.org/api\u001b[0m\u001b[90m \u001b[0m\n"
      ]
     },
     "metadata": {},
     "output_type": "display_data"
    },
    {
     "data": {
      "text/html": [
       "<pre style=\"white-space:pre;overflow-x:auto;line-height:normal;font-family:Menlo,'DejaVu Sans Mono',consolas,'Courier New',monospace\"><span style=\"color: #008080; text-decoration-color: #008080; font-weight: bold\">[</span><span style=\"color: #008080; text-decoration-color: #008080\">URL_SEED</span><span style=\"color: #008080; text-decoration-color: #008080; font-weight: bold\">]</span><span style=\"color: #008080; text-decoration-color: #008080\"> ℹ HEAD VALID for </span><span style=\"color: #008080; text-decoration-color: #008080; text-decoration: underline\">https://peps.python.org/topic/</span><span style=\"color: #008080; text-decoration-color: #008080\"> </span>\n",
       "</pre>\n"
      ],
      "text/plain": [
       "\u001b[1;36m[\u001b[0m\u001b[36mURL_SEED\u001b[0m\u001b[1;36m]\u001b[0m\u001b[36m ℹ HEAD VALID for \u001b[0m\u001b[4;36mhttps://peps.python.org/topic/\u001b[0m\u001b[36m \u001b[0m\n"
      ]
     },
     "metadata": {},
     "output_type": "display_data"
    },
    {
     "data": {
      "text/html": [
       "<pre style=\"white-space:pre;overflow-x:auto;line-height:normal;font-family:Menlo,'DejaVu Sans Mono',consolas,'Courier New',monospace\"><span style=\"color: #808080; text-decoration-color: #808080; font-weight: bold\">[</span><span style=\"color: #808080; text-decoration-color: #808080\">URL_SEED</span><span style=\"color: #808080; text-decoration-color: #808080; font-weight: bold\">]</span><span style=\"color: #808080; text-decoration-color: #808080\"> ℹ Fetching head for </span><span style=\"color: #808080; text-decoration-color: #808080; text-decoration: underline\">https://peps.python.org/numerical</span><span style=\"color: #808080; text-decoration-color: #808080\"> </span>\n",
       "</pre>\n"
      ],
      "text/plain": [
       "\u001b[1;90m[\u001b[0m\u001b[90mURL_SEED\u001b[0m\u001b[1;90m]\u001b[0m\u001b[90m ℹ Fetching head for \u001b[0m\u001b[4;90mhttps://peps.python.org/numerical\u001b[0m\u001b[90m \u001b[0m\n"
      ]
     },
     "metadata": {},
     "output_type": "display_data"
    },
    {
     "data": {
      "text/html": [
       "<pre style=\"white-space:pre;overflow-x:auto;line-height:normal;font-family:Menlo,'DejaVu Sans Mono',consolas,'Courier New',monospace\"><span style=\"color: #008080; text-decoration-color: #008080; font-weight: bold\">[</span><span style=\"color: #008080; text-decoration-color: #008080\">URL_SEED</span><span style=\"color: #008080; text-decoration-color: #008080; font-weight: bold\">]</span><span style=\"color: #008080; text-decoration-color: #008080\"> ℹ HEAD VALID for </span><span style=\"color: #008080; text-decoration-color: #008080; text-decoration: underline\">https://peps.python.org/topic/governance/</span><span style=\"color: #008080; text-decoration-color: #008080\"> </span>\n",
       "</pre>\n"
      ],
      "text/plain": [
       "\u001b[1;36m[\u001b[0m\u001b[36mURL_SEED\u001b[0m\u001b[1;36m]\u001b[0m\u001b[36m ℹ HEAD VALID for \u001b[0m\u001b[4;36mhttps://peps.python.org/topic/governance/\u001b[0m\u001b[36m \u001b[0m\n"
      ]
     },
     "metadata": {},
     "output_type": "display_data"
    },
    {
     "data": {
      "text/html": [
       "<pre style=\"white-space:pre;overflow-x:auto;line-height:normal;font-family:Menlo,'DejaVu Sans Mono',consolas,'Courier New',monospace\"><span style=\"color: #808080; text-decoration-color: #808080; font-weight: bold\">[</span><span style=\"color: #808080; text-decoration-color: #808080\">URL_SEED</span><span style=\"color: #808080; text-decoration-color: #808080; font-weight: bold\">]</span><span style=\"color: #808080; text-decoration-color: #808080\"> ℹ Fetching head for </span><span style=\"color: #808080; text-decoration-color: #808080; text-decoration: underline\">https://peps.python.org/pep-0002</span><span style=\"color: #808080; text-decoration-color: #808080\"> </span>\n",
       "</pre>\n"
      ],
      "text/plain": [
       "\u001b[1;90m[\u001b[0m\u001b[90mURL_SEED\u001b[0m\u001b[1;90m]\u001b[0m\u001b[90m ℹ Fetching head for \u001b[0m\u001b[4;90mhttps://peps.python.org/pep-0002\u001b[0m\u001b[90m \u001b[0m\n"
      ]
     },
     "metadata": {},
     "output_type": "display_data"
    },
    {
     "data": {
      "text/html": [
       "<pre style=\"white-space:pre;overflow-x:auto;line-height:normal;font-family:Menlo,'DejaVu Sans Mono',consolas,'Courier New',monospace\"><span style=\"color: #808080; text-decoration-color: #808080; font-weight: bold\">[</span><span style=\"color: #808080; text-decoration-color: #808080\">URL_SEED</span><span style=\"color: #808080; text-decoration-color: #808080; font-weight: bold\">]</span><span style=\"color: #808080; text-decoration-color: #808080\"> ℹ Redirecting from </span><span style=\"color: #808080; text-decoration-color: #808080; text-decoration: underline\">https://peps.python.org/topic/typing</span><span style=\"color: #808080; text-decoration-color: #808080\"> to </span><span style=\"color: #808080; text-decoration-color: #808080; text-decoration: underline\">https://peps.python.org/topic/typing/</span><span style=\"color: #808080; text-decoration-color: #808080\"> </span>\n",
       "</pre>\n"
      ],
      "text/plain": [
       "\u001b[1;90m[\u001b[0m\u001b[90mURL_SEED\u001b[0m\u001b[1;90m]\u001b[0m\u001b[90m ℹ Redirecting from \u001b[0m\u001b[4;90mhttps://peps.python.org/topic/typing\u001b[0m\u001b[90m to \u001b[0m\u001b[4;90mhttps://peps.python.org/topic/typing/\u001b[0m\u001b[90m \u001b[0m\n"
      ]
     },
     "metadata": {},
     "output_type": "display_data"
    },
    {
     "data": {
      "text/html": [
       "<pre style=\"white-space:pre;overflow-x:auto;line-height:normal;font-family:Menlo,'DejaVu Sans Mono',consolas,'Courier New',monospace\"><span style=\"color: #808080; text-decoration-color: #808080; font-weight: bold\">[</span><span style=\"color: #808080; text-decoration-color: #808080\">URL_SEED</span><span style=\"color: #808080; text-decoration-color: #808080; font-weight: bold\">]</span><span style=\"color: #808080; text-decoration-color: #808080\"> ℹ No </span><span style=\"color: #808080; text-decoration-color: #808080; font-weight: bold\">&lt;</span><span style=\"color: #808080; text-decoration-color: #808080\">/head</span><span style=\"color: #808080; text-decoration-color: #808080; font-weight: bold\">&gt;</span><span style=\"color: #808080; text-decoration-color: #808080\"> tag found in initial bytes of </span><span style=\"color: #808080; text-decoration-color: #808080; text-decoration: underline\">https://peps.python.org/api/peps.json</span><span style=\"color: #808080; text-decoration-color: #808080\"> </span>\n",
       "</pre>\n"
      ],
      "text/plain": [
       "\u001b[1;90m[\u001b[0m\u001b[90mURL_SEED\u001b[0m\u001b[1;90m]\u001b[0m\u001b[90m ℹ No \u001b[0m\u001b[1;90m<\u001b[0m\u001b[90m/\u001b[0m\u001b[90mhead\u001b[0m\u001b[1;90m>\u001b[0m\u001b[90m tag found in initial bytes of \u001b[0m\u001b[4;90mhttps://peps.python.org/api/peps.json\u001b[0m\u001b[90m \u001b[0m\n"
      ]
     },
     "metadata": {},
     "output_type": "display_data"
    },
    {
     "data": {
      "text/html": [
       "<pre style=\"white-space:pre;overflow-x:auto;line-height:normal;font-family:Menlo,'DejaVu Sans Mono',consolas,'Courier New',monospace\"><span style=\"color: #008080; text-decoration-color: #008080; font-weight: bold\">[</span><span style=\"color: #008080; text-decoration-color: #008080\">URL_SEED</span><span style=\"color: #008080; text-decoration-color: #008080; font-weight: bold\">]</span><span style=\"color: #008080; text-decoration-color: #008080\"> ℹ HEAD VALID for </span><span style=\"color: #008080; text-decoration-color: #008080; text-decoration: underline\">https://peps.python.org/api/peps.json</span><span style=\"color: #008080; text-decoration-color: #008080\"> </span>\n",
       "</pre>\n"
      ],
      "text/plain": [
       "\u001b[1;36m[\u001b[0m\u001b[36mURL_SEED\u001b[0m\u001b[1;36m]\u001b[0m\u001b[36m ℹ HEAD VALID for \u001b[0m\u001b[4;36mhttps://peps.python.org/api/peps.json\u001b[0m\u001b[36m \u001b[0m\n"
      ]
     },
     "metadata": {},
     "output_type": "display_data"
    },
    {
     "data": {
      "text/html": [
       "<pre style=\"white-space:pre;overflow-x:auto;line-height:normal;font-family:Menlo,'DejaVu Sans Mono',consolas,'Courier New',monospace\"><span style=\"color: #808080; text-decoration-color: #808080; font-weight: bold\">[</span><span style=\"color: #808080; text-decoration-color: #808080\">URL_SEED</span><span style=\"color: #808080; text-decoration-color: #808080; font-weight: bold\">]</span><span style=\"color: #808080; text-decoration-color: #808080\"> ℹ Fetching head for </span><span style=\"color: #808080; text-decoration-color: #808080; text-decoration: underline\">https://peps.python.org/pep-0004</span><span style=\"color: #808080; text-decoration-color: #808080\"> </span>\n",
       "</pre>\n"
      ],
      "text/plain": [
       "\u001b[1;90m[\u001b[0m\u001b[90mURL_SEED\u001b[0m\u001b[1;90m]\u001b[0m\u001b[90m ℹ Fetching head for \u001b[0m\u001b[4;90mhttps://peps.python.org/pep-0004\u001b[0m\u001b[90m \u001b[0m\n"
      ]
     },
     "metadata": {},
     "output_type": "display_data"
    },
    {
     "data": {
      "text/html": [
       "<pre style=\"white-space:pre;overflow-x:auto;line-height:normal;font-family:Menlo,'DejaVu Sans Mono',consolas,'Courier New',monospace\"><span style=\"color: #808080; text-decoration-color: #808080; font-weight: bold\">[</span><span style=\"color: #808080; text-decoration-color: #808080\">URL_SEED</span><span style=\"color: #808080; text-decoration-color: #808080; font-weight: bold\">]</span><span style=\"color: #808080; text-decoration-color: #808080\"> ℹ Redirecting from </span><span style=\"color: #808080; text-decoration-color: #808080; text-decoration: underline\">https://peps.python.org/pep-0002</span><span style=\"color: #808080; text-decoration-color: #808080\"> to </span><span style=\"color: #808080; text-decoration-color: #808080; text-decoration: underline\">https://peps.python.org/pep-0002/</span><span style=\"color: #808080; text-decoration-color: #808080\"> </span>\n",
       "</pre>\n"
      ],
      "text/plain": [
       "\u001b[1;90m[\u001b[0m\u001b[90mURL_SEED\u001b[0m\u001b[1;90m]\u001b[0m\u001b[90m ℹ Redirecting from \u001b[0m\u001b[4;90mhttps://peps.python.org/pep-0002\u001b[0m\u001b[90m to \u001b[0m\u001b[4;90mhttps://peps.python.org/pep-0002/\u001b[0m\u001b[90m \u001b[0m\n"
      ]
     },
     "metadata": {},
     "output_type": "display_data"
    },
    {
     "data": {
      "text/html": [
       "<pre style=\"white-space:pre;overflow-x:auto;line-height:normal;font-family:Menlo,'DejaVu Sans Mono',consolas,'Courier New',monospace\"><span style=\"color: #808080; text-decoration-color: #808080; font-weight: bold\">[</span><span style=\"color: #808080; text-decoration-color: #808080\">URL_SEED</span><span style=\"color: #808080; text-decoration-color: #808080; font-weight: bold\">]</span><span style=\"color: #808080; text-decoration-color: #808080\"> ℹ Redirecting from </span><span style=\"color: #808080; text-decoration-color: #808080; text-decoration: underline\">https://peps.python.org/numerical</span><span style=\"color: #808080; text-decoration-color: #808080\"> to </span><span style=\"color: #808080; text-decoration-color: #808080; text-decoration: underline\">https://peps.python.org/numerical/</span><span style=\"color: #808080; text-decoration-color: #808080\"> </span>\n",
       "</pre>\n"
      ],
      "text/plain": [
       "\u001b[1;90m[\u001b[0m\u001b[90mURL_SEED\u001b[0m\u001b[1;90m]\u001b[0m\u001b[90m ℹ Redirecting from \u001b[0m\u001b[4;90mhttps://peps.python.org/numerical\u001b[0m\u001b[90m to \u001b[0m\u001b[4;90mhttps://peps.python.org/numerical/\u001b[0m\u001b[90m \u001b[0m\n"
      ]
     },
     "metadata": {},
     "output_type": "display_data"
    },
    {
     "data": {
      "text/html": [
       "<pre style=\"white-space:pre;overflow-x:auto;line-height:normal;font-family:Menlo,'DejaVu Sans Mono',consolas,'Courier New',monospace\"><span style=\"color: #808080; text-decoration-color: #808080; font-weight: bold\">[</span><span style=\"color: #808080; text-decoration-color: #808080\">URL_SEED</span><span style=\"color: #808080; text-decoration-color: #808080; font-weight: bold\">]</span><span style=\"color: #808080; text-decoration-color: #808080\"> ℹ Redirecting from </span><span style=\"color: #808080; text-decoration-color: #808080; text-decoration: underline\">https://peps.python.org/api</span><span style=\"color: #808080; text-decoration-color: #808080\"> to </span><span style=\"color: #808080; text-decoration-color: #808080; text-decoration: underline\">https://peps.python.org/api/</span><span style=\"color: #808080; text-decoration-color: #808080\"> </span>\n",
       "</pre>\n"
      ],
      "text/plain": [
       "\u001b[1;90m[\u001b[0m\u001b[90mURL_SEED\u001b[0m\u001b[1;90m]\u001b[0m\u001b[90m ℹ Redirecting from \u001b[0m\u001b[4;90mhttps://peps.python.org/api\u001b[0m\u001b[90m to \u001b[0m\u001b[4;90mhttps://peps.python.org/api/\u001b[0m\u001b[90m \u001b[0m\n"
      ]
     },
     "metadata": {},
     "output_type": "display_data"
    },
    {
     "data": {
      "text/html": [
       "<pre style=\"white-space:pre;overflow-x:auto;line-height:normal;font-family:Menlo,'DejaVu Sans Mono',consolas,'Courier New',monospace\"><span style=\"color: #008080; text-decoration-color: #008080; font-weight: bold\">[</span><span style=\"color: #008080; text-decoration-color: #008080\">URL_SEED</span><span style=\"color: #008080; text-decoration-color: #008080; font-weight: bold\">]</span><span style=\"color: #008080; text-decoration-color: #008080\"> ℹ HEAD VALID for </span><span style=\"color: #008080; text-decoration-color: #008080; text-decoration: underline\">https://peps.python.org/topic/typing/</span><span style=\"color: #008080; text-decoration-color: #008080\"> </span>\n",
       "</pre>\n"
      ],
      "text/plain": [
       "\u001b[1;36m[\u001b[0m\u001b[36mURL_SEED\u001b[0m\u001b[1;36m]\u001b[0m\u001b[36m ℹ HEAD VALID for \u001b[0m\u001b[4;36mhttps://peps.python.org/topic/typing/\u001b[0m\u001b[36m \u001b[0m\n"
      ]
     },
     "metadata": {},
     "output_type": "display_data"
    },
    {
     "data": {
      "text/html": [
       "<pre style=\"white-space:pre;overflow-x:auto;line-height:normal;font-family:Menlo,'DejaVu Sans Mono',consolas,'Courier New',monospace\"><span style=\"color: #808080; text-decoration-color: #808080; font-weight: bold\">[</span><span style=\"color: #808080; text-decoration-color: #808080\">URL_SEED</span><span style=\"color: #808080; text-decoration-color: #808080; font-weight: bold\">]</span><span style=\"color: #808080; text-decoration-color: #808080\"> ℹ Fetching head for </span><span style=\"color: #808080; text-decoration-color: #808080; text-decoration: underline\">https://peps.python.org/pep-0007</span><span style=\"color: #808080; text-decoration-color: #808080\"> </span>\n",
       "</pre>\n"
      ],
      "text/plain": [
       "\u001b[1;90m[\u001b[0m\u001b[90mURL_SEED\u001b[0m\u001b[1;90m]\u001b[0m\u001b[90m ℹ Fetching head for \u001b[0m\u001b[4;90mhttps://peps.python.org/pep-0007\u001b[0m\u001b[90m \u001b[0m\n"
      ]
     },
     "metadata": {},
     "output_type": "display_data"
    },
    {
     "data": {
      "text/html": [
       "<pre style=\"white-space:pre;overflow-x:auto;line-height:normal;font-family:Menlo,'DejaVu Sans Mono',consolas,'Courier New',monospace\"><span style=\"color: #808080; text-decoration-color: #808080; font-weight: bold\">[</span><span style=\"color: #808080; text-decoration-color: #808080\">URL_SEED</span><span style=\"color: #808080; text-decoration-color: #808080; font-weight: bold\">]</span><span style=\"color: #808080; text-decoration-color: #808080\"> ℹ Redirecting from </span><span style=\"color: #808080; text-decoration-color: #808080; text-decoration: underline\">https://peps.python.org/pep-0004</span><span style=\"color: #808080; text-decoration-color: #808080\"> to </span><span style=\"color: #808080; text-decoration-color: #808080; text-decoration: underline\">https://peps.python.org/pep-0004/</span><span style=\"color: #808080; text-decoration-color: #808080\"> </span>\n",
       "</pre>\n"
      ],
      "text/plain": [
       "\u001b[1;90m[\u001b[0m\u001b[90mURL_SEED\u001b[0m\u001b[1;90m]\u001b[0m\u001b[90m ℹ Redirecting from \u001b[0m\u001b[4;90mhttps://peps.python.org/pep-0004\u001b[0m\u001b[90m to \u001b[0m\u001b[4;90mhttps://peps.python.org/pep-0004/\u001b[0m\u001b[90m \u001b[0m\n"
      ]
     },
     "metadata": {},
     "output_type": "display_data"
    },
    {
     "data": {
      "text/html": [
       "<pre style=\"white-space:pre;overflow-x:auto;line-height:normal;font-family:Menlo,'DejaVu Sans Mono',consolas,'Courier New',monospace\"><span style=\"color: #008080; text-decoration-color: #008080; font-weight: bold\">[</span><span style=\"color: #008080; text-decoration-color: #008080\">URL_SEED</span><span style=\"color: #008080; text-decoration-color: #008080; font-weight: bold\">]</span><span style=\"color: #008080; text-decoration-color: #008080\"> ℹ HEAD VALID for </span><span style=\"color: #008080; text-decoration-color: #008080; text-decoration: underline\">https://peps.python.org/numerical/</span><span style=\"color: #008080; text-decoration-color: #008080\"> </span>\n",
       "</pre>\n"
      ],
      "text/plain": [
       "\u001b[1;36m[\u001b[0m\u001b[36mURL_SEED\u001b[0m\u001b[1;36m]\u001b[0m\u001b[36m ℹ HEAD VALID for \u001b[0m\u001b[4;36mhttps://peps.python.org/numerical/\u001b[0m\u001b[36m \u001b[0m\n"
      ]
     },
     "metadata": {},
     "output_type": "display_data"
    },
    {
     "data": {
      "text/html": [
       "<pre style=\"white-space:pre;overflow-x:auto;line-height:normal;font-family:Menlo,'DejaVu Sans Mono',consolas,'Courier New',monospace\"><span style=\"color: #008080; text-decoration-color: #008080; font-weight: bold\">[</span><span style=\"color: #008080; text-decoration-color: #008080\">URL_SEED</span><span style=\"color: #008080; text-decoration-color: #008080; font-weight: bold\">]</span><span style=\"color: #008080; text-decoration-color: #008080\"> ℹ HEAD VALID for </span><span style=\"color: #008080; text-decoration-color: #008080; text-decoration: underline\">https://peps.python.org/pep-0002/</span><span style=\"color: #008080; text-decoration-color: #008080\"> </span>\n",
       "</pre>\n"
      ],
      "text/plain": [
       "\u001b[1;36m[\u001b[0m\u001b[36mURL_SEED\u001b[0m\u001b[1;36m]\u001b[0m\u001b[36m ℹ HEAD VALID for \u001b[0m\u001b[4;36mhttps://peps.python.org/pep-0002/\u001b[0m\u001b[36m \u001b[0m\n"
      ]
     },
     "metadata": {},
     "output_type": "display_data"
    },
    {
     "data": {
      "text/html": [
       "<pre style=\"white-space:pre;overflow-x:auto;line-height:normal;font-family:Menlo,'DejaVu Sans Mono',consolas,'Courier New',monospace\"><span style=\"color: #808080; text-decoration-color: #808080; font-weight: bold\">[</span><span style=\"color: #808080; text-decoration-color: #808080\">URL_SEED</span><span style=\"color: #808080; text-decoration-color: #808080; font-weight: bold\">]</span><span style=\"color: #808080; text-decoration-color: #808080\"> ℹ Fetching head for </span><span style=\"color: #808080; text-decoration-color: #808080; text-decoration: underline\">https://peps.python.org/pep-0008</span><span style=\"color: #808080; text-decoration-color: #808080\"> </span>\n",
       "</pre>\n"
      ],
      "text/plain": [
       "\u001b[1;90m[\u001b[0m\u001b[90mURL_SEED\u001b[0m\u001b[1;90m]\u001b[0m\u001b[90m ℹ Fetching head for \u001b[0m\u001b[4;90mhttps://peps.python.org/pep-0008\u001b[0m\u001b[90m \u001b[0m\n"
      ]
     },
     "metadata": {},
     "output_type": "display_data"
    },
    {
     "data": {
      "text/html": [
       "<pre style=\"white-space:pre;overflow-x:auto;line-height:normal;font-family:Menlo,'DejaVu Sans Mono',consolas,'Courier New',monospace\"><span style=\"color: #808080; text-decoration-color: #808080; font-weight: bold\">[</span><span style=\"color: #808080; text-decoration-color: #808080\">URL_SEED</span><span style=\"color: #808080; text-decoration-color: #808080; font-weight: bold\">]</span><span style=\"color: #808080; text-decoration-color: #808080\"> ℹ Fetching head for </span><span style=\"color: #808080; text-decoration-color: #808080; text-decoration: underline\">https://peps.python.org/pep-0010</span><span style=\"color: #808080; text-decoration-color: #808080\"> </span>\n",
       "</pre>\n"
      ],
      "text/plain": [
       "\u001b[1;90m[\u001b[0m\u001b[90mURL_SEED\u001b[0m\u001b[1;90m]\u001b[0m\u001b[90m ℹ Fetching head for \u001b[0m\u001b[4;90mhttps://peps.python.org/pep-0010\u001b[0m\u001b[90m \u001b[0m\n"
      ]
     },
     "metadata": {},
     "output_type": "display_data"
    },
    {
     "data": {
      "text/html": [
       "<pre style=\"white-space:pre;overflow-x:auto;line-height:normal;font-family:Menlo,'DejaVu Sans Mono',consolas,'Courier New',monospace\"><span style=\"color: #808080; text-decoration-color: #808080; font-weight: bold\">[</span><span style=\"color: #808080; text-decoration-color: #808080\">URL_SEED</span><span style=\"color: #808080; text-decoration-color: #808080; font-weight: bold\">]</span><span style=\"color: #808080; text-decoration-color: #808080\"> ℹ Redirecting from </span><span style=\"color: #808080; text-decoration-color: #808080; text-decoration: underline\">https://peps.python.org/pep-0007</span><span style=\"color: #808080; text-decoration-color: #808080\"> to </span><span style=\"color: #808080; text-decoration-color: #808080; text-decoration: underline\">https://peps.python.org/pep-0007/</span><span style=\"color: #808080; text-decoration-color: #808080\"> </span>\n",
       "</pre>\n"
      ],
      "text/plain": [
       "\u001b[1;90m[\u001b[0m\u001b[90mURL_SEED\u001b[0m\u001b[1;90m]\u001b[0m\u001b[90m ℹ Redirecting from \u001b[0m\u001b[4;90mhttps://peps.python.org/pep-0007\u001b[0m\u001b[90m to \u001b[0m\u001b[4;90mhttps://peps.python.org/pep-0007/\u001b[0m\u001b[90m \u001b[0m\n"
      ]
     },
     "metadata": {},
     "output_type": "display_data"
    },
    {
     "data": {
      "text/html": [
       "<pre style=\"white-space:pre;overflow-x:auto;line-height:normal;font-family:Menlo,'DejaVu Sans Mono',consolas,'Courier New',monospace\"><span style=\"color: #008080; text-decoration-color: #008080; font-weight: bold\">[</span><span style=\"color: #008080; text-decoration-color: #008080\">URL_SEED</span><span style=\"color: #008080; text-decoration-color: #008080; font-weight: bold\">]</span><span style=\"color: #008080; text-decoration-color: #008080\"> ℹ HEAD VALID for </span><span style=\"color: #008080; text-decoration-color: #008080; text-decoration: underline\">https://peps.python.org/pep-0004/</span><span style=\"color: #008080; text-decoration-color: #008080\"> </span>\n",
       "</pre>\n"
      ],
      "text/plain": [
       "\u001b[1;36m[\u001b[0m\u001b[36mURL_SEED\u001b[0m\u001b[1;36m]\u001b[0m\u001b[36m ℹ HEAD VALID for \u001b[0m\u001b[4;36mhttps://peps.python.org/pep-0004/\u001b[0m\u001b[36m \u001b[0m\n"
      ]
     },
     "metadata": {},
     "output_type": "display_data"
    },
    {
     "data": {
      "text/html": [
       "<pre style=\"white-space:pre;overflow-x:auto;line-height:normal;font-family:Menlo,'DejaVu Sans Mono',consolas,'Courier New',monospace\"><span style=\"color: #808080; text-decoration-color: #808080; font-weight: bold\">[</span><span style=\"color: #808080; text-decoration-color: #808080\">URL_SEED</span><span style=\"color: #808080; text-decoration-color: #808080; font-weight: bold\">]</span><span style=\"color: #808080; text-decoration-color: #808080\"> ℹ Fetching head for </span><span style=\"color: #808080; text-decoration-color: #808080; text-decoration: underline\">https://peps.python.org/pep-0011</span><span style=\"color: #808080; text-decoration-color: #808080\"> </span>\n",
       "</pre>\n"
      ],
      "text/plain": [
       "\u001b[1;90m[\u001b[0m\u001b[90mURL_SEED\u001b[0m\u001b[1;90m]\u001b[0m\u001b[90m ℹ Fetching head for \u001b[0m\u001b[4;90mhttps://peps.python.org/pep-0011\u001b[0m\u001b[90m \u001b[0m\n"
      ]
     },
     "metadata": {},
     "output_type": "display_data"
    },
    {
     "data": {
      "text/html": [
       "<pre style=\"white-space:pre;overflow-x:auto;line-height:normal;font-family:Menlo,'DejaVu Sans Mono',consolas,'Courier New',monospace\"><span style=\"color: #008080; text-decoration-color: #008080; font-weight: bold\">[</span><span style=\"color: #008080; text-decoration-color: #008080\">URL_SEED</span><span style=\"color: #008080; text-decoration-color: #008080; font-weight: bold\">]</span><span style=\"color: #008080; text-decoration-color: #008080\"> ℹ HEAD VALID for </span><span style=\"color: #008080; text-decoration-color: #008080; text-decoration: underline\">https://peps.python.org/api/</span><span style=\"color: #008080; text-decoration-color: #008080\"> </span>\n",
       "</pre>\n"
      ],
      "text/plain": [
       "\u001b[1;36m[\u001b[0m\u001b[36mURL_SEED\u001b[0m\u001b[1;36m]\u001b[0m\u001b[36m ℹ HEAD VALID for \u001b[0m\u001b[4;36mhttps://peps.python.org/api/\u001b[0m\u001b[36m \u001b[0m\n"
      ]
     },
     "metadata": {},
     "output_type": "display_data"
    },
    {
     "data": {
      "text/html": [
       "<pre style=\"white-space:pre;overflow-x:auto;line-height:normal;font-family:Menlo,'DejaVu Sans Mono',consolas,'Courier New',monospace\"><span style=\"color: #808080; text-decoration-color: #808080; font-weight: bold\">[</span><span style=\"color: #808080; text-decoration-color: #808080\">URL_SEED</span><span style=\"color: #808080; text-decoration-color: #808080; font-weight: bold\">]</span><span style=\"color: #808080; text-decoration-color: #808080\"> ℹ Fetching head for </span><span style=\"color: #808080; text-decoration-color: #808080; text-decoration: underline\">https://peps.python.org/pep-0012</span><span style=\"color: #808080; text-decoration-color: #808080\"> </span>\n",
       "</pre>\n"
      ],
      "text/plain": [
       "\u001b[1;90m[\u001b[0m\u001b[90mURL_SEED\u001b[0m\u001b[1;90m]\u001b[0m\u001b[90m ℹ Fetching head for \u001b[0m\u001b[4;90mhttps://peps.python.org/pep-0012\u001b[0m\u001b[90m \u001b[0m\n"
      ]
     },
     "metadata": {},
     "output_type": "display_data"
    },
    {
     "data": {
      "text/html": [
       "<pre style=\"white-space:pre;overflow-x:auto;line-height:normal;font-family:Menlo,'DejaVu Sans Mono',consolas,'Courier New',monospace\"><span style=\"color: #808080; text-decoration-color: #808080; font-weight: bold\">[</span><span style=\"color: #808080; text-decoration-color: #808080\">URL_SEED</span><span style=\"color: #808080; text-decoration-color: #808080; font-weight: bold\">]</span><span style=\"color: #808080; text-decoration-color: #808080\"> ℹ Redirecting from </span><span style=\"color: #808080; text-decoration-color: #808080; text-decoration: underline\">https://peps.python.org/pep-0008</span><span style=\"color: #808080; text-decoration-color: #808080\"> to </span><span style=\"color: #808080; text-decoration-color: #808080; text-decoration: underline\">https://peps.python.org/pep-0008/</span><span style=\"color: #808080; text-decoration-color: #808080\"> </span>\n",
       "</pre>\n"
      ],
      "text/plain": [
       "\u001b[1;90m[\u001b[0m\u001b[90mURL_SEED\u001b[0m\u001b[1;90m]\u001b[0m\u001b[90m ℹ Redirecting from \u001b[0m\u001b[4;90mhttps://peps.python.org/pep-0008\u001b[0m\u001b[90m to \u001b[0m\u001b[4;90mhttps://peps.python.org/pep-0008/\u001b[0m\u001b[90m \u001b[0m\n"
      ]
     },
     "metadata": {},
     "output_type": "display_data"
    },
    {
     "data": {
      "text/html": [
       "<pre style=\"white-space:pre;overflow-x:auto;line-height:normal;font-family:Menlo,'DejaVu Sans Mono',consolas,'Courier New',monospace\"><span style=\"color: #808080; text-decoration-color: #808080; font-weight: bold\">[</span><span style=\"color: #808080; text-decoration-color: #808080\">URL_SEED</span><span style=\"color: #808080; text-decoration-color: #808080; font-weight: bold\">]</span><span style=\"color: #808080; text-decoration-color: #808080\"> ℹ Redirecting from </span><span style=\"color: #808080; text-decoration-color: #808080; text-decoration: underline\">https://peps.python.org/pep-0010</span><span style=\"color: #808080; text-decoration-color: #808080\"> to </span><span style=\"color: #808080; text-decoration-color: #808080; text-decoration: underline\">https://peps.python.org/pep-0010/</span><span style=\"color: #808080; text-decoration-color: #808080\"> </span>\n",
       "</pre>\n"
      ],
      "text/plain": [
       "\u001b[1;90m[\u001b[0m\u001b[90mURL_SEED\u001b[0m\u001b[1;90m]\u001b[0m\u001b[90m ℹ Redirecting from \u001b[0m\u001b[4;90mhttps://peps.python.org/pep-0010\u001b[0m\u001b[90m to \u001b[0m\u001b[4;90mhttps://peps.python.org/pep-0010/\u001b[0m\u001b[90m \u001b[0m\n"
      ]
     },
     "metadata": {},
     "output_type": "display_data"
    },
    {
     "data": {
      "text/html": [
       "<pre style=\"white-space:pre;overflow-x:auto;line-height:normal;font-family:Menlo,'DejaVu Sans Mono',consolas,'Courier New',monospace\"><span style=\"color: #008080; text-decoration-color: #008080; font-weight: bold\">[</span><span style=\"color: #008080; text-decoration-color: #008080\">URL_SEED</span><span style=\"color: #008080; text-decoration-color: #008080; font-weight: bold\">]</span><span style=\"color: #008080; text-decoration-color: #008080\"> ℹ HEAD VALID for </span><span style=\"color: #008080; text-decoration-color: #008080; text-decoration: underline\">https://peps.python.org/pep-0007/</span><span style=\"color: #008080; text-decoration-color: #008080\"> </span>\n",
       "</pre>\n"
      ],
      "text/plain": [
       "\u001b[1;36m[\u001b[0m\u001b[36mURL_SEED\u001b[0m\u001b[1;36m]\u001b[0m\u001b[36m ℹ HEAD VALID for \u001b[0m\u001b[4;36mhttps://peps.python.org/pep-0007/\u001b[0m\u001b[36m \u001b[0m\n"
      ]
     },
     "metadata": {},
     "output_type": "display_data"
    },
    {
     "data": {
      "text/html": [
       "<pre style=\"white-space:pre;overflow-x:auto;line-height:normal;font-family:Menlo,'DejaVu Sans Mono',consolas,'Courier New',monospace\"><span style=\"color: #808080; text-decoration-color: #808080; font-weight: bold\">[</span><span style=\"color: #808080; text-decoration-color: #808080\">URL_SEED</span><span style=\"color: #808080; text-decoration-color: #808080; font-weight: bold\">]</span><span style=\"color: #808080; text-decoration-color: #808080\"> ℹ Fetching head for </span><span style=\"color: #808080; text-decoration-color: #808080; text-decoration: underline\">https://peps.python.org/pep-0013</span><span style=\"color: #808080; text-decoration-color: #808080\"> </span>\n",
       "</pre>\n"
      ],
      "text/plain": [
       "\u001b[1;90m[\u001b[0m\u001b[90mURL_SEED\u001b[0m\u001b[1;90m]\u001b[0m\u001b[90m ℹ Fetching head for \u001b[0m\u001b[4;90mhttps://peps.python.org/pep-0013\u001b[0m\u001b[90m \u001b[0m\n"
      ]
     },
     "metadata": {},
     "output_type": "display_data"
    },
    {
     "data": {
      "text/html": [
       "<pre style=\"white-space:pre;overflow-x:auto;line-height:normal;font-family:Menlo,'DejaVu Sans Mono',consolas,'Courier New',monospace\"><span style=\"color: #808080; text-decoration-color: #808080; font-weight: bold\">[</span><span style=\"color: #808080; text-decoration-color: #808080\">URL_SEED</span><span style=\"color: #808080; text-decoration-color: #808080; font-weight: bold\">]</span><span style=\"color: #808080; text-decoration-color: #808080\"> ℹ Redirecting from </span><span style=\"color: #808080; text-decoration-color: #808080; text-decoration: underline\">https://peps.python.org/pep-0012</span><span style=\"color: #808080; text-decoration-color: #808080\"> to </span><span style=\"color: #808080; text-decoration-color: #808080; text-decoration: underline\">https://peps.python.org/pep-0012/</span><span style=\"color: #808080; text-decoration-color: #808080\"> </span>\n",
       "</pre>\n"
      ],
      "text/plain": [
       "\u001b[1;90m[\u001b[0m\u001b[90mURL_SEED\u001b[0m\u001b[1;90m]\u001b[0m\u001b[90m ℹ Redirecting from \u001b[0m\u001b[4;90mhttps://peps.python.org/pep-0012\u001b[0m\u001b[90m to \u001b[0m\u001b[4;90mhttps://peps.python.org/pep-0012/\u001b[0m\u001b[90m \u001b[0m\n"
      ]
     },
     "metadata": {},
     "output_type": "display_data"
    },
    {
     "data": {
      "text/html": [
       "<pre style=\"white-space:pre;overflow-x:auto;line-height:normal;font-family:Menlo,'DejaVu Sans Mono',consolas,'Courier New',monospace\"><span style=\"color: #808080; text-decoration-color: #808080; font-weight: bold\">[</span><span style=\"color: #808080; text-decoration-color: #808080\">URL_SEED</span><span style=\"color: #808080; text-decoration-color: #808080; font-weight: bold\">]</span><span style=\"color: #808080; text-decoration-color: #808080\"> ℹ Redirecting from </span><span style=\"color: #808080; text-decoration-color: #808080; text-decoration: underline\">https://peps.python.org/pep-0011</span><span style=\"color: #808080; text-decoration-color: #808080\"> to </span><span style=\"color: #808080; text-decoration-color: #808080; text-decoration: underline\">https://peps.python.org/pep-0011/</span><span style=\"color: #808080; text-decoration-color: #808080\"> </span>\n",
       "</pre>\n"
      ],
      "text/plain": [
       "\u001b[1;90m[\u001b[0m\u001b[90mURL_SEED\u001b[0m\u001b[1;90m]\u001b[0m\u001b[90m ℹ Redirecting from \u001b[0m\u001b[4;90mhttps://peps.python.org/pep-0011\u001b[0m\u001b[90m to \u001b[0m\u001b[4;90mhttps://peps.python.org/pep-0011/\u001b[0m\u001b[90m \u001b[0m\n"
      ]
     },
     "metadata": {},
     "output_type": "display_data"
    },
    {
     "data": {
      "text/html": [
       "<pre style=\"white-space:pre;overflow-x:auto;line-height:normal;font-family:Menlo,'DejaVu Sans Mono',consolas,'Courier New',monospace\"><span style=\"color: #008080; text-decoration-color: #008080; font-weight: bold\">[</span><span style=\"color: #008080; text-decoration-color: #008080\">URL_SEED</span><span style=\"color: #008080; text-decoration-color: #008080; font-weight: bold\">]</span><span style=\"color: #008080; text-decoration-color: #008080\"> ℹ HEAD VALID for </span><span style=\"color: #008080; text-decoration-color: #008080; text-decoration: underline\">https://peps.python.org/pep-0008/</span><span style=\"color: #008080; text-decoration-color: #008080\"> </span>\n",
       "</pre>\n"
      ],
      "text/plain": [
       "\u001b[1;36m[\u001b[0m\u001b[36mURL_SEED\u001b[0m\u001b[1;36m]\u001b[0m\u001b[36m ℹ HEAD VALID for \u001b[0m\u001b[4;36mhttps://peps.python.org/pep-0008/\u001b[0m\u001b[36m \u001b[0m\n"
      ]
     },
     "metadata": {},
     "output_type": "display_data"
    },
    {
     "data": {
      "text/html": [
       "<pre style=\"white-space:pre;overflow-x:auto;line-height:normal;font-family:Menlo,'DejaVu Sans Mono',consolas,'Courier New',monospace\"><span style=\"color: #808080; text-decoration-color: #808080; font-weight: bold\">[</span><span style=\"color: #808080; text-decoration-color: #808080\">URL_SEED</span><span style=\"color: #808080; text-decoration-color: #808080; font-weight: bold\">]</span><span style=\"color: #808080; text-decoration-color: #808080\"> ℹ Fetching head for </span><span style=\"color: #808080; text-decoration-color: #808080; text-decoration: underline\">https://peps.python.org/pep-0387</span><span style=\"color: #808080; text-decoration-color: #808080\"> </span>\n",
       "</pre>\n"
      ],
      "text/plain": [
       "\u001b[1;90m[\u001b[0m\u001b[90mURL_SEED\u001b[0m\u001b[1;90m]\u001b[0m\u001b[90m ℹ Fetching head for \u001b[0m\u001b[4;90mhttps://peps.python.org/pep-0387\u001b[0m\u001b[90m \u001b[0m\n"
      ]
     },
     "metadata": {},
     "output_type": "display_data"
    },
    {
     "data": {
      "text/html": [
       "<pre style=\"white-space:pre;overflow-x:auto;line-height:normal;font-family:Menlo,'DejaVu Sans Mono',consolas,'Courier New',monospace\"><span style=\"color: #808080; text-decoration-color: #808080; font-weight: bold\">[</span><span style=\"color: #808080; text-decoration-color: #808080\">URL_SEED</span><span style=\"color: #808080; text-decoration-color: #808080; font-weight: bold\">]</span><span style=\"color: #808080; text-decoration-color: #808080\"> ℹ Redirecting from </span><span style=\"color: #808080; text-decoration-color: #808080; text-decoration: underline\">https://peps.python.org/pep-0013</span><span style=\"color: #808080; text-decoration-color: #808080\"> to </span><span style=\"color: #808080; text-decoration-color: #808080; text-decoration: underline\">https://peps.python.org/pep-0013/</span><span style=\"color: #808080; text-decoration-color: #808080\"> </span>\n",
       "</pre>\n"
      ],
      "text/plain": [
       "\u001b[1;90m[\u001b[0m\u001b[90mURL_SEED\u001b[0m\u001b[1;90m]\u001b[0m\u001b[90m ℹ Redirecting from \u001b[0m\u001b[4;90mhttps://peps.python.org/pep-0013\u001b[0m\u001b[90m to \u001b[0m\u001b[4;90mhttps://peps.python.org/pep-0013/\u001b[0m\u001b[90m \u001b[0m\n"
      ]
     },
     "metadata": {},
     "output_type": "display_data"
    },
    {
     "data": {
      "text/html": [
       "<pre style=\"white-space:pre;overflow-x:auto;line-height:normal;font-family:Menlo,'DejaVu Sans Mono',consolas,'Courier New',monospace\"><span style=\"color: #008080; text-decoration-color: #008080; font-weight: bold\">[</span><span style=\"color: #008080; text-decoration-color: #008080\">URL_SEED</span><span style=\"color: #008080; text-decoration-color: #008080; font-weight: bold\">]</span><span style=\"color: #008080; text-decoration-color: #008080\"> ℹ HEAD VALID for </span><span style=\"color: #008080; text-decoration-color: #008080; text-decoration: underline\">https://peps.python.org/pep-0010/</span><span style=\"color: #008080; text-decoration-color: #008080\"> </span>\n",
       "</pre>\n"
      ],
      "text/plain": [
       "\u001b[1;36m[\u001b[0m\u001b[36mURL_SEED\u001b[0m\u001b[1;36m]\u001b[0m\u001b[36m ℹ HEAD VALID for \u001b[0m\u001b[4;36mhttps://peps.python.org/pep-0010/\u001b[0m\u001b[36m \u001b[0m\n"
      ]
     },
     "metadata": {},
     "output_type": "display_data"
    },
    {
     "data": {
      "text/html": [
       "<pre style=\"white-space:pre;overflow-x:auto;line-height:normal;font-family:Menlo,'DejaVu Sans Mono',consolas,'Courier New',monospace\"><span style=\"color: #808080; text-decoration-color: #808080; font-weight: bold\">[</span><span style=\"color: #808080; text-decoration-color: #808080\">URL_SEED</span><span style=\"color: #808080; text-decoration-color: #808080; font-weight: bold\">]</span><span style=\"color: #808080; text-decoration-color: #808080\"> ℹ Fetching head for </span><span style=\"color: #808080; text-decoration-color: #808080; text-decoration: underline\">https://peps.python.org/pep-0545</span><span style=\"color: #808080; text-decoration-color: #808080\"> </span>\n",
       "</pre>\n"
      ],
      "text/plain": [
       "\u001b[1;90m[\u001b[0m\u001b[90mURL_SEED\u001b[0m\u001b[1;90m]\u001b[0m\u001b[90m ℹ Fetching head for \u001b[0m\u001b[4;90mhttps://peps.python.org/pep-0545\u001b[0m\u001b[90m \u001b[0m\n"
      ]
     },
     "metadata": {},
     "output_type": "display_data"
    },
    {
     "data": {
      "text/html": [
       "<pre style=\"white-space:pre;overflow-x:auto;line-height:normal;font-family:Menlo,'DejaVu Sans Mono',consolas,'Courier New',monospace\"><span style=\"color: #008080; text-decoration-color: #008080; font-weight: bold\">[</span><span style=\"color: #008080; text-decoration-color: #008080\">URL_SEED</span><span style=\"color: #008080; text-decoration-color: #008080; font-weight: bold\">]</span><span style=\"color: #008080; text-decoration-color: #008080\"> ℹ HEAD VALID for </span><span style=\"color: #008080; text-decoration-color: #008080; text-decoration: underline\">https://peps.python.org/pep-0011/</span><span style=\"color: #008080; text-decoration-color: #008080\"> </span>\n",
       "</pre>\n"
      ],
      "text/plain": [
       "\u001b[1;36m[\u001b[0m\u001b[36mURL_SEED\u001b[0m\u001b[1;36m]\u001b[0m\u001b[36m ℹ HEAD VALID for \u001b[0m\u001b[4;36mhttps://peps.python.org/pep-0011/\u001b[0m\u001b[36m \u001b[0m\n"
      ]
     },
     "metadata": {},
     "output_type": "display_data"
    },
    {
     "data": {
      "text/html": [
       "<pre style=\"white-space:pre;overflow-x:auto;line-height:normal;font-family:Menlo,'DejaVu Sans Mono',consolas,'Courier New',monospace\"><span style=\"color: #808080; text-decoration-color: #808080; font-weight: bold\">[</span><span style=\"color: #808080; text-decoration-color: #808080\">URL_SEED</span><span style=\"color: #808080; text-decoration-color: #808080; font-weight: bold\">]</span><span style=\"color: #808080; text-decoration-color: #808080\"> ℹ Fetching head for </span><span style=\"color: #808080; text-decoration-color: #808080; text-decoration: underline\">https://peps.python.org/pep-0602</span><span style=\"color: #808080; text-decoration-color: #808080\"> </span>\n",
       "</pre>\n"
      ],
      "text/plain": [
       "\u001b[1;90m[\u001b[0m\u001b[90mURL_SEED\u001b[0m\u001b[1;90m]\u001b[0m\u001b[90m ℹ Fetching head for \u001b[0m\u001b[4;90mhttps://peps.python.org/pep-0602\u001b[0m\u001b[90m \u001b[0m\n"
      ]
     },
     "metadata": {},
     "output_type": "display_data"
    },
    {
     "data": {
      "text/html": [
       "<pre style=\"white-space:pre;overflow-x:auto;line-height:normal;font-family:Menlo,'DejaVu Sans Mono',consolas,'Courier New',monospace\"><span style=\"color: #008080; text-decoration-color: #008080; font-weight: bold\">[</span><span style=\"color: #008080; text-decoration-color: #008080\">URL_SEED</span><span style=\"color: #008080; text-decoration-color: #008080; font-weight: bold\">]</span><span style=\"color: #008080; text-decoration-color: #008080\"> ℹ HEAD VALID for </span><span style=\"color: #008080; text-decoration-color: #008080; text-decoration: underline\">https://peps.python.org/pep-0012/</span><span style=\"color: #008080; text-decoration-color: #008080\"> </span>\n",
       "</pre>\n"
      ],
      "text/plain": [
       "\u001b[1;36m[\u001b[0m\u001b[36mURL_SEED\u001b[0m\u001b[1;36m]\u001b[0m\u001b[36m ℹ HEAD VALID for \u001b[0m\u001b[4;36mhttps://peps.python.org/pep-0012/\u001b[0m\u001b[36m \u001b[0m\n"
      ]
     },
     "metadata": {},
     "output_type": "display_data"
    },
    {
     "data": {
      "text/html": [
       "<pre style=\"white-space:pre;overflow-x:auto;line-height:normal;font-family:Menlo,'DejaVu Sans Mono',consolas,'Courier New',monospace\"><span style=\"color: #808080; text-decoration-color: #808080; font-weight: bold\">[</span><span style=\"color: #808080; text-decoration-color: #808080\">URL_SEED</span><span style=\"color: #808080; text-decoration-color: #808080; font-weight: bold\">]</span><span style=\"color: #808080; text-decoration-color: #808080\"> ℹ Fetching head for </span><span style=\"color: #808080; text-decoration-color: #808080; text-decoration: underline\">https://peps.python.org/pep-0609</span><span style=\"color: #808080; text-decoration-color: #808080\"> </span>\n",
       "</pre>\n"
      ],
      "text/plain": [
       "\u001b[1;90m[\u001b[0m\u001b[90mURL_SEED\u001b[0m\u001b[1;90m]\u001b[0m\u001b[90m ℹ Fetching head for \u001b[0m\u001b[4;90mhttps://peps.python.org/pep-0609\u001b[0m\u001b[90m \u001b[0m\n"
      ]
     },
     "metadata": {},
     "output_type": "display_data"
    },
    {
     "data": {
      "text/html": [
       "<pre style=\"white-space:pre;overflow-x:auto;line-height:normal;font-family:Menlo,'DejaVu Sans Mono',consolas,'Courier New',monospace\"><span style=\"color: #808080; text-decoration-color: #808080; font-weight: bold\">[</span><span style=\"color: #808080; text-decoration-color: #808080\">URL_SEED</span><span style=\"color: #808080; text-decoration-color: #808080; font-weight: bold\">]</span><span style=\"color: #808080; text-decoration-color: #808080\"> ℹ Redirecting from </span><span style=\"color: #808080; text-decoration-color: #808080; text-decoration: underline\">https://peps.python.org/pep-0387</span><span style=\"color: #808080; text-decoration-color: #808080\"> to </span><span style=\"color: #808080; text-decoration-color: #808080; text-decoration: underline\">https://peps.python.org/pep-0387/</span><span style=\"color: #808080; text-decoration-color: #808080\"> </span>\n",
       "</pre>\n"
      ],
      "text/plain": [
       "\u001b[1;90m[\u001b[0m\u001b[90mURL_SEED\u001b[0m\u001b[1;90m]\u001b[0m\u001b[90m ℹ Redirecting from \u001b[0m\u001b[4;90mhttps://peps.python.org/pep-0387\u001b[0m\u001b[90m to \u001b[0m\u001b[4;90mhttps://peps.python.org/pep-0387/\u001b[0m\u001b[90m \u001b[0m\n"
      ]
     },
     "metadata": {},
     "output_type": "display_data"
    },
    {
     "data": {
      "text/html": [
       "<pre style=\"white-space:pre;overflow-x:auto;line-height:normal;font-family:Menlo,'DejaVu Sans Mono',consolas,'Courier New',monospace\"><span style=\"color: #008080; text-decoration-color: #008080; font-weight: bold\">[</span><span style=\"color: #008080; text-decoration-color: #008080\">URL_SEED</span><span style=\"color: #008080; text-decoration-color: #008080; font-weight: bold\">]</span><span style=\"color: #008080; text-decoration-color: #008080\"> ℹ HEAD VALID for </span><span style=\"color: #008080; text-decoration-color: #008080; text-decoration: underline\">https://peps.python.org/pep-0013/</span><span style=\"color: #008080; text-decoration-color: #008080\"> </span>\n",
       "</pre>\n"
      ],
      "text/plain": [
       "\u001b[1;36m[\u001b[0m\u001b[36mURL_SEED\u001b[0m\u001b[1;36m]\u001b[0m\u001b[36m ℹ HEAD VALID for \u001b[0m\u001b[4;36mhttps://peps.python.org/pep-0013/\u001b[0m\u001b[36m \u001b[0m\n"
      ]
     },
     "metadata": {},
     "output_type": "display_data"
    },
    {
     "data": {
      "text/html": [
       "<pre style=\"white-space:pre;overflow-x:auto;line-height:normal;font-family:Menlo,'DejaVu Sans Mono',consolas,'Courier New',monospace\"><span style=\"color: #808080; text-decoration-color: #808080; font-weight: bold\">[</span><span style=\"color: #808080; text-decoration-color: #808080\">URL_SEED</span><span style=\"color: #808080; text-decoration-color: #808080; font-weight: bold\">]</span><span style=\"color: #808080; text-decoration-color: #808080\"> ℹ Fetching head for </span><span style=\"color: #808080; text-decoration-color: #808080; text-decoration: underline\">https://peps.python.org/pep-0676</span><span style=\"color: #808080; text-decoration-color: #808080\"> </span>\n",
       "</pre>\n"
      ],
      "text/plain": [
       "\u001b[1;90m[\u001b[0m\u001b[90mURL_SEED\u001b[0m\u001b[1;90m]\u001b[0m\u001b[90m ℹ Fetching head for \u001b[0m\u001b[4;90mhttps://peps.python.org/pep-0676\u001b[0m\u001b[90m \u001b[0m\n"
      ]
     },
     "metadata": {},
     "output_type": "display_data"
    },
    {
     "data": {
      "text/html": [
       "<pre style=\"white-space:pre;overflow-x:auto;line-height:normal;font-family:Menlo,'DejaVu Sans Mono',consolas,'Courier New',monospace\"><span style=\"color: #808080; text-decoration-color: #808080; font-weight: bold\">[</span><span style=\"color: #808080; text-decoration-color: #808080\">URL_SEED</span><span style=\"color: #808080; text-decoration-color: #808080; font-weight: bold\">]</span><span style=\"color: #808080; text-decoration-color: #808080\"> ℹ Redirecting from </span><span style=\"color: #808080; text-decoration-color: #808080; text-decoration: underline\">https://peps.python.org/pep-0545</span><span style=\"color: #808080; text-decoration-color: #808080\"> to </span><span style=\"color: #808080; text-decoration-color: #808080; text-decoration: underline\">https://peps.python.org/pep-0545/</span><span style=\"color: #808080; text-decoration-color: #808080\"> </span>\n",
       "</pre>\n"
      ],
      "text/plain": [
       "\u001b[1;90m[\u001b[0m\u001b[90mURL_SEED\u001b[0m\u001b[1;90m]\u001b[0m\u001b[90m ℹ Redirecting from \u001b[0m\u001b[4;90mhttps://peps.python.org/pep-0545\u001b[0m\u001b[90m to \u001b[0m\u001b[4;90mhttps://peps.python.org/pep-0545/\u001b[0m\u001b[90m \u001b[0m\n"
      ]
     },
     "metadata": {},
     "output_type": "display_data"
    },
    {
     "data": {
      "text/html": [
       "<pre style=\"white-space:pre;overflow-x:auto;line-height:normal;font-family:Menlo,'DejaVu Sans Mono',consolas,'Courier New',monospace\"><span style=\"color: #808080; text-decoration-color: #808080; font-weight: bold\">[</span><span style=\"color: #808080; text-decoration-color: #808080\">URL_SEED</span><span style=\"color: #808080; text-decoration-color: #808080; font-weight: bold\">]</span><span style=\"color: #808080; text-decoration-color: #808080\"> ℹ Redirecting from </span><span style=\"color: #808080; text-decoration-color: #808080; text-decoration: underline\">https://peps.python.org/pep-0602</span><span style=\"color: #808080; text-decoration-color: #808080\"> to </span><span style=\"color: #808080; text-decoration-color: #808080; text-decoration: underline\">https://peps.python.org/pep-0602/</span><span style=\"color: #808080; text-decoration-color: #808080\"> </span>\n",
       "</pre>\n"
      ],
      "text/plain": [
       "\u001b[1;90m[\u001b[0m\u001b[90mURL_SEED\u001b[0m\u001b[1;90m]\u001b[0m\u001b[90m ℹ Redirecting from \u001b[0m\u001b[4;90mhttps://peps.python.org/pep-0602\u001b[0m\u001b[90m to \u001b[0m\u001b[4;90mhttps://peps.python.org/pep-0602/\u001b[0m\u001b[90m \u001b[0m\n"
      ]
     },
     "metadata": {},
     "output_type": "display_data"
    },
    {
     "data": {
      "text/html": [
       "<pre style=\"white-space:pre;overflow-x:auto;line-height:normal;font-family:Menlo,'DejaVu Sans Mono',consolas,'Courier New',monospace\"><span style=\"color: #808080; text-decoration-color: #808080; font-weight: bold\">[</span><span style=\"color: #808080; text-decoration-color: #808080\">URL_SEED</span><span style=\"color: #808080; text-decoration-color: #808080; font-weight: bold\">]</span><span style=\"color: #808080; text-decoration-color: #808080\"> ℹ Redirecting from </span><span style=\"color: #808080; text-decoration-color: #808080; text-decoration: underline\">https://peps.python.org/pep-0609</span><span style=\"color: #808080; text-decoration-color: #808080\"> to </span><span style=\"color: #808080; text-decoration-color: #808080; text-decoration: underline\">https://peps.python.org/pep-0609/</span><span style=\"color: #808080; text-decoration-color: #808080\"> </span>\n",
       "</pre>\n"
      ],
      "text/plain": [
       "\u001b[1;90m[\u001b[0m\u001b[90mURL_SEED\u001b[0m\u001b[1;90m]\u001b[0m\u001b[90m ℹ Redirecting from \u001b[0m\u001b[4;90mhttps://peps.python.org/pep-0609\u001b[0m\u001b[90m to \u001b[0m\u001b[4;90mhttps://peps.python.org/pep-0609/\u001b[0m\u001b[90m \u001b[0m\n"
      ]
     },
     "metadata": {},
     "output_type": "display_data"
    },
    {
     "data": {
      "text/html": [
       "<pre style=\"white-space:pre;overflow-x:auto;line-height:normal;font-family:Menlo,'DejaVu Sans Mono',consolas,'Courier New',monospace\"><span style=\"color: #008080; text-decoration-color: #008080; font-weight: bold\">[</span><span style=\"color: #008080; text-decoration-color: #008080\">URL_SEED</span><span style=\"color: #008080; text-decoration-color: #008080; font-weight: bold\">]</span><span style=\"color: #008080; text-decoration-color: #008080\"> ℹ HEAD VALID for </span><span style=\"color: #008080; text-decoration-color: #008080; text-decoration: underline\">https://peps.python.org/pep-0387/</span><span style=\"color: #008080; text-decoration-color: #008080\"> </span>\n",
       "</pre>\n"
      ],
      "text/plain": [
       "\u001b[1;36m[\u001b[0m\u001b[36mURL_SEED\u001b[0m\u001b[1;36m]\u001b[0m\u001b[36m ℹ HEAD VALID for \u001b[0m\u001b[4;36mhttps://peps.python.org/pep-0387/\u001b[0m\u001b[36m \u001b[0m\n"
      ]
     },
     "metadata": {},
     "output_type": "display_data"
    },
    {
     "data": {
      "text/html": [
       "<pre style=\"white-space:pre;overflow-x:auto;line-height:normal;font-family:Menlo,'DejaVu Sans Mono',consolas,'Courier New',monospace\"><span style=\"color: #808080; text-decoration-color: #808080; font-weight: bold\">[</span><span style=\"color: #808080; text-decoration-color: #808080\">URL_SEED</span><span style=\"color: #808080; text-decoration-color: #808080; font-weight: bold\">]</span><span style=\"color: #808080; text-decoration-color: #808080\"> ℹ Redirecting from </span><span style=\"color: #808080; text-decoration-color: #808080; text-decoration: underline\">https://peps.python.org/pep-0676</span><span style=\"color: #808080; text-decoration-color: #808080\"> to </span><span style=\"color: #808080; text-decoration-color: #808080; text-decoration: underline\">https://peps.python.org/pep-0676/</span><span style=\"color: #808080; text-decoration-color: #808080\"> </span>\n",
       "</pre>\n"
      ],
      "text/plain": [
       "\u001b[1;90m[\u001b[0m\u001b[90mURL_SEED\u001b[0m\u001b[1;90m]\u001b[0m\u001b[90m ℹ Redirecting from \u001b[0m\u001b[4;90mhttps://peps.python.org/pep-0676\u001b[0m\u001b[90m to \u001b[0m\u001b[4;90mhttps://peps.python.org/pep-0676/\u001b[0m\u001b[90m \u001b[0m\n"
      ]
     },
     "metadata": {},
     "output_type": "display_data"
    },
    {
     "data": {
      "text/html": [
       "<pre style=\"white-space:pre;overflow-x:auto;line-height:normal;font-family:Menlo,'DejaVu Sans Mono',consolas,'Courier New',monospace\"><span style=\"color: #808080; text-decoration-color: #808080; font-weight: bold\">[</span><span style=\"color: #808080; text-decoration-color: #808080\">URL_SEED</span><span style=\"color: #808080; text-decoration-color: #808080; font-weight: bold\">]</span><span style=\"color: #808080; text-decoration-color: #808080\"> ℹ Fetching head for </span><span style=\"color: #808080; text-decoration-color: #808080; text-decoration: underline\">https://peps.python.org/pep-0729</span><span style=\"color: #808080; text-decoration-color: #808080\"> </span>\n",
       "</pre>\n"
      ],
      "text/plain": [
       "\u001b[1;90m[\u001b[0m\u001b[90mURL_SEED\u001b[0m\u001b[1;90m]\u001b[0m\u001b[90m ℹ Fetching head for \u001b[0m\u001b[4;90mhttps://peps.python.org/pep-0729\u001b[0m\u001b[90m \u001b[0m\n"
      ]
     },
     "metadata": {},
     "output_type": "display_data"
    },
    {
     "data": {
      "text/html": [
       "<pre style=\"white-space:pre;overflow-x:auto;line-height:normal;font-family:Menlo,'DejaVu Sans Mono',consolas,'Courier New',monospace\"><span style=\"color: #008080; text-decoration-color: #008080; font-weight: bold\">[</span><span style=\"color: #008080; text-decoration-color: #008080\">URL_SEED</span><span style=\"color: #008080; text-decoration-color: #008080; font-weight: bold\">]</span><span style=\"color: #008080; text-decoration-color: #008080\"> ℹ HEAD VALID for </span><span style=\"color: #008080; text-decoration-color: #008080; text-decoration: underline\">https://peps.python.org/pep-0545/</span><span style=\"color: #008080; text-decoration-color: #008080\"> </span>\n",
       "</pre>\n"
      ],
      "text/plain": [
       "\u001b[1;36m[\u001b[0m\u001b[36mURL_SEED\u001b[0m\u001b[1;36m]\u001b[0m\u001b[36m ℹ HEAD VALID for \u001b[0m\u001b[4;36mhttps://peps.python.org/pep-0545/\u001b[0m\u001b[36m \u001b[0m\n"
      ]
     },
     "metadata": {},
     "output_type": "display_data"
    },
    {
     "data": {
      "text/html": [
       "<pre style=\"white-space:pre;overflow-x:auto;line-height:normal;font-family:Menlo,'DejaVu Sans Mono',consolas,'Courier New',monospace\"><span style=\"color: #808080; text-decoration-color: #808080; font-weight: bold\">[</span><span style=\"color: #808080; text-decoration-color: #808080\">URL_SEED</span><span style=\"color: #808080; text-decoration-color: #808080; font-weight: bold\">]</span><span style=\"color: #808080; text-decoration-color: #808080\"> ℹ Fetching head for </span><span style=\"color: #808080; text-decoration-color: #808080; text-decoration: underline\">https://peps.python.org/pep-0731</span><span style=\"color: #808080; text-decoration-color: #808080\"> </span>\n",
       "</pre>\n"
      ],
      "text/plain": [
       "\u001b[1;90m[\u001b[0m\u001b[90mURL_SEED\u001b[0m\u001b[1;90m]\u001b[0m\u001b[90m ℹ Fetching head for \u001b[0m\u001b[4;90mhttps://peps.python.org/pep-0731\u001b[0m\u001b[90m \u001b[0m\n"
      ]
     },
     "metadata": {},
     "output_type": "display_data"
    },
    {
     "data": {
      "text/html": [
       "<pre style=\"white-space:pre;overflow-x:auto;line-height:normal;font-family:Menlo,'DejaVu Sans Mono',consolas,'Courier New',monospace\"><span style=\"color: #008080; text-decoration-color: #008080; font-weight: bold\">[</span><span style=\"color: #008080; text-decoration-color: #008080\">URL_SEED</span><span style=\"color: #008080; text-decoration-color: #008080; font-weight: bold\">]</span><span style=\"color: #008080; text-decoration-color: #008080\"> ℹ HEAD VALID for </span><span style=\"color: #008080; text-decoration-color: #008080; text-decoration: underline\">https://peps.python.org/pep-0602/</span><span style=\"color: #008080; text-decoration-color: #008080\"> </span>\n",
       "</pre>\n"
      ],
      "text/plain": [
       "\u001b[1;36m[\u001b[0m\u001b[36mURL_SEED\u001b[0m\u001b[1;36m]\u001b[0m\u001b[36m ℹ HEAD VALID for \u001b[0m\u001b[4;36mhttps://peps.python.org/pep-0602/\u001b[0m\u001b[36m \u001b[0m\n"
      ]
     },
     "metadata": {},
     "output_type": "display_data"
    },
    {
     "data": {
      "text/html": [
       "<pre style=\"white-space:pre;overflow-x:auto;line-height:normal;font-family:Menlo,'DejaVu Sans Mono',consolas,'Courier New',monospace\"><span style=\"color: #008080; text-decoration-color: #008080; font-weight: bold\">[</span><span style=\"color: #008080; text-decoration-color: #008080\">URL_SEED</span><span style=\"color: #008080; text-decoration-color: #008080; font-weight: bold\">]</span><span style=\"color: #008080; text-decoration-color: #008080\"> ℹ HEAD VALID for </span><span style=\"color: #008080; text-decoration-color: #008080; text-decoration: underline\">https://peps.python.org/pep-0609/</span><span style=\"color: #008080; text-decoration-color: #008080\"> </span>\n",
       "</pre>\n"
      ],
      "text/plain": [
       "\u001b[1;36m[\u001b[0m\u001b[36mURL_SEED\u001b[0m\u001b[1;36m]\u001b[0m\u001b[36m ℹ HEAD VALID for \u001b[0m\u001b[4;36mhttps://peps.python.org/pep-0609/\u001b[0m\u001b[36m \u001b[0m\n"
      ]
     },
     "metadata": {},
     "output_type": "display_data"
    },
    {
     "data": {
      "text/html": [
       "<pre style=\"white-space:pre;overflow-x:auto;line-height:normal;font-family:Menlo,'DejaVu Sans Mono',consolas,'Courier New',monospace\"><span style=\"color: #808080; text-decoration-color: #808080; font-weight: bold\">[</span><span style=\"color: #808080; text-decoration-color: #808080\">URL_SEED</span><span style=\"color: #808080; text-decoration-color: #808080; font-weight: bold\">]</span><span style=\"color: #808080; text-decoration-color: #808080\"> ℹ Fetching head for </span><span style=\"color: #808080; text-decoration-color: #808080; text-decoration: underline\">https://peps.python.org/pep-0732</span><span style=\"color: #808080; text-decoration-color: #808080\"> </span>\n",
       "</pre>\n"
      ],
      "text/plain": [
       "\u001b[1;90m[\u001b[0m\u001b[90mURL_SEED\u001b[0m\u001b[1;90m]\u001b[0m\u001b[90m ℹ Fetching head for \u001b[0m\u001b[4;90mhttps://peps.python.org/pep-0732\u001b[0m\u001b[90m \u001b[0m\n"
      ]
     },
     "metadata": {},
     "output_type": "display_data"
    },
    {
     "data": {
      "text/html": [
       "<pre style=\"white-space:pre;overflow-x:auto;line-height:normal;font-family:Menlo,'DejaVu Sans Mono',consolas,'Courier New',monospace\"><span style=\"color: #808080; text-decoration-color: #808080; font-weight: bold\">[</span><span style=\"color: #808080; text-decoration-color: #808080\">URL_SEED</span><span style=\"color: #808080; text-decoration-color: #808080; font-weight: bold\">]</span><span style=\"color: #808080; text-decoration-color: #808080\"> ℹ Fetching head for </span><span style=\"color: #808080; text-decoration-color: #808080; text-decoration: underline\">https://peps.python.org/pep-0761</span><span style=\"color: #808080; text-decoration-color: #808080\"> </span>\n",
       "</pre>\n"
      ],
      "text/plain": [
       "\u001b[1;90m[\u001b[0m\u001b[90mURL_SEED\u001b[0m\u001b[1;90m]\u001b[0m\u001b[90m ℹ Fetching head for \u001b[0m\u001b[4;90mhttps://peps.python.org/pep-0761\u001b[0m\u001b[90m \u001b[0m\n"
      ]
     },
     "metadata": {},
     "output_type": "display_data"
    },
    {
     "data": {
      "text/html": [
       "<pre style=\"white-space:pre;overflow-x:auto;line-height:normal;font-family:Menlo,'DejaVu Sans Mono',consolas,'Courier New',monospace\"><span style=\"color: #008080; text-decoration-color: #008080; font-weight: bold\">[</span><span style=\"color: #008080; text-decoration-color: #008080\">URL_SEED</span><span style=\"color: #008080; text-decoration-color: #008080; font-weight: bold\">]</span><span style=\"color: #008080; text-decoration-color: #008080\"> ℹ HEAD VALID for </span><span style=\"color: #008080; text-decoration-color: #008080; text-decoration: underline\">https://peps.python.org/pep-0676/</span><span style=\"color: #008080; text-decoration-color: #008080\"> </span>\n",
       "</pre>\n"
      ],
      "text/plain": [
       "\u001b[1;36m[\u001b[0m\u001b[36mURL_SEED\u001b[0m\u001b[1;36m]\u001b[0m\u001b[36m ℹ HEAD VALID for \u001b[0m\u001b[4;36mhttps://peps.python.org/pep-0676/\u001b[0m\u001b[36m \u001b[0m\n"
      ]
     },
     "metadata": {},
     "output_type": "display_data"
    },
    {
     "data": {
      "text/html": [
       "<pre style=\"white-space:pre;overflow-x:auto;line-height:normal;font-family:Menlo,'DejaVu Sans Mono',consolas,'Courier New',monospace\"><span style=\"color: #808080; text-decoration-color: #808080; font-weight: bold\">[</span><span style=\"color: #808080; text-decoration-color: #808080\">URL_SEED</span><span style=\"color: #808080; text-decoration-color: #808080; font-weight: bold\">]</span><span style=\"color: #808080; text-decoration-color: #808080\"> ℹ Redirecting from </span><span style=\"color: #808080; text-decoration-color: #808080; text-decoration: underline\">https://peps.python.org/pep-0729</span><span style=\"color: #808080; text-decoration-color: #808080\"> to </span><span style=\"color: #808080; text-decoration-color: #808080; text-decoration: underline\">https://peps.python.org/pep-0729/</span><span style=\"color: #808080; text-decoration-color: #808080\"> </span>\n",
       "</pre>\n"
      ],
      "text/plain": [
       "\u001b[1;90m[\u001b[0m\u001b[90mURL_SEED\u001b[0m\u001b[1;90m]\u001b[0m\u001b[90m ℹ Redirecting from \u001b[0m\u001b[4;90mhttps://peps.python.org/pep-0729\u001b[0m\u001b[90m to \u001b[0m\u001b[4;90mhttps://peps.python.org/pep-0729/\u001b[0m\u001b[90m \u001b[0m\n"
      ]
     },
     "metadata": {},
     "output_type": "display_data"
    },
    {
     "data": {
      "text/html": [
       "<pre style=\"white-space:pre;overflow-x:auto;line-height:normal;font-family:Menlo,'DejaVu Sans Mono',consolas,'Courier New',monospace\"><span style=\"color: #808080; text-decoration-color: #808080; font-weight: bold\">[</span><span style=\"color: #808080; text-decoration-color: #808080\">URL_SEED</span><span style=\"color: #808080; text-decoration-color: #808080; font-weight: bold\">]</span><span style=\"color: #808080; text-decoration-color: #808080\"> ℹ Fetching head for </span><span style=\"color: #808080; text-decoration-color: #808080; text-decoration: underline\">https://peps.python.org/pep-0020</span><span style=\"color: #808080; text-decoration-color: #808080\"> </span>\n",
       "</pre>\n"
      ],
      "text/plain": [
       "\u001b[1;90m[\u001b[0m\u001b[90mURL_SEED\u001b[0m\u001b[1;90m]\u001b[0m\u001b[90m ℹ Fetching head for \u001b[0m\u001b[4;90mhttps://peps.python.org/pep-0020\u001b[0m\u001b[90m \u001b[0m\n"
      ]
     },
     "metadata": {},
     "output_type": "display_data"
    },
    {
     "data": {
      "text/html": [
       "<pre style=\"white-space:pre;overflow-x:auto;line-height:normal;font-family:Menlo,'DejaVu Sans Mono',consolas,'Courier New',monospace\"><span style=\"color: #808080; text-decoration-color: #808080; font-weight: bold\">[</span><span style=\"color: #808080; text-decoration-color: #808080\">URL_SEED</span><span style=\"color: #808080; text-decoration-color: #808080; font-weight: bold\">]</span><span style=\"color: #808080; text-decoration-color: #808080\"> ℹ Redirecting from </span><span style=\"color: #808080; text-decoration-color: #808080; text-decoration: underline\">https://peps.python.org/pep-0731</span><span style=\"color: #808080; text-decoration-color: #808080\"> to </span><span style=\"color: #808080; text-decoration-color: #808080; text-decoration: underline\">https://peps.python.org/pep-0731/</span><span style=\"color: #808080; text-decoration-color: #808080\"> </span>\n",
       "</pre>\n"
      ],
      "text/plain": [
       "\u001b[1;90m[\u001b[0m\u001b[90mURL_SEED\u001b[0m\u001b[1;90m]\u001b[0m\u001b[90m ℹ Redirecting from \u001b[0m\u001b[4;90mhttps://peps.python.org/pep-0731\u001b[0m\u001b[90m to \u001b[0m\u001b[4;90mhttps://peps.python.org/pep-0731/\u001b[0m\u001b[90m \u001b[0m\n"
      ]
     },
     "metadata": {},
     "output_type": "display_data"
    },
    {
     "data": {
      "text/html": [
       "<pre style=\"white-space:pre;overflow-x:auto;line-height:normal;font-family:Menlo,'DejaVu Sans Mono',consolas,'Courier New',monospace\"><span style=\"color: #808080; text-decoration-color: #808080; font-weight: bold\">[</span><span style=\"color: #808080; text-decoration-color: #808080\">URL_SEED</span><span style=\"color: #808080; text-decoration-color: #808080; font-weight: bold\">]</span><span style=\"color: #808080; text-decoration-color: #808080\"> ℹ Redirecting from </span><span style=\"color: #808080; text-decoration-color: #808080; text-decoration: underline\">https://peps.python.org/pep-0732</span><span style=\"color: #808080; text-decoration-color: #808080\"> to </span><span style=\"color: #808080; text-decoration-color: #808080; text-decoration: underline\">https://peps.python.org/pep-0732/</span><span style=\"color: #808080; text-decoration-color: #808080\"> </span>\n",
       "</pre>\n"
      ],
      "text/plain": [
       "\u001b[1;90m[\u001b[0m\u001b[90mURL_SEED\u001b[0m\u001b[1;90m]\u001b[0m\u001b[90m ℹ Redirecting from \u001b[0m\u001b[4;90mhttps://peps.python.org/pep-0732\u001b[0m\u001b[90m to \u001b[0m\u001b[4;90mhttps://peps.python.org/pep-0732/\u001b[0m\u001b[90m \u001b[0m\n"
      ]
     },
     "metadata": {},
     "output_type": "display_data"
    },
    {
     "data": {
      "text/html": [
       "<pre style=\"white-space:pre;overflow-x:auto;line-height:normal;font-family:Menlo,'DejaVu Sans Mono',consolas,'Courier New',monospace\"><span style=\"color: #808080; text-decoration-color: #808080; font-weight: bold\">[</span><span style=\"color: #808080; text-decoration-color: #808080\">URL_SEED</span><span style=\"color: #808080; text-decoration-color: #808080; font-weight: bold\">]</span><span style=\"color: #808080; text-decoration-color: #808080\"> ℹ Redirecting from </span><span style=\"color: #808080; text-decoration-color: #808080; text-decoration: underline\">https://peps.python.org/pep-0020</span><span style=\"color: #808080; text-decoration-color: #808080\"> to </span><span style=\"color: #808080; text-decoration-color: #808080; text-decoration: underline\">https://peps.python.org/pep-0020/</span><span style=\"color: #808080; text-decoration-color: #808080\"> </span>\n",
       "</pre>\n"
      ],
      "text/plain": [
       "\u001b[1;90m[\u001b[0m\u001b[90mURL_SEED\u001b[0m\u001b[1;90m]\u001b[0m\u001b[90m ℹ Redirecting from \u001b[0m\u001b[4;90mhttps://peps.python.org/pep-0020\u001b[0m\u001b[90m to \u001b[0m\u001b[4;90mhttps://peps.python.org/pep-0020/\u001b[0m\u001b[90m \u001b[0m\n"
      ]
     },
     "metadata": {},
     "output_type": "display_data"
    },
    {
     "data": {
      "text/html": [
       "<pre style=\"white-space:pre;overflow-x:auto;line-height:normal;font-family:Menlo,'DejaVu Sans Mono',consolas,'Courier New',monospace\"><span style=\"color: #008080; text-decoration-color: #008080; font-weight: bold\">[</span><span style=\"color: #008080; text-decoration-color: #008080\">URL_SEED</span><span style=\"color: #008080; text-decoration-color: #008080; font-weight: bold\">]</span><span style=\"color: #008080; text-decoration-color: #008080\"> ℹ HEAD VALID for </span><span style=\"color: #008080; text-decoration-color: #008080; text-decoration: underline\">https://peps.python.org/pep-0729/</span><span style=\"color: #008080; text-decoration-color: #008080\"> </span>\n",
       "</pre>\n"
      ],
      "text/plain": [
       "\u001b[1;36m[\u001b[0m\u001b[36mURL_SEED\u001b[0m\u001b[1;36m]\u001b[0m\u001b[36m ℹ HEAD VALID for \u001b[0m\u001b[4;36mhttps://peps.python.org/pep-0729/\u001b[0m\u001b[36m \u001b[0m\n"
      ]
     },
     "metadata": {},
     "output_type": "display_data"
    },
    {
     "data": {
      "text/html": [
       "<pre style=\"white-space:pre;overflow-x:auto;line-height:normal;font-family:Menlo,'DejaVu Sans Mono',consolas,'Courier New',monospace\"><span style=\"color: #008080; text-decoration-color: #008080; font-weight: bold\">[</span><span style=\"color: #008080; text-decoration-color: #008080\">URL_SEED</span><span style=\"color: #008080; text-decoration-color: #008080; font-weight: bold\">]</span><span style=\"color: #008080; text-decoration-color: #008080\"> ℹ HEAD VALID for </span><span style=\"color: #008080; text-decoration-color: #008080; text-decoration: underline\">https://peps.python.org/pep-0731/</span><span style=\"color: #008080; text-decoration-color: #008080\"> </span>\n",
       "</pre>\n"
      ],
      "text/plain": [
       "\u001b[1;36m[\u001b[0m\u001b[36mURL_SEED\u001b[0m\u001b[1;36m]\u001b[0m\u001b[36m ℹ HEAD VALID for \u001b[0m\u001b[4;36mhttps://peps.python.org/pep-0731/\u001b[0m\u001b[36m \u001b[0m\n"
      ]
     },
     "metadata": {},
     "output_type": "display_data"
    },
    {
     "data": {
      "text/html": [
       "<pre style=\"white-space:pre;overflow-x:auto;line-height:normal;font-family:Menlo,'DejaVu Sans Mono',consolas,'Courier New',monospace\"><span style=\"color: #808080; text-decoration-color: #808080; font-weight: bold\">[</span><span style=\"color: #808080; text-decoration-color: #808080\">URL_SEED</span><span style=\"color: #808080; text-decoration-color: #808080; font-weight: bold\">]</span><span style=\"color: #808080; text-decoration-color: #808080\"> ℹ Fetching head for </span><span style=\"color: #808080; text-decoration-color: #808080; text-decoration: underline\">https://peps.python.org/pep-0101</span><span style=\"color: #808080; text-decoration-color: #808080\"> </span>\n",
       "</pre>\n"
      ],
      "text/plain": [
       "\u001b[1;90m[\u001b[0m\u001b[90mURL_SEED\u001b[0m\u001b[1;90m]\u001b[0m\u001b[90m ℹ Fetching head for \u001b[0m\u001b[4;90mhttps://peps.python.org/pep-0101\u001b[0m\u001b[90m \u001b[0m\n"
      ]
     },
     "metadata": {},
     "output_type": "display_data"
    },
    {
     "data": {
      "text/html": [
       "<pre style=\"white-space:pre;overflow-x:auto;line-height:normal;font-family:Menlo,'DejaVu Sans Mono',consolas,'Courier New',monospace\"><span style=\"color: #808080; text-decoration-color: #808080; font-weight: bold\">[</span><span style=\"color: #808080; text-decoration-color: #808080\">URL_SEED</span><span style=\"color: #808080; text-decoration-color: #808080; font-weight: bold\">]</span><span style=\"color: #808080; text-decoration-color: #808080\"> ℹ Fetching head for </span><span style=\"color: #808080; text-decoration-color: #808080; text-decoration: underline\">https://peps.python.org/pep-0247</span><span style=\"color: #808080; text-decoration-color: #808080\"> </span>\n",
       "</pre>\n"
      ],
      "text/plain": [
       "\u001b[1;90m[\u001b[0m\u001b[90mURL_SEED\u001b[0m\u001b[1;90m]\u001b[0m\u001b[90m ℹ Fetching head for \u001b[0m\u001b[4;90mhttps://peps.python.org/pep-0247\u001b[0m\u001b[90m \u001b[0m\n"
      ]
     },
     "metadata": {},
     "output_type": "display_data"
    },
    {
     "data": {
      "text/html": [
       "<pre style=\"white-space:pre;overflow-x:auto;line-height:normal;font-family:Menlo,'DejaVu Sans Mono',consolas,'Courier New',monospace\"><span style=\"color: #808080; text-decoration-color: #808080; font-weight: bold\">[</span><span style=\"color: #808080; text-decoration-color: #808080\">URL_SEED</span><span style=\"color: #808080; text-decoration-color: #808080; font-weight: bold\">]</span><span style=\"color: #808080; text-decoration-color: #808080\"> ℹ Redirecting from </span><span style=\"color: #808080; text-decoration-color: #808080; text-decoration: underline\">https://peps.python.org/pep-0761</span><span style=\"color: #808080; text-decoration-color: #808080\"> to </span><span style=\"color: #808080; text-decoration-color: #808080; text-decoration: underline\">https://peps.python.org/pep-0761/</span><span style=\"color: #808080; text-decoration-color: #808080\"> </span>\n",
       "</pre>\n"
      ],
      "text/plain": [
       "\u001b[1;90m[\u001b[0m\u001b[90mURL_SEED\u001b[0m\u001b[1;90m]\u001b[0m\u001b[90m ℹ Redirecting from \u001b[0m\u001b[4;90mhttps://peps.python.org/pep-0761\u001b[0m\u001b[90m to \u001b[0m\u001b[4;90mhttps://peps.python.org/pep-0761/\u001b[0m\u001b[90m \u001b[0m\n"
      ]
     },
     "metadata": {},
     "output_type": "display_data"
    },
    {
     "data": {
      "text/html": [
       "<pre style=\"white-space:pre;overflow-x:auto;line-height:normal;font-family:Menlo,'DejaVu Sans Mono',consolas,'Courier New',monospace\"><span style=\"color: #808080; text-decoration-color: #808080; font-weight: bold\">[</span><span style=\"color: #808080; text-decoration-color: #808080\">URL_SEED</span><span style=\"color: #808080; text-decoration-color: #808080; font-weight: bold\">]</span><span style=\"color: #808080; text-decoration-color: #808080\"> ℹ Redirecting from </span><span style=\"color: #808080; text-decoration-color: #808080; text-decoration: underline\">https://peps.python.org/pep-0101</span><span style=\"color: #808080; text-decoration-color: #808080\"> to </span><span style=\"color: #808080; text-decoration-color: #808080; text-decoration: underline\">https://peps.python.org/pep-0101/</span><span style=\"color: #808080; text-decoration-color: #808080\"> </span>\n",
       "</pre>\n"
      ],
      "text/plain": [
       "\u001b[1;90m[\u001b[0m\u001b[90mURL_SEED\u001b[0m\u001b[1;90m]\u001b[0m\u001b[90m ℹ Redirecting from \u001b[0m\u001b[4;90mhttps://peps.python.org/pep-0101\u001b[0m\u001b[90m to \u001b[0m\u001b[4;90mhttps://peps.python.org/pep-0101/\u001b[0m\u001b[90m \u001b[0m\n"
      ]
     },
     "metadata": {},
     "output_type": "display_data"
    },
    {
     "data": {
      "text/html": [
       "<pre style=\"white-space:pre;overflow-x:auto;line-height:normal;font-family:Menlo,'DejaVu Sans Mono',consolas,'Courier New',monospace\"><span style=\"color: #008080; text-decoration-color: #008080; font-weight: bold\">[</span><span style=\"color: #008080; text-decoration-color: #008080\">URL_SEED</span><span style=\"color: #008080; text-decoration-color: #008080; font-weight: bold\">]</span><span style=\"color: #008080; text-decoration-color: #008080\"> ℹ HEAD VALID for </span><span style=\"color: #008080; text-decoration-color: #008080; text-decoration: underline\">https://peps.python.org/pep-0732/</span><span style=\"color: #008080; text-decoration-color: #008080\"> </span>\n",
       "</pre>\n"
      ],
      "text/plain": [
       "\u001b[1;36m[\u001b[0m\u001b[36mURL_SEED\u001b[0m\u001b[1;36m]\u001b[0m\u001b[36m ℹ HEAD VALID for \u001b[0m\u001b[4;36mhttps://peps.python.org/pep-0732/\u001b[0m\u001b[36m \u001b[0m\n"
      ]
     },
     "metadata": {},
     "output_type": "display_data"
    },
    {
     "data": {
      "text/html": [
       "<pre style=\"white-space:pre;overflow-x:auto;line-height:normal;font-family:Menlo,'DejaVu Sans Mono',consolas,'Courier New',monospace\"><span style=\"color: #808080; text-decoration-color: #808080; font-weight: bold\">[</span><span style=\"color: #808080; text-decoration-color: #808080\">URL_SEED</span><span style=\"color: #808080; text-decoration-color: #808080; font-weight: bold\">]</span><span style=\"color: #808080; text-decoration-color: #808080\"> ℹ Fetching head for </span><span style=\"color: #808080; text-decoration-color: #808080; text-decoration: underline\">https://peps.python.org/pep-0248</span><span style=\"color: #808080; text-decoration-color: #808080\"> </span>\n",
       "</pre>\n"
      ],
      "text/plain": [
       "\u001b[1;90m[\u001b[0m\u001b[90mURL_SEED\u001b[0m\u001b[1;90m]\u001b[0m\u001b[90m ℹ Fetching head for \u001b[0m\u001b[4;90mhttps://peps.python.org/pep-0248\u001b[0m\u001b[90m \u001b[0m\n"
      ]
     },
     "metadata": {},
     "output_type": "display_data"
    },
    {
     "data": {
      "text/html": [
       "<pre style=\"white-space:pre;overflow-x:auto;line-height:normal;font-family:Menlo,'DejaVu Sans Mono',consolas,'Courier New',monospace\"><span style=\"color: #808080; text-decoration-color: #808080; font-weight: bold\">[</span><span style=\"color: #808080; text-decoration-color: #808080\">URL_SEED</span><span style=\"color: #808080; text-decoration-color: #808080; font-weight: bold\">]</span><span style=\"color: #808080; text-decoration-color: #808080\"> ℹ Redirecting from </span><span style=\"color: #808080; text-decoration-color: #808080; text-decoration: underline\">https://peps.python.org/pep-0247</span><span style=\"color: #808080; text-decoration-color: #808080\"> to </span><span style=\"color: #808080; text-decoration-color: #808080; text-decoration: underline\">https://peps.python.org/pep-0247/</span><span style=\"color: #808080; text-decoration-color: #808080\"> </span>\n",
       "</pre>\n"
      ],
      "text/plain": [
       "\u001b[1;90m[\u001b[0m\u001b[90mURL_SEED\u001b[0m\u001b[1;90m]\u001b[0m\u001b[90m ℹ Redirecting from \u001b[0m\u001b[4;90mhttps://peps.python.org/pep-0247\u001b[0m\u001b[90m to \u001b[0m\u001b[4;90mhttps://peps.python.org/pep-0247/\u001b[0m\u001b[90m \u001b[0m\n"
      ]
     },
     "metadata": {},
     "output_type": "display_data"
    },
    {
     "data": {
      "text/html": [
       "<pre style=\"white-space:pre;overflow-x:auto;line-height:normal;font-family:Menlo,'DejaVu Sans Mono',consolas,'Courier New',monospace\"><span style=\"color: #008080; text-decoration-color: #008080; font-weight: bold\">[</span><span style=\"color: #008080; text-decoration-color: #008080\">URL_SEED</span><span style=\"color: #008080; text-decoration-color: #008080; font-weight: bold\">]</span><span style=\"color: #008080; text-decoration-color: #008080\"> ℹ HEAD VALID for </span><span style=\"color: #008080; text-decoration-color: #008080; text-decoration: underline\">https://peps.python.org/pep-0020/</span><span style=\"color: #008080; text-decoration-color: #008080\"> </span>\n",
       "</pre>\n"
      ],
      "text/plain": [
       "\u001b[1;36m[\u001b[0m\u001b[36mURL_SEED\u001b[0m\u001b[1;36m]\u001b[0m\u001b[36m ℹ HEAD VALID for \u001b[0m\u001b[4;36mhttps://peps.python.org/pep-0020/\u001b[0m\u001b[36m \u001b[0m\n"
      ]
     },
     "metadata": {},
     "output_type": "display_data"
    },
    {
     "data": {
      "text/html": [
       "<pre style=\"white-space:pre;overflow-x:auto;line-height:normal;font-family:Menlo,'DejaVu Sans Mono',consolas,'Courier New',monospace\"><span style=\"color: #008080; text-decoration-color: #008080; font-weight: bold\">[</span><span style=\"color: #008080; text-decoration-color: #008080\">URL_SEED</span><span style=\"color: #008080; text-decoration-color: #008080; font-weight: bold\">]</span><span style=\"color: #008080; text-decoration-color: #008080\"> ℹ HEAD VALID for </span><span style=\"color: #008080; text-decoration-color: #008080; text-decoration: underline\">https://peps.python.org/pep-0761/</span><span style=\"color: #008080; text-decoration-color: #008080\"> </span>\n",
       "</pre>\n"
      ],
      "text/plain": [
       "\u001b[1;36m[\u001b[0m\u001b[36mURL_SEED\u001b[0m\u001b[1;36m]\u001b[0m\u001b[36m ℹ HEAD VALID for \u001b[0m\u001b[4;36mhttps://peps.python.org/pep-0761/\u001b[0m\u001b[36m \u001b[0m\n"
      ]
     },
     "metadata": {},
     "output_type": "display_data"
    },
    {
     "data": {
      "text/html": [
       "<pre style=\"white-space:pre;overflow-x:auto;line-height:normal;font-family:Menlo,'DejaVu Sans Mono',consolas,'Courier New',monospace\"><span style=\"color: #808080; text-decoration-color: #808080; font-weight: bold\">[</span><span style=\"color: #808080; text-decoration-color: #808080\">URL_SEED</span><span style=\"color: #808080; text-decoration-color: #808080; font-weight: bold\">]</span><span style=\"color: #808080; text-decoration-color: #808080\"> ℹ Fetching head for </span><span style=\"color: #808080; text-decoration-color: #808080; text-decoration: underline\">https://peps.python.org/pep-0249</span><span style=\"color: #808080; text-decoration-color: #808080\"> </span>\n",
       "</pre>\n"
      ],
      "text/plain": [
       "\u001b[1;90m[\u001b[0m\u001b[90mURL_SEED\u001b[0m\u001b[1;90m]\u001b[0m\u001b[90m ℹ Fetching head for \u001b[0m\u001b[4;90mhttps://peps.python.org/pep-0249\u001b[0m\u001b[90m \u001b[0m\n"
      ]
     },
     "metadata": {},
     "output_type": "display_data"
    },
    {
     "data": {
      "text/html": [
       "<pre style=\"white-space:pre;overflow-x:auto;line-height:normal;font-family:Menlo,'DejaVu Sans Mono',consolas,'Courier New',monospace\"><span style=\"color: #808080; text-decoration-color: #808080; font-weight: bold\">[</span><span style=\"color: #808080; text-decoration-color: #808080\">URL_SEED</span><span style=\"color: #808080; text-decoration-color: #808080; font-weight: bold\">]</span><span style=\"color: #808080; text-decoration-color: #808080\"> ℹ Fetching head for </span><span style=\"color: #808080; text-decoration-color: #808080; text-decoration: underline\">https://peps.python.org/pep-0257</span><span style=\"color: #808080; text-decoration-color: #808080\"> </span>\n",
       "</pre>\n"
      ],
      "text/plain": [
       "\u001b[1;90m[\u001b[0m\u001b[90mURL_SEED\u001b[0m\u001b[1;90m]\u001b[0m\u001b[90m ℹ Fetching head for \u001b[0m\u001b[4;90mhttps://peps.python.org/pep-0257\u001b[0m\u001b[90m \u001b[0m\n"
      ]
     },
     "metadata": {},
     "output_type": "display_data"
    },
    {
     "data": {
      "text/html": [
       "<pre style=\"white-space:pre;overflow-x:auto;line-height:normal;font-family:Menlo,'DejaVu Sans Mono',consolas,'Courier New',monospace\"><span style=\"color: #808080; text-decoration-color: #808080; font-weight: bold\">[</span><span style=\"color: #808080; text-decoration-color: #808080\">URL_SEED</span><span style=\"color: #808080; text-decoration-color: #808080; font-weight: bold\">]</span><span style=\"color: #808080; text-decoration-color: #808080\"> ℹ Redirecting from </span><span style=\"color: #808080; text-decoration-color: #808080; text-decoration: underline\">https://peps.python.org/pep-0248</span><span style=\"color: #808080; text-decoration-color: #808080\"> to </span><span style=\"color: #808080; text-decoration-color: #808080; text-decoration: underline\">https://peps.python.org/pep-0248/</span><span style=\"color: #808080; text-decoration-color: #808080\"> </span>\n",
       "</pre>\n"
      ],
      "text/plain": [
       "\u001b[1;90m[\u001b[0m\u001b[90mURL_SEED\u001b[0m\u001b[1;90m]\u001b[0m\u001b[90m ℹ Redirecting from \u001b[0m\u001b[4;90mhttps://peps.python.org/pep-0248\u001b[0m\u001b[90m to \u001b[0m\u001b[4;90mhttps://peps.python.org/pep-0248/\u001b[0m\u001b[90m \u001b[0m\n"
      ]
     },
     "metadata": {},
     "output_type": "display_data"
    },
    {
     "data": {
      "text/html": [
       "<pre style=\"white-space:pre;overflow-x:auto;line-height:normal;font-family:Menlo,'DejaVu Sans Mono',consolas,'Courier New',monospace\"><span style=\"color: #008080; text-decoration-color: #008080; font-weight: bold\">[</span><span style=\"color: #008080; text-decoration-color: #008080\">URL_SEED</span><span style=\"color: #008080; text-decoration-color: #008080; font-weight: bold\">]</span><span style=\"color: #008080; text-decoration-color: #008080\"> ℹ HEAD VALID for </span><span style=\"color: #008080; text-decoration-color: #008080; text-decoration: underline\">https://peps.python.org/pep-0101/</span><span style=\"color: #008080; text-decoration-color: #008080\"> </span>\n",
       "</pre>\n"
      ],
      "text/plain": [
       "\u001b[1;36m[\u001b[0m\u001b[36mURL_SEED\u001b[0m\u001b[1;36m]\u001b[0m\u001b[36m ℹ HEAD VALID for \u001b[0m\u001b[4;36mhttps://peps.python.org/pep-0101/\u001b[0m\u001b[36m \u001b[0m\n"
      ]
     },
     "metadata": {},
     "output_type": "display_data"
    },
    {
     "data": {
      "text/html": [
       "<pre style=\"white-space:pre;overflow-x:auto;line-height:normal;font-family:Menlo,'DejaVu Sans Mono',consolas,'Courier New',monospace\"><span style=\"color: #808080; text-decoration-color: #808080; font-weight: bold\">[</span><span style=\"color: #808080; text-decoration-color: #808080\">URL_SEED</span><span style=\"color: #808080; text-decoration-color: #808080; font-weight: bold\">]</span><span style=\"color: #808080; text-decoration-color: #808080\"> ℹ Fetching head for </span><span style=\"color: #808080; text-decoration-color: #808080; text-decoration: underline\">https://peps.python.org/pep-0272</span><span style=\"color: #808080; text-decoration-color: #808080\"> </span>\n",
       "</pre>\n"
      ],
      "text/plain": [
       "\u001b[1;90m[\u001b[0m\u001b[90mURL_SEED\u001b[0m\u001b[1;90m]\u001b[0m\u001b[90m ℹ Fetching head for \u001b[0m\u001b[4;90mhttps://peps.python.org/pep-0272\u001b[0m\u001b[90m \u001b[0m\n"
      ]
     },
     "metadata": {},
     "output_type": "display_data"
    },
    {
     "data": {
      "text/html": [
       "<pre style=\"white-space:pre;overflow-x:auto;line-height:normal;font-family:Menlo,'DejaVu Sans Mono',consolas,'Courier New',monospace\"><span style=\"color: #008080; text-decoration-color: #008080; font-weight: bold\">[</span><span style=\"color: #008080; text-decoration-color: #008080\">URL_SEED</span><span style=\"color: #008080; text-decoration-color: #008080; font-weight: bold\">]</span><span style=\"color: #008080; text-decoration-color: #008080\"> ℹ HEAD VALID for </span><span style=\"color: #008080; text-decoration-color: #008080; text-decoration: underline\">https://peps.python.org/pep-0247/</span><span style=\"color: #008080; text-decoration-color: #008080\"> </span>\n",
       "</pre>\n"
      ],
      "text/plain": [
       "\u001b[1;36m[\u001b[0m\u001b[36mURL_SEED\u001b[0m\u001b[1;36m]\u001b[0m\u001b[36m ℹ HEAD VALID for \u001b[0m\u001b[4;36mhttps://peps.python.org/pep-0247/\u001b[0m\u001b[36m \u001b[0m\n"
      ]
     },
     "metadata": {},
     "output_type": "display_data"
    },
    {
     "data": {
      "text/html": [
       "<pre style=\"white-space:pre;overflow-x:auto;line-height:normal;font-family:Menlo,'DejaVu Sans Mono',consolas,'Courier New',monospace\"><span style=\"color: #808080; text-decoration-color: #808080; font-weight: bold\">[</span><span style=\"color: #808080; text-decoration-color: #808080\">URL_SEED</span><span style=\"color: #808080; text-decoration-color: #808080; font-weight: bold\">]</span><span style=\"color: #808080; text-decoration-color: #808080\"> ℹ Fetching head for </span><span style=\"color: #808080; text-decoration-color: #808080; text-decoration: underline\">https://peps.python.org/pep-0287</span><span style=\"color: #808080; text-decoration-color: #808080\"> </span>\n",
       "</pre>\n"
      ],
      "text/plain": [
       "\u001b[1;90m[\u001b[0m\u001b[90mURL_SEED\u001b[0m\u001b[1;90m]\u001b[0m\u001b[90m ℹ Fetching head for \u001b[0m\u001b[4;90mhttps://peps.python.org/pep-0287\u001b[0m\u001b[90m \u001b[0m\n"
      ]
     },
     "metadata": {},
     "output_type": "display_data"
    },
    {
     "data": {
      "text/html": [
       "<pre style=\"white-space:pre;overflow-x:auto;line-height:normal;font-family:Menlo,'DejaVu Sans Mono',consolas,'Courier New',monospace\"><span style=\"color: #808080; text-decoration-color: #808080; font-weight: bold\">[</span><span style=\"color: #808080; text-decoration-color: #808080\">URL_SEED</span><span style=\"color: #808080; text-decoration-color: #808080; font-weight: bold\">]</span><span style=\"color: #808080; text-decoration-color: #808080\"> ℹ Redirecting from </span><span style=\"color: #808080; text-decoration-color: #808080; text-decoration: underline\">https://peps.python.org/pep-0249</span><span style=\"color: #808080; text-decoration-color: #808080\"> to </span><span style=\"color: #808080; text-decoration-color: #808080; text-decoration: underline\">https://peps.python.org/pep-0249/</span><span style=\"color: #808080; text-decoration-color: #808080\"> </span>\n",
       "</pre>\n"
      ],
      "text/plain": [
       "\u001b[1;90m[\u001b[0m\u001b[90mURL_SEED\u001b[0m\u001b[1;90m]\u001b[0m\u001b[90m ℹ Redirecting from \u001b[0m\u001b[4;90mhttps://peps.python.org/pep-0249\u001b[0m\u001b[90m to \u001b[0m\u001b[4;90mhttps://peps.python.org/pep-0249/\u001b[0m\u001b[90m \u001b[0m\n"
      ]
     },
     "metadata": {},
     "output_type": "display_data"
    },
    {
     "data": {
      "text/html": [
       "<pre style=\"white-space:pre;overflow-x:auto;line-height:normal;font-family:Menlo,'DejaVu Sans Mono',consolas,'Courier New',monospace\"><span style=\"color: #808080; text-decoration-color: #808080; font-weight: bold\">[</span><span style=\"color: #808080; text-decoration-color: #808080\">URL_SEED</span><span style=\"color: #808080; text-decoration-color: #808080; font-weight: bold\">]</span><span style=\"color: #808080; text-decoration-color: #808080\"> ℹ Redirecting from </span><span style=\"color: #808080; text-decoration-color: #808080; text-decoration: underline\">https://peps.python.org/pep-0257</span><span style=\"color: #808080; text-decoration-color: #808080\"> to </span><span style=\"color: #808080; text-decoration-color: #808080; text-decoration: underline\">https://peps.python.org/pep-0257/</span><span style=\"color: #808080; text-decoration-color: #808080\"> </span>\n",
       "</pre>\n"
      ],
      "text/plain": [
       "\u001b[1;90m[\u001b[0m\u001b[90mURL_SEED\u001b[0m\u001b[1;90m]\u001b[0m\u001b[90m ℹ Redirecting from \u001b[0m\u001b[4;90mhttps://peps.python.org/pep-0257\u001b[0m\u001b[90m to \u001b[0m\u001b[4;90mhttps://peps.python.org/pep-0257/\u001b[0m\u001b[90m \u001b[0m\n"
      ]
     },
     "metadata": {},
     "output_type": "display_data"
    },
    {
     "data": {
      "text/html": [
       "<pre style=\"white-space:pre;overflow-x:auto;line-height:normal;font-family:Menlo,'DejaVu Sans Mono',consolas,'Courier New',monospace\"><span style=\"color: #808080; text-decoration-color: #808080; font-weight: bold\">[</span><span style=\"color: #808080; text-decoration-color: #808080\">URL_SEED</span><span style=\"color: #808080; text-decoration-color: #808080; font-weight: bold\">]</span><span style=\"color: #808080; text-decoration-color: #808080\"> ℹ Redirecting from </span><span style=\"color: #808080; text-decoration-color: #808080; text-decoration: underline\">https://peps.python.org/pep-0272</span><span style=\"color: #808080; text-decoration-color: #808080\"> to </span><span style=\"color: #808080; text-decoration-color: #808080; text-decoration: underline\">https://peps.python.org/pep-0272/</span><span style=\"color: #808080; text-decoration-color: #808080\"> </span>\n",
       "</pre>\n"
      ],
      "text/plain": [
       "\u001b[1;90m[\u001b[0m\u001b[90mURL_SEED\u001b[0m\u001b[1;90m]\u001b[0m\u001b[90m ℹ Redirecting from \u001b[0m\u001b[4;90mhttps://peps.python.org/pep-0272\u001b[0m\u001b[90m to \u001b[0m\u001b[4;90mhttps://peps.python.org/pep-0272/\u001b[0m\u001b[90m \u001b[0m\n"
      ]
     },
     "metadata": {},
     "output_type": "display_data"
    },
    {
     "data": {
      "text/html": [
       "<pre style=\"white-space:pre;overflow-x:auto;line-height:normal;font-family:Menlo,'DejaVu Sans Mono',consolas,'Courier New',monospace\"><span style=\"color: #008080; text-decoration-color: #008080; font-weight: bold\">[</span><span style=\"color: #008080; text-decoration-color: #008080\">URL_SEED</span><span style=\"color: #008080; text-decoration-color: #008080; font-weight: bold\">]</span><span style=\"color: #008080; text-decoration-color: #008080\"> ℹ HEAD VALID for </span><span style=\"color: #008080; text-decoration-color: #008080; text-decoration: underline\">https://peps.python.org/pep-0248/</span><span style=\"color: #008080; text-decoration-color: #008080\"> </span>\n",
       "</pre>\n"
      ],
      "text/plain": [
       "\u001b[1;36m[\u001b[0m\u001b[36mURL_SEED\u001b[0m\u001b[1;36m]\u001b[0m\u001b[36m ℹ HEAD VALID for \u001b[0m\u001b[4;36mhttps://peps.python.org/pep-0248/\u001b[0m\u001b[36m \u001b[0m\n"
      ]
     },
     "metadata": {},
     "output_type": "display_data"
    },
    {
     "data": {
      "text/html": [
       "<pre style=\"white-space:pre;overflow-x:auto;line-height:normal;font-family:Menlo,'DejaVu Sans Mono',consolas,'Courier New',monospace\"><span style=\"color: #808080; text-decoration-color: #808080; font-weight: bold\">[</span><span style=\"color: #808080; text-decoration-color: #808080\">URL_SEED</span><span style=\"color: #808080; text-decoration-color: #808080; font-weight: bold\">]</span><span style=\"color: #808080; text-decoration-color: #808080\"> ℹ Fetching head for </span><span style=\"color: #808080; text-decoration-color: #808080; text-decoration: underline\">https://peps.python.org/pep-0290</span><span style=\"color: #808080; text-decoration-color: #808080\"> </span>\n",
       "</pre>\n"
      ],
      "text/plain": [
       "\u001b[1;90m[\u001b[0m\u001b[90mURL_SEED\u001b[0m\u001b[1;90m]\u001b[0m\u001b[90m ℹ Fetching head for \u001b[0m\u001b[4;90mhttps://peps.python.org/pep-0290\u001b[0m\u001b[90m \u001b[0m\n"
      ]
     },
     "metadata": {},
     "output_type": "display_data"
    },
    {
     "data": {
      "text/html": [
       "<pre style=\"white-space:pre;overflow-x:auto;line-height:normal;font-family:Menlo,'DejaVu Sans Mono',consolas,'Courier New',monospace\"><span style=\"color: #808080; text-decoration-color: #808080; font-weight: bold\">[</span><span style=\"color: #808080; text-decoration-color: #808080\">URL_SEED</span><span style=\"color: #808080; text-decoration-color: #808080; font-weight: bold\">]</span><span style=\"color: #808080; text-decoration-color: #808080\"> ℹ Redirecting from </span><span style=\"color: #808080; text-decoration-color: #808080; text-decoration: underline\">https://peps.python.org/pep-0287</span><span style=\"color: #808080; text-decoration-color: #808080\"> to </span><span style=\"color: #808080; text-decoration-color: #808080; text-decoration: underline\">https://peps.python.org/pep-0287/</span><span style=\"color: #808080; text-decoration-color: #808080\"> </span>\n",
       "</pre>\n"
      ],
      "text/plain": [
       "\u001b[1;90m[\u001b[0m\u001b[90mURL_SEED\u001b[0m\u001b[1;90m]\u001b[0m\u001b[90m ℹ Redirecting from \u001b[0m\u001b[4;90mhttps://peps.python.org/pep-0287\u001b[0m\u001b[90m to \u001b[0m\u001b[4;90mhttps://peps.python.org/pep-0287/\u001b[0m\u001b[90m \u001b[0m\n"
      ]
     },
     "metadata": {},
     "output_type": "display_data"
    },
    {
     "data": {
      "text/html": [
       "<pre style=\"white-space:pre;overflow-x:auto;line-height:normal;font-family:Menlo,'DejaVu Sans Mono',consolas,'Courier New',monospace\"><span style=\"color: #008080; text-decoration-color: #008080; font-weight: bold\">[</span><span style=\"color: #008080; text-decoration-color: #008080\">URL_SEED</span><span style=\"color: #008080; text-decoration-color: #008080; font-weight: bold\">]</span><span style=\"color: #008080; text-decoration-color: #008080\"> ℹ HEAD VALID for </span><span style=\"color: #008080; text-decoration-color: #008080; text-decoration: underline\">https://peps.python.org/pep-0249/</span><span style=\"color: #008080; text-decoration-color: #008080\"> </span>\n",
       "</pre>\n"
      ],
      "text/plain": [
       "\u001b[1;36m[\u001b[0m\u001b[36mURL_SEED\u001b[0m\u001b[1;36m]\u001b[0m\u001b[36m ℹ HEAD VALID for \u001b[0m\u001b[4;36mhttps://peps.python.org/pep-0249/\u001b[0m\u001b[36m \u001b[0m\n"
      ]
     },
     "metadata": {},
     "output_type": "display_data"
    },
    {
     "data": {
      "text/html": [
       "<pre style=\"white-space:pre;overflow-x:auto;line-height:normal;font-family:Menlo,'DejaVu Sans Mono',consolas,'Courier New',monospace\"><span style=\"color: #008080; text-decoration-color: #008080; font-weight: bold\">[</span><span style=\"color: #008080; text-decoration-color: #008080\">URL_SEED</span><span style=\"color: #008080; text-decoration-color: #008080; font-weight: bold\">]</span><span style=\"color: #008080; text-decoration-color: #008080\"> ℹ HEAD VALID for </span><span style=\"color: #008080; text-decoration-color: #008080; text-decoration: underline\">https://peps.python.org/pep-0257/</span><span style=\"color: #008080; text-decoration-color: #008080\"> </span>\n",
       "</pre>\n"
      ],
      "text/plain": [
       "\u001b[1;36m[\u001b[0m\u001b[36mURL_SEED\u001b[0m\u001b[1;36m]\u001b[0m\u001b[36m ℹ HEAD VALID for \u001b[0m\u001b[4;36mhttps://peps.python.org/pep-0257/\u001b[0m\u001b[36m \u001b[0m\n"
      ]
     },
     "metadata": {},
     "output_type": "display_data"
    },
    {
     "data": {
      "text/html": [
       "<pre style=\"white-space:pre;overflow-x:auto;line-height:normal;font-family:Menlo,'DejaVu Sans Mono',consolas,'Courier New',monospace\"><span style=\"color: #808080; text-decoration-color: #808080; font-weight: bold\">[</span><span style=\"color: #808080; text-decoration-color: #808080\">URL_SEED</span><span style=\"color: #808080; text-decoration-color: #808080; font-weight: bold\">]</span><span style=\"color: #808080; text-decoration-color: #808080\"> ℹ Redirecting from </span><span style=\"color: #808080; text-decoration-color: #808080; text-decoration: underline\">https://peps.python.org/pep-0290</span><span style=\"color: #808080; text-decoration-color: #808080\"> to </span><span style=\"color: #808080; text-decoration-color: #808080; text-decoration: underline\">https://peps.python.org/pep-0290/</span><span style=\"color: #808080; text-decoration-color: #808080\"> </span>\n",
       "</pre>\n"
      ],
      "text/plain": [
       "\u001b[1;90m[\u001b[0m\u001b[90mURL_SEED\u001b[0m\u001b[1;90m]\u001b[0m\u001b[90m ℹ Redirecting from \u001b[0m\u001b[4;90mhttps://peps.python.org/pep-0290\u001b[0m\u001b[90m to \u001b[0m\u001b[4;90mhttps://peps.python.org/pep-0290/\u001b[0m\u001b[90m \u001b[0m\n"
      ]
     },
     "metadata": {},
     "output_type": "display_data"
    },
    {
     "data": {
      "text/html": [
       "<pre style=\"white-space:pre;overflow-x:auto;line-height:normal;font-family:Menlo,'DejaVu Sans Mono',consolas,'Courier New',monospace\"><span style=\"color: #808080; text-decoration-color: #808080; font-weight: bold\">[</span><span style=\"color: #808080; text-decoration-color: #808080\">URL_SEED</span><span style=\"color: #808080; text-decoration-color: #808080; font-weight: bold\">]</span><span style=\"color: #808080; text-decoration-color: #808080\"> ℹ Fetching head for </span><span style=\"color: #808080; text-decoration-color: #808080; text-decoration: underline\">https://peps.python.org/pep-0333</span><span style=\"color: #808080; text-decoration-color: #808080\"> </span>\n",
       "</pre>\n"
      ],
      "text/plain": [
       "\u001b[1;90m[\u001b[0m\u001b[90mURL_SEED\u001b[0m\u001b[1;90m]\u001b[0m\u001b[90m ℹ Fetching head for \u001b[0m\u001b[4;90mhttps://peps.python.org/pep-0333\u001b[0m\u001b[90m \u001b[0m\n"
      ]
     },
     "metadata": {},
     "output_type": "display_data"
    },
    {
     "data": {
      "text/html": [
       "<pre style=\"white-space:pre;overflow-x:auto;line-height:normal;font-family:Menlo,'DejaVu Sans Mono',consolas,'Courier New',monospace\"><span style=\"color: #808080; text-decoration-color: #808080; font-weight: bold\">[</span><span style=\"color: #808080; text-decoration-color: #808080\">URL_SEED</span><span style=\"color: #808080; text-decoration-color: #808080; font-weight: bold\">]</span><span style=\"color: #808080; text-decoration-color: #808080\"> ℹ Fetching head for </span><span style=\"color: #808080; text-decoration-color: #808080; text-decoration: underline\">https://peps.python.org/pep-0394</span><span style=\"color: #808080; text-decoration-color: #808080\"> </span>\n",
       "</pre>\n"
      ],
      "text/plain": [
       "\u001b[1;90m[\u001b[0m\u001b[90mURL_SEED\u001b[0m\u001b[1;90m]\u001b[0m\u001b[90m ℹ Fetching head for \u001b[0m\u001b[4;90mhttps://peps.python.org/pep-0394\u001b[0m\u001b[90m \u001b[0m\n"
      ]
     },
     "metadata": {},
     "output_type": "display_data"
    },
    {
     "data": {
      "text/html": [
       "<pre style=\"white-space:pre;overflow-x:auto;line-height:normal;font-family:Menlo,'DejaVu Sans Mono',consolas,'Courier New',monospace\"><span style=\"color: #008080; text-decoration-color: #008080; font-weight: bold\">[</span><span style=\"color: #008080; text-decoration-color: #008080\">URL_SEED</span><span style=\"color: #008080; text-decoration-color: #008080; font-weight: bold\">]</span><span style=\"color: #008080; text-decoration-color: #008080\"> ℹ HEAD VALID for </span><span style=\"color: #008080; text-decoration-color: #008080; text-decoration: underline\">https://peps.python.org/pep-0272/</span><span style=\"color: #008080; text-decoration-color: #008080\"> </span>\n",
       "</pre>\n"
      ],
      "text/plain": [
       "\u001b[1;36m[\u001b[0m\u001b[36mURL_SEED\u001b[0m\u001b[1;36m]\u001b[0m\u001b[36m ℹ HEAD VALID for \u001b[0m\u001b[4;36mhttps://peps.python.org/pep-0272/\u001b[0m\u001b[36m \u001b[0m\n"
      ]
     },
     "metadata": {},
     "output_type": "display_data"
    },
    {
     "data": {
      "text/html": [
       "<pre style=\"white-space:pre;overflow-x:auto;line-height:normal;font-family:Menlo,'DejaVu Sans Mono',consolas,'Courier New',monospace\"><span style=\"color: #008080; text-decoration-color: #008080; font-weight: bold\">[</span><span style=\"color: #008080; text-decoration-color: #008080\">URL_SEED</span><span style=\"color: #008080; text-decoration-color: #008080; font-weight: bold\">]</span><span style=\"color: #008080; text-decoration-color: #008080\"> ℹ HEAD VALID for </span><span style=\"color: #008080; text-decoration-color: #008080; text-decoration: underline\">https://peps.python.org/pep-0287/</span><span style=\"color: #008080; text-decoration-color: #008080\"> </span>\n",
       "</pre>\n"
      ],
      "text/plain": [
       "\u001b[1;36m[\u001b[0m\u001b[36mURL_SEED\u001b[0m\u001b[1;36m]\u001b[0m\u001b[36m ℹ HEAD VALID for \u001b[0m\u001b[4;36mhttps://peps.python.org/pep-0287/\u001b[0m\u001b[36m \u001b[0m\n"
      ]
     },
     "metadata": {},
     "output_type": "display_data"
    },
    {
     "data": {
      "text/html": [
       "<pre style=\"white-space:pre;overflow-x:auto;line-height:normal;font-family:Menlo,'DejaVu Sans Mono',consolas,'Courier New',monospace\"><span style=\"color: #808080; text-decoration-color: #808080; font-weight: bold\">[</span><span style=\"color: #808080; text-decoration-color: #808080\">URL_SEED</span><span style=\"color: #808080; text-decoration-color: #808080; font-weight: bold\">]</span><span style=\"color: #808080; text-decoration-color: #808080\"> ℹ Fetching head for </span><span style=\"color: #808080; text-decoration-color: #808080; text-decoration: underline\">https://peps.python.org/pep-0399</span><span style=\"color: #808080; text-decoration-color: #808080\"> </span>\n",
       "</pre>\n"
      ],
      "text/plain": [
       "\u001b[1;90m[\u001b[0m\u001b[90mURL_SEED\u001b[0m\u001b[1;90m]\u001b[0m\u001b[90m ℹ Fetching head for \u001b[0m\u001b[4;90mhttps://peps.python.org/pep-0399\u001b[0m\u001b[90m \u001b[0m\n"
      ]
     },
     "metadata": {},
     "output_type": "display_data"
    },
    {
     "data": {
      "text/html": [
       "<pre style=\"white-space:pre;overflow-x:auto;line-height:normal;font-family:Menlo,'DejaVu Sans Mono',consolas,'Courier New',monospace\"><span style=\"color: #808080; text-decoration-color: #808080; font-weight: bold\">[</span><span style=\"color: #808080; text-decoration-color: #808080\">URL_SEED</span><span style=\"color: #808080; text-decoration-color: #808080; font-weight: bold\">]</span><span style=\"color: #808080; text-decoration-color: #808080\"> ℹ Fetching head for </span><span style=\"color: #808080; text-decoration-color: #808080; text-decoration: underline\">https://peps.python.org/pep-0430</span><span style=\"color: #808080; text-decoration-color: #808080\"> </span>\n",
       "</pre>\n"
      ],
      "text/plain": [
       "\u001b[1;90m[\u001b[0m\u001b[90mURL_SEED\u001b[0m\u001b[1;90m]\u001b[0m\u001b[90m ℹ Fetching head for \u001b[0m\u001b[4;90mhttps://peps.python.org/pep-0430\u001b[0m\u001b[90m \u001b[0m\n"
      ]
     },
     "metadata": {},
     "output_type": "display_data"
    },
    {
     "data": {
      "text/html": [
       "<pre style=\"white-space:pre;overflow-x:auto;line-height:normal;font-family:Menlo,'DejaVu Sans Mono',consolas,'Courier New',monospace\"><span style=\"color: #808080; text-decoration-color: #808080; font-weight: bold\">[</span><span style=\"color: #808080; text-decoration-color: #808080\">URL_SEED</span><span style=\"color: #808080; text-decoration-color: #808080; font-weight: bold\">]</span><span style=\"color: #808080; text-decoration-color: #808080\"> ℹ Redirecting from </span><span style=\"color: #808080; text-decoration-color: #808080; text-decoration: underline\">https://peps.python.org/pep-0399</span><span style=\"color: #808080; text-decoration-color: #808080\"> to </span><span style=\"color: #808080; text-decoration-color: #808080; text-decoration: underline\">https://peps.python.org/pep-0399/</span><span style=\"color: #808080; text-decoration-color: #808080\"> </span>\n",
       "</pre>\n"
      ],
      "text/plain": [
       "\u001b[1;90m[\u001b[0m\u001b[90mURL_SEED\u001b[0m\u001b[1;90m]\u001b[0m\u001b[90m ℹ Redirecting from \u001b[0m\u001b[4;90mhttps://peps.python.org/pep-0399\u001b[0m\u001b[90m to \u001b[0m\u001b[4;90mhttps://peps.python.org/pep-0399/\u001b[0m\u001b[90m \u001b[0m\n"
      ]
     },
     "metadata": {},
     "output_type": "display_data"
    },
    {
     "data": {
      "text/html": [
       "<pre style=\"white-space:pre;overflow-x:auto;line-height:normal;font-family:Menlo,'DejaVu Sans Mono',consolas,'Courier New',monospace\"><span style=\"color: #808080; text-decoration-color: #808080; font-weight: bold\">[</span><span style=\"color: #808080; text-decoration-color: #808080\">URL_SEED</span><span style=\"color: #808080; text-decoration-color: #808080; font-weight: bold\">]</span><span style=\"color: #808080; text-decoration-color: #808080\"> ℹ Redirecting from </span><span style=\"color: #808080; text-decoration-color: #808080; text-decoration: underline\">https://peps.python.org/pep-0394</span><span style=\"color: #808080; text-decoration-color: #808080\"> to </span><span style=\"color: #808080; text-decoration-color: #808080; text-decoration: underline\">https://peps.python.org/pep-0394/</span><span style=\"color: #808080; text-decoration-color: #808080\"> </span>\n",
       "</pre>\n"
      ],
      "text/plain": [
       "\u001b[1;90m[\u001b[0m\u001b[90mURL_SEED\u001b[0m\u001b[1;90m]\u001b[0m\u001b[90m ℹ Redirecting from \u001b[0m\u001b[4;90mhttps://peps.python.org/pep-0394\u001b[0m\u001b[90m to \u001b[0m\u001b[4;90mhttps://peps.python.org/pep-0394/\u001b[0m\u001b[90m \u001b[0m\n"
      ]
     },
     "metadata": {},
     "output_type": "display_data"
    },
    {
     "data": {
      "text/html": [
       "<pre style=\"white-space:pre;overflow-x:auto;line-height:normal;font-family:Menlo,'DejaVu Sans Mono',consolas,'Courier New',monospace\"><span style=\"color: #008080; text-decoration-color: #008080; font-weight: bold\">[</span><span style=\"color: #008080; text-decoration-color: #008080\">URL_SEED</span><span style=\"color: #008080; text-decoration-color: #008080; font-weight: bold\">]</span><span style=\"color: #008080; text-decoration-color: #008080\"> ℹ HEAD VALID for </span><span style=\"color: #008080; text-decoration-color: #008080; text-decoration: underline\">https://peps.python.org/pep-0290/</span><span style=\"color: #008080; text-decoration-color: #008080\"> </span>\n",
       "</pre>\n"
      ],
      "text/plain": [
       "\u001b[1;36m[\u001b[0m\u001b[36mURL_SEED\u001b[0m\u001b[1;36m]\u001b[0m\u001b[36m ℹ HEAD VALID for \u001b[0m\u001b[4;36mhttps://peps.python.org/pep-0290/\u001b[0m\u001b[36m \u001b[0m\n"
      ]
     },
     "metadata": {},
     "output_type": "display_data"
    },
    {
     "data": {
      "text/html": [
       "<pre style=\"white-space:pre;overflow-x:auto;line-height:normal;font-family:Menlo,'DejaVu Sans Mono',consolas,'Courier New',monospace\"><span style=\"color: #808080; text-decoration-color: #808080; font-weight: bold\">[</span><span style=\"color: #808080; text-decoration-color: #808080\">URL_SEED</span><span style=\"color: #808080; text-decoration-color: #808080; font-weight: bold\">]</span><span style=\"color: #808080; text-decoration-color: #808080\"> ℹ Fetching head for </span><span style=\"color: #808080; text-decoration-color: #808080; text-decoration: underline\">https://peps.python.org/pep-0434</span><span style=\"color: #808080; text-decoration-color: #808080\"> </span>\n",
       "</pre>\n"
      ],
      "text/plain": [
       "\u001b[1;90m[\u001b[0m\u001b[90mURL_SEED\u001b[0m\u001b[1;90m]\u001b[0m\u001b[90m ℹ Fetching head for \u001b[0m\u001b[4;90mhttps://peps.python.org/pep-0434\u001b[0m\u001b[90m \u001b[0m\n"
      ]
     },
     "metadata": {},
     "output_type": "display_data"
    },
    {
     "data": {
      "text/html": [
       "<pre style=\"white-space:pre;overflow-x:auto;line-height:normal;font-family:Menlo,'DejaVu Sans Mono',consolas,'Courier New',monospace\"><span style=\"color: #808080; text-decoration-color: #808080; font-weight: bold\">[</span><span style=\"color: #808080; text-decoration-color: #808080\">URL_SEED</span><span style=\"color: #808080; text-decoration-color: #808080; font-weight: bold\">]</span><span style=\"color: #808080; text-decoration-color: #808080\"> ℹ Redirecting from </span><span style=\"color: #808080; text-decoration-color: #808080; text-decoration: underline\">https://peps.python.org/pep-0430</span><span style=\"color: #808080; text-decoration-color: #808080\"> to </span><span style=\"color: #808080; text-decoration-color: #808080; text-decoration: underline\">https://peps.python.org/pep-0430/</span><span style=\"color: #808080; text-decoration-color: #808080\"> </span>\n",
       "</pre>\n"
      ],
      "text/plain": [
       "\u001b[1;90m[\u001b[0m\u001b[90mURL_SEED\u001b[0m\u001b[1;90m]\u001b[0m\u001b[90m ℹ Redirecting from \u001b[0m\u001b[4;90mhttps://peps.python.org/pep-0430\u001b[0m\u001b[90m to \u001b[0m\u001b[4;90mhttps://peps.python.org/pep-0430/\u001b[0m\u001b[90m \u001b[0m\n"
      ]
     },
     "metadata": {},
     "output_type": "display_data"
    },
    {
     "data": {
      "text/html": [
       "<pre style=\"white-space:pre;overflow-x:auto;line-height:normal;font-family:Menlo,'DejaVu Sans Mono',consolas,'Courier New',monospace\"><span style=\"color: #808080; text-decoration-color: #808080; font-weight: bold\">[</span><span style=\"color: #808080; text-decoration-color: #808080\">URL_SEED</span><span style=\"color: #808080; text-decoration-color: #808080; font-weight: bold\">]</span><span style=\"color: #808080; text-decoration-color: #808080\"> ℹ Redirecting from </span><span style=\"color: #808080; text-decoration-color: #808080; text-decoration: underline\">https://peps.python.org/pep-0333</span><span style=\"color: #808080; text-decoration-color: #808080\"> to </span><span style=\"color: #808080; text-decoration-color: #808080; text-decoration: underline\">https://peps.python.org/pep-0333/</span><span style=\"color: #808080; text-decoration-color: #808080\"> </span>\n",
       "</pre>\n"
      ],
      "text/plain": [
       "\u001b[1;90m[\u001b[0m\u001b[90mURL_SEED\u001b[0m\u001b[1;90m]\u001b[0m\u001b[90m ℹ Redirecting from \u001b[0m\u001b[4;90mhttps://peps.python.org/pep-0333\u001b[0m\u001b[90m to \u001b[0m\u001b[4;90mhttps://peps.python.org/pep-0333/\u001b[0m\u001b[90m \u001b[0m\n"
      ]
     },
     "metadata": {},
     "output_type": "display_data"
    },
    {
     "data": {
      "text/html": [
       "<pre style=\"white-space:pre;overflow-x:auto;line-height:normal;font-family:Menlo,'DejaVu Sans Mono',consolas,'Courier New',monospace\"><span style=\"color: #808080; text-decoration-color: #808080; font-weight: bold\">[</span><span style=\"color: #808080; text-decoration-color: #808080\">URL_SEED</span><span style=\"color: #808080; text-decoration-color: #808080; font-weight: bold\">]</span><span style=\"color: #808080; text-decoration-color: #808080\"> ℹ Redirecting from </span><span style=\"color: #808080; text-decoration-color: #808080; text-decoration: underline\">https://peps.python.org/pep-0434</span><span style=\"color: #808080; text-decoration-color: #808080\"> to </span><span style=\"color: #808080; text-decoration-color: #808080; text-decoration: underline\">https://peps.python.org/pep-0434/</span><span style=\"color: #808080; text-decoration-color: #808080\"> </span>\n",
       "</pre>\n"
      ],
      "text/plain": [
       "\u001b[1;90m[\u001b[0m\u001b[90mURL_SEED\u001b[0m\u001b[1;90m]\u001b[0m\u001b[90m ℹ Redirecting from \u001b[0m\u001b[4;90mhttps://peps.python.org/pep-0434\u001b[0m\u001b[90m to \u001b[0m\u001b[4;90mhttps://peps.python.org/pep-0434/\u001b[0m\u001b[90m \u001b[0m\n"
      ]
     },
     "metadata": {},
     "output_type": "display_data"
    },
    {
     "data": {
      "text/html": [
       "<pre style=\"white-space:pre;overflow-x:auto;line-height:normal;font-family:Menlo,'DejaVu Sans Mono',consolas,'Courier New',monospace\"><span style=\"color: #008080; text-decoration-color: #008080; font-weight: bold\">[</span><span style=\"color: #008080; text-decoration-color: #008080\">URL_SEED</span><span style=\"color: #008080; text-decoration-color: #008080; font-weight: bold\">]</span><span style=\"color: #008080; text-decoration-color: #008080\"> ℹ HEAD VALID for </span><span style=\"color: #008080; text-decoration-color: #008080; text-decoration: underline\">https://peps.python.org/pep-0394/</span><span style=\"color: #008080; text-decoration-color: #008080\"> </span>\n",
       "</pre>\n"
      ],
      "text/plain": [
       "\u001b[1;36m[\u001b[0m\u001b[36mURL_SEED\u001b[0m\u001b[1;36m]\u001b[0m\u001b[36m ℹ HEAD VALID for \u001b[0m\u001b[4;36mhttps://peps.python.org/pep-0394/\u001b[0m\u001b[36m \u001b[0m\n"
      ]
     },
     "metadata": {},
     "output_type": "display_data"
    },
    {
     "data": {
      "text/html": [
       "<pre style=\"white-space:pre;overflow-x:auto;line-height:normal;font-family:Menlo,'DejaVu Sans Mono',consolas,'Courier New',monospace\"><span style=\"color: #008080; text-decoration-color: #008080; font-weight: bold\">[</span><span style=\"color: #008080; text-decoration-color: #008080\">URL_SEED</span><span style=\"color: #008080; text-decoration-color: #008080; font-weight: bold\">]</span><span style=\"color: #008080; text-decoration-color: #008080\"> ℹ HEAD VALID for </span><span style=\"color: #008080; text-decoration-color: #008080; text-decoration: underline\">https://peps.python.org/pep-0399/</span><span style=\"color: #008080; text-decoration-color: #008080\"> </span>\n",
       "</pre>\n"
      ],
      "text/plain": [
       "\u001b[1;36m[\u001b[0m\u001b[36mURL_SEED\u001b[0m\u001b[1;36m]\u001b[0m\u001b[36m ℹ HEAD VALID for \u001b[0m\u001b[4;36mhttps://peps.python.org/pep-0399/\u001b[0m\u001b[36m \u001b[0m\n"
      ]
     },
     "metadata": {},
     "output_type": "display_data"
    },
    {
     "data": {
      "text/html": [
       "<pre style=\"white-space:pre;overflow-x:auto;line-height:normal;font-family:Menlo,'DejaVu Sans Mono',consolas,'Courier New',monospace\"><span style=\"color: #808080; text-decoration-color: #808080; font-weight: bold\">[</span><span style=\"color: #808080; text-decoration-color: #808080\">URL_SEED</span><span style=\"color: #808080; text-decoration-color: #808080; font-weight: bold\">]</span><span style=\"color: #808080; text-decoration-color: #808080\"> ℹ Fetching head for </span><span style=\"color: #808080; text-decoration-color: #808080; text-decoration: underline\">https://peps.python.org/pep-0452</span><span style=\"color: #808080; text-decoration-color: #808080\"> </span>\n",
       "</pre>\n"
      ],
      "text/plain": [
       "\u001b[1;90m[\u001b[0m\u001b[90mURL_SEED\u001b[0m\u001b[1;90m]\u001b[0m\u001b[90m ℹ Fetching head for \u001b[0m\u001b[4;90mhttps://peps.python.org/pep-0452\u001b[0m\u001b[90m \u001b[0m\n"
      ]
     },
     "metadata": {},
     "output_type": "display_data"
    },
    {
     "data": {
      "text/html": [
       "<pre style=\"white-space:pre;overflow-x:auto;line-height:normal;font-family:Menlo,'DejaVu Sans Mono',consolas,'Courier New',monospace\"><span style=\"color: #808080; text-decoration-color: #808080; font-weight: bold\">[</span><span style=\"color: #808080; text-decoration-color: #808080\">URL_SEED</span><span style=\"color: #808080; text-decoration-color: #808080; font-weight: bold\">]</span><span style=\"color: #808080; text-decoration-color: #808080\"> ℹ Fetching head for </span><span style=\"color: #808080; text-decoration-color: #808080; text-decoration: underline\">https://peps.python.org/pep-0457</span><span style=\"color: #808080; text-decoration-color: #808080\"> </span>\n",
       "</pre>\n"
      ],
      "text/plain": [
       "\u001b[1;90m[\u001b[0m\u001b[90mURL_SEED\u001b[0m\u001b[1;90m]\u001b[0m\u001b[90m ℹ Fetching head for \u001b[0m\u001b[4;90mhttps://peps.python.org/pep-0457\u001b[0m\u001b[90m \u001b[0m\n"
      ]
     },
     "metadata": {},
     "output_type": "display_data"
    },
    {
     "data": {
      "text/html": [
       "<pre style=\"white-space:pre;overflow-x:auto;line-height:normal;font-family:Menlo,'DejaVu Sans Mono',consolas,'Courier New',monospace\"><span style=\"color: #808080; text-decoration-color: #808080; font-weight: bold\">[</span><span style=\"color: #808080; text-decoration-color: #808080\">URL_SEED</span><span style=\"color: #808080; text-decoration-color: #808080; font-weight: bold\">]</span><span style=\"color: #808080; text-decoration-color: #808080\"> ℹ Redirecting from </span><span style=\"color: #808080; text-decoration-color: #808080; text-decoration: underline\">https://peps.python.org/pep-0452</span><span style=\"color: #808080; text-decoration-color: #808080\"> to </span><span style=\"color: #808080; text-decoration-color: #808080; text-decoration: underline\">https://peps.python.org/pep-0452/</span><span style=\"color: #808080; text-decoration-color: #808080\"> </span>\n",
       "</pre>\n"
      ],
      "text/plain": [
       "\u001b[1;90m[\u001b[0m\u001b[90mURL_SEED\u001b[0m\u001b[1;90m]\u001b[0m\u001b[90m ℹ Redirecting from \u001b[0m\u001b[4;90mhttps://peps.python.org/pep-0452\u001b[0m\u001b[90m to \u001b[0m\u001b[4;90mhttps://peps.python.org/pep-0452/\u001b[0m\u001b[90m \u001b[0m\n"
      ]
     },
     "metadata": {},
     "output_type": "display_data"
    },
    {
     "data": {
      "text/html": [
       "<pre style=\"white-space:pre;overflow-x:auto;line-height:normal;font-family:Menlo,'DejaVu Sans Mono',consolas,'Courier New',monospace\"><span style=\"color: #808080; text-decoration-color: #808080; font-weight: bold\">[</span><span style=\"color: #808080; text-decoration-color: #808080\">URL_SEED</span><span style=\"color: #808080; text-decoration-color: #808080; font-weight: bold\">]</span><span style=\"color: #808080; text-decoration-color: #808080\"> ℹ Redirecting from </span><span style=\"color: #808080; text-decoration-color: #808080; text-decoration: underline\">https://peps.python.org/pep-0457</span><span style=\"color: #808080; text-decoration-color: #808080\"> to </span><span style=\"color: #808080; text-decoration-color: #808080; text-decoration: underline\">https://peps.python.org/pep-0457/</span><span style=\"color: #808080; text-decoration-color: #808080\"> </span>\n",
       "</pre>\n"
      ],
      "text/plain": [
       "\u001b[1;90m[\u001b[0m\u001b[90mURL_SEED\u001b[0m\u001b[1;90m]\u001b[0m\u001b[90m ℹ Redirecting from \u001b[0m\u001b[4;90mhttps://peps.python.org/pep-0457\u001b[0m\u001b[90m to \u001b[0m\u001b[4;90mhttps://peps.python.org/pep-0457/\u001b[0m\u001b[90m \u001b[0m\n"
      ]
     },
     "metadata": {},
     "output_type": "display_data"
    },
    {
     "data": {
      "text/html": [
       "<pre style=\"white-space:pre;overflow-x:auto;line-height:normal;font-family:Menlo,'DejaVu Sans Mono',consolas,'Courier New',monospace\"><span style=\"color: #008080; text-decoration-color: #008080; font-weight: bold\">[</span><span style=\"color: #008080; text-decoration-color: #008080\">URL_SEED</span><span style=\"color: #008080; text-decoration-color: #008080; font-weight: bold\">]</span><span style=\"color: #008080; text-decoration-color: #008080\"> ℹ HEAD VALID for </span><span style=\"color: #008080; text-decoration-color: #008080; text-decoration: underline\">https://peps.python.org/pep-0333/</span><span style=\"color: #008080; text-decoration-color: #008080\"> </span>\n",
       "</pre>\n"
      ],
      "text/plain": [
       "\u001b[1;36m[\u001b[0m\u001b[36mURL_SEED\u001b[0m\u001b[1;36m]\u001b[0m\u001b[36m ℹ HEAD VALID for \u001b[0m\u001b[4;36mhttps://peps.python.org/pep-0333/\u001b[0m\u001b[36m \u001b[0m\n"
      ]
     },
     "metadata": {},
     "output_type": "display_data"
    },
    {
     "data": {
      "text/html": [
       "<pre style=\"white-space:pre;overflow-x:auto;line-height:normal;font-family:Menlo,'DejaVu Sans Mono',consolas,'Courier New',monospace\"><span style=\"color: #808080; text-decoration-color: #808080; font-weight: bold\">[</span><span style=\"color: #808080; text-decoration-color: #808080\">URL_SEED</span><span style=\"color: #808080; text-decoration-color: #808080; font-weight: bold\">]</span><span style=\"color: #808080; text-decoration-color: #808080\"> ℹ Fetching head for </span><span style=\"color: #808080; text-decoration-color: #808080; text-decoration: underline\">https://peps.python.org/pep-0482</span><span style=\"color: #808080; text-decoration-color: #808080\"> </span>\n",
       "</pre>\n"
      ],
      "text/plain": [
       "\u001b[1;90m[\u001b[0m\u001b[90mURL_SEED\u001b[0m\u001b[1;90m]\u001b[0m\u001b[90m ℹ Fetching head for \u001b[0m\u001b[4;90mhttps://peps.python.org/pep-0482\u001b[0m\u001b[90m \u001b[0m\n"
      ]
     },
     "metadata": {},
     "output_type": "display_data"
    },
    {
     "data": {
      "text/html": [
       "<pre style=\"white-space:pre;overflow-x:auto;line-height:normal;font-family:Menlo,'DejaVu Sans Mono',consolas,'Courier New',monospace\"><span style=\"color: #008080; text-decoration-color: #008080; font-weight: bold\">[</span><span style=\"color: #008080; text-decoration-color: #008080\">URL_SEED</span><span style=\"color: #008080; text-decoration-color: #008080; font-weight: bold\">]</span><span style=\"color: #008080; text-decoration-color: #008080\"> ℹ HEAD VALID for </span><span style=\"color: #008080; text-decoration-color: #008080; text-decoration: underline\">https://peps.python.org/pep-0430/</span><span style=\"color: #008080; text-decoration-color: #008080\"> </span>\n",
       "</pre>\n"
      ],
      "text/plain": [
       "\u001b[1;36m[\u001b[0m\u001b[36mURL_SEED\u001b[0m\u001b[1;36m]\u001b[0m\u001b[36m ℹ HEAD VALID for \u001b[0m\u001b[4;36mhttps://peps.python.org/pep-0430/\u001b[0m\u001b[36m \u001b[0m\n"
      ]
     },
     "metadata": {},
     "output_type": "display_data"
    },
    {
     "data": {
      "text/html": [
       "<pre style=\"white-space:pre;overflow-x:auto;line-height:normal;font-family:Menlo,'DejaVu Sans Mono',consolas,'Courier New',monospace\"><span style=\"color: #808080; text-decoration-color: #808080; font-weight: bold\">[</span><span style=\"color: #808080; text-decoration-color: #808080\">URL_SEED</span><span style=\"color: #808080; text-decoration-color: #808080; font-weight: bold\">]</span><span style=\"color: #808080; text-decoration-color: #808080\"> ℹ Fetching head for </span><span style=\"color: #808080; text-decoration-color: #808080; text-decoration: underline\">https://peps.python.org/pep-0483</span><span style=\"color: #808080; text-decoration-color: #808080\"> </span>\n",
       "</pre>\n"
      ],
      "text/plain": [
       "\u001b[1;90m[\u001b[0m\u001b[90mURL_SEED\u001b[0m\u001b[1;90m]\u001b[0m\u001b[90m ℹ Fetching head for \u001b[0m\u001b[4;90mhttps://peps.python.org/pep-0483\u001b[0m\u001b[90m \u001b[0m\n"
      ]
     },
     "metadata": {},
     "output_type": "display_data"
    },
    {
     "data": {
      "text/html": [
       "<pre style=\"white-space:pre;overflow-x:auto;line-height:normal;font-family:Menlo,'DejaVu Sans Mono',consolas,'Courier New',monospace\"><span style=\"color: #808080; text-decoration-color: #808080; font-weight: bold\">[</span><span style=\"color: #808080; text-decoration-color: #808080\">URL_SEED</span><span style=\"color: #808080; text-decoration-color: #808080; font-weight: bold\">]</span><span style=\"color: #808080; text-decoration-color: #808080\"> ℹ Redirecting from </span><span style=\"color: #808080; text-decoration-color: #808080; text-decoration: underline\">https://peps.python.org/pep-0482</span><span style=\"color: #808080; text-decoration-color: #808080\"> to </span><span style=\"color: #808080; text-decoration-color: #808080; text-decoration: underline\">https://peps.python.org/pep-0482/</span><span style=\"color: #808080; text-decoration-color: #808080\"> </span>\n",
       "</pre>\n"
      ],
      "text/plain": [
       "\u001b[1;90m[\u001b[0m\u001b[90mURL_SEED\u001b[0m\u001b[1;90m]\u001b[0m\u001b[90m ℹ Redirecting from \u001b[0m\u001b[4;90mhttps://peps.python.org/pep-0482\u001b[0m\u001b[90m to \u001b[0m\u001b[4;90mhttps://peps.python.org/pep-0482/\u001b[0m\u001b[90m \u001b[0m\n"
      ]
     },
     "metadata": {},
     "output_type": "display_data"
    },
    {
     "data": {
      "text/html": [
       "<pre style=\"white-space:pre;overflow-x:auto;line-height:normal;font-family:Menlo,'DejaVu Sans Mono',consolas,'Courier New',monospace\"><span style=\"color: #008080; text-decoration-color: #008080; font-weight: bold\">[</span><span style=\"color: #008080; text-decoration-color: #008080\">URL_SEED</span><span style=\"color: #008080; text-decoration-color: #008080; font-weight: bold\">]</span><span style=\"color: #008080; text-decoration-color: #008080\"> ℹ HEAD VALID for </span><span style=\"color: #008080; text-decoration-color: #008080; text-decoration: underline\">https://peps.python.org/pep-0434/</span><span style=\"color: #008080; text-decoration-color: #008080\"> </span>\n",
       "</pre>\n"
      ],
      "text/plain": [
       "\u001b[1;36m[\u001b[0m\u001b[36mURL_SEED\u001b[0m\u001b[1;36m]\u001b[0m\u001b[36m ℹ HEAD VALID for \u001b[0m\u001b[4;36mhttps://peps.python.org/pep-0434/\u001b[0m\u001b[36m \u001b[0m\n"
      ]
     },
     "metadata": {},
     "output_type": "display_data"
    },
    {
     "data": {
      "text/html": [
       "<pre style=\"white-space:pre;overflow-x:auto;line-height:normal;font-family:Menlo,'DejaVu Sans Mono',consolas,'Courier New',monospace\"><span style=\"color: #808080; text-decoration-color: #808080; font-weight: bold\">[</span><span style=\"color: #808080; text-decoration-color: #808080\">URL_SEED</span><span style=\"color: #808080; text-decoration-color: #808080; font-weight: bold\">]</span><span style=\"color: #808080; text-decoration-color: #808080\"> ℹ Fetching head for </span><span style=\"color: #808080; text-decoration-color: #808080; text-decoration: underline\">https://peps.python.org/pep-0514</span><span style=\"color: #808080; text-decoration-color: #808080\"> </span>\n",
       "</pre>\n"
      ],
      "text/plain": [
       "\u001b[1;90m[\u001b[0m\u001b[90mURL_SEED\u001b[0m\u001b[1;90m]\u001b[0m\u001b[90m ℹ Fetching head for \u001b[0m\u001b[4;90mhttps://peps.python.org/pep-0514\u001b[0m\u001b[90m \u001b[0m\n"
      ]
     },
     "metadata": {},
     "output_type": "display_data"
    },
    {
     "data": {
      "text/html": [
       "<pre style=\"white-space:pre;overflow-x:auto;line-height:normal;font-family:Menlo,'DejaVu Sans Mono',consolas,'Courier New',monospace\"><span style=\"color: #008080; text-decoration-color: #008080; font-weight: bold\">[</span><span style=\"color: #008080; text-decoration-color: #008080\">URL_SEED</span><span style=\"color: #008080; text-decoration-color: #008080; font-weight: bold\">]</span><span style=\"color: #008080; text-decoration-color: #008080\"> ℹ HEAD VALID for </span><span style=\"color: #008080; text-decoration-color: #008080; text-decoration: underline\">https://peps.python.org/pep-0452/</span><span style=\"color: #008080; text-decoration-color: #008080\"> </span>\n",
       "</pre>\n"
      ],
      "text/plain": [
       "\u001b[1;36m[\u001b[0m\u001b[36mURL_SEED\u001b[0m\u001b[1;36m]\u001b[0m\u001b[36m ℹ HEAD VALID for \u001b[0m\u001b[4;36mhttps://peps.python.org/pep-0452/\u001b[0m\u001b[36m \u001b[0m\n"
      ]
     },
     "metadata": {},
     "output_type": "display_data"
    },
    {
     "data": {
      "text/html": [
       "<pre style=\"white-space:pre;overflow-x:auto;line-height:normal;font-family:Menlo,'DejaVu Sans Mono',consolas,'Courier New',monospace\"><span style=\"color: #008080; text-decoration-color: #008080; font-weight: bold\">[</span><span style=\"color: #008080; text-decoration-color: #008080\">URL_SEED</span><span style=\"color: #008080; text-decoration-color: #008080; font-weight: bold\">]</span><span style=\"color: #008080; text-decoration-color: #008080\"> ℹ HEAD VALID for </span><span style=\"color: #008080; text-decoration-color: #008080; text-decoration: underline\">https://peps.python.org/pep-0457/</span><span style=\"color: #008080; text-decoration-color: #008080\"> </span>\n",
       "</pre>\n"
      ],
      "text/plain": [
       "\u001b[1;36m[\u001b[0m\u001b[36mURL_SEED\u001b[0m\u001b[1;36m]\u001b[0m\u001b[36m ℹ HEAD VALID for \u001b[0m\u001b[4;36mhttps://peps.python.org/pep-0457/\u001b[0m\u001b[36m \u001b[0m\n"
      ]
     },
     "metadata": {},
     "output_type": "display_data"
    },
    {
     "data": {
      "text/html": [
       "<pre style=\"white-space:pre;overflow-x:auto;line-height:normal;font-family:Menlo,'DejaVu Sans Mono',consolas,'Courier New',monospace\"><span style=\"color: #808080; text-decoration-color: #808080; font-weight: bold\">[</span><span style=\"color: #808080; text-decoration-color: #808080\">URL_SEED</span><span style=\"color: #808080; text-decoration-color: #808080; font-weight: bold\">]</span><span style=\"color: #808080; text-decoration-color: #808080\"> ℹ Fetching head for </span><span style=\"color: #808080; text-decoration-color: #808080; text-decoration: underline\">https://peps.python.org/pep-0579</span><span style=\"color: #808080; text-decoration-color: #808080\"> </span>\n",
       "</pre>\n"
      ],
      "text/plain": [
       "\u001b[1;90m[\u001b[0m\u001b[90mURL_SEED\u001b[0m\u001b[1;90m]\u001b[0m\u001b[90m ℹ Fetching head for \u001b[0m\u001b[4;90mhttps://peps.python.org/pep-0579\u001b[0m\u001b[90m \u001b[0m\n"
      ]
     },
     "metadata": {},
     "output_type": "display_data"
    },
    {
     "data": {
      "text/html": [
       "<pre style=\"white-space:pre;overflow-x:auto;line-height:normal;font-family:Menlo,'DejaVu Sans Mono',consolas,'Courier New',monospace\"><span style=\"color: #808080; text-decoration-color: #808080; font-weight: bold\">[</span><span style=\"color: #808080; text-decoration-color: #808080\">URL_SEED</span><span style=\"color: #808080; text-decoration-color: #808080; font-weight: bold\">]</span><span style=\"color: #808080; text-decoration-color: #808080\"> ℹ Fetching head for </span><span style=\"color: #808080; text-decoration-color: #808080; text-decoration: underline\">https://peps.python.org/pep-0588</span><span style=\"color: #808080; text-decoration-color: #808080\"> </span>\n",
       "</pre>\n"
      ],
      "text/plain": [
       "\u001b[1;90m[\u001b[0m\u001b[90mURL_SEED\u001b[0m\u001b[1;90m]\u001b[0m\u001b[90m ℹ Fetching head for \u001b[0m\u001b[4;90mhttps://peps.python.org/pep-0588\u001b[0m\u001b[90m \u001b[0m\n"
      ]
     },
     "metadata": {},
     "output_type": "display_data"
    },
    {
     "data": {
      "text/html": [
       "<pre style=\"white-space:pre;overflow-x:auto;line-height:normal;font-family:Menlo,'DejaVu Sans Mono',consolas,'Courier New',monospace\"><span style=\"color: #808080; text-decoration-color: #808080; font-weight: bold\">[</span><span style=\"color: #808080; text-decoration-color: #808080\">URL_SEED</span><span style=\"color: #808080; text-decoration-color: #808080; font-weight: bold\">]</span><span style=\"color: #808080; text-decoration-color: #808080\"> ℹ Redirecting from </span><span style=\"color: #808080; text-decoration-color: #808080; text-decoration: underline\">https://peps.python.org/pep-0483</span><span style=\"color: #808080; text-decoration-color: #808080\"> to </span><span style=\"color: #808080; text-decoration-color: #808080; text-decoration: underline\">https://peps.python.org/pep-0483/</span><span style=\"color: #808080; text-decoration-color: #808080\"> </span>\n",
       "</pre>\n"
      ],
      "text/plain": [
       "\u001b[1;90m[\u001b[0m\u001b[90mURL_SEED\u001b[0m\u001b[1;90m]\u001b[0m\u001b[90m ℹ Redirecting from \u001b[0m\u001b[4;90mhttps://peps.python.org/pep-0483\u001b[0m\u001b[90m to \u001b[0m\u001b[4;90mhttps://peps.python.org/pep-0483/\u001b[0m\u001b[90m \u001b[0m\n"
      ]
     },
     "metadata": {},
     "output_type": "display_data"
    },
    {
     "data": {
      "text/html": [
       "<pre style=\"white-space:pre;overflow-x:auto;line-height:normal;font-family:Menlo,'DejaVu Sans Mono',consolas,'Courier New',monospace\"><span style=\"color: #808080; text-decoration-color: #808080; font-weight: bold\">[</span><span style=\"color: #808080; text-decoration-color: #808080\">URL_SEED</span><span style=\"color: #808080; text-decoration-color: #808080; font-weight: bold\">]</span><span style=\"color: #808080; text-decoration-color: #808080\"> ℹ Redirecting from </span><span style=\"color: #808080; text-decoration-color: #808080; text-decoration: underline\">https://peps.python.org/pep-0514</span><span style=\"color: #808080; text-decoration-color: #808080\"> to </span><span style=\"color: #808080; text-decoration-color: #808080; text-decoration: underline\">https://peps.python.org/pep-0514/</span><span style=\"color: #808080; text-decoration-color: #808080\"> </span>\n",
       "</pre>\n"
      ],
      "text/plain": [
       "\u001b[1;90m[\u001b[0m\u001b[90mURL_SEED\u001b[0m\u001b[1;90m]\u001b[0m\u001b[90m ℹ Redirecting from \u001b[0m\u001b[4;90mhttps://peps.python.org/pep-0514\u001b[0m\u001b[90m to \u001b[0m\u001b[4;90mhttps://peps.python.org/pep-0514/\u001b[0m\u001b[90m \u001b[0m\n"
      ]
     },
     "metadata": {},
     "output_type": "display_data"
    },
    {
     "data": {
      "text/html": [
       "<pre style=\"white-space:pre;overflow-x:auto;line-height:normal;font-family:Menlo,'DejaVu Sans Mono',consolas,'Courier New',monospace\"><span style=\"color: #008080; text-decoration-color: #008080; font-weight: bold\">[</span><span style=\"color: #008080; text-decoration-color: #008080\">URL_SEED</span><span style=\"color: #008080; text-decoration-color: #008080; font-weight: bold\">]</span><span style=\"color: #008080; text-decoration-color: #008080\"> ℹ HEAD VALID for </span><span style=\"color: #008080; text-decoration-color: #008080; text-decoration: underline\">https://peps.python.org/pep-0482/</span><span style=\"color: #008080; text-decoration-color: #008080\"> </span>\n",
       "</pre>\n"
      ],
      "text/plain": [
       "\u001b[1;36m[\u001b[0m\u001b[36mURL_SEED\u001b[0m\u001b[1;36m]\u001b[0m\u001b[36m ℹ HEAD VALID for \u001b[0m\u001b[4;36mhttps://peps.python.org/pep-0482/\u001b[0m\u001b[36m \u001b[0m\n"
      ]
     },
     "metadata": {},
     "output_type": "display_data"
    },
    {
     "data": {
      "text/html": [
       "<pre style=\"white-space:pre;overflow-x:auto;line-height:normal;font-family:Menlo,'DejaVu Sans Mono',consolas,'Courier New',monospace\"><span style=\"color: #808080; text-decoration-color: #808080; font-weight: bold\">[</span><span style=\"color: #808080; text-decoration-color: #808080\">URL_SEED</span><span style=\"color: #808080; text-decoration-color: #808080; font-weight: bold\">]</span><span style=\"color: #808080; text-decoration-color: #808080\"> ℹ Fetching head for </span><span style=\"color: #808080; text-decoration-color: #808080; text-decoration: underline\">https://peps.python.org/pep-0596</span><span style=\"color: #808080; text-decoration-color: #808080\"> </span>\n",
       "</pre>\n"
      ],
      "text/plain": [
       "\u001b[1;90m[\u001b[0m\u001b[90mURL_SEED\u001b[0m\u001b[1;90m]\u001b[0m\u001b[90m ℹ Fetching head for \u001b[0m\u001b[4;90mhttps://peps.python.org/pep-0596\u001b[0m\u001b[90m \u001b[0m\n"
      ]
     },
     "metadata": {},
     "output_type": "display_data"
    },
    {
     "data": {
      "text/html": [
       "<pre style=\"white-space:pre;overflow-x:auto;line-height:normal;font-family:Menlo,'DejaVu Sans Mono',consolas,'Courier New',monospace\"><span style=\"color: #808080; text-decoration-color: #808080; font-weight: bold\">[</span><span style=\"color: #808080; text-decoration-color: #808080\">URL_SEED</span><span style=\"color: #808080; text-decoration-color: #808080; font-weight: bold\">]</span><span style=\"color: #808080; text-decoration-color: #808080\"> ℹ Redirecting from </span><span style=\"color: #808080; text-decoration-color: #808080; text-decoration: underline\">https://peps.python.org/pep-0579</span><span style=\"color: #808080; text-decoration-color: #808080\"> to </span><span style=\"color: #808080; text-decoration-color: #808080; text-decoration: underline\">https://peps.python.org/pep-0579/</span><span style=\"color: #808080; text-decoration-color: #808080\"> </span>\n",
       "</pre>\n"
      ],
      "text/plain": [
       "\u001b[1;90m[\u001b[0m\u001b[90mURL_SEED\u001b[0m\u001b[1;90m]\u001b[0m\u001b[90m ℹ Redirecting from \u001b[0m\u001b[4;90mhttps://peps.python.org/pep-0579\u001b[0m\u001b[90m to \u001b[0m\u001b[4;90mhttps://peps.python.org/pep-0579/\u001b[0m\u001b[90m \u001b[0m\n"
      ]
     },
     "metadata": {},
     "output_type": "display_data"
    },
    {
     "data": {
      "text/html": [
       "<pre style=\"white-space:pre;overflow-x:auto;line-height:normal;font-family:Menlo,'DejaVu Sans Mono',consolas,'Courier New',monospace\"><span style=\"color: #808080; text-decoration-color: #808080; font-weight: bold\">[</span><span style=\"color: #808080; text-decoration-color: #808080\">URL_SEED</span><span style=\"color: #808080; text-decoration-color: #808080; font-weight: bold\">]</span><span style=\"color: #808080; text-decoration-color: #808080\"> ℹ Redirecting from </span><span style=\"color: #808080; text-decoration-color: #808080; text-decoration: underline\">https://peps.python.org/pep-0588</span><span style=\"color: #808080; text-decoration-color: #808080\"> to </span><span style=\"color: #808080; text-decoration-color: #808080; text-decoration: underline\">https://peps.python.org/pep-0588/</span><span style=\"color: #808080; text-decoration-color: #808080\"> </span>\n",
       "</pre>\n"
      ],
      "text/plain": [
       "\u001b[1;90m[\u001b[0m\u001b[90mURL_SEED\u001b[0m\u001b[1;90m]\u001b[0m\u001b[90m ℹ Redirecting from \u001b[0m\u001b[4;90mhttps://peps.python.org/pep-0588\u001b[0m\u001b[90m to \u001b[0m\u001b[4;90mhttps://peps.python.org/pep-0588/\u001b[0m\u001b[90m \u001b[0m\n"
      ]
     },
     "metadata": {},
     "output_type": "display_data"
    },
    {
     "data": {
      "text/html": [
       "<pre style=\"white-space:pre;overflow-x:auto;line-height:normal;font-family:Menlo,'DejaVu Sans Mono',consolas,'Courier New',monospace\"><span style=\"color: #008080; text-decoration-color: #008080; font-weight: bold\">[</span><span style=\"color: #008080; text-decoration-color: #008080\">URL_SEED</span><span style=\"color: #008080; text-decoration-color: #008080; font-weight: bold\">]</span><span style=\"color: #008080; text-decoration-color: #008080\"> ℹ HEAD VALID for </span><span style=\"color: #008080; text-decoration-color: #008080; text-decoration: underline\">https://peps.python.org/pep-0483/</span><span style=\"color: #008080; text-decoration-color: #008080\"> </span>\n",
       "</pre>\n"
      ],
      "text/plain": [
       "\u001b[1;36m[\u001b[0m\u001b[36mURL_SEED\u001b[0m\u001b[1;36m]\u001b[0m\u001b[36m ℹ HEAD VALID for \u001b[0m\u001b[4;36mhttps://peps.python.org/pep-0483/\u001b[0m\u001b[36m \u001b[0m\n"
      ]
     },
     "metadata": {},
     "output_type": "display_data"
    },
    {
     "data": {
      "text/html": [
       "<pre style=\"white-space:pre;overflow-x:auto;line-height:normal;font-family:Menlo,'DejaVu Sans Mono',consolas,'Courier New',monospace\"><span style=\"color: #008080; text-decoration-color: #008080; font-weight: bold\">[</span><span style=\"color: #008080; text-decoration-color: #008080\">URL_SEED</span><span style=\"color: #008080; text-decoration-color: #008080; font-weight: bold\">]</span><span style=\"color: #008080; text-decoration-color: #008080\"> ℹ HEAD VALID for </span><span style=\"color: #008080; text-decoration-color: #008080; text-decoration: underline\">https://peps.python.org/pep-0514/</span><span style=\"color: #008080; text-decoration-color: #008080\"> </span>\n",
       "</pre>\n"
      ],
      "text/plain": [
       "\u001b[1;36m[\u001b[0m\u001b[36mURL_SEED\u001b[0m\u001b[1;36m]\u001b[0m\u001b[36m ℹ HEAD VALID for \u001b[0m\u001b[4;36mhttps://peps.python.org/pep-0514/\u001b[0m\u001b[36m \u001b[0m\n"
      ]
     },
     "metadata": {},
     "output_type": "display_data"
    },
    {
     "data": {
      "text/html": [
       "<pre style=\"white-space:pre;overflow-x:auto;line-height:normal;font-family:Menlo,'DejaVu Sans Mono',consolas,'Courier New',monospace\"><span style=\"color: #808080; text-decoration-color: #808080; font-weight: bold\">[</span><span style=\"color: #808080; text-decoration-color: #808080\">URL_SEED</span><span style=\"color: #808080; text-decoration-color: #808080; font-weight: bold\">]</span><span style=\"color: #808080; text-decoration-color: #808080\"> ℹ Redirecting from </span><span style=\"color: #808080; text-decoration-color: #808080; text-decoration: underline\">https://peps.python.org/pep-0596</span><span style=\"color: #808080; text-decoration-color: #808080\"> to </span><span style=\"color: #808080; text-decoration-color: #808080; text-decoration: underline\">https://peps.python.org/pep-0596/</span><span style=\"color: #808080; text-decoration-color: #808080\"> </span>\n",
       "</pre>\n"
      ],
      "text/plain": [
       "\u001b[1;90m[\u001b[0m\u001b[90mURL_SEED\u001b[0m\u001b[1;90m]\u001b[0m\u001b[90m ℹ Redirecting from \u001b[0m\u001b[4;90mhttps://peps.python.org/pep-0596\u001b[0m\u001b[90m to \u001b[0m\u001b[4;90mhttps://peps.python.org/pep-0596/\u001b[0m\u001b[90m \u001b[0m\n"
      ]
     },
     "metadata": {},
     "output_type": "display_data"
    },
    {
     "data": {
      "text/html": [
       "<pre style=\"white-space:pre;overflow-x:auto;line-height:normal;font-family:Menlo,'DejaVu Sans Mono',consolas,'Courier New',monospace\"><span style=\"color: #008080; text-decoration-color: #008080; font-weight: bold\">[</span><span style=\"color: #008080; text-decoration-color: #008080\">URL_SEED</span><span style=\"color: #008080; text-decoration-color: #008080; font-weight: bold\">]</span><span style=\"color: #008080; text-decoration-color: #008080\"> ℹ HEAD VALID for </span><span style=\"color: #008080; text-decoration-color: #008080; text-decoration: underline\">https://peps.python.org/pep-0588/</span><span style=\"color: #008080; text-decoration-color: #008080\"> </span>\n",
       "</pre>\n"
      ],
      "text/plain": [
       "\u001b[1;36m[\u001b[0m\u001b[36mURL_SEED\u001b[0m\u001b[1;36m]\u001b[0m\u001b[36m ℹ HEAD VALID for \u001b[0m\u001b[4;36mhttps://peps.python.org/pep-0588/\u001b[0m\u001b[36m \u001b[0m\n"
      ]
     },
     "metadata": {},
     "output_type": "display_data"
    },
    {
     "data": {
      "text/html": [
       "<pre style=\"white-space:pre;overflow-x:auto;line-height:normal;font-family:Menlo,'DejaVu Sans Mono',consolas,'Courier New',monospace\"><span style=\"color: #008080; text-decoration-color: #008080; font-weight: bold\">[</span><span style=\"color: #008080; text-decoration-color: #008080\">URL_SEED</span><span style=\"color: #008080; text-decoration-color: #008080; font-weight: bold\">]</span><span style=\"color: #008080; text-decoration-color: #008080\"> ℹ HEAD VALID for </span><span style=\"color: #008080; text-decoration-color: #008080; text-decoration: underline\">https://peps.python.org/pep-0579/</span><span style=\"color: #008080; text-decoration-color: #008080\"> </span>\n",
       "</pre>\n"
      ],
      "text/plain": [
       "\u001b[1;36m[\u001b[0m\u001b[36mURL_SEED\u001b[0m\u001b[1;36m]\u001b[0m\u001b[36m ℹ HEAD VALID for \u001b[0m\u001b[4;36mhttps://peps.python.org/pep-0579/\u001b[0m\u001b[36m \u001b[0m\n"
      ]
     },
     "metadata": {},
     "output_type": "display_data"
    },
    {
     "data": {
      "text/html": [
       "<pre style=\"white-space:pre;overflow-x:auto;line-height:normal;font-family:Menlo,'DejaVu Sans Mono',consolas,'Courier New',monospace\"><span style=\"color: #008080; text-decoration-color: #008080; font-weight: bold\">[</span><span style=\"color: #008080; text-decoration-color: #008080\">URL_SEED</span><span style=\"color: #008080; text-decoration-color: #008080; font-weight: bold\">]</span><span style=\"color: #008080; text-decoration-color: #008080\"> ℹ HEAD VALID for </span><span style=\"color: #008080; text-decoration-color: #008080; text-decoration: underline\">https://peps.python.org/pep-0596/</span><span style=\"color: #008080; text-decoration-color: #008080\"> </span>\n",
       "</pre>\n"
      ],
      "text/plain": [
       "\u001b[1;36m[\u001b[0m\u001b[36mURL_SEED\u001b[0m\u001b[1;36m]\u001b[0m\u001b[36m ℹ HEAD VALID for \u001b[0m\u001b[4;36mhttps://peps.python.org/pep-0596/\u001b[0m\u001b[36m \u001b[0m\n"
      ]
     },
     "metadata": {},
     "output_type": "display_data"
    },
    {
     "data": {
      "text/html": [
       "<pre style=\"white-space:pre;overflow-x:auto;line-height:normal;font-family:Menlo,'DejaVu Sans Mono',consolas,'Courier New',monospace\"><span style=\"color: #008080; text-decoration-color: #008080; font-weight: bold\">[</span><span style=\"color: #008080; text-decoration-color: #008080\">URL_SEED</span><span style=\"color: #008080; text-decoration-color: #008080; font-weight: bold\">]</span><span style=\"color: #008080; text-decoration-color: #008080\"> ℹ Completed head extraction for </span><span style=\"color: #008080; text-decoration-color: #008080; font-weight: bold\">50</span><span style=\"color: #008080; text-decoration-color: #008080\"> URLs, </span><span style=\"color: #008080; text-decoration-color: #008080; font-weight: bold\">50</span><span style=\"color: #008080; text-decoration-color: #008080\"> successful </span>\n",
       "</pre>\n"
      ],
      "text/plain": [
       "\u001b[1;36m[\u001b[0m\u001b[36mURL_SEED\u001b[0m\u001b[1;36m]\u001b[0m\u001b[36m ℹ Completed head extraction for \u001b[0m\u001b[1;36m50\u001b[0m\u001b[36m URLs, \u001b[0m\u001b[1;36m50\u001b[0m\u001b[36m successful \u001b[0m\n"
      ]
     },
     "metadata": {},
     "output_type": "display_data"
    },
    {
     "data": {
      "text/html": [
       "<pre style=\"white-space:pre;overflow-x:auto;line-height:normal;font-family:Menlo,'DejaVu Sans Mono',consolas,'Courier New',monospace\"><span style=\"color: #008080; text-decoration-color: #008080; font-weight: bold\">[</span><span style=\"color: #008080; text-decoration-color: #008080\">LINK_EXTRACT</span><span style=\"color: #008080; text-decoration-color: #008080; font-weight: bold\">]</span><span style=\"color: #008080; text-decoration-color: #008080\"> ℹ Completed head extraction for links, </span><span style=\"color: #008080; text-decoration-color: #008080; font-weight: bold\">50</span><span style=\"color: #008080; text-decoration-color: #008080\"> successful </span>\n",
       "</pre>\n"
      ],
      "text/plain": [
       "\u001b[1;36m[\u001b[0m\u001b[36mLINK_EXTRACT\u001b[0m\u001b[1;36m]\u001b[0m\u001b[36m ℹ Completed head extraction for links, \u001b[0m\u001b[1;36m50\u001b[0m\u001b[36m successful \u001b[0m\n"
      ]
     },
     "metadata": {},
     "output_type": "display_data"
    },
    {
     "data": {
      "text/html": [
       "<pre style=\"white-space:pre;overflow-x:auto;line-height:normal;font-family:Menlo,'DejaVu Sans Mono',consolas,'Courier New',monospace\"><span style=\"color: #808080; text-decoration-color: #808080; font-weight: bold\">[</span><span style=\"color: #808080; text-decoration-color: #808080\">URL_SEED</span><span style=\"color: #808080; text-decoration-color: #808080; font-weight: bold\">]</span><span style=\"color: #808080; text-decoration-color: #808080\"> ℹ Closed HTTP client </span>\n",
       "</pre>\n"
      ],
      "text/plain": [
       "\u001b[1;90m[\u001b[0m\u001b[90mURL_SEED\u001b[0m\u001b[1;90m]\u001b[0m\u001b[90m ℹ Closed HTTP client \u001b[0m\n"
      ]
     },
     "metadata": {},
     "output_type": "display_data"
    },
    {
     "data": {
      "text/html": [
       "<pre style=\"white-space:pre;overflow-x:auto;line-height:normal;font-family:Menlo,'DejaVu Sans Mono',consolas,'Courier New',monospace\"><span style=\"color: #008080; text-decoration-color: #008080; font-weight: bold\">[</span><span style=\"color: #008080; text-decoration-color: #008080\">LINK_EXTRACT</span><span style=\"color: #008080; text-decoration-color: #008080; font-weight: bold\">]</span><span style=\"color: #008080; text-decoration-color: #008080\"> ℹ Link head extraction completed successfully </span>\n",
       "</pre>\n"
      ],
      "text/plain": [
       "\u001b[1;36m[\u001b[0m\u001b[36mLINK_EXTRACT\u001b[0m\u001b[1;36m]\u001b[0m\u001b[36m ℹ Link head extraction completed successfully \u001b[0m\n"
      ]
     },
     "metadata": {},
     "output_type": "display_data"
    },
    {
     "data": {
      "text/html": [
       "<pre style=\"white-space:pre;overflow-x:auto;line-height:normal;font-family:Menlo,'DejaVu Sans Mono',consolas,'Courier New',monospace\"><span style=\"color: #008000; text-decoration-color: #008000; font-weight: bold\">[</span><span style=\"color: #008000; text-decoration-color: #008000\">SCRAPE</span><span style=\"color: #008000; text-decoration-color: #008000; font-weight: bold\">]</span><span style=\"color: #008000; text-decoration-color: #008000\">.. ◆ </span><span style=\"color: #008000; text-decoration-color: #008000; text-decoration: underline\">https://peps.python.org/</span><span style=\"color: #008000; text-decoration-color: #008000\">                                                                             |</span>\n",
       "<span style=\"color: #008000; text-decoration-color: #008000\">✓ | ⏱: </span><span style=\"color: #008000; text-decoration-color: #008000; font-weight: bold\">7.</span><span style=\"color: #008000; text-decoration-color: #008000\">73s </span>\n",
       "</pre>\n"
      ],
      "text/plain": [
       "\u001b[1;32m[\u001b[0m\u001b[32mSCRAPE\u001b[0m\u001b[1;32m]\u001b[0m\u001b[32m.. ◆ \u001b[0m\u001b[4;32mhttps://peps.python.org/\u001b[0m\u001b[32m                                                                             |\u001b[0m\n",
       "\u001b[32m✓\u001b[0m\u001b[32m | ⏱: \u001b[0m\u001b[1;32m7.\u001b[0m\u001b[32m73s \u001b[0m\n"
      ]
     },
     "metadata": {},
     "output_type": "display_data"
    },
    {
     "data": {
      "text/html": [
       "<pre style=\"white-space:pre;overflow-x:auto;line-height:normal;font-family:Menlo,'DejaVu Sans Mono',consolas,'Courier New',monospace\"><span style=\"color: #008000; text-decoration-color: #008000; font-weight: bold\">[</span><span style=\"color: #008000; text-decoration-color: #008000\">COMPLETE</span><span style=\"color: #008000; text-decoration-color: #008000; font-weight: bold\">]</span><span style=\"color: #008000; text-decoration-color: #008000\"> ● </span><span style=\"color: #008000; text-decoration-color: #008000; text-decoration: underline\">https://peps.python.org/</span><span style=\"color: #008000; text-decoration-color: #008000\">                                                                             |</span>\n",
       "<span style=\"color: #008000; text-decoration-color: #008000\">✓ | ⏱: </span><span style=\"color: #008000; text-decoration-color: #008000; font-weight: bold\">13.</span><span style=\"color: #008000; text-decoration-color: #008000\">13s </span>\n",
       "</pre>\n"
      ],
      "text/plain": [
       "\u001b[1;32m[\u001b[0m\u001b[32mCOMPLETE\u001b[0m\u001b[1;32m]\u001b[0m\u001b[32m ● \u001b[0m\u001b[4;32mhttps://peps.python.org/\u001b[0m\u001b[32m                                                                             |\u001b[0m\n",
       "\u001b[32m✓\u001b[0m\u001b[32m | ⏱: \u001b[0m\u001b[1;32m13.\u001b[0m\u001b[32m13s \u001b[0m\n"
      ]
     },
     "metadata": {},
     "output_type": "display_data"
    },
    {
     "data": {
      "text/html": [
       "<pre style=\"white-space:pre;overflow-x:auto;line-height:normal;font-family:Menlo,'DejaVu Sans Mono',consolas,'Courier New',monospace\"><span style=\"color: #008000; text-decoration-color: #008000; font-weight: bold\">[</span><span style=\"color: #008000; text-decoration-color: #008000\">FETCH</span><span style=\"color: #008000; text-decoration-color: #008000; font-weight: bold\">]</span><span style=\"color: #008000; text-decoration-color: #008000\">... ↓ </span><span style=\"color: #008000; text-decoration-color: #008000; text-decoration: underline\">https://docs.python.org/3/bugs.html</span><span style=\"color: #008000; text-decoration-color: #008000\">                                                                  |</span>\n",
       "<span style=\"color: #008000; text-decoration-color: #008000\">✓ | ⏱: </span><span style=\"color: #008000; text-decoration-color: #008000; font-weight: bold\">1.</span><span style=\"color: #008000; text-decoration-color: #008000\">33s </span>\n",
       "</pre>\n"
      ],
      "text/plain": [
       "\u001b[1;32m[\u001b[0m\u001b[32mFETCH\u001b[0m\u001b[1;32m]\u001b[0m\u001b[32m...\u001b[0m\u001b[32m ↓ \u001b[0m\u001b[4;32mhttps://docs.python.org/3/bugs.html\u001b[0m\u001b[32m                                                                  |\u001b[0m\n",
       "\u001b[32m✓\u001b[0m\u001b[32m | ⏱: \u001b[0m\u001b[1;32m1.\u001b[0m\u001b[32m33s \u001b[0m\n"
      ]
     },
     "metadata": {},
     "output_type": "display_data"
    },
    {
     "data": {
      "text/html": [
       "<pre style=\"white-space:pre;overflow-x:auto;line-height:normal;font-family:Menlo,'DejaVu Sans Mono',consolas,'Courier New',monospace\"><span style=\"color: #808080; text-decoration-color: #808080; font-weight: bold\">[</span><span style=\"color: #808080; text-decoration-color: #808080\">LINK_EXTRACT</span><span style=\"color: #808080; text-decoration-color: #808080; font-weight: bold\">]</span><span style=\"color: #808080; text-decoration-color: #808080\"> ℹ Added </span><span style=\"color: #808080; text-decoration-color: #808080; font-weight: bold\">17</span><span style=\"color: #808080; text-decoration-color: #808080\"> internal links </span>\n",
       "</pre>\n"
      ],
      "text/plain": [
       "\u001b[1;90m[\u001b[0m\u001b[90mLINK_EXTRACT\u001b[0m\u001b[1;90m]\u001b[0m\u001b[90m ℹ Added \u001b[0m\u001b[1;90m17\u001b[0m\u001b[90m internal links \u001b[0m\n"
      ]
     },
     "metadata": {},
     "output_type": "display_data"
    },
    {
     "data": {
      "text/html": [
       "<pre style=\"white-space:pre;overflow-x:auto;line-height:normal;font-family:Menlo,'DejaVu Sans Mono',consolas,'Courier New',monospace\"><span style=\"color: #808080; text-decoration-color: #808080; font-weight: bold\">[</span><span style=\"color: #808080; text-decoration-color: #808080\">LINK_EXTRACT</span><span style=\"color: #808080; text-decoration-color: #808080; font-weight: bold\">]</span><span style=\"color: #808080; text-decoration-color: #808080\"> ℹ Final filtered URLs: </span><span style=\"color: #808080; text-decoration-color: #808080; font-weight: bold\">17</span><span style=\"color: #808080; text-decoration-color: #808080\"> unique links </span>\n",
       "</pre>\n"
      ],
      "text/plain": [
       "\u001b[1;90m[\u001b[0m\u001b[90mLINK_EXTRACT\u001b[0m\u001b[1;90m]\u001b[0m\u001b[90m ℹ Final filtered URLs: \u001b[0m\u001b[1;90m17\u001b[0m\u001b[90m unique links \u001b[0m\n"
      ]
     },
     "metadata": {},
     "output_type": "display_data"
    },
    {
     "data": {
      "text/html": [
       "<pre style=\"white-space:pre;overflow-x:auto;line-height:normal;font-family:Menlo,'DejaVu Sans Mono',consolas,'Courier New',monospace\"><span style=\"color: #008080; text-decoration-color: #008080; font-weight: bold\">[</span><span style=\"color: #008080; text-decoration-color: #008080\">LINK_EXTRACT</span><span style=\"color: #008080; text-decoration-color: #008080; font-weight: bold\">]</span><span style=\"color: #008080; text-decoration-color: #008080\"> ℹ Extracting head content for </span><span style=\"color: #008080; text-decoration-color: #008080; font-weight: bold\">17</span><span style=\"color: #008080; text-decoration-color: #008080\"> filtered links </span>\n",
       "</pre>\n"
      ],
      "text/plain": [
       "\u001b[1;36m[\u001b[0m\u001b[36mLINK_EXTRACT\u001b[0m\u001b[1;36m]\u001b[0m\u001b[36m ℹ Extracting head content for \u001b[0m\u001b[1;36m17\u001b[0m\u001b[36m filtered links \u001b[0m\n"
      ]
     },
     "metadata": {},
     "output_type": "display_data"
    },
    {
     "data": {
      "text/html": [
       "<pre style=\"white-space:pre;overflow-x:auto;line-height:normal;font-family:Menlo,'DejaVu Sans Mono',consolas,'Courier New',monospace\"><span style=\"color: #008080; text-decoration-color: #008080; font-weight: bold\">[</span><span style=\"color: #008080; text-decoration-color: #008080\">URL_SEED</span><span style=\"color: #008080; text-decoration-color: #008080; font-weight: bold\">]</span><span style=\"color: #008080; text-decoration-color: #008080\"> ℹ Starting head extraction for </span><span style=\"color: #008080; text-decoration-color: #008080; font-weight: bold\">17</span><span style=\"color: #008080; text-decoration-color: #008080\"> custom URLs </span>\n",
       "</pre>\n"
      ],
      "text/plain": [
       "\u001b[1;36m[\u001b[0m\u001b[36mURL_SEED\u001b[0m\u001b[1;36m]\u001b[0m\u001b[36m ℹ Starting head extraction for \u001b[0m\u001b[1;36m17\u001b[0m\u001b[36m custom URLs \u001b[0m\n"
      ]
     },
     "metadata": {},
     "output_type": "display_data"
    },
    {
     "data": {
      "text/html": [
       "<pre style=\"white-space:pre;overflow-x:auto;line-height:normal;font-family:Menlo,'DejaVu Sans Mono',consolas,'Courier New',monospace\"><span style=\"color: #808080; text-decoration-color: #808080; font-weight: bold\">[</span><span style=\"color: #808080; text-decoration-color: #808080\">URL_SEED</span><span style=\"color: #808080; text-decoration-color: #808080; font-weight: bold\">]</span><span style=\"color: #808080; text-decoration-color: #808080\"> ℹ Fetching head for </span><span style=\"color: #808080; text-decoration-color: #808080; text-decoration: underline\">https://discuss.python.org/c/documentation/26</span><span style=\"color: #808080; text-decoration-color: #808080\"> </span>\n",
       "</pre>\n"
      ],
      "text/plain": [
       "\u001b[1;90m[\u001b[0m\u001b[90mURL_SEED\u001b[0m\u001b[1;90m]\u001b[0m\u001b[90m ℹ Fetching head for \u001b[0m\u001b[4;90mhttps://discuss.python.org/c/documentation/26\u001b[0m\u001b[90m \u001b[0m\n"
      ]
     },
     "metadata": {},
     "output_type": "display_data"
    },
    {
     "data": {
      "text/html": [
       "<pre style=\"white-space:pre;overflow-x:auto;line-height:normal;font-family:Menlo,'DejaVu Sans Mono',consolas,'Courier New',monospace\"><span style=\"color: #808080; text-decoration-color: #808080; font-weight: bold\">[</span><span style=\"color: #808080; text-decoration-color: #808080\">URL_SEED</span><span style=\"color: #808080; text-decoration-color: #808080; font-weight: bold\">]</span><span style=\"color: #808080; text-decoration-color: #808080\"> ℹ Fetching head for </span><span style=\"color: #808080; text-decoration-color: #808080; text-decoration: underline\">https://devguide.python.org/tracker</span><span style=\"color: #808080; text-decoration-color: #808080\"> </span>\n",
       "</pre>\n"
      ],
      "text/plain": [
       "\u001b[1;90m[\u001b[0m\u001b[90mURL_SEED\u001b[0m\u001b[1;90m]\u001b[0m\u001b[90m ℹ Fetching head for \u001b[0m\u001b[4;90mhttps://devguide.python.org/tracker\u001b[0m\u001b[90m \u001b[0m\n"
      ]
     },
     "metadata": {},
     "output_type": "display_data"
    },
    {
     "data": {
      "text/html": [
       "<pre style=\"white-space:pre;overflow-x:auto;line-height:normal;font-family:Menlo,'DejaVu Sans Mono',consolas,'Courier New',monospace\"><span style=\"color: #808080; text-decoration-color: #808080; font-weight: bold\">[</span><span style=\"color: #808080; text-decoration-color: #808080\">URL_SEED</span><span style=\"color: #808080; text-decoration-color: #808080; font-weight: bold\">]</span><span style=\"color: #808080; text-decoration-color: #808080\"> ℹ Fetching head for </span><span style=\"color: #808080; text-decoration-color: #808080; text-decoration: underline\">https://devguide.python.org/docquality</span><span style=\"color: #808080; text-decoration-color: #808080\"> </span>\n",
       "</pre>\n"
      ],
      "text/plain": [
       "\u001b[1;90m[\u001b[0m\u001b[90mURL_SEED\u001b[0m\u001b[1;90m]\u001b[0m\u001b[90m ℹ Fetching head for \u001b[0m\u001b[4;90mhttps://devguide.python.org/docquality\u001b[0m\u001b[90m \u001b[0m\n"
      ]
     },
     "metadata": {},
     "output_type": "display_data"
    },
    {
     "data": {
      "text/html": [
       "<pre style=\"white-space:pre;overflow-x:auto;line-height:normal;font-family:Menlo,'DejaVu Sans Mono',consolas,'Courier New',monospace\"><span style=\"color: #808080; text-decoration-color: #808080; font-weight: bold\">[</span><span style=\"color: #808080; text-decoration-color: #808080\">URL_SEED</span><span style=\"color: #808080; text-decoration-color: #808080; font-weight: bold\">]</span><span style=\"color: #808080; text-decoration-color: #808080\"> ℹ Fetching head for </span><span style=\"color: #808080; text-decoration-color: #808080; text-decoration: underline\">https://devguide.python.org/documentation/translating</span><span style=\"color: #808080; text-decoration-color: #808080\"> </span>\n",
       "</pre>\n"
      ],
      "text/plain": [
       "\u001b[1;90m[\u001b[0m\u001b[90mURL_SEED\u001b[0m\u001b[1;90m]\u001b[0m\u001b[90m ℹ Fetching head for \u001b[0m\u001b[4;90mhttps://devguide.python.org/documentation/translating\u001b[0m\u001b[90m \u001b[0m\n"
      ]
     },
     "metadata": {},
     "output_type": "display_data"
    },
    {
     "data": {
      "text/html": [
       "<pre style=\"white-space:pre;overflow-x:auto;line-height:normal;font-family:Menlo,'DejaVu Sans Mono',consolas,'Courier New',monospace\"><span style=\"color: #808080; text-decoration-color: #808080; font-weight: bold\">[</span><span style=\"color: #808080; text-decoration-color: #808080\">URL_SEED</span><span style=\"color: #808080; text-decoration-color: #808080; font-weight: bold\">]</span><span style=\"color: #808080; text-decoration-color: #808080\"> ℹ Fetching head for </span><span style=\"color: #808080; text-decoration-color: #808080; text-decoration: underline\">https://mail.python.org/mailman3/lists/core-mentorship.python.org</span><span style=\"color: #808080; text-decoration-color: #808080\"> </span>\n",
       "</pre>\n"
      ],
      "text/plain": [
       "\u001b[1;90m[\u001b[0m\u001b[90mURL_SEED\u001b[0m\u001b[1;90m]\u001b[0m\u001b[90m ℹ Fetching head for \u001b[0m\u001b[4;90mhttps://mail.python.org/mailman3/lists/core-mentorship.python.org\u001b[0m\u001b[90m \u001b[0m\n"
      ]
     },
     "metadata": {},
     "output_type": "display_data"
    },
    {
     "data": {
      "text/html": [
       "<pre style=\"white-space:pre;overflow-x:auto;line-height:normal;font-family:Menlo,'DejaVu Sans Mono',consolas,'Courier New',monospace\"><span style=\"color: #808080; text-decoration-color: #808080; font-weight: bold\">[</span><span style=\"color: #808080; text-decoration-color: #808080\">URL_SEED</span><span style=\"color: #808080; text-decoration-color: #808080; font-weight: bold\">]</span><span style=\"color: #808080; text-decoration-color: #808080\"> ℹ Redirecting from </span><span style=\"color: #808080; text-decoration-color: #808080; text-decoration: underline\">https://devguide.python.org/documentation/translating</span><span style=\"color: #808080; text-decoration-color: #808080\"> to </span>\n",
       "<span style=\"color: #808080; text-decoration-color: #808080; text-decoration: underline\">https://devguide.python.org/documentation/translating/</span><span style=\"color: #808080; text-decoration-color: #808080\"> </span>\n",
       "</pre>\n"
      ],
      "text/plain": [
       "\u001b[1;90m[\u001b[0m\u001b[90mURL_SEED\u001b[0m\u001b[1;90m]\u001b[0m\u001b[90m ℹ Redirecting from \u001b[0m\u001b[4;90mhttps://devguide.python.org/documentation/translating\u001b[0m\u001b[90m to \u001b[0m\n",
       "\u001b[4;90mhttps://devguide.python.org/documentation/translating/\u001b[0m\u001b[90m \u001b[0m\n"
      ]
     },
     "metadata": {},
     "output_type": "display_data"
    },
    {
     "data": {
      "text/html": [
       "<pre style=\"white-space:pre;overflow-x:auto;line-height:normal;font-family:Menlo,'DejaVu Sans Mono',consolas,'Courier New',monospace\"><span style=\"color: #808080; text-decoration-color: #808080; font-weight: bold\">[</span><span style=\"color: #808080; text-decoration-color: #808080\">URL_SEED</span><span style=\"color: #808080; text-decoration-color: #808080; font-weight: bold\">]</span><span style=\"color: #808080; text-decoration-color: #808080\"> ℹ Redirecting from </span><span style=\"color: #808080; text-decoration-color: #808080; text-decoration: underline\">https://devguide.python.org/tracker</span><span style=\"color: #808080; text-decoration-color: #808080\"> to </span><span style=\"color: #808080; text-decoration-color: #808080; text-decoration: underline\">https://devguide.python.org/tracker/</span><span style=\"color: #808080; text-decoration-color: #808080\"> </span>\n",
       "</pre>\n"
      ],
      "text/plain": [
       "\u001b[1;90m[\u001b[0m\u001b[90mURL_SEED\u001b[0m\u001b[1;90m]\u001b[0m\u001b[90m ℹ Redirecting from \u001b[0m\u001b[4;90mhttps://devguide.python.org/tracker\u001b[0m\u001b[90m to \u001b[0m\u001b[4;90mhttps://devguide.python.org/tracker/\u001b[0m\u001b[90m \u001b[0m\n"
      ]
     },
     "metadata": {},
     "output_type": "display_data"
    },
    {
     "data": {
      "text/html": [
       "<pre style=\"white-space:pre;overflow-x:auto;line-height:normal;font-family:Menlo,'DejaVu Sans Mono',consolas,'Courier New',monospace\"><span style=\"color: #008080; text-decoration-color: #008080; font-weight: bold\">[</span><span style=\"color: #008080; text-decoration-color: #008080\">URL_SEED</span><span style=\"color: #008080; text-decoration-color: #008080; font-weight: bold\">]</span><span style=\"color: #008080; text-decoration-color: #008080\"> ℹ HEAD VALID for </span><span style=\"color: #008080; text-decoration-color: #008080; text-decoration: underline\">https://discuss.python.org/c/documentation/26</span><span style=\"color: #008080; text-decoration-color: #008080\"> </span>\n",
       "</pre>\n"
      ],
      "text/plain": [
       "\u001b[1;36m[\u001b[0m\u001b[36mURL_SEED\u001b[0m\u001b[1;36m]\u001b[0m\u001b[36m ℹ HEAD VALID for \u001b[0m\u001b[4;36mhttps://discuss.python.org/c/documentation/26\u001b[0m\u001b[36m \u001b[0m\n"
      ]
     },
     "metadata": {},
     "output_type": "display_data"
    },
    {
     "data": {
      "text/html": [
       "<pre style=\"white-space:pre;overflow-x:auto;line-height:normal;font-family:Menlo,'DejaVu Sans Mono',consolas,'Courier New',monospace\"><span style=\"color: #808080; text-decoration-color: #808080; font-weight: bold\">[</span><span style=\"color: #808080; text-decoration-color: #808080\">URL_SEED</span><span style=\"color: #808080; text-decoration-color: #808080; font-weight: bold\">]</span><span style=\"color: #808080; text-decoration-color: #808080\"> ℹ Redirecting from </span><span style=\"color: #808080; text-decoration-color: #808080; text-decoration: underline\">https://mail.python.org/mailman3/lists/core-mentorship.python.org</span><span style=\"color: #808080; text-decoration-color: #808080\"> to </span>\n",
       "<span style=\"color: #808080; text-decoration-color: #808080; text-decoration: underline\">https://mail.python.org/mailman3/lists/core-mentorship.python.org/</span><span style=\"color: #808080; text-decoration-color: #808080\"> </span>\n",
       "</pre>\n"
      ],
      "text/plain": [
       "\u001b[1;90m[\u001b[0m\u001b[90mURL_SEED\u001b[0m\u001b[1;90m]\u001b[0m\u001b[90m ℹ Redirecting from \u001b[0m\u001b[4;90mhttps://mail.python.org/mailman3/lists/core-mentorship.python.org\u001b[0m\u001b[90m to \u001b[0m\n",
       "\u001b[4;90mhttps://mail.python.org/mailman3/lists/core-mentorship.python.org/\u001b[0m\u001b[90m \u001b[0m\n"
      ]
     },
     "metadata": {},
     "output_type": "display_data"
    },
    {
     "data": {
      "text/html": [
       "<pre style=\"white-space:pre;overflow-x:auto;line-height:normal;font-family:Menlo,'DejaVu Sans Mono',consolas,'Courier New',monospace\"><span style=\"color: #808080; text-decoration-color: #808080; font-weight: bold\">[</span><span style=\"color: #808080; text-decoration-color: #808080\">URL_SEED</span><span style=\"color: #808080; text-decoration-color: #808080; font-weight: bold\">]</span><span style=\"color: #808080; text-decoration-color: #808080\"> ℹ Redirecting from </span><span style=\"color: #808080; text-decoration-color: #808080; text-decoration: underline\">https://devguide.python.org/docquality</span><span style=\"color: #808080; text-decoration-color: #808080\"> to </span><span style=\"color: #808080; text-decoration-color: #808080; text-decoration: underline\">https://devguide.python.org/docquality/</span><span style=\"color: #808080; text-decoration-color: #808080\"> </span>\n",
       "</pre>\n"
      ],
      "text/plain": [
       "\u001b[1;90m[\u001b[0m\u001b[90mURL_SEED\u001b[0m\u001b[1;90m]\u001b[0m\u001b[90m ℹ Redirecting from \u001b[0m\u001b[4;90mhttps://devguide.python.org/docquality\u001b[0m\u001b[90m to \u001b[0m\u001b[4;90mhttps://devguide.python.org/docquality/\u001b[0m\u001b[90m \u001b[0m\n"
      ]
     },
     "metadata": {},
     "output_type": "display_data"
    },
    {
     "data": {
      "text/html": [
       "<pre style=\"white-space:pre;overflow-x:auto;line-height:normal;font-family:Menlo,'DejaVu Sans Mono',consolas,'Courier New',monospace\"><span style=\"color: #008080; text-decoration-color: #008080; font-weight: bold\">[</span><span style=\"color: #008080; text-decoration-color: #008080\">URL_SEED</span><span style=\"color: #008080; text-decoration-color: #008080; font-weight: bold\">]</span><span style=\"color: #008080; text-decoration-color: #008080\"> ℹ HEAD VALID for </span><span style=\"color: #008080; text-decoration-color: #008080; text-decoration: underline\">https://devguide.python.org/tracker/</span><span style=\"color: #008080; text-decoration-color: #008080\"> </span>\n",
       "</pre>\n"
      ],
      "text/plain": [
       "\u001b[1;36m[\u001b[0m\u001b[36mURL_SEED\u001b[0m\u001b[1;36m]\u001b[0m\u001b[36m ℹ HEAD VALID for \u001b[0m\u001b[4;36mhttps://devguide.python.org/tracker/\u001b[0m\u001b[36m \u001b[0m\n"
      ]
     },
     "metadata": {},
     "output_type": "display_data"
    },
    {
     "data": {
      "text/html": [
       "<pre style=\"white-space:pre;overflow-x:auto;line-height:normal;font-family:Menlo,'DejaVu Sans Mono',consolas,'Courier New',monospace\"><span style=\"color: #008080; text-decoration-color: #008080; font-weight: bold\">[</span><span style=\"color: #008080; text-decoration-color: #008080\">URL_SEED</span><span style=\"color: #008080; text-decoration-color: #008080; font-weight: bold\">]</span><span style=\"color: #008080; text-decoration-color: #008080\"> ℹ HEAD VALID for </span><span style=\"color: #008080; text-decoration-color: #008080; text-decoration: underline\">https://devguide.python.org/documentation/translating/</span><span style=\"color: #008080; text-decoration-color: #008080\"> </span>\n",
       "</pre>\n"
      ],
      "text/plain": [
       "\u001b[1;36m[\u001b[0m\u001b[36mURL_SEED\u001b[0m\u001b[1;36m]\u001b[0m\u001b[36m ℹ HEAD VALID for \u001b[0m\u001b[4;36mhttps://devguide.python.org/documentation/translating/\u001b[0m\u001b[36m \u001b[0m\n"
      ]
     },
     "metadata": {},
     "output_type": "display_data"
    },
    {
     "data": {
      "text/html": [
       "<pre style=\"white-space:pre;overflow-x:auto;line-height:normal;font-family:Menlo,'DejaVu Sans Mono',consolas,'Courier New',monospace\"><span style=\"color: #008080; text-decoration-color: #008080; font-weight: bold\">[</span><span style=\"color: #008080; text-decoration-color: #008080\">URL_SEED</span><span style=\"color: #008080; text-decoration-color: #008080; font-weight: bold\">]</span><span style=\"color: #008080; text-decoration-color: #008080\"> ℹ HEAD VALID for </span><span style=\"color: #008080; text-decoration-color: #008080; text-decoration: underline\">https://devguide.python.org/docquality/</span><span style=\"color: #008080; text-decoration-color: #008080\"> </span>\n",
       "</pre>\n"
      ],
      "text/plain": [
       "\u001b[1;36m[\u001b[0m\u001b[36mURL_SEED\u001b[0m\u001b[1;36m]\u001b[0m\u001b[36m ℹ HEAD VALID for \u001b[0m\u001b[4;36mhttps://devguide.python.org/docquality/\u001b[0m\u001b[36m \u001b[0m\n"
      ]
     },
     "metadata": {},
     "output_type": "display_data"
    },
    {
     "data": {
      "text/html": [
       "<pre style=\"white-space:pre;overflow-x:auto;line-height:normal;font-family:Menlo,'DejaVu Sans Mono',consolas,'Courier New',monospace\"><span style=\"color: #008080; text-decoration-color: #008080; font-weight: bold\">[</span><span style=\"color: #008080; text-decoration-color: #008080\">URL_SEED</span><span style=\"color: #008080; text-decoration-color: #008080; font-weight: bold\">]</span><span style=\"color: #008080; text-decoration-color: #008080\"> ℹ HEAD VALID for </span><span style=\"color: #008080; text-decoration-color: #008080; text-decoration: underline\">https://mail.python.org/mailman3/lists/core-mentorship.python.org/</span><span style=\"color: #008080; text-decoration-color: #008080\"> </span>\n",
       "</pre>\n"
      ],
      "text/plain": [
       "\u001b[1;36m[\u001b[0m\u001b[36mURL_SEED\u001b[0m\u001b[1;36m]\u001b[0m\u001b[36m ℹ HEAD VALID for \u001b[0m\u001b[4;36mhttps://mail.python.org/mailman3/lists/core-mentorship.python.org/\u001b[0m\u001b[36m \u001b[0m\n"
      ]
     },
     "metadata": {},
     "output_type": "display_data"
    },
    {
     "data": {
      "text/html": [
       "<pre style=\"white-space:pre;overflow-x:auto;line-height:normal;font-family:Menlo,'DejaVu Sans Mono',consolas,'Courier New',monospace\"><span style=\"color: #008080; text-decoration-color: #008080; font-weight: bold\">[</span><span style=\"color: #008080; text-decoration-color: #008080\">URL_SEED</span><span style=\"color: #008080; text-decoration-color: #008080; font-weight: bold\">]</span><span style=\"color: #008080; text-decoration-color: #008080\"> ℹ Completed head extraction for </span><span style=\"color: #008080; text-decoration-color: #008080; font-weight: bold\">17</span><span style=\"color: #008080; text-decoration-color: #008080\"> URLs, </span><span style=\"color: #008080; text-decoration-color: #008080; font-weight: bold\">17</span><span style=\"color: #008080; text-decoration-color: #008080\"> successful </span>\n",
       "</pre>\n"
      ],
      "text/plain": [
       "\u001b[1;36m[\u001b[0m\u001b[36mURL_SEED\u001b[0m\u001b[1;36m]\u001b[0m\u001b[36m ℹ Completed head extraction for \u001b[0m\u001b[1;36m17\u001b[0m\u001b[36m URLs, \u001b[0m\u001b[1;36m17\u001b[0m\u001b[36m successful \u001b[0m\n"
      ]
     },
     "metadata": {},
     "output_type": "display_data"
    },
    {
     "data": {
      "text/html": [
       "<pre style=\"white-space:pre;overflow-x:auto;line-height:normal;font-family:Menlo,'DejaVu Sans Mono',consolas,'Courier New',monospace\"><span style=\"color: #008080; text-decoration-color: #008080; font-weight: bold\">[</span><span style=\"color: #008080; text-decoration-color: #008080\">LINK_EXTRACT</span><span style=\"color: #008080; text-decoration-color: #008080; font-weight: bold\">]</span><span style=\"color: #008080; text-decoration-color: #008080\"> ℹ Completed head extraction for links, </span><span style=\"color: #008080; text-decoration-color: #008080; font-weight: bold\">17</span><span style=\"color: #008080; text-decoration-color: #008080\"> successful </span>\n",
       "</pre>\n"
      ],
      "text/plain": [
       "\u001b[1;36m[\u001b[0m\u001b[36mLINK_EXTRACT\u001b[0m\u001b[1;36m]\u001b[0m\u001b[36m ℹ Completed head extraction for links, \u001b[0m\u001b[1;36m17\u001b[0m\u001b[36m successful \u001b[0m\n"
      ]
     },
     "metadata": {},
     "output_type": "display_data"
    },
    {
     "data": {
      "text/html": [
       "<pre style=\"white-space:pre;overflow-x:auto;line-height:normal;font-family:Menlo,'DejaVu Sans Mono',consolas,'Courier New',monospace\"><span style=\"color: #808080; text-decoration-color: #808080; font-weight: bold\">[</span><span style=\"color: #808080; text-decoration-color: #808080\">URL_SEED</span><span style=\"color: #808080; text-decoration-color: #808080; font-weight: bold\">]</span><span style=\"color: #808080; text-decoration-color: #808080\"> ℹ Closed HTTP client </span>\n",
       "</pre>\n"
      ],
      "text/plain": [
       "\u001b[1;90m[\u001b[0m\u001b[90mURL_SEED\u001b[0m\u001b[1;90m]\u001b[0m\u001b[90m ℹ Closed HTTP client \u001b[0m\n"
      ]
     },
     "metadata": {},
     "output_type": "display_data"
    },
    {
     "data": {
      "text/html": [
       "<pre style=\"white-space:pre;overflow-x:auto;line-height:normal;font-family:Menlo,'DejaVu Sans Mono',consolas,'Courier New',monospace\"><span style=\"color: #008080; text-decoration-color: #008080; font-weight: bold\">[</span><span style=\"color: #008080; text-decoration-color: #008080\">LINK_EXTRACT</span><span style=\"color: #008080; text-decoration-color: #008080; font-weight: bold\">]</span><span style=\"color: #008080; text-decoration-color: #008080\"> ℹ Link head extraction completed successfully </span>\n",
       "</pre>\n"
      ],
      "text/plain": [
       "\u001b[1;36m[\u001b[0m\u001b[36mLINK_EXTRACT\u001b[0m\u001b[1;36m]\u001b[0m\u001b[36m ℹ Link head extraction completed successfully \u001b[0m\n"
      ]
     },
     "metadata": {},
     "output_type": "display_data"
    },
    {
     "data": {
      "text/html": [
       "<pre style=\"white-space:pre;overflow-x:auto;line-height:normal;font-family:Menlo,'DejaVu Sans Mono',consolas,'Courier New',monospace\"><span style=\"color: #008000; text-decoration-color: #008000; font-weight: bold\">[</span><span style=\"color: #008000; text-decoration-color: #008000\">SCRAPE</span><span style=\"color: #008000; text-decoration-color: #008000; font-weight: bold\">]</span><span style=\"color: #008000; text-decoration-color: #008000\">.. ◆ </span><span style=\"color: #008000; text-decoration-color: #008000; text-decoration: underline\">https://docs.python.org/3/bugs.html</span><span style=\"color: #008000; text-decoration-color: #008000\">                                                                  |</span>\n",
       "<span style=\"color: #008000; text-decoration-color: #008000\">✓ | ⏱: </span><span style=\"color: #008000; text-decoration-color: #008000; font-weight: bold\">1.</span><span style=\"color: #008000; text-decoration-color: #008000\">63s </span>\n",
       "</pre>\n"
      ],
      "text/plain": [
       "\u001b[1;32m[\u001b[0m\u001b[32mSCRAPE\u001b[0m\u001b[1;32m]\u001b[0m\u001b[32m.. ◆ \u001b[0m\u001b[4;32mhttps://docs.python.org/3/bugs.html\u001b[0m\u001b[32m                                                                  |\u001b[0m\n",
       "\u001b[32m✓\u001b[0m\u001b[32m | ⏱: \u001b[0m\u001b[1;32m1.\u001b[0m\u001b[32m63s \u001b[0m\n"
      ]
     },
     "metadata": {},
     "output_type": "display_data"
    },
    {
     "data": {
      "text/html": [
       "<pre style=\"white-space:pre;overflow-x:auto;line-height:normal;font-family:Menlo,'DejaVu Sans Mono',consolas,'Courier New',monospace\"><span style=\"color: #008000; text-decoration-color: #008000; font-weight: bold\">[</span><span style=\"color: #008000; text-decoration-color: #008000\">COMPLETE</span><span style=\"color: #008000; text-decoration-color: #008000; font-weight: bold\">]</span><span style=\"color: #008000; text-decoration-color: #008000\"> ● </span><span style=\"color: #008000; text-decoration-color: #008000; text-decoration: underline\">https://docs.python.org/3/bugs.html</span><span style=\"color: #008000; text-decoration-color: #008000\">                                                                  |</span>\n",
       "<span style=\"color: #008000; text-decoration-color: #008000\">✓ | ⏱: </span><span style=\"color: #008000; text-decoration-color: #008000; font-weight: bold\">2.</span><span style=\"color: #008000; text-decoration-color: #008000\">96s </span>\n",
       "</pre>\n"
      ],
      "text/plain": [
       "\u001b[1;32m[\u001b[0m\u001b[32mCOMPLETE\u001b[0m\u001b[1;32m]\u001b[0m\u001b[32m ● \u001b[0m\u001b[4;32mhttps://docs.python.org/3/bugs.html\u001b[0m\u001b[32m                                                                  |\u001b[0m\n",
       "\u001b[32m✓\u001b[0m\u001b[32m | ⏱: \u001b[0m\u001b[1;32m2.\u001b[0m\u001b[32m96s \u001b[0m\n"
      ]
     },
     "metadata": {},
     "output_type": "display_data"
    },
    {
     "data": {
      "text/html": [
       "<pre style=\"white-space:pre;overflow-x:auto;line-height:normal;font-family:Menlo,'DejaVu Sans Mono',consolas,'Courier New',monospace\"><span style=\"color: #008000; text-decoration-color: #008000; font-weight: bold\">[</span><span style=\"color: #008000; text-decoration-color: #008000\">FETCH</span><span style=\"color: #008000; text-decoration-color: #008000; font-weight: bold\">]</span><span style=\"color: #008000; text-decoration-color: #008000\">... ↓ </span><span style=\"color: #008000; text-decoration-color: #008000; text-decoration: underline\">https://docs.python.org/3/bugs.html</span><span style=\"color: #008000; text-decoration-color: #008000\">                                                                  |</span>\n",
       "<span style=\"color: #008000; text-decoration-color: #008000\">✓ | ⏱: </span><span style=\"color: #008000; text-decoration-color: #008000; font-weight: bold\">3.</span><span style=\"color: #008000; text-decoration-color: #008000\">29s </span>\n",
       "</pre>\n"
      ],
      "text/plain": [
       "\u001b[1;32m[\u001b[0m\u001b[32mFETCH\u001b[0m\u001b[1;32m]\u001b[0m\u001b[32m...\u001b[0m\u001b[32m ↓ \u001b[0m\u001b[4;32mhttps://docs.python.org/3/bugs.html\u001b[0m\u001b[32m                                                                  |\u001b[0m\n",
       "\u001b[32m✓\u001b[0m\u001b[32m | ⏱: \u001b[0m\u001b[1;32m3.\u001b[0m\u001b[32m29s \u001b[0m\n"
      ]
     },
     "metadata": {},
     "output_type": "display_data"
    },
    {
     "data": {
      "text/html": [
       "<pre style=\"white-space:pre;overflow-x:auto;line-height:normal;font-family:Menlo,'DejaVu Sans Mono',consolas,'Courier New',monospace\"><span style=\"color: #808080; text-decoration-color: #808080; font-weight: bold\">[</span><span style=\"color: #808080; text-decoration-color: #808080\">LINK_EXTRACT</span><span style=\"color: #808080; text-decoration-color: #808080; font-weight: bold\">]</span><span style=\"color: #808080; text-decoration-color: #808080\"> ℹ Added </span><span style=\"color: #808080; text-decoration-color: #808080; font-weight: bold\">17</span><span style=\"color: #808080; text-decoration-color: #808080\"> internal links </span>\n",
       "</pre>\n"
      ],
      "text/plain": [
       "\u001b[1;90m[\u001b[0m\u001b[90mLINK_EXTRACT\u001b[0m\u001b[1;90m]\u001b[0m\u001b[90m ℹ Added \u001b[0m\u001b[1;90m17\u001b[0m\u001b[90m internal links \u001b[0m\n"
      ]
     },
     "metadata": {},
     "output_type": "display_data"
    },
    {
     "data": {
      "text/html": [
       "<pre style=\"white-space:pre;overflow-x:auto;line-height:normal;font-family:Menlo,'DejaVu Sans Mono',consolas,'Courier New',monospace\"><span style=\"color: #808080; text-decoration-color: #808080; font-weight: bold\">[</span><span style=\"color: #808080; text-decoration-color: #808080\">LINK_EXTRACT</span><span style=\"color: #808080; text-decoration-color: #808080; font-weight: bold\">]</span><span style=\"color: #808080; text-decoration-color: #808080\"> ℹ Final filtered URLs: </span><span style=\"color: #808080; text-decoration-color: #808080; font-weight: bold\">17</span><span style=\"color: #808080; text-decoration-color: #808080\"> unique links </span>\n",
       "</pre>\n"
      ],
      "text/plain": [
       "\u001b[1;90m[\u001b[0m\u001b[90mLINK_EXTRACT\u001b[0m\u001b[1;90m]\u001b[0m\u001b[90m ℹ Final filtered URLs: \u001b[0m\u001b[1;90m17\u001b[0m\u001b[90m unique links \u001b[0m\n"
      ]
     },
     "metadata": {},
     "output_type": "display_data"
    },
    {
     "data": {
      "text/html": [
       "<pre style=\"white-space:pre;overflow-x:auto;line-height:normal;font-family:Menlo,'DejaVu Sans Mono',consolas,'Courier New',monospace\"><span style=\"color: #008080; text-decoration-color: #008080; font-weight: bold\">[</span><span style=\"color: #008080; text-decoration-color: #008080\">LINK_EXTRACT</span><span style=\"color: #008080; text-decoration-color: #008080; font-weight: bold\">]</span><span style=\"color: #008080; text-decoration-color: #008080\"> ℹ Extracting head content for </span><span style=\"color: #008080; text-decoration-color: #008080; font-weight: bold\">17</span><span style=\"color: #008080; text-decoration-color: #008080\"> filtered links </span>\n",
       "</pre>\n"
      ],
      "text/plain": [
       "\u001b[1;36m[\u001b[0m\u001b[36mLINK_EXTRACT\u001b[0m\u001b[1;36m]\u001b[0m\u001b[36m ℹ Extracting head content for \u001b[0m\u001b[1;36m17\u001b[0m\u001b[36m filtered links \u001b[0m\n"
      ]
     },
     "metadata": {},
     "output_type": "display_data"
    },
    {
     "data": {
      "text/html": [
       "<pre style=\"white-space:pre;overflow-x:auto;line-height:normal;font-family:Menlo,'DejaVu Sans Mono',consolas,'Courier New',monospace\"><span style=\"color: #008080; text-decoration-color: #008080; font-weight: bold\">[</span><span style=\"color: #008080; text-decoration-color: #008080\">URL_SEED</span><span style=\"color: #008080; text-decoration-color: #008080; font-weight: bold\">]</span><span style=\"color: #008080; text-decoration-color: #008080\"> ℹ Starting head extraction for </span><span style=\"color: #008080; text-decoration-color: #008080; font-weight: bold\">17</span><span style=\"color: #008080; text-decoration-color: #008080\"> custom URLs </span>\n",
       "</pre>\n"
      ],
      "text/plain": [
       "\u001b[1;36m[\u001b[0m\u001b[36mURL_SEED\u001b[0m\u001b[1;36m]\u001b[0m\u001b[36m ℹ Starting head extraction for \u001b[0m\u001b[1;36m17\u001b[0m\u001b[36m custom URLs \u001b[0m\n"
      ]
     },
     "metadata": {},
     "output_type": "display_data"
    },
    {
     "data": {
      "text/html": [
       "<pre style=\"white-space:pre;overflow-x:auto;line-height:normal;font-family:Menlo,'DejaVu Sans Mono',consolas,'Courier New',monospace\"><span style=\"color: #008080; text-decoration-color: #008080; font-weight: bold\">[</span><span style=\"color: #008080; text-decoration-color: #008080\">URL_SEED</span><span style=\"color: #008080; text-decoration-color: #008080; font-weight: bold\">]</span><span style=\"color: #008080; text-decoration-color: #008080\"> ℹ Completed head extraction for </span><span style=\"color: #008080; text-decoration-color: #008080; font-weight: bold\">17</span><span style=\"color: #008080; text-decoration-color: #008080\"> URLs, </span><span style=\"color: #008080; text-decoration-color: #008080; font-weight: bold\">17</span><span style=\"color: #008080; text-decoration-color: #008080\"> successful </span>\n",
       "</pre>\n"
      ],
      "text/plain": [
       "\u001b[1;36m[\u001b[0m\u001b[36mURL_SEED\u001b[0m\u001b[1;36m]\u001b[0m\u001b[36m ℹ Completed head extraction for \u001b[0m\u001b[1;36m17\u001b[0m\u001b[36m URLs, \u001b[0m\u001b[1;36m17\u001b[0m\u001b[36m successful \u001b[0m\n"
      ]
     },
     "metadata": {},
     "output_type": "display_data"
    },
    {
     "data": {
      "text/html": [
       "<pre style=\"white-space:pre;overflow-x:auto;line-height:normal;font-family:Menlo,'DejaVu Sans Mono',consolas,'Courier New',monospace\"><span style=\"color: #008080; text-decoration-color: #008080; font-weight: bold\">[</span><span style=\"color: #008080; text-decoration-color: #008080\">LINK_EXTRACT</span><span style=\"color: #008080; text-decoration-color: #008080; font-weight: bold\">]</span><span style=\"color: #008080; text-decoration-color: #008080\"> ℹ Completed head extraction for links, </span><span style=\"color: #008080; text-decoration-color: #008080; font-weight: bold\">17</span><span style=\"color: #008080; text-decoration-color: #008080\"> successful </span>\n",
       "</pre>\n"
      ],
      "text/plain": [
       "\u001b[1;36m[\u001b[0m\u001b[36mLINK_EXTRACT\u001b[0m\u001b[1;36m]\u001b[0m\u001b[36m ℹ Completed head extraction for links, \u001b[0m\u001b[1;36m17\u001b[0m\u001b[36m successful \u001b[0m\n"
      ]
     },
     "metadata": {},
     "output_type": "display_data"
    },
    {
     "data": {
      "text/html": [
       "<pre style=\"white-space:pre;overflow-x:auto;line-height:normal;font-family:Menlo,'DejaVu Sans Mono',consolas,'Courier New',monospace\"><span style=\"color: #808080; text-decoration-color: #808080; font-weight: bold\">[</span><span style=\"color: #808080; text-decoration-color: #808080\">URL_SEED</span><span style=\"color: #808080; text-decoration-color: #808080; font-weight: bold\">]</span><span style=\"color: #808080; text-decoration-color: #808080\"> ℹ Closed HTTP client </span>\n",
       "</pre>\n"
      ],
      "text/plain": [
       "\u001b[1;90m[\u001b[0m\u001b[90mURL_SEED\u001b[0m\u001b[1;90m]\u001b[0m\u001b[90m ℹ Closed HTTP client \u001b[0m\n"
      ]
     },
     "metadata": {},
     "output_type": "display_data"
    },
    {
     "data": {
      "text/html": [
       "<pre style=\"white-space:pre;overflow-x:auto;line-height:normal;font-family:Menlo,'DejaVu Sans Mono',consolas,'Courier New',monospace\"><span style=\"color: #008080; text-decoration-color: #008080; font-weight: bold\">[</span><span style=\"color: #008080; text-decoration-color: #008080\">LINK_EXTRACT</span><span style=\"color: #008080; text-decoration-color: #008080; font-weight: bold\">]</span><span style=\"color: #008080; text-decoration-color: #008080\"> ℹ Link head extraction completed successfully </span>\n",
       "</pre>\n"
      ],
      "text/plain": [
       "\u001b[1;36m[\u001b[0m\u001b[36mLINK_EXTRACT\u001b[0m\u001b[1;36m]\u001b[0m\u001b[36m ℹ Link head extraction completed successfully \u001b[0m\n"
      ]
     },
     "metadata": {},
     "output_type": "display_data"
    },
    {
     "data": {
      "text/html": [
       "<pre style=\"white-space:pre;overflow-x:auto;line-height:normal;font-family:Menlo,'DejaVu Sans Mono',consolas,'Courier New',monospace\"><span style=\"color: #008000; text-decoration-color: #008000; font-weight: bold\">[</span><span style=\"color: #008000; text-decoration-color: #008000\">SCRAPE</span><span style=\"color: #008000; text-decoration-color: #008000; font-weight: bold\">]</span><span style=\"color: #008000; text-decoration-color: #008000\">.. ◆ </span><span style=\"color: #008000; text-decoration-color: #008000; text-decoration: underline\">https://docs.python.org/3/bugs.html</span><span style=\"color: #008000; text-decoration-color: #008000\">                                                                  |</span>\n",
       "<span style=\"color: #008000; text-decoration-color: #008000\">✓ | ⏱: </span><span style=\"color: #008000; text-decoration-color: #008000; font-weight: bold\">0.</span><span style=\"color: #008000; text-decoration-color: #008000\">03s </span>\n",
       "</pre>\n"
      ],
      "text/plain": [
       "\u001b[1;32m[\u001b[0m\u001b[32mSCRAPE\u001b[0m\u001b[1;32m]\u001b[0m\u001b[32m.. ◆ \u001b[0m\u001b[4;32mhttps://docs.python.org/3/bugs.html\u001b[0m\u001b[32m                                                                  |\u001b[0m\n",
       "\u001b[32m✓\u001b[0m\u001b[32m | ⏱: \u001b[0m\u001b[1;32m0.\u001b[0m\u001b[32m03s \u001b[0m\n"
      ]
     },
     "metadata": {},
     "output_type": "display_data"
    },
    {
     "data": {
      "text/html": [
       "<pre style=\"white-space:pre;overflow-x:auto;line-height:normal;font-family:Menlo,'DejaVu Sans Mono',consolas,'Courier New',monospace\"><span style=\"color: #008000; text-decoration-color: #008000; font-weight: bold\">[</span><span style=\"color: #008000; text-decoration-color: #008000\">COMPLETE</span><span style=\"color: #008000; text-decoration-color: #008000; font-weight: bold\">]</span><span style=\"color: #008000; text-decoration-color: #008000\"> ● </span><span style=\"color: #008000; text-decoration-color: #008000; text-decoration: underline\">https://docs.python.org/3/bugs.html</span><span style=\"color: #008000; text-decoration-color: #008000\">                                                                  |</span>\n",
       "<span style=\"color: #008000; text-decoration-color: #008000\">✓ | ⏱: </span><span style=\"color: #008000; text-decoration-color: #008000; font-weight: bold\">3.</span><span style=\"color: #008000; text-decoration-color: #008000\">32s </span>\n",
       "</pre>\n"
      ],
      "text/plain": [
       "\u001b[1;32m[\u001b[0m\u001b[32mCOMPLETE\u001b[0m\u001b[1;32m]\u001b[0m\u001b[32m ● \u001b[0m\u001b[4;32mhttps://docs.python.org/3/bugs.html\u001b[0m\u001b[32m                                                                  |\u001b[0m\n",
       "\u001b[32m✓\u001b[0m\u001b[32m | ⏱: \u001b[0m\u001b[1;32m3.\u001b[0m\u001b[32m32s \u001b[0m\n"
      ]
     },
     "metadata": {},
     "output_type": "display_data"
    },
    {
     "data": {
      "text/html": [
       "<pre style=\"white-space:pre;overflow-x:auto;line-height:normal;font-family:Menlo,'DejaVu Sans Mono',consolas,'Courier New',monospace\"><span style=\"color: #008000; text-decoration-color: #008000; font-weight: bold\">[</span><span style=\"color: #008000; text-decoration-color: #008000\">FETCH</span><span style=\"color: #008000; text-decoration-color: #008000; font-weight: bold\">]</span><span style=\"color: #008000; text-decoration-color: #008000\">... ↓ </span><span style=\"color: #008000; text-decoration-color: #008000; text-decoration: underline\">https://docs.python.org/3/bugs.html</span><span style=\"color: #008000; text-decoration-color: #008000\">                                                                  |</span>\n",
       "<span style=\"color: #008000; text-decoration-color: #008000\">✓ | ⏱: </span><span style=\"color: #008000; text-decoration-color: #008000; font-weight: bold\">3.</span><span style=\"color: #008000; text-decoration-color: #008000\">16s </span>\n",
       "</pre>\n"
      ],
      "text/plain": [
       "\u001b[1;32m[\u001b[0m\u001b[32mFETCH\u001b[0m\u001b[1;32m]\u001b[0m\u001b[32m...\u001b[0m\u001b[32m ↓ \u001b[0m\u001b[4;32mhttps://docs.python.org/3/bugs.html\u001b[0m\u001b[32m                                                                  |\u001b[0m\n",
       "\u001b[32m✓\u001b[0m\u001b[32m | ⏱: \u001b[0m\u001b[1;32m3.\u001b[0m\u001b[32m16s \u001b[0m\n"
      ]
     },
     "metadata": {},
     "output_type": "display_data"
    },
    {
     "data": {
      "text/html": [
       "<pre style=\"white-space:pre;overflow-x:auto;line-height:normal;font-family:Menlo,'DejaVu Sans Mono',consolas,'Courier New',monospace\"><span style=\"color: #808080; text-decoration-color: #808080; font-weight: bold\">[</span><span style=\"color: #808080; text-decoration-color: #808080\">LINK_EXTRACT</span><span style=\"color: #808080; text-decoration-color: #808080; font-weight: bold\">]</span><span style=\"color: #808080; text-decoration-color: #808080\"> ℹ Added </span><span style=\"color: #808080; text-decoration-color: #808080; font-weight: bold\">17</span><span style=\"color: #808080; text-decoration-color: #808080\"> internal links </span>\n",
       "</pre>\n"
      ],
      "text/plain": [
       "\u001b[1;90m[\u001b[0m\u001b[90mLINK_EXTRACT\u001b[0m\u001b[1;90m]\u001b[0m\u001b[90m ℹ Added \u001b[0m\u001b[1;90m17\u001b[0m\u001b[90m internal links \u001b[0m\n"
      ]
     },
     "metadata": {},
     "output_type": "display_data"
    },
    {
     "data": {
      "text/html": [
       "<pre style=\"white-space:pre;overflow-x:auto;line-height:normal;font-family:Menlo,'DejaVu Sans Mono',consolas,'Courier New',monospace\"><span style=\"color: #808080; text-decoration-color: #808080; font-weight: bold\">[</span><span style=\"color: #808080; text-decoration-color: #808080\">LINK_EXTRACT</span><span style=\"color: #808080; text-decoration-color: #808080; font-weight: bold\">]</span><span style=\"color: #808080; text-decoration-color: #808080\"> ℹ Final filtered URLs: </span><span style=\"color: #808080; text-decoration-color: #808080; font-weight: bold\">17</span><span style=\"color: #808080; text-decoration-color: #808080\"> unique links </span>\n",
       "</pre>\n"
      ],
      "text/plain": [
       "\u001b[1;90m[\u001b[0m\u001b[90mLINK_EXTRACT\u001b[0m\u001b[1;90m]\u001b[0m\u001b[90m ℹ Final filtered URLs: \u001b[0m\u001b[1;90m17\u001b[0m\u001b[90m unique links \u001b[0m\n"
      ]
     },
     "metadata": {},
     "output_type": "display_data"
    },
    {
     "data": {
      "text/html": [
       "<pre style=\"white-space:pre;overflow-x:auto;line-height:normal;font-family:Menlo,'DejaVu Sans Mono',consolas,'Courier New',monospace\"><span style=\"color: #008080; text-decoration-color: #008080; font-weight: bold\">[</span><span style=\"color: #008080; text-decoration-color: #008080\">LINK_EXTRACT</span><span style=\"color: #008080; text-decoration-color: #008080; font-weight: bold\">]</span><span style=\"color: #008080; text-decoration-color: #008080\"> ℹ Extracting head content for </span><span style=\"color: #008080; text-decoration-color: #008080; font-weight: bold\">17</span><span style=\"color: #008080; text-decoration-color: #008080\"> filtered links </span>\n",
       "</pre>\n"
      ],
      "text/plain": [
       "\u001b[1;36m[\u001b[0m\u001b[36mLINK_EXTRACT\u001b[0m\u001b[1;36m]\u001b[0m\u001b[36m ℹ Extracting head content for \u001b[0m\u001b[1;36m17\u001b[0m\u001b[36m filtered links \u001b[0m\n"
      ]
     },
     "metadata": {},
     "output_type": "display_data"
    },
    {
     "data": {
      "text/html": [
       "<pre style=\"white-space:pre;overflow-x:auto;line-height:normal;font-family:Menlo,'DejaVu Sans Mono',consolas,'Courier New',monospace\"><span style=\"color: #008080; text-decoration-color: #008080; font-weight: bold\">[</span><span style=\"color: #008080; text-decoration-color: #008080\">URL_SEED</span><span style=\"color: #008080; text-decoration-color: #008080; font-weight: bold\">]</span><span style=\"color: #008080; text-decoration-color: #008080\"> ℹ Starting head extraction for </span><span style=\"color: #008080; text-decoration-color: #008080; font-weight: bold\">17</span><span style=\"color: #008080; text-decoration-color: #008080\"> custom URLs </span>\n",
       "</pre>\n"
      ],
      "text/plain": [
       "\u001b[1;36m[\u001b[0m\u001b[36mURL_SEED\u001b[0m\u001b[1;36m]\u001b[0m\u001b[36m ℹ Starting head extraction for \u001b[0m\u001b[1;36m17\u001b[0m\u001b[36m custom URLs \u001b[0m\n"
      ]
     },
     "metadata": {},
     "output_type": "display_data"
    },
    {
     "data": {
      "text/html": [
       "<pre style=\"white-space:pre;overflow-x:auto;line-height:normal;font-family:Menlo,'DejaVu Sans Mono',consolas,'Courier New',monospace\"><span style=\"color: #008080; text-decoration-color: #008080; font-weight: bold\">[</span><span style=\"color: #008080; text-decoration-color: #008080\">URL_SEED</span><span style=\"color: #008080; text-decoration-color: #008080; font-weight: bold\">]</span><span style=\"color: #008080; text-decoration-color: #008080\"> ℹ Completed head extraction for </span><span style=\"color: #008080; text-decoration-color: #008080; font-weight: bold\">17</span><span style=\"color: #008080; text-decoration-color: #008080\"> URLs, </span><span style=\"color: #008080; text-decoration-color: #008080; font-weight: bold\">17</span><span style=\"color: #008080; text-decoration-color: #008080\"> successful </span>\n",
       "</pre>\n"
      ],
      "text/plain": [
       "\u001b[1;36m[\u001b[0m\u001b[36mURL_SEED\u001b[0m\u001b[1;36m]\u001b[0m\u001b[36m ℹ Completed head extraction for \u001b[0m\u001b[1;36m17\u001b[0m\u001b[36m URLs, \u001b[0m\u001b[1;36m17\u001b[0m\u001b[36m successful \u001b[0m\n"
      ]
     },
     "metadata": {},
     "output_type": "display_data"
    },
    {
     "data": {
      "text/html": [
       "<pre style=\"white-space:pre;overflow-x:auto;line-height:normal;font-family:Menlo,'DejaVu Sans Mono',consolas,'Courier New',monospace\"><span style=\"color: #008080; text-decoration-color: #008080; font-weight: bold\">[</span><span style=\"color: #008080; text-decoration-color: #008080\">LINK_EXTRACT</span><span style=\"color: #008080; text-decoration-color: #008080; font-weight: bold\">]</span><span style=\"color: #008080; text-decoration-color: #008080\"> ℹ Completed head extraction for links, </span><span style=\"color: #008080; text-decoration-color: #008080; font-weight: bold\">17</span><span style=\"color: #008080; text-decoration-color: #008080\"> successful </span>\n",
       "</pre>\n"
      ],
      "text/plain": [
       "\u001b[1;36m[\u001b[0m\u001b[36mLINK_EXTRACT\u001b[0m\u001b[1;36m]\u001b[0m\u001b[36m ℹ Completed head extraction for links, \u001b[0m\u001b[1;36m17\u001b[0m\u001b[36m successful \u001b[0m\n"
      ]
     },
     "metadata": {},
     "output_type": "display_data"
    },
    {
     "data": {
      "text/html": [
       "<pre style=\"white-space:pre;overflow-x:auto;line-height:normal;font-family:Menlo,'DejaVu Sans Mono',consolas,'Courier New',monospace\"><span style=\"color: #808080; text-decoration-color: #808080; font-weight: bold\">[</span><span style=\"color: #808080; text-decoration-color: #808080\">URL_SEED</span><span style=\"color: #808080; text-decoration-color: #808080; font-weight: bold\">]</span><span style=\"color: #808080; text-decoration-color: #808080\"> ℹ Closed HTTP client </span>\n",
       "</pre>\n"
      ],
      "text/plain": [
       "\u001b[1;90m[\u001b[0m\u001b[90mURL_SEED\u001b[0m\u001b[1;90m]\u001b[0m\u001b[90m ℹ Closed HTTP client \u001b[0m\n"
      ]
     },
     "metadata": {},
     "output_type": "display_data"
    },
    {
     "data": {
      "text/html": [
       "<pre style=\"white-space:pre;overflow-x:auto;line-height:normal;font-family:Menlo,'DejaVu Sans Mono',consolas,'Courier New',monospace\"><span style=\"color: #008080; text-decoration-color: #008080; font-weight: bold\">[</span><span style=\"color: #008080; text-decoration-color: #008080\">LINK_EXTRACT</span><span style=\"color: #008080; text-decoration-color: #008080; font-weight: bold\">]</span><span style=\"color: #008080; text-decoration-color: #008080\"> ℹ Link head extraction completed successfully </span>\n",
       "</pre>\n"
      ],
      "text/plain": [
       "\u001b[1;36m[\u001b[0m\u001b[36mLINK_EXTRACT\u001b[0m\u001b[1;36m]\u001b[0m\u001b[36m ℹ Link head extraction completed successfully \u001b[0m\n"
      ]
     },
     "metadata": {},
     "output_type": "display_data"
    },
    {
     "data": {
      "text/html": [
       "<pre style=\"white-space:pre;overflow-x:auto;line-height:normal;font-family:Menlo,'DejaVu Sans Mono',consolas,'Courier New',monospace\"><span style=\"color: #008000; text-decoration-color: #008000; font-weight: bold\">[</span><span style=\"color: #008000; text-decoration-color: #008000\">SCRAPE</span><span style=\"color: #008000; text-decoration-color: #008000; font-weight: bold\">]</span><span style=\"color: #008000; text-decoration-color: #008000\">.. ◆ </span><span style=\"color: #008000; text-decoration-color: #008000; text-decoration: underline\">https://docs.python.org/3/bugs.html</span><span style=\"color: #008000; text-decoration-color: #008000\">                                                                  |</span>\n",
       "<span style=\"color: #008000; text-decoration-color: #008000\">✓ | ⏱: </span><span style=\"color: #808000; text-decoration-color: #808000; font-weight: bold\">0.</span><span style=\"color: #808000; text-decoration-color: #808000\">03</span><span style=\"color: #008000; text-decoration-color: #008000\">s </span>\n",
       "</pre>\n"
      ],
      "text/plain": [
       "\u001b[1;32m[\u001b[0m\u001b[32mSCRAPE\u001b[0m\u001b[1;32m]\u001b[0m\u001b[32m.. ◆ \u001b[0m\u001b[4;32mhttps://docs.python.org/3/bugs.html\u001b[0m\u001b[32m                                                                  |\u001b[0m\n",
       "\u001b[32m✓\u001b[0m\u001b[32m | ⏱: \u001b[0m\u001b[1;33m0.\u001b[0m\u001b[33m03\u001b[0m\u001b[32ms \u001b[0m\n"
      ]
     },
     "metadata": {},
     "output_type": "display_data"
    },
    {
     "data": {
      "text/html": [
       "<pre style=\"white-space:pre;overflow-x:auto;line-height:normal;font-family:Menlo,'DejaVu Sans Mono',consolas,'Courier New',monospace\"><span style=\"color: #008000; text-decoration-color: #008000; font-weight: bold\">[</span><span style=\"color: #008000; text-decoration-color: #008000\">COMPLETE</span><span style=\"color: #008000; text-decoration-color: #008000; font-weight: bold\">]</span><span style=\"color: #008000; text-decoration-color: #008000\"> ● </span><span style=\"color: #008000; text-decoration-color: #008000; text-decoration: underline\">https://docs.python.org/3/bugs.html</span><span style=\"color: #008000; text-decoration-color: #008000\">                                                                  |</span>\n",
       "<span style=\"color: #008000; text-decoration-color: #008000\">✓ | ⏱: </span><span style=\"color: #008000; text-decoration-color: #008000; font-weight: bold\">3.</span><span style=\"color: #008000; text-decoration-color: #008000\">20s </span>\n",
       "</pre>\n"
      ],
      "text/plain": [
       "\u001b[1;32m[\u001b[0m\u001b[32mCOMPLETE\u001b[0m\u001b[1;32m]\u001b[0m\u001b[32m ● \u001b[0m\u001b[4;32mhttps://docs.python.org/3/bugs.html\u001b[0m\u001b[32m                                                                  |\u001b[0m\n",
       "\u001b[32m✓\u001b[0m\u001b[32m | ⏱: \u001b[0m\u001b[1;32m3.\u001b[0m\u001b[32m20s \u001b[0m\n"
      ]
     },
     "metadata": {},
     "output_type": "display_data"
    },
    {
     "data": {
      "text/html": [
       "<pre style=\"white-space:pre;overflow-x:auto;line-height:normal;font-family:Menlo,'DejaVu Sans Mono',consolas,'Courier New',monospace\"><span style=\"font-style: italic\">  Adaptive Crawl Stats - Query:   </span>\n",
       "<span style=\"font-style: italic\">     'async context managers'     </span>\n",
       "┏━━━━━━━━━━━━━━━━┳━━━━━━━━━━━━━━━┓\n",
       "┃<span style=\"font-weight: bold\"> Metric         </span>┃<span style=\"font-weight: bold\"> Value         </span>┃\n",
       "┡━━━━━━━━━━━━━━━━╇━━━━━━━━━━━━━━━┩\n",
       "│<span style=\"color: #008080; text-decoration-color: #008080\"> Pages Crawled  </span>│<span style=\"color: #800080; text-decoration-color: #800080\"> 5             </span>│\n",
       "│<span style=\"color: #008080; text-decoration-color: #008080\"> Unique Terms   </span>│<span style=\"color: #800080; text-decoration-color: #800080\"> 3818          </span>│\n",
       "│<span style=\"color: #008080; text-decoration-color: #008080\"> Total Terms    </span>│<span style=\"color: #800080; text-decoration-color: #800080\"> 33865         </span>│\n",
       "│<span style=\"color: #008080; text-decoration-color: #008080\"> Content Length </span>│<span style=\"color: #800080; text-decoration-color: #800080\"> 261,320 chars </span>│\n",
       "│<span style=\"color: #008080; text-decoration-color: #008080\"> Pending Links  </span>│<span style=\"color: #800080; text-decoration-color: #800080\"> 150           </span>│\n",
       "│<span style=\"color: #008080; text-decoration-color: #008080\">                </span>│<span style=\"color: #800080; text-decoration-color: #800080\">               </span>│\n",
       "│<span style=\"color: #008080; text-decoration-color: #008080\"> Confidence     </span>│<span style=\"color: #800080; text-decoration-color: #800080\"> 52.64%        </span>│\n",
       "│<span style=\"color: #008080; text-decoration-color: #008080\"> Coverage       </span>│<span style=\"color: #800080; text-decoration-color: #800080\"> 33.27%        </span>│\n",
       "│<span style=\"color: #008080; text-decoration-color: #008080\"> Consistency    </span>│<span style=\"color: #800080; text-decoration-color: #800080\"> 31.61%        </span>│\n",
       "│<span style=\"color: #008080; text-decoration-color: #008080\"> Saturation     </span>│<span style=\"color: #800080; text-decoration-color: #800080\"> 99.48%        </span>│\n",
       "│<span style=\"color: #008080; text-decoration-color: #008080\">                </span>│<span style=\"color: #800080; text-decoration-color: #800080\">               </span>│\n",
       "│<span style=\"color: #008080; text-decoration-color: #008080\"> Is Sufficient? </span>│<span style=\"color: #800080; text-decoration-color: #800080\"> </span><span style=\"color: #800000; text-decoration-color: #800000\">No</span><span style=\"color: #800080; text-decoration-color: #800080\">            </span>│\n",
       "└────────────────┴───────────────┘\n",
       "</pre>\n"
      ],
      "text/plain": [
       "\u001b[3m  Adaptive Crawl Stats - Query:   \u001b[0m\n",
       "\u001b[3m     'async context managers'     \u001b[0m\n",
       "┏━━━━━━━━━━━━━━━━┳━━━━━━━━━━━━━━━┓\n",
       "┃\u001b[1m \u001b[0m\u001b[1mMetric        \u001b[0m\u001b[1m \u001b[0m┃\u001b[1m \u001b[0m\u001b[1mValue        \u001b[0m\u001b[1m \u001b[0m┃\n",
       "┡━━━━━━━━━━━━━━━━╇━━━━━━━━━━━━━━━┩\n",
       "│\u001b[36m \u001b[0m\u001b[36mPages Crawled \u001b[0m\u001b[36m \u001b[0m│\u001b[35m \u001b[0m\u001b[35m5            \u001b[0m\u001b[35m \u001b[0m│\n",
       "│\u001b[36m \u001b[0m\u001b[36mUnique Terms  \u001b[0m\u001b[36m \u001b[0m│\u001b[35m \u001b[0m\u001b[35m3818         \u001b[0m\u001b[35m \u001b[0m│\n",
       "│\u001b[36m \u001b[0m\u001b[36mTotal Terms   \u001b[0m\u001b[36m \u001b[0m│\u001b[35m \u001b[0m\u001b[35m33865        \u001b[0m\u001b[35m \u001b[0m│\n",
       "│\u001b[36m \u001b[0m\u001b[36mContent Length\u001b[0m\u001b[36m \u001b[0m│\u001b[35m \u001b[0m\u001b[35m261,320 chars\u001b[0m\u001b[35m \u001b[0m│\n",
       "│\u001b[36m \u001b[0m\u001b[36mPending Links \u001b[0m\u001b[36m \u001b[0m│\u001b[35m \u001b[0m\u001b[35m150          \u001b[0m\u001b[35m \u001b[0m│\n",
       "│\u001b[36m \u001b[0m\u001b[36m              \u001b[0m\u001b[36m \u001b[0m│\u001b[35m \u001b[0m\u001b[35m             \u001b[0m\u001b[35m \u001b[0m│\n",
       "│\u001b[36m \u001b[0m\u001b[36mConfidence    \u001b[0m\u001b[36m \u001b[0m│\u001b[35m \u001b[0m\u001b[35m52.64%       \u001b[0m\u001b[35m \u001b[0m│\n",
       "│\u001b[36m \u001b[0m\u001b[36mCoverage      \u001b[0m\u001b[36m \u001b[0m│\u001b[35m \u001b[0m\u001b[35m33.27%       \u001b[0m\u001b[35m \u001b[0m│\n",
       "│\u001b[36m \u001b[0m\u001b[36mConsistency   \u001b[0m\u001b[36m \u001b[0m│\u001b[35m \u001b[0m\u001b[35m31.61%       \u001b[0m\u001b[35m \u001b[0m│\n",
       "│\u001b[36m \u001b[0m\u001b[36mSaturation    \u001b[0m\u001b[36m \u001b[0m│\u001b[35m \u001b[0m\u001b[35m99.48%       \u001b[0m\u001b[35m \u001b[0m│\n",
       "│\u001b[36m \u001b[0m\u001b[36m              \u001b[0m\u001b[36m \u001b[0m│\u001b[35m \u001b[0m\u001b[35m             \u001b[0m\u001b[35m \u001b[0m│\n",
       "│\u001b[36m \u001b[0m\u001b[36mIs Sufficient?\u001b[0m\u001b[36m \u001b[0m│\u001b[35m \u001b[0m\u001b[31mNo\u001b[0m\u001b[35m           \u001b[0m\u001b[35m \u001b[0m│\n",
       "└────────────────┴───────────────┘\n"
      ]
     },
     "metadata": {},
     "output_type": "display_data"
    },
    {
     "name": "stdout",
     "output_type": "stream",
     "text": [
      "Crawled 5 pages\n",
      "Achieved 53% confidence\n"
     ]
    }
   ],
   "source": [
    "import asyncio\n",
    "from crawl4ai import AsyncWebCrawler, AdaptiveCrawler\n",
    "\n",
    "async def adaptive_example():\n",
    "    async with AsyncWebCrawler() as crawler:\n",
    "        adaptive = AdaptiveCrawler(crawler)\n",
    "\n",
    "        # Start adaptive crawling\n",
    "        result = await adaptive.digest(\n",
    "            start_url=\"https://docs.python.org/3/\",\n",
    "            query=\"async context managers\"\n",
    "        )\n",
    "\n",
    "        # View results\n",
    "        adaptive.print_stats()\n",
    "        print(f\"Crawled {len(result.crawled_urls)} pages\")\n",
    "        print(f\"Achieved {adaptive.confidence:.0%} confidence\")\n",
    "\n",
    "if __name__ == \"__main__\":\n",
    "    asyncio.run(adaptive_example())"
   ]
  },
  {
   "cell_type": "markdown",
   "id": "cf971d78",
   "metadata": {},
   "source": [
    "# Multi-URL Concurrency"
   ]
  },
  {
   "cell_type": "code",
   "execution_count": 3,
   "id": "d3b47fb0",
   "metadata": {},
   "outputs": [
    {
     "data": {
      "text/html": [
       "<pre style=\"white-space:pre;overflow-x:auto;line-height:normal;font-family:Menlo,'DejaVu Sans Mono',consolas,'Courier New',monospace\"><span style=\"color: #008080; text-decoration-color: #008080; font-weight: bold\">[</span><span style=\"color: #008080; text-decoration-color: #008080\">INIT</span><span style=\"color: #008080; text-decoration-color: #008080; font-weight: bold\">]</span><span style=\"color: #008080; text-decoration-color: #008080\">.... → Crawl4AI </span><span style=\"color: #008080; text-decoration-color: #008080; font-weight: bold\">0.7</span><span style=\"color: #008080; text-decoration-color: #008080\">.</span><span style=\"color: #008080; text-decoration-color: #008080; font-weight: bold\">3</span><span style=\"color: #008080; text-decoration-color: #008080\"> </span>\n",
       "</pre>\n"
      ],
      "text/plain": [
       "\u001b[1;36m[\u001b[0m\u001b[36mINIT\u001b[0m\u001b[1;36m]\u001b[0m\u001b[36m...\u001b[0m\u001b[36m. → Crawl4AI \u001b[0m\u001b[1;36m0.7\u001b[0m\u001b[36m.\u001b[0m\u001b[1;36m3\u001b[0m\u001b[36m \u001b[0m\n"
      ]
     },
     "metadata": {},
     "output_type": "display_data"
    },
    {
     "data": {
      "text/html": [
       "<pre style=\"white-space:pre;overflow-x:auto;line-height:normal;font-family:Menlo,'DejaVu Sans Mono',consolas,'Courier New',monospace\"><span style=\"color: #008000; text-decoration-color: #008000; font-weight: bold\">[</span><span style=\"color: #008000; text-decoration-color: #008000\">FETCH</span><span style=\"color: #008000; text-decoration-color: #008000; font-weight: bold\">]</span><span style=\"color: #008000; text-decoration-color: #008000\">... ↓ </span><span style=\"color: #008000; text-decoration-color: #008000; text-decoration: underline\">https://example.com/page1</span><span style=\"color: #008000; text-decoration-color: #008000\">                                                                            |</span>\n",
       "<span style=\"color: #008000; text-decoration-color: #008000\">✓ | ⏱: </span><span style=\"color: #008000; text-decoration-color: #008000; font-weight: bold\">1.</span><span style=\"color: #008000; text-decoration-color: #008000\">07s </span>\n",
       "</pre>\n"
      ],
      "text/plain": [
       "\u001b[1;32m[\u001b[0m\u001b[32mFETCH\u001b[0m\u001b[1;32m]\u001b[0m\u001b[32m...\u001b[0m\u001b[32m ↓ \u001b[0m\u001b[4;32mhttps://example.com/page1\u001b[0m\u001b[32m                                                                            |\u001b[0m\n",
       "\u001b[32m✓\u001b[0m\u001b[32m | ⏱: \u001b[0m\u001b[1;32m1.\u001b[0m\u001b[32m07s \u001b[0m\n"
      ]
     },
     "metadata": {},
     "output_type": "display_data"
    },
    {
     "data": {
      "text/html": [
       "<pre style=\"white-space:pre;overflow-x:auto;line-height:normal;font-family:Menlo,'DejaVu Sans Mono',consolas,'Courier New',monospace\"><span style=\"color: #008000; text-decoration-color: #008000; font-weight: bold\">[</span><span style=\"color: #008000; text-decoration-color: #008000\">SCRAPE</span><span style=\"color: #008000; text-decoration-color: #008000; font-weight: bold\">]</span><span style=\"color: #008000; text-decoration-color: #008000\">.. ◆ </span><span style=\"color: #008000; text-decoration-color: #008000; text-decoration: underline\">https://example.com/page1</span><span style=\"color: #008000; text-decoration-color: #008000\">                                                                            |</span>\n",
       "<span style=\"color: #008000; text-decoration-color: #008000\">✓ | ⏱: </span><span style=\"color: #008000; text-decoration-color: #008000; font-weight: bold\">0.</span><span style=\"color: #008000; text-decoration-color: #008000\">00s </span>\n",
       "</pre>\n"
      ],
      "text/plain": [
       "\u001b[1;32m[\u001b[0m\u001b[32mSCRAPE\u001b[0m\u001b[1;32m]\u001b[0m\u001b[32m.. ◆ \u001b[0m\u001b[4;32mhttps://example.com/page1\u001b[0m\u001b[32m                                                                            |\u001b[0m\n",
       "\u001b[32m✓\u001b[0m\u001b[32m | ⏱: \u001b[0m\u001b[1;32m0.\u001b[0m\u001b[32m00s \u001b[0m\n"
      ]
     },
     "metadata": {},
     "output_type": "display_data"
    },
    {
     "data": {
      "text/html": [
       "<pre style=\"white-space:pre;overflow-x:auto;line-height:normal;font-family:Menlo,'DejaVu Sans Mono',consolas,'Courier New',monospace\"><span style=\"color: #008000; text-decoration-color: #008000; font-weight: bold\">[</span><span style=\"color: #008000; text-decoration-color: #008000\">COMPLETE</span><span style=\"color: #008000; text-decoration-color: #008000; font-weight: bold\">]</span><span style=\"color: #008000; text-decoration-color: #008000\"> ● </span><span style=\"color: #008000; text-decoration-color: #008000; text-decoration: underline\">https://example.com/page1</span><span style=\"color: #008000; text-decoration-color: #008000\">                                                                            |</span>\n",
       "<span style=\"color: #008000; text-decoration-color: #008000\">✓ | ⏱: </span><span style=\"color: #008000; text-decoration-color: #008000; font-weight: bold\">1.</span><span style=\"color: #008000; text-decoration-color: #008000\">07s </span>\n",
       "</pre>\n"
      ],
      "text/plain": [
       "\u001b[1;32m[\u001b[0m\u001b[32mCOMPLETE\u001b[0m\u001b[1;32m]\u001b[0m\u001b[32m ● \u001b[0m\u001b[4;32mhttps://example.com/page1\u001b[0m\u001b[32m                                                                            |\u001b[0m\n",
       "\u001b[32m✓\u001b[0m\u001b[32m | ⏱: \u001b[0m\u001b[1;32m1.\u001b[0m\u001b[32m07s \u001b[0m\n"
      ]
     },
     "metadata": {},
     "output_type": "display_data"
    },
    {
     "name": "stdout",
     "output_type": "stream",
     "text": [
      "[OK] https://example.com/page1, length: 230\n"
     ]
    },
    {
     "data": {
      "text/html": [
       "<pre style=\"white-space:pre;overflow-x:auto;line-height:normal;font-family:Menlo,'DejaVu Sans Mono',consolas,'Courier New',monospace\"><span style=\"color: #008000; text-decoration-color: #008000; font-weight: bold\">[</span><span style=\"color: #008000; text-decoration-color: #008000\">FETCH</span><span style=\"color: #008000; text-decoration-color: #008000; font-weight: bold\">]</span><span style=\"color: #008000; text-decoration-color: #008000\">... ↓ </span><span style=\"color: #008000; text-decoration-color: #008000; text-decoration: underline\">https://example.com/page2</span><span style=\"color: #008000; text-decoration-color: #008000\">                                                                            |</span>\n",
       "<span style=\"color: #008000; text-decoration-color: #008000\">✓ | ⏱: </span><span style=\"color: #008000; text-decoration-color: #008000; font-weight: bold\">0.</span><span style=\"color: #008000; text-decoration-color: #008000\">60s </span>\n",
       "</pre>\n"
      ],
      "text/plain": [
       "\u001b[1;32m[\u001b[0m\u001b[32mFETCH\u001b[0m\u001b[1;32m]\u001b[0m\u001b[32m...\u001b[0m\u001b[32m ↓ \u001b[0m\u001b[4;32mhttps://example.com/page2\u001b[0m\u001b[32m                                                                            |\u001b[0m\n",
       "\u001b[32m✓\u001b[0m\u001b[32m | ⏱: \u001b[0m\u001b[1;32m0.\u001b[0m\u001b[32m60s \u001b[0m\n"
      ]
     },
     "metadata": {},
     "output_type": "display_data"
    },
    {
     "data": {
      "text/html": [
       "<pre style=\"white-space:pre;overflow-x:auto;line-height:normal;font-family:Menlo,'DejaVu Sans Mono',consolas,'Courier New',monospace\"><span style=\"color: #008000; text-decoration-color: #008000; font-weight: bold\">[</span><span style=\"color: #008000; text-decoration-color: #008000\">SCRAPE</span><span style=\"color: #008000; text-decoration-color: #008000; font-weight: bold\">]</span><span style=\"color: #008000; text-decoration-color: #008000\">.. ◆ </span><span style=\"color: #008000; text-decoration-color: #008000; text-decoration: underline\">https://example.com/page2</span><span style=\"color: #008000; text-decoration-color: #008000\">                                                                            |</span>\n",
       "<span style=\"color: #008000; text-decoration-color: #008000\">✓ | ⏱: </span><span style=\"color: #008000; text-decoration-color: #008000; font-weight: bold\">0.</span><span style=\"color: #008000; text-decoration-color: #008000\">00s </span>\n",
       "</pre>\n"
      ],
      "text/plain": [
       "\u001b[1;32m[\u001b[0m\u001b[32mSCRAPE\u001b[0m\u001b[1;32m]\u001b[0m\u001b[32m.. ◆ \u001b[0m\u001b[4;32mhttps://example.com/page2\u001b[0m\u001b[32m                                                                            |\u001b[0m\n",
       "\u001b[32m✓\u001b[0m\u001b[32m | ⏱: \u001b[0m\u001b[1;32m0.\u001b[0m\u001b[32m00s \u001b[0m\n"
      ]
     },
     "metadata": {},
     "output_type": "display_data"
    },
    {
     "data": {
      "text/html": [
       "<pre style=\"white-space:pre;overflow-x:auto;line-height:normal;font-family:Menlo,'DejaVu Sans Mono',consolas,'Courier New',monospace\"><span style=\"color: #008000; text-decoration-color: #008000; font-weight: bold\">[</span><span style=\"color: #008000; text-decoration-color: #008000\">COMPLETE</span><span style=\"color: #008000; text-decoration-color: #008000; font-weight: bold\">]</span><span style=\"color: #008000; text-decoration-color: #008000\"> ● </span><span style=\"color: #008000; text-decoration-color: #008000; text-decoration: underline\">https://example.com/page2</span><span style=\"color: #008000; text-decoration-color: #008000\">                                                                            |</span>\n",
       "<span style=\"color: #008000; text-decoration-color: #008000\">✓ | ⏱: </span><span style=\"color: #008000; text-decoration-color: #008000; font-weight: bold\">0.</span><span style=\"color: #008000; text-decoration-color: #008000\">60s </span>\n",
       "</pre>\n"
      ],
      "text/plain": [
       "\u001b[1;32m[\u001b[0m\u001b[32mCOMPLETE\u001b[0m\u001b[1;32m]\u001b[0m\u001b[32m ● \u001b[0m\u001b[4;32mhttps://example.com/page2\u001b[0m\u001b[32m                                                                            |\u001b[0m\n",
       "\u001b[32m✓\u001b[0m\u001b[32m | ⏱: \u001b[0m\u001b[1;32m0.\u001b[0m\u001b[32m60s \u001b[0m\n"
      ]
     },
     "metadata": {},
     "output_type": "display_data"
    },
    {
     "data": {
      "text/html": [
       "<pre style=\"white-space:pre;overflow-x:auto;line-height:normal;font-family:Menlo,'DejaVu Sans Mono',consolas,'Courier New',monospace\"><span style=\"color: #008000; text-decoration-color: #008000; font-weight: bold\">[</span><span style=\"color: #008000; text-decoration-color: #008000\">FETCH</span><span style=\"color: #008000; text-decoration-color: #008000; font-weight: bold\">]</span><span style=\"color: #008000; text-decoration-color: #008000\">... ↓ </span><span style=\"color: #008000; text-decoration-color: #008000; text-decoration: underline\">https://example.com/page3</span><span style=\"color: #008000; text-decoration-color: #008000\">                                                                            |</span>\n",
       "<span style=\"color: #008000; text-decoration-color: #008000\">✓ | ⏱: </span><span style=\"color: #008000; text-decoration-color: #008000; font-weight: bold\">0.</span><span style=\"color: #008000; text-decoration-color: #008000\">61s </span>\n",
       "</pre>\n"
      ],
      "text/plain": [
       "\u001b[1;32m[\u001b[0m\u001b[32mFETCH\u001b[0m\u001b[1;32m]\u001b[0m\u001b[32m...\u001b[0m\u001b[32m ↓ \u001b[0m\u001b[4;32mhttps://example.com/page3\u001b[0m\u001b[32m                                                                            |\u001b[0m\n",
       "\u001b[32m✓\u001b[0m\u001b[32m | ⏱: \u001b[0m\u001b[1;32m0.\u001b[0m\u001b[32m61s \u001b[0m\n"
      ]
     },
     "metadata": {},
     "output_type": "display_data"
    },
    {
     "data": {
      "text/html": [
       "<pre style=\"white-space:pre;overflow-x:auto;line-height:normal;font-family:Menlo,'DejaVu Sans Mono',consolas,'Courier New',monospace\"><span style=\"color: #008000; text-decoration-color: #008000; font-weight: bold\">[</span><span style=\"color: #008000; text-decoration-color: #008000\">SCRAPE</span><span style=\"color: #008000; text-decoration-color: #008000; font-weight: bold\">]</span><span style=\"color: #008000; text-decoration-color: #008000\">.. ◆ </span><span style=\"color: #008000; text-decoration-color: #008000; text-decoration: underline\">https://example.com/page3</span><span style=\"color: #008000; text-decoration-color: #008000\">                                                                            |</span>\n",
       "<span style=\"color: #008000; text-decoration-color: #008000\">✓ | ⏱: </span><span style=\"color: #808000; text-decoration-color: #808000; font-weight: bold\">0.</span><span style=\"color: #808000; text-decoration-color: #808000\">0</span><span style=\"color: #008000; text-decoration-color: #008000\">0s </span>\n",
       "</pre>\n"
      ],
      "text/plain": [
       "\u001b[1;32m[\u001b[0m\u001b[32mSCRAPE\u001b[0m\u001b[1;32m]\u001b[0m\u001b[32m.. ◆ \u001b[0m\u001b[4;32mhttps://example.com/page3\u001b[0m\u001b[32m                                                                            |\u001b[0m\n",
       "\u001b[32m✓\u001b[0m\u001b[32m | ⏱: \u001b[0m\u001b[1;33m0.\u001b[0m\u001b[33m0\u001b[0m\u001b[32m0s \u001b[0m\n"
      ]
     },
     "metadata": {},
     "output_type": "display_data"
    },
    {
     "data": {
      "text/html": [
       "<pre style=\"white-space:pre;overflow-x:auto;line-height:normal;font-family:Menlo,'DejaVu Sans Mono',consolas,'Courier New',monospace\"><span style=\"color: #008000; text-decoration-color: #008000; font-weight: bold\">[</span><span style=\"color: #008000; text-decoration-color: #008000\">COMPLETE</span><span style=\"color: #008000; text-decoration-color: #008000; font-weight: bold\">]</span><span style=\"color: #008000; text-decoration-color: #008000\"> ● </span><span style=\"color: #008000; text-decoration-color: #008000; text-decoration: underline\">https://example.com/page3</span><span style=\"color: #008000; text-decoration-color: #008000\">                                                                            |</span>\n",
       "<span style=\"color: #008000; text-decoration-color: #008000\">✓ | ⏱: </span><span style=\"color: #008000; text-decoration-color: #008000; font-weight: bold\">0.</span><span style=\"color: #008000; text-decoration-color: #008000\">61s </span>\n",
       "</pre>\n"
      ],
      "text/plain": [
       "\u001b[1;32m[\u001b[0m\u001b[32mCOMPLETE\u001b[0m\u001b[1;32m]\u001b[0m\u001b[32m ● \u001b[0m\u001b[4;32mhttps://example.com/page3\u001b[0m\u001b[32m                                                                            |\u001b[0m\n",
       "\u001b[32m✓\u001b[0m\u001b[32m | ⏱: \u001b[0m\u001b[1;32m0.\u001b[0m\u001b[32m61s \u001b[0m\n"
      ]
     },
     "metadata": {},
     "output_type": "display_data"
    },
    {
     "name": "stdout",
     "output_type": "stream",
     "text": [
      "[OK] https://example.com/page2, length: 230\n",
      "[OK] https://example.com/page3, length: 230\n"
     ]
    },
    {
     "data": {
      "text/html": [
       "<pre style=\"white-space:pre;overflow-x:auto;line-height:normal;font-family:Menlo,'DejaVu Sans Mono',consolas,'Courier New',monospace\"><span style=\"color: #008000; text-decoration-color: #008000; font-weight: bold\">[</span><span style=\"color: #008000; text-decoration-color: #008000\">FETCH</span><span style=\"color: #008000; text-decoration-color: #008000; font-weight: bold\">]</span><span style=\"color: #008000; text-decoration-color: #008000\">... ↓ </span><span style=\"color: #008000; text-decoration-color: #008000; text-decoration: underline\">https://example.com/page2</span><span style=\"color: #008000; text-decoration-color: #008000\">                                                                            |</span>\n",
       "<span style=\"color: #008000; text-decoration-color: #008000\">✓ | ⏱: </span><span style=\"color: #008000; text-decoration-color: #008000; font-weight: bold\">1.</span><span style=\"color: #008000; text-decoration-color: #008000\">09s </span>\n",
       "</pre>\n"
      ],
      "text/plain": [
       "\u001b[1;32m[\u001b[0m\u001b[32mFETCH\u001b[0m\u001b[1;32m]\u001b[0m\u001b[32m...\u001b[0m\u001b[32m ↓ \u001b[0m\u001b[4;32mhttps://example.com/page2\u001b[0m\u001b[32m                                                                            |\u001b[0m\n",
       "\u001b[32m✓\u001b[0m\u001b[32m | ⏱: \u001b[0m\u001b[1;32m1.\u001b[0m\u001b[32m09s \u001b[0m\n"
      ]
     },
     "metadata": {},
     "output_type": "display_data"
    },
    {
     "data": {
      "text/html": [
       "<pre style=\"white-space:pre;overflow-x:auto;line-height:normal;font-family:Menlo,'DejaVu Sans Mono',consolas,'Courier New',monospace\"><span style=\"color: #008000; text-decoration-color: #008000; font-weight: bold\">[</span><span style=\"color: #008000; text-decoration-color: #008000\">SCRAPE</span><span style=\"color: #008000; text-decoration-color: #008000; font-weight: bold\">]</span><span style=\"color: #008000; text-decoration-color: #008000\">.. ◆ </span><span style=\"color: #008000; text-decoration-color: #008000; text-decoration: underline\">https://example.com/page2</span><span style=\"color: #008000; text-decoration-color: #008000\">                                                                            |</span>\n",
       "<span style=\"color: #008000; text-decoration-color: #008000\">✓ | ⏱: </span><span style=\"color: #008000; text-decoration-color: #008000; font-weight: bold\">0.</span><span style=\"color: #008000; text-decoration-color: #008000\">00s </span>\n",
       "</pre>\n"
      ],
      "text/plain": [
       "\u001b[1;32m[\u001b[0m\u001b[32mSCRAPE\u001b[0m\u001b[1;32m]\u001b[0m\u001b[32m.. ◆ \u001b[0m\u001b[4;32mhttps://example.com/page2\u001b[0m\u001b[32m                                                                            |\u001b[0m\n",
       "\u001b[32m✓\u001b[0m\u001b[32m | ⏱: \u001b[0m\u001b[1;32m0.\u001b[0m\u001b[32m00s \u001b[0m\n"
      ]
     },
     "metadata": {},
     "output_type": "display_data"
    },
    {
     "data": {
      "text/html": [
       "<pre style=\"white-space:pre;overflow-x:auto;line-height:normal;font-family:Menlo,'DejaVu Sans Mono',consolas,'Courier New',monospace\"><span style=\"color: #008000; text-decoration-color: #008000; font-weight: bold\">[</span><span style=\"color: #008000; text-decoration-color: #008000\">COMPLETE</span><span style=\"color: #008000; text-decoration-color: #008000; font-weight: bold\">]</span><span style=\"color: #008000; text-decoration-color: #008000\"> ● </span><span style=\"color: #008000; text-decoration-color: #008000; text-decoration: underline\">https://example.com/page2</span><span style=\"color: #008000; text-decoration-color: #008000\">                                                                            |</span>\n",
       "<span style=\"color: #008000; text-decoration-color: #008000\">✓ | ⏱: </span><span style=\"color: #008000; text-decoration-color: #008000; font-weight: bold\">1.</span><span style=\"color: #008000; text-decoration-color: #008000\">09s </span>\n",
       "</pre>\n"
      ],
      "text/plain": [
       "\u001b[1;32m[\u001b[0m\u001b[32mCOMPLETE\u001b[0m\u001b[1;32m]\u001b[0m\u001b[32m ● \u001b[0m\u001b[4;32mhttps://example.com/page2\u001b[0m\u001b[32m                                                                            |\u001b[0m\n",
       "\u001b[32m✓\u001b[0m\u001b[32m | ⏱: \u001b[0m\u001b[1;32m1.\u001b[0m\u001b[32m09s \u001b[0m\n"
      ]
     },
     "metadata": {},
     "output_type": "display_data"
    },
    {
     "data": {
      "text/html": [
       "<pre style=\"white-space:pre;overflow-x:auto;line-height:normal;font-family:Menlo,'DejaVu Sans Mono',consolas,'Courier New',monospace\"><span style=\"color: #008000; text-decoration-color: #008000; font-weight: bold\">[</span><span style=\"color: #008000; text-decoration-color: #008000\">FETCH</span><span style=\"color: #008000; text-decoration-color: #008000; font-weight: bold\">]</span><span style=\"color: #008000; text-decoration-color: #008000\">... ↓ </span><span style=\"color: #008000; text-decoration-color: #008000; text-decoration: underline\">https://example.com/page3</span><span style=\"color: #008000; text-decoration-color: #008000\">                                                                            |</span>\n",
       "<span style=\"color: #008000; text-decoration-color: #008000\">✓ | ⏱: </span><span style=\"color: #008000; text-decoration-color: #008000; font-weight: bold\">1.</span><span style=\"color: #008000; text-decoration-color: #008000\">09s </span>\n",
       "</pre>\n"
      ],
      "text/plain": [
       "\u001b[1;32m[\u001b[0m\u001b[32mFETCH\u001b[0m\u001b[1;32m]\u001b[0m\u001b[32m...\u001b[0m\u001b[32m ↓ \u001b[0m\u001b[4;32mhttps://example.com/page3\u001b[0m\u001b[32m                                                                            |\u001b[0m\n",
       "\u001b[32m✓\u001b[0m\u001b[32m | ⏱: \u001b[0m\u001b[1;32m1.\u001b[0m\u001b[32m09s \u001b[0m\n"
      ]
     },
     "metadata": {},
     "output_type": "display_data"
    },
    {
     "data": {
      "text/html": [
       "<pre style=\"white-space:pre;overflow-x:auto;line-height:normal;font-family:Menlo,'DejaVu Sans Mono',consolas,'Courier New',monospace\"><span style=\"color: #008000; text-decoration-color: #008000; font-weight: bold\">[</span><span style=\"color: #008000; text-decoration-color: #008000\">SCRAPE</span><span style=\"color: #008000; text-decoration-color: #008000; font-weight: bold\">]</span><span style=\"color: #008000; text-decoration-color: #008000\">.. ◆ </span><span style=\"color: #008000; text-decoration-color: #008000; text-decoration: underline\">https://example.com/page3</span><span style=\"color: #008000; text-decoration-color: #008000\">                                                                            |</span>\n",
       "<span style=\"color: #008000; text-decoration-color: #008000\">✓ | ⏱: </span><span style=\"color: #008000; text-decoration-color: #008000; font-weight: bold\">0.</span><span style=\"color: #008000; text-decoration-color: #008000\">00s </span>\n",
       "</pre>\n"
      ],
      "text/plain": [
       "\u001b[1;32m[\u001b[0m\u001b[32mSCRAPE\u001b[0m\u001b[1;32m]\u001b[0m\u001b[32m.. ◆ \u001b[0m\u001b[4;32mhttps://example.com/page3\u001b[0m\u001b[32m                                                                            |\u001b[0m\n",
       "\u001b[32m✓\u001b[0m\u001b[32m | ⏱: \u001b[0m\u001b[1;32m0.\u001b[0m\u001b[32m00s \u001b[0m\n"
      ]
     },
     "metadata": {},
     "output_type": "display_data"
    },
    {
     "data": {
      "text/html": [
       "<pre style=\"white-space:pre;overflow-x:auto;line-height:normal;font-family:Menlo,'DejaVu Sans Mono',consolas,'Courier New',monospace\"><span style=\"color: #008000; text-decoration-color: #008000; font-weight: bold\">[</span><span style=\"color: #008000; text-decoration-color: #008000\">COMPLETE</span><span style=\"color: #008000; text-decoration-color: #008000; font-weight: bold\">]</span><span style=\"color: #008000; text-decoration-color: #008000\"> ● </span><span style=\"color: #008000; text-decoration-color: #008000; text-decoration: underline\">https://example.com/page3</span><span style=\"color: #008000; text-decoration-color: #008000\">                                                                            |</span>\n",
       "<span style=\"color: #008000; text-decoration-color: #008000\">✓ | ⏱: </span><span style=\"color: #008000; text-decoration-color: #008000; font-weight: bold\">1.</span><span style=\"color: #008000; text-decoration-color: #008000\">10s </span>\n",
       "</pre>\n"
      ],
      "text/plain": [
       "\u001b[1;32m[\u001b[0m\u001b[32mCOMPLETE\u001b[0m\u001b[1;32m]\u001b[0m\u001b[32m ● \u001b[0m\u001b[4;32mhttps://example.com/page3\u001b[0m\u001b[32m                                                                            |\u001b[0m\n",
       "\u001b[32m✓\u001b[0m\u001b[32m | ⏱: \u001b[0m\u001b[1;32m1.\u001b[0m\u001b[32m10s \u001b[0m\n"
      ]
     },
     "metadata": {},
     "output_type": "display_data"
    },
    {
     "data": {
      "text/html": [
       "<pre style=\"white-space:pre;overflow-x:auto;line-height:normal;font-family:Menlo,'DejaVu Sans Mono',consolas,'Courier New',monospace\"><span style=\"color: #008000; text-decoration-color: #008000; font-weight: bold\">[</span><span style=\"color: #008000; text-decoration-color: #008000\">FETCH</span><span style=\"color: #008000; text-decoration-color: #008000; font-weight: bold\">]</span><span style=\"color: #008000; text-decoration-color: #008000\">... ↓ </span><span style=\"color: #008000; text-decoration-color: #008000; text-decoration: underline\">https://example.com/page1</span><span style=\"color: #008000; text-decoration-color: #008000\">                                                                            |</span>\n",
       "<span style=\"color: #008000; text-decoration-color: #008000\">✓ | ⏱: </span><span style=\"color: #008000; text-decoration-color: #008000; font-weight: bold\">2.</span><span style=\"color: #008000; text-decoration-color: #008000\">62s </span>\n",
       "</pre>\n"
      ],
      "text/plain": [
       "\u001b[1;32m[\u001b[0m\u001b[32mFETCH\u001b[0m\u001b[1;32m]\u001b[0m\u001b[32m...\u001b[0m\u001b[32m ↓ \u001b[0m\u001b[4;32mhttps://example.com/page1\u001b[0m\u001b[32m                                                                            |\u001b[0m\n",
       "\u001b[32m✓\u001b[0m\u001b[32m | ⏱: \u001b[0m\u001b[1;32m2.\u001b[0m\u001b[32m62s \u001b[0m\n"
      ]
     },
     "metadata": {},
     "output_type": "display_data"
    },
    {
     "data": {
      "text/html": [
       "<pre style=\"white-space:pre;overflow-x:auto;line-height:normal;font-family:Menlo,'DejaVu Sans Mono',consolas,'Courier New',monospace\"><span style=\"color: #008000; text-decoration-color: #008000; font-weight: bold\">[</span><span style=\"color: #008000; text-decoration-color: #008000\">SCRAPE</span><span style=\"color: #008000; text-decoration-color: #008000; font-weight: bold\">]</span><span style=\"color: #008000; text-decoration-color: #008000\">.. ◆ </span><span style=\"color: #008000; text-decoration-color: #008000; text-decoration: underline\">https://example.com/page1</span><span style=\"color: #008000; text-decoration-color: #008000\">                                                                            |</span>\n",
       "<span style=\"color: #008000; text-decoration-color: #008000\">✓ | ⏱: </span><span style=\"color: #008000; text-decoration-color: #008000; font-weight: bold\">0.</span><span style=\"color: #008000; text-decoration-color: #008000\">00s </span>\n",
       "</pre>\n"
      ],
      "text/plain": [
       "\u001b[1;32m[\u001b[0m\u001b[32mSCRAPE\u001b[0m\u001b[1;32m]\u001b[0m\u001b[32m.. ◆ \u001b[0m\u001b[4;32mhttps://example.com/page1\u001b[0m\u001b[32m                                                                            |\u001b[0m\n",
       "\u001b[32m✓\u001b[0m\u001b[32m | ⏱: \u001b[0m\u001b[1;32m0.\u001b[0m\u001b[32m00s \u001b[0m\n"
      ]
     },
     "metadata": {},
     "output_type": "display_data"
    },
    {
     "data": {
      "text/html": [
       "<pre style=\"white-space:pre;overflow-x:auto;line-height:normal;font-family:Menlo,'DejaVu Sans Mono',consolas,'Courier New',monospace\"><span style=\"color: #008000; text-decoration-color: #008000; font-weight: bold\">[</span><span style=\"color: #008000; text-decoration-color: #008000\">COMPLETE</span><span style=\"color: #008000; text-decoration-color: #008000; font-weight: bold\">]</span><span style=\"color: #008000; text-decoration-color: #008000\"> ● </span><span style=\"color: #008000; text-decoration-color: #008000; text-decoration: underline\">https://example.com/page1</span><span style=\"color: #008000; text-decoration-color: #008000\">                                                                            |</span>\n",
       "<span style=\"color: #008000; text-decoration-color: #008000\">✓ | ⏱: </span><span style=\"color: #008000; text-decoration-color: #008000; font-weight: bold\">2.</span><span style=\"color: #008000; text-decoration-color: #008000\">62s </span>\n",
       "</pre>\n"
      ],
      "text/plain": [
       "\u001b[1;32m[\u001b[0m\u001b[32mCOMPLETE\u001b[0m\u001b[1;32m]\u001b[0m\u001b[32m ● \u001b[0m\u001b[4;32mhttps://example.com/page1\u001b[0m\u001b[32m                                                                            |\u001b[0m\n",
       "\u001b[32m✓\u001b[0m\u001b[32m | ⏱: \u001b[0m\u001b[1;32m2.\u001b[0m\u001b[32m62s \u001b[0m\n"
      ]
     },
     "metadata": {},
     "output_type": "display_data"
    },
    {
     "name": "stdout",
     "output_type": "stream",
     "text": [
      "[OK] https://example.com/page2, length: 230\n",
      "[OK] https://example.com/page3, length: 230\n",
      "[OK] https://example.com/page1, length: 230\n"
     ]
    }
   ],
   "source": [
    "import asyncio\n",
    "from crawl4ai import AsyncWebCrawler, CrawlerRunConfig, CacheMode\n",
    "\n",
    "async def quick_parallel_example():\n",
    "    urls = [\n",
    "        \"https://example.com/page1\",\n",
    "        \"https://example.com/page2\",\n",
    "        \"https://example.com/page3\"\n",
    "    ]\n",
    "\n",
    "    run_conf = CrawlerRunConfig(\n",
    "        cache_mode=CacheMode.BYPASS,\n",
    "        stream=True  # Enable streaming mode\n",
    "    )\n",
    "\n",
    "    async with AsyncWebCrawler() as crawler:\n",
    "        # Stream results as they complete\n",
    "        async for result in await crawler.arun_many(urls, config=run_conf):\n",
    "            if result.success:\n",
    "                print(f\"[OK] {result.url}, length: {len(result.markdown.raw_markdown)}\")\n",
    "            else:\n",
    "                print(f\"[ERROR] {result.url} => {result.error_message}\")\n",
    "\n",
    "        # Or get all results at once (default behavior)\n",
    "        run_conf = run_conf.clone(stream=False)\n",
    "        results = await crawler.arun_many(urls, config=run_conf)\n",
    "        for res in results:\n",
    "            if res.success:\n",
    "                print(f\"[OK] {res.url}, length: {len(res.markdown.raw_markdown)}\")\n",
    "            else:\n",
    "                print(f\"[ERROR] {res.url} => {res.error_message}\")\n",
    "\n",
    "if __name__ == \"__main__\":\n",
    "    asyncio.run(quick_parallel_example())"
   ]
  },
  {
   "cell_type": "markdown",
   "id": "617ade47",
   "metadata": {},
   "source": []
  }
 ],
 "metadata": {
  "kernelspec": {
   "display_name": "ai_tpm",
   "language": "python",
   "name": "python3"
  },
  "language_info": {
   "codemirror_mode": {
    "name": "ipython",
    "version": 3
   },
   "file_extension": ".py",
   "mimetype": "text/x-python",
   "name": "python",
   "nbconvert_exporter": "python",
   "pygments_lexer": "ipython3",
   "version": "3.13.5"
  }
 },
 "nbformat": 4,
 "nbformat_minor": 5
}
