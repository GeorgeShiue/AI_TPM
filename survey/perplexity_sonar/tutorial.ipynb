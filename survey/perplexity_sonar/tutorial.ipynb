{
 "cells": [
  {
   "cell_type": "markdown",
   "id": "7089b10d",
   "metadata": {},
   "source": [
    "# API Key"
   ]
  },
  {
   "cell_type": "code",
   "execution_count": 1,
   "id": "e0e98927",
   "metadata": {},
   "outputs": [
    {
     "data": {
      "text/plain": [
       "True"
      ]
     },
     "execution_count": 1,
     "metadata": {},
     "output_type": "execute_result"
    }
   ],
   "source": [
    "from dotenv import load_dotenv\n",
    "\n",
    "load_dotenv()"
   ]
  },
  {
   "cell_type": "markdown",
   "id": "47f1eeaa",
   "metadata": {},
   "source": [
    "# Basic"
   ]
  },
  {
   "cell_type": "code",
   "execution_count": null,
   "id": "236b74df",
   "metadata": {},
   "outputs": [
    {
     "name": "stdout",
     "output_type": "stream",
     "text": [
      "**Dark vessel detection** refers to the use of satellite-based technologies and advanced data processing to locate and track ships that do not broadcast their identity or position via automatic systems like AIS (Automatic Identification System) or VMS (Vessel Monitoring System). These vessels, often called \"dark vessels,\" operate without proper identification or signaling, making them difficult to monitor by conventional maritime surveillance methods.\n",
      "\n",
      "The detection process typically involves:\n",
      "\n",
      "- **Satellite imagery acquisition** using sensors such as optical imagers and synthetic aperture radar (SAR), which can capture images of the ocean at day, night, and under all weather conditions.\n",
      "- **Radio frequency (RF) geolocation** to detect ships emitting radar signals.\n",
      "- **Data processing and feature detection algorithms** that identify anomalies corresponding to ships in the satellite data.\n",
      "- **Cross-referencing detections with known AIS/VMS ship positions** to separate identified vessels from potentially illicit or \"dark\" vessels operating without transponders.\n",
      "- **Use of machine learning and AI** to pre-filter satellite images onboard or on ground, improving detection speed and accuracy.\n",
      "\n",
      "This approach allows near-real-time monitoring of illegal activities at sea, such as illegal, unreported, and unregulated (IUU) fishing, drug trafficking, and other illicit maritime operations[1][3][4][5].\n",
      "\n",
      "Dark vessel detection is crucial for maritime domain awareness and ocean protection, especially for enforcing laws in remote regions like around the Galapagos Islands or the Indo-Pacific where enforcement is challenging[3][5]. Programs like MDA Space’s Dark Vessel Detection system integrate data from multiple satellite missions and RF sources, providing actionable intelligence to governments and conservation groups to help safeguard marine ecosystems and food security[3].\n",
      "\n",
      "Recent advancements include onboard AI systems like REMIS, which prioritize images containing ships to reduce data processing times and enhance the timeliness of detecting dark vessels[2].\n",
      "\n",
      "In summary, **dark vessel detection is a satellite-enabled surveillance technique combining remote sensing, signal detection, data fusion, and AI to find ships that deliberately avoid detection by not broadcasting their locations**. This technology is vital for combating illegal maritime activities and protecting ocean resources.\n"
     ]
    }
   ],
   "source": [
    "import os\n",
    "import requests\n",
    "\n",
    "api_key = os.environ.get(\"SONAR_API_KEY\")\n",
    "\n",
    "# Set up the API endpoint and headers\n",
    "url = \"https://api.perplexity.ai/chat/completions\"\n",
    "headers = {\n",
    "    \"Authorization\": f\"Bearer {api_key}\",  # Replace with your actual API key\n",
    "    \"Content-Type\": \"application/json\"\n",
    "}\n",
    "\n",
    "# Define the request payload\n",
    "payload = {\n",
    "    \"model\": \"sonar\",\n",
    "    \"messages\": [\n",
    "        {\"role\": \"user\", \"content\": \"What is dark vessel detection?\"}\n",
    "    ],\n",
    "}\n",
    "\n",
    "# Make the API call\n",
    "response = requests.post(url, headers=headers, json=payload)\n",
    "\n",
    "# Print the AI's response\n",
    "print(response.json()[\"choices\"][0]['message']['content'])"
   ]
  },
  {
   "cell_type": "code",
   "execution_count": 3,
   "id": "e5ecc697",
   "metadata": {},
   "outputs": [
    {
     "name": "stdout",
     "output_type": "stream",
     "text": [
      "id: 1b1baa18-f6fb-49a9-a647-2f4b9123e848\n",
      "model: sonar\n",
      "created: 1754896633\n",
      "usage: {'prompt_tokens': 6, 'completion_tokens': 428, 'total_tokens': 434, 'search_context_size': 'low', 'cost': {'input_tokens_cost': 6e-06, 'output_tokens_cost': 0.000428, 'request_cost': 0.005, 'total_cost': 0.005434}}\n",
      "citations: ['https://www.starboardintelligence.com/articles/satellite-dark-vessel-detection-for-maritime-domain-awareness', 'https://www.esa.int/Enabling_Support/Space_Engineering_Technology/Shaping_the_Future/Machine-learning_system_can_detect_dark_vessels_faster', 'https://mda.space/dark-vessel', 'https://globalfishingwatch.org/research-project-dark-vessels/', 'https://canadiangeographic.ca/articles/dark-vessels-and-how-to-find-them/']\n",
      "search_results: [{'title': 'Satellite dark vessel detection for maritime domain ...', 'url': 'https://www.starboardintelligence.com/articles/satellite-dark-vessel-detection-for-maritime-domain-awareness', 'date': '2022-11-12', 'last_updated': '2025-06-16'}, {'title': 'Machine-learning system can detect dark vessels faster', 'url': 'https://www.esa.int/Enabling_Support/Space_Engineering_Technology/Shaping_the_Future/Machine-learning_system_can_detect_dark_vessels_faster', 'date': '2024-10-16', 'last_updated': '2024-10-31'}, {'title': 'Dark Vessel Detection', 'url': 'https://mda.space/dark-vessel', 'date': '2025-07-18', 'last_updated': '2025-07-18'}, {'title': 'Dark Vessels', 'url': 'https://globalfishingwatch.org/research-project-dark-vessels/', 'date': '2022-05-03', 'last_updated': '2024-10-30'}, {'title': 'Dark vessels and how to find them', 'url': 'https://canadiangeographic.ca/articles/dark-vessels-and-how-to-find-them/', 'date': '2021-04-22', 'last_updated': '2024-12-02'}]\n",
      "object: chat.completion\n",
      "choices: [{'index': 0, 'finish_reason': 'stop', 'message': {'role': 'assistant', 'content': '**Dark vessel detection** refers to the use of satellite-based technologies and advanced data processing to locate and track ships that do not broadcast their identity or position via automatic systems like AIS (Automatic Identification System) or VMS (Vessel Monitoring System). These vessels, often called \"dark vessels,\" operate without proper identification or signaling, making them difficult to monitor by conventional maritime surveillance methods.\\n\\nThe detection process typically involves:\\n\\n- **Satellite imagery acquisition** using sensors such as optical imagers and synthetic aperture radar (SAR), which can capture images of the ocean at day, night, and under all weather conditions.\\n- **Radio frequency (RF) geolocation** to detect ships emitting radar signals.\\n- **Data processing and feature detection algorithms** that identify anomalies corresponding to ships in the satellite data.\\n- **Cross-referencing detections with known AIS/VMS ship positions** to separate identified vessels from potentially illicit or \"dark\" vessels operating without transponders.\\n- **Use of machine learning and AI** to pre-filter satellite images onboard or on ground, improving detection speed and accuracy.\\n\\nThis approach allows near-real-time monitoring of illegal activities at sea, such as illegal, unreported, and unregulated (IUU) fishing, drug trafficking, and other illicit maritime operations[1][3][4][5].\\n\\nDark vessel detection is crucial for maritime domain awareness and ocean protection, especially for enforcing laws in remote regions like around the Galapagos Islands or the Indo-Pacific where enforcement is challenging[3][5]. Programs like MDA Space’s Dark Vessel Detection system integrate data from multiple satellite missions and RF sources, providing actionable intelligence to governments and conservation groups to help safeguard marine ecosystems and food security[3].\\n\\nRecent advancements include onboard AI systems like REMIS, which prioritize images containing ships to reduce data processing times and enhance the timeliness of detecting dark vessels[2].\\n\\nIn summary, **dark vessel detection is a satellite-enabled surveillance technique combining remote sensing, signal detection, data fusion, and AI to find ships that deliberately avoid detection by not broadcasting their locations**. This technology is vital for combating illegal maritime activities and protecting ocean resources.'}, 'delta': {'role': 'assistant', 'content': ''}}]\n"
     ]
    }
   ],
   "source": [
    "for key in response.json().keys():\n",
    "    print(f\"{key}: {response.json()[key]}\")"
   ]
  },
  {
   "cell_type": "code",
   "execution_count": 4,
   "id": "cf585d85",
   "metadata": {},
   "outputs": [
    {
     "name": "stdout",
     "output_type": "stream",
     "text": [
      "{'title': 'Satellite dark vessel detection for maritime domain ...', 'url': 'https://www.starboardintelligence.com/articles/satellite-dark-vessel-detection-for-maritime-domain-awareness', 'date': '2022-11-12', 'last_updated': '2025-06-16'}\n",
      "{'title': 'Machine-learning system can detect dark vessels faster', 'url': 'https://www.esa.int/Enabling_Support/Space_Engineering_Technology/Shaping_the_Future/Machine-learning_system_can_detect_dark_vessels_faster', 'date': '2024-10-16', 'last_updated': '2024-10-31'}\n",
      "{'title': 'Dark Vessel Detection', 'url': 'https://mda.space/dark-vessel', 'date': '2025-07-18', 'last_updated': '2025-07-18'}\n",
      "{'title': 'Dark Vessels', 'url': 'https://globalfishingwatch.org/research-project-dark-vessels/', 'date': '2022-05-03', 'last_updated': '2024-10-30'}\n",
      "{'title': 'Dark vessels and how to find them', 'url': 'https://canadiangeographic.ca/articles/dark-vessels-and-how-to-find-them/', 'date': '2021-04-22', 'last_updated': '2024-12-02'}\n"
     ]
    }
   ],
   "source": [
    "for search_result in response.json().get(\"search_results\", []):\n",
    "    print(search_result)"
   ]
  },
  {
   "cell_type": "markdown",
   "id": "4eaf6ce4",
   "metadata": {},
   "source": [
    "# Prompting & Output Control"
   ]
  },
  {
   "cell_type": "markdown",
   "id": "601624b5",
   "metadata": {},
   "source": [
    "## Structured Outputs Guide"
   ]
  },
  {
   "cell_type": "code",
   "execution_count": 2,
   "id": "698c7096",
   "metadata": {},
   "outputs": [
    {
     "name": "stdout",
     "output_type": "stream",
     "text": [
      "Revenue: $95359000000.0B\n"
     ]
    }
   ],
   "source": [
    "# Examples: Financial Analysis with JSON Schema\n",
    "\n",
    "import os\n",
    "import requests\n",
    "from typing import List, Optional\n",
    "from pydantic import BaseModel\n",
    "\n",
    "class FinancialMetrics(BaseModel):\n",
    "    company: str\n",
    "    quarter: str\n",
    "    revenue: float\n",
    "    net_income: float\n",
    "    eps: float\n",
    "    revenue_growth_yoy: Optional[float] = None\n",
    "    key_highlights: Optional[List[str]] = None\n",
    "\n",
    "api_key = os.environ.get(\"SONAR_API_KEY\")\n",
    "url = \"https://api.perplexity.ai/chat/completions\"\n",
    "headers = {\"Authorization\": f\"Bearer {api_key}\"}\n",
    "payload = {\n",
    "    \"model\": \"sonar\",\n",
    "    \"messages\": [\n",
    "        {\n",
    "            \"role\": \"user\",\n",
    "            \"content\": \"Analyze the latest quarterly earnings report for Apple Inc. Extract key financial metrics.\"\n",
    "        }\n",
    "    ],\n",
    "    \"response_format\": {\n",
    "        \"type\": \"json_schema\",\n",
    "        \"json_schema\": {\n",
    "            \"schema\": FinancialMetrics.model_json_schema()\n",
    "        }\n",
    "    }\n",
    "}\n",
    "\n",
    "response = requests.post(url, headers=headers, json=payload)\n",
    "data = response.json()\n",
    "metrics = FinancialMetrics.model_validate_json(data[\"choices\"][0][\"message\"][\"content\"])\n",
    "print(f\"Revenue: ${metrics.revenue}B\")"
   ]
  },
  {
   "cell_type": "markdown",
   "id": "a9e9de33",
   "metadata": {},
   "source": [
    "## Streaming Responses Guide"
   ]
  },
  {
   "cell_type": "code",
   "execution_count": 12,
   "id": "9a13ec09",
   "metadata": {},
   "outputs": [],
   "source": [
    "import requests\n",
    "import os\n",
    "\n",
    "# Set up the API endpoint and headers\n",
    "url = \"https://api.perplexity.ai/chat/completions\"\n",
    "api_key = os.environ.get(\"SONAR_API_KEY\")\n",
    "headers = {\n",
    "    \"Authorization\": f\"Bearer {api_key}\",\n",
    "    \"Content-Type\": \"application/json\"\n",
    "}\n",
    "\n",
    "payload = {\n",
    "    \"model\": \"sonar\",\n",
    "    \"messages\": [\n",
    "        {\"role\": \"user\", \"content\": \"Who are the top 5 tech influencers on X?\"}\n",
    "    ],\n",
    "    \"stream\": True  # Enable streaming for real-time responses\n",
    "}\n",
    "\n",
    "response = requests.post(url, headers=headers, json=payload, stream=True)\n",
    "\n",
    "# Process the streaming response (simplified example)\n",
    "# for line in response.iter_lines():\n",
    "#     if line:\n",
    "#         print(line.decode('utf-8'))"
   ]
  },
  {
   "cell_type": "code",
   "execution_count": 10,
   "id": "4116a5e1",
   "metadata": {},
   "outputs": [
    {
     "name": "stdout",
     "output_type": "stream",
     "text": [
      "The top 5 tech influencers on X (formerly Twitter) in 2025 are:\n",
      "\n",
      "1. **Elon Musk** – CEO of Tesla, SpaceX, and X, with over 150 million followers. Musk is influential in technology innovation, space exploration, electric vehicles, and cryptocurrency. His posts often move markets and spark global discussions[1].\n",
      "\n",
      "2. **Vala Afshar** – Chief Digital Evangelist at Salesforce with 950.9K followers, known for insights on digital transformation and technology trends[3].\n",
      "\n",
      "3. **Kirk Borne** – Astrophysicist and data science influencer with 455.1K followers, focusing on big data, AI, IoT, and machine learning[3].\n",
      "\n",
      "4. **Antonio Grasso** – Technologist and global B2B influencer with 345.7K followers, advocating for sustainability and digital transformation[3].\n",
      "\n",
      "5. **Ronald van Loon** – AI and big data expert with 337.6K followers, helping AI-driven companies generate value[3].\n",
      "\n",
      "While other strong tech influencers like Marques Brownlee (MKBHD), Lewis Hilsenteger, and Austin Evans are prominent on platforms like YouTube and Instagram, the listed top 5 are leading specifically on the X platform based on follower count and digital tech influence[1][3].\n",
      "\n",
      "This ranking reflects a mixture of tech entrepreneurs, digital transformation evangelists, and data science experts who actively engage with millions of followers on X. Elon Musk, being the most followed and renowned for technology-related content, tops the list distinctly[1][3]."
     ]
    }
   ],
   "source": [
    "import json\n",
    "from requests import Response\n",
    "\n",
    "def stream_with_proper_parsing(response: Response):\n",
    "    for line in response.iter_lines():\n",
    "        if line:\n",
    "            line = line.decode('utf-8')\n",
    "            if line.startswith('data: '):\n",
    "                data_str = line[6:]  # Remove 'data: ' prefix\n",
    "                if data_str == '[DONE]':\n",
    "                    break\n",
    "                try:\n",
    "                    chunk_data = json.loads(data_str)\n",
    "                    content = chunk_data['choices'][0]['delta'].get('content', '')\n",
    "                    if content:\n",
    "                        print(content, end='')\n",
    "                except json.JSONDecodeError:\n",
    "                    continue\n",
    "\n",
    "stream_with_proper_parsing(response)"
   ]
  },
  {
   "cell_type": "code",
   "execution_count": 13,
   "id": "9a609618",
   "metadata": {},
   "outputs": [
    {
     "name": "stdout",
     "output_type": "stream",
     "text": [
      "The top 5 tech influencers on X (formerly Twitter) in 2025 are:\n",
      "\n",
      "1. **Elon Musk** – CEO of Tesla, SpaceX, and X, with over 150 million followers. Musk is a highly influential figure in technology, sharing insights on innovation, space exploration, electric vehicles, and cryptocurrency. His posts have significant market impact and global reach[1].\n",
      "\n",
      "Additional top tech influencers on X include digital transformation experts with large followings:\n",
      "\n",
      "2. **Vala Afshar** – Chief Digital Evangelist at Salesforce with around 950K followers, known for content on digital transformation and innovation[3].\n",
      "\n",
      "3. **Kirk Borne** – Astrophysicist and advisor focused on Big Data, AI, IoT, and machine learning, with about 455K followers[3].\n",
      "\n",
      "4. **Antonio Grasso** – Technologist and thought leader in the creator economy and sustainability space, with about 346K followers[3].\n",
      "\n",
      "5. **Ronald van Loon** – Influencer specializing in AI, big data, and cloud analytics, with roughly 338K followers[3].\n",
      "\n",
      "These individuals are recognized for their expertise in technology trends, digital transformation, and innovation, making them the leading tech influencers on X in 2025. Elon Musk strongly leads the list by follower count and market influence, while the others provide deep insights into emerging technology fields[1][3].\n",
      "\n",
      "Metadata: {'search_results': [{'title': 'The Top 10 Influencers on X', 'url': 'https://www.viralnation.com/influencer-lists/top-influencers-on-x', 'date': '2025-06-25', 'last_updated': '2025-06-26'}, {'title': 'Technology Influencers List on Instagram', 'url': 'https://views4you.com/blog/technology-influencers-list-on-instagram/', 'date': '2024-08-09', 'last_updated': '2025-03-06'}, {'title': 'Top 60 Digital Transformation Influencers on Twitter in 2025', 'url': 'https://x.feedspot.com/digital_transformation_twitter_influencers/', 'date': '2025-07-21', 'last_updated': '2025-07-23'}, {'title': 'Top 8 Tech Influencers', 'url': 'https://www.meltwater.com/en/blog/tech-influencers', 'date': '2024-10-25', 'last_updated': '2025-06-16'}, {'title': 'Top 10 Tech Influencers on Youtube in 2025', 'url': 'https://www.favikon.com/blog/top-10-tech-influencers-youtube', 'date': '2025-01-03', 'last_updated': '2025-08-09'}], 'usage': {'prompt_tokens': 11, 'completion_tokens': 288, 'total_tokens': 299, 'search_context_size': 'low', 'cost': {'input_tokens_cost': 1.1e-05, 'output_tokens_cost': 0.000288, 'request_cost': 0.005, 'total_cost': 0.005299}}}\n"
     ]
    },
    {
     "data": {
      "text/plain": [
       "('The top 5 tech influencers on X (formerly Twitter) in 2025 are:\\n\\n1. **Elon Musk** – CEO of Tesla, SpaceX, and X, with over 150 million followers. Musk is a highly influential figure in technology, sharing insights on innovation, space exploration, electric vehicles, and cryptocurrency. His posts have significant market impact and global reach[1].\\n\\nAdditional top tech influencers on X include digital transformation experts with large followings:\\n\\n2. **Vala Afshar** – Chief Digital Evangelist at Salesforce with around 950K followers, known for content on digital transformation and innovation[3].\\n\\n3. **Kirk Borne** – Astrophysicist and advisor focused on Big Data, AI, IoT, and machine learning, with about 455K followers[3].\\n\\n4. **Antonio Grasso** – Technologist and thought leader in the creator economy and sustainability space, with about 346K followers[3].\\n\\n5. **Ronald van Loon** – Influencer specializing in AI, big data, and cloud analytics, with roughly 338K followers[3].\\n\\nThese individuals are recognized for their expertise in technology trends, digital transformation, and innovation, making them the leading tech influencers on X in 2025. Elon Musk strongly leads the list by follower count and market influence, while the others provide deep insights into emerging technology fields[1][3].',\n",
       " {'search_results': [{'title': 'The Top 10 Influencers on X',\n",
       "    'url': 'https://www.viralnation.com/influencer-lists/top-influencers-on-x',\n",
       "    'date': '2025-06-25',\n",
       "    'last_updated': '2025-06-26'},\n",
       "   {'title': 'Technology Influencers List on Instagram',\n",
       "    'url': 'https://views4you.com/blog/technology-influencers-list-on-instagram/',\n",
       "    'date': '2024-08-09',\n",
       "    'last_updated': '2025-03-06'},\n",
       "   {'title': 'Top 60 Digital Transformation Influencers on Twitter in 2025',\n",
       "    'url': 'https://x.feedspot.com/digital_transformation_twitter_influencers/',\n",
       "    'date': '2025-07-21',\n",
       "    'last_updated': '2025-07-23'},\n",
       "   {'title': 'Top 8 Tech Influencers',\n",
       "    'url': 'https://www.meltwater.com/en/blog/tech-influencers',\n",
       "    'date': '2024-10-25',\n",
       "    'last_updated': '2025-06-16'},\n",
       "   {'title': 'Top 10 Tech Influencers on Youtube in 2025',\n",
       "    'url': 'https://www.favikon.com/blog/top-10-tech-influencers-youtube',\n",
       "    'date': '2025-01-03',\n",
       "    'last_updated': '2025-08-09'}],\n",
       "  'usage': {'prompt_tokens': 11,\n",
       "   'completion_tokens': 288,\n",
       "   'total_tokens': 299,\n",
       "   'search_context_size': 'low',\n",
       "   'cost': {'input_tokens_cost': 1.1e-05,\n",
       "    'output_tokens_cost': 0.000288,\n",
       "    'request_cost': 0.005,\n",
       "    'total_cost': 0.005299}}})"
      ]
     },
     "execution_count": 13,
     "metadata": {},
     "output_type": "execute_result"
    }
   ],
   "source": [
    "from requests import Response\n",
    "import json\n",
    "\n",
    "def stream_with_requests_metadata(response: Response):\n",
    "    content = \"\"\n",
    "    metadata = {}\n",
    "\n",
    "    for line in response.iter_lines():\n",
    "        if line:\n",
    "            line = line.decode('utf-8')\n",
    "            if line.startswith('data: '):\n",
    "                data_str = line[6:]\n",
    "                if data_str == '[DONE]':\n",
    "                    break\n",
    "                try:\n",
    "                    chunk = json.loads(data_str)\n",
    "                    \n",
    "                    # Process content\n",
    "                    if 'choices' in chunk and chunk['choices'][0]['delta'].get('content'):\n",
    "                        content_piece = chunk['choices'][0]['delta']['content']\n",
    "                        content += content_piece\n",
    "                        print(content_piece, end='', flush=True)\n",
    "                    \n",
    "                    # Collect metadata\n",
    "                    for key in ['search_results', 'usage']:\n",
    "                        if key in chunk:\n",
    "                            metadata[key] = chunk[key]\n",
    "                            \n",
    "                    # Check if streaming is complete\n",
    "                    if chunk['choices'][0].get('finish_reason'):\n",
    "                        print(f\"\\n\\nMetadata: {metadata}\")\n",
    "                        \n",
    "                except json.JSONDecodeError:\n",
    "                    continue\n",
    "    \n",
    "    return content, metadata\n",
    "\n",
    "stream_with_requests_metadata(response)"
   ]
  },
  {
   "cell_type": "markdown",
   "id": "58660641",
   "metadata": {},
   "source": [
    "# Search & Filtering"
   ]
  },
  {
   "cell_type": "markdown",
   "id": "b06ccfa5",
   "metadata": {},
   "source": [
    "## Search Domain Filter"
   ]
  },
  {
   "cell_type": "code",
   "execution_count": 4,
   "id": "308e4883",
   "metadata": {},
   "outputs": [
    {
     "name": "stdout",
     "output_type": "stream",
     "text": [
      "The James Webb Space Telescope (JWST) has made several groundbreaking discoveries since its operations began, particularly in the fields of galaxy formation, exoplanets, and distant cosmic structures.\n",
      "\n",
      "Key discoveries include:\n",
      "\n",
      "- **Detection of extremely early galaxies:** JWST identified the most distant galaxy ever observed, dubbed \"MoM z14,\" which existed just 280 million years after the Big Bang. This pushes the frontier of our knowledge about the earliest stages of galaxy formation in the universe[5].\n",
      "\n",
      "- **Detailed study of galaxy evolution:** JWST has provided more detailed infrared views of the Hubble Ultra Deep Field, revealing previously unseen galaxies across cosmic history including those at very high redshift, helping scientists better understand how galaxies form and evolve from just hundreds of millions of years after the Big Bang to more recent times[4].\n",
      "\n",
      "- **Evidence of a giant planet near Alpha Centauri:** Observations with JWST’s MIRI instrument yielded strong evidence for a giant exoplanet orbiting Alpha Centauri A, the closest stellar system to the Sun at about 4 light-years away. Although subsequent observations have yet to confirm it definitively, this represents a major potential discovery in nearby planetary systems[2][3].\n",
      "\n",
      "- **Detection of water ice in extrasolar systems:** JWST discovered water ice in a ring of icy bodies orbiting the star HD 181327, about 156 light-years away. This provides insights into the composition of planet-forming regions around other stars[1].\n",
      "\n",
      "- **Unique engineering and observational breakthroughs:** JWST has used new technologies, such as a coronagraphic mask to block starlight and detect faint planets, and has produced detailed infrared images of intriguing galaxies like the Cartwheel Galaxy, enhancing understanding of star formation and the environments around supermassive black holes[1].\n",
      "\n",
      "Overall, JWST is transforming our understanding of the early universe, the formation and evolution of galaxies, and the search for planets outside our solar system, with continuing discoveries expected as its mission progresses[1][2][3][4][5].\n",
      "{'title': \"NASA's James Webb Space Telescope mission — Live ...\", 'url': 'https://www.space.com/news/live/james-webb-space-telescope-updates', 'date': '2025-07-04', 'last_updated': '2025-07-04'}\n",
      "{'title': \"NASA's Webb Finds New Evidence for Planet Around ...\", 'url': 'https://science.nasa.gov/missions/webb/nasas-webb-finds-new-evidence-for-planet-around-closest-solar-twin/', 'date': '2025-08-07', 'last_updated': '2025-08-07'}\n",
      "{'title': \"NASA's Webb Finds New Evidence for Planet Around ...\", 'url': 'https://www.jpl.nasa.gov/news/nasas-webb-finds-new-evidence-for-planet-around-closest-solar-twin/', 'date': '2025-08-07', 'last_updated': '2025-08-07'}\n",
      "{'title': 'James Webb Space Telescope revisits a classic Hubble ...', 'url': 'https://www.space.com/astronomy/james-webb-space-telescope/james-webb-space-telescope-revisits-a-classic-hubble-image-of-over-2-500-galaxies', 'date': '2025-08-05', 'last_updated': '2025-08-04'}\n",
      "{'title': \"'Cosmic miracle!' James Webb Space Telescope discovers ...\", 'url': 'https://www.space.com/astronomy/cosmic-miracle-james-webb-space-telescope-discovers-the-earliest-galaxy-ever-seen', 'date': '2025-05-30', 'last_updated': '2025-07-19'}\n"
     ]
    }
   ],
   "source": [
    "# 1. Allowlist Specific Domains\n",
    "import requests\n",
    "import os\n",
    "\n",
    "api_key = os.environ.get(\"SONAR_API_KEY\")\n",
    "url = \"https://api.perplexity.ai/chat/completions\"\n",
    "headers = {\"Authorization\": f\"Bearer {api_key}\"}\n",
    "payload = {\n",
    "    \"model\": \"sonar\",\n",
    "    \"messages\": [\n",
    "        {\"role\": \"system\", \"content\": \"You are a helpful assistant.\"},\n",
    "        {\"role\": \"user\", \"content\": \"Tell me about the James Webb Space Telescope discoveries.\"}\n",
    "    ],\n",
    "    \"search_domain_filter\": [\n",
    "        \"nasa.gov\",\n",
    "        \"wikipedia.org\",\n",
    "        \"space.com\"\n",
    "    ]\n",
    "}\n",
    "\n",
    "response = requests.post(url, headers=headers, json=payload).json()\n",
    "print(response[\"choices\"][0][\"message\"][\"content\"])\n",
    "for search_result in response.get(\"search_results\", []):\n",
    "    print(search_result)"
   ]
  },
  {
   "cell_type": "code",
   "execution_count": null,
   "id": "204887b9",
   "metadata": {},
   "outputs": [
    {
     "name": "stdout",
     "output_type": "stream",
     "text": [
      "The latest advancements in renewable energy in 2024-2025 focus on significant improvements in solar power, wind energy, green hydrogen, and energy storage technologies, often enhanced by artificial intelligence (AI).\n",
      "\n",
      "Key advancements include:\n",
      "\n",
      "- **Solar Power Efficiency:** New materials such as *perovskite solar cells* have achieved conversion efficiencies exceeding 25%, offering a cheaper, more flexible, and more efficient alternative to traditional silicon-based panels. Innovations also include *perovskite-on-silicon tandem cells* that surpass traditional efficiency limits and enable drop-in replacement for existing manufacturing[1][2][4].\n",
      "\n",
      "- **Wind Energy:** Development of *floating offshore wind turbines* allows placement in deeper waters with stronger, more consistent winds, dramatically increasing energy yields. Advanced blade designs using lighter, stronger materials like carbon fiber improve aerodynamics, durability, and reduce maintenance costs. There is also exploration into novel turbine concepts such as bladeless turbines and flying wind devices[1][3][5].\n",
      "\n",
      "- **Green Hydrogen:** Progress in producing green hydrogen from renewable power sources provides a clean fuel for sectors like industry and transportation, supporting deep decarbonization[1].\n",
      "\n",
      "- **Energy Storage:** Innovations in storage, including *lithium glass batteries* and AI-enhanced grid management, address the intermittency challenges of renewables, improving grid reliability and facilitating higher renewable penetration[2][3][4].\n",
      "\n",
      "- **AI and Big Data:** AI applications optimize renewable energy operations via predictive maintenance, real-time system optimization, and enhanced grid integration, boosting efficiency and reducing downtime[1][2].\n",
      "\n",
      "- **Emerging Trends:** Integrated photovoltaics (e.g., agrivoltaics and floatovoltaics) minimize land use, while advanced solar concentrators enhance efficiency without compromising aesthetics. Research is also pushing into ocean energy as a future significant source[3][4][5].\n",
      "\n",
      "These combined advancements are driving the transition to a more sustainable energy system with higher efficiency, lower costs, and greater reliability.\n",
      "{'title': 'Unlocking the Future: The Latest Advances in Renewable ...', 'url': 'https://green.org/2024/03/07/unlocking-the-future-the-latest-advances-in-renewable-energy/', 'date': '2024-03-07', 'last_updated': '2025-04-03'}\n",
      "{'title': 'Green Energy Technology Advances 2024: AI & Solar Trends', 'url': 'https://firstignite.com/exploring-the-latest-green-energy-technology-advancements-in-2024/', 'date': '2024-09-25', 'last_updated': '2025-03-20'}\n",
      "{'title': 'The Future of Renewables – Innovations in Energy ...', 'url': 'https://www.nesfircroft.com/resources/blog/the-future-of-renewables-innovations-in-energy-technology/', 'date': '2023-10-17', 'last_updated': '2025-06-16'}\n",
      "{'title': 'Explore the Top 10 Renewable Energy Trends in 2025', 'url': 'https://www.startus-insights.com/innovators-guide/top-10-renewable-energy-trends-2022/', 'date': '2024-07-03', 'last_updated': '2025-07-19'}\n",
      "{'title': 'Renewable energy sources: Future innovations and ...', 'url': 'https://instituteofsustainabilitystudies.com/insights/lexicon/the-future-of-renewable-energy-innovations-and-breakthroughs/', 'date': '2024-06-26', 'last_updated': '2025-07-08'}\n"
     ]
    }
   ],
   "source": [
    "# 2. Denylist Specific Domains\n",
    "import requests\n",
    "import os\n",
    "\n",
    "api_key = os.environ.get(\"SONAR_API_KEY\")\n",
    "url = \"https://api.perplexity.ai/chat/completions\"\n",
    "headers = {\"Authorization\": f\"Bearer {api_key}\"}\n",
    "payload = {\n",
    "    \"model\": \"sonar\",\n",
    "    \"messages\": [\n",
    "        {\"role\": \"system\", \"content\": \"You are a helpful assistant.\"},\n",
    "        {\"role\": \"user\", \"content\": \"What are the latest advancements in renewable energy?\"}\n",
    "    ],\n",
    "    \"search_domain_filter\": [\n",
    "        \"-pinterest.com\",\n",
    "        \"-reddit.com\",\n",
    "        \"-quora.com\"\n",
    "    ]\n",
    "}\n",
    "\n",
    "response = requests.post(url, headers=headers, json=payload).json()\n",
    "print(response[\"choices\"][0][\"message\"][\"content\"])\n",
    "for search_result in response.get(\"search_results\", []):\n",
    "    print(search_result)"
   ]
  },
  {
   "cell_type": "code",
   "execution_count": 12,
   "id": "377a03bf",
   "metadata": {},
   "outputs": [
    {
     "name": "stdout",
     "output_type": "stream",
     "text": [
      "**Chess rankings** are numerical ratings assigned to players based on their performance in rated games and tournaments, reflecting their relative playing strength. The most widely recognized international chess ranking system is the **FIDE Elo rating**, where players gain or lose points depending on the outcome of games against other rated players. Titles such as **Grandmaster (GM)**, **International Master (IM)**, and others are awarded based on achieving certain rating thresholds and performance norms in official tournaments[3][5].\n",
      "\n",
      "In the **FIDE rating system**:\n",
      "\n",
      "- 2200-2299 corresponds to Candidate Master\n",
      "- 2300-2399 to FIDE Master\n",
      "- 2400-2499 to International Master\n",
      "- 2500+ to Grandmaster\n",
      "\n",
      "National ratings may differ slightly and often are about 200 points higher than FIDE ratings[3].\n",
      "\n",
      "**Online platforms** such as Chess.com use similar but sometimes more complex rating systems, like the **Glicko system**, which measures not only rating points but also how confident the system is about a player’s rating (called Rating Deviation)[5].\n",
      "\n",
      "---\n",
      "\n",
      "**Chess tournaments** occur worldwide and significantly influence rankings. Some of the most prestigious events include:\n",
      "\n",
      "- **World Chess Championship**, which determines the world’s best player.\n",
      "- **Candidates Tournament**, which decides the challenger for the World Championship.\n",
      "- Elite invitational events such as the **Sinquefield Cup** and **Tata Steel Chess Tournament**, featuring top-ranked players globally[1].\n",
      "\n",
      "Players accumulate rating points from their tournament performances, and their world ranking fluctuates accordingly. For example, Magnus Carlsen from Norway has been world #1 with a peak rating of 2857 Elo, holding the World Champion title from 2016 to 2022[1][2].\n",
      "\n",
      "Rankings also vary by time control (e.g., bullet, blitz, rapid), with different leaderboards maintained, such as on Chess.com that tracks these categories separately[4].\n",
      "\n",
      "---\n",
      "\n",
      "In summary:\n",
      "\n",
      "- Chess rankings quantify player strength; FIDE ratings are the international standard.\n",
      "- Titles like GM require reaching rating milestones and earning norms.\n",
      "- Top chess tournaments impact rankings and showcase the strongest players.\n",
      "- Online systems may use enhanced rating methods such as Glicko.\n",
      "- Countries like Norway, USA, China, and India have many top-ranked players and champions[1][2].\n",
      "{'title': 'Which Country is Best at Chess?', 'url': 'https://www.chess.com/blog/Nimzo-IndianaJones/which-country-is-best-at-chess', 'date': '2023-01-16', 'last_updated': '2025-08-11'}\n",
      "{'title': 'The Top Chess Players in the World', 'url': 'https://www.chess.com/players', 'date': '2024-12-12', 'last_updated': '2025-08-09'}\n",
      "{'title': 'Chess Ratings - Chess Terms', 'url': 'https://www.chess.com/terms/chess-ratings', 'date': '2024-01-01', 'last_updated': '2025-06-16'}\n",
      "{'title': 'Leaderboard', 'url': 'https://www.chess.com/leaderboard', 'date': '2003-01-01', 'last_updated': '2025-08-10'}\n",
      "{'title': 'Chess Ratings - How They Work', 'url': 'https://www.chess.com/article/view/chess-ratings---how-they-work', 'date': '2018-04-09', 'last_updated': '2025-06-16'}\n"
     ]
    }
   ],
   "source": [
    "import requests\n",
    "import os\n",
    "\n",
    "api_key = os.environ.get(\"SONAR_API_KEY\")\n",
    "url = \"https://api.perplexity.ai/chat/completions\"\n",
    "headers = {\"Authorization\": f\"Bearer {api_key}\"}\n",
    "payload = {\n",
    "    \"model\": \"sonar\",\n",
    "    \"messages\": [\n",
    "        {\"role\": \"system\", \"content\": \"You are a helpful assistant.\"},\n",
    "        {\"role\": \"user\", \"content\": \"Tell me about chess rankings and tournaments.\"}\n",
    "    ],\n",
    "    # \"search_domain_filter\": [\n",
    "    #     \"-https://en.wikipedia.org/wiki/FIDE_rankings\"\n",
    "    # ]\n",
    "    \"search_domain_filter\": [\n",
    "        \"https://en.wikipedia.org/wiki/Chess\",\n",
    "        \"https://en.wikipedia.org/wiki/World_Chess_Championship\",\n",
    "        \"https://chess.com\"\n",
    "    ]\n",
    "}\n",
    "\n",
    "response = requests.post(url, headers=headers, json=payload).json()\n",
    "print(response[\"choices\"][0][\"message\"][\"content\"])\n",
    "for search_result in response.get(\"search_results\", []):\n",
    "    print(search_result)"
   ]
  },
  {
   "cell_type": "markdown",
   "id": "6f15333f",
   "metadata": {},
   "source": [
    "## Academic Filter"
   ]
  },
  {
   "cell_type": "code",
   "execution_count": 15,
   "id": "0c54f002",
   "metadata": {},
   "outputs": [
    {
     "name": "stdout",
     "output_type": "stream",
     "text": [
      "**Dark vessel detection** refers primarily to the **identification of vessels (\"dark vessels\") in satellite imagery or remote sensing data that are not broadcasting their locations via AIS (Automatic Identification System)**, often to evade monitoring. This term is most commonly associated with detecting illicit or unauthorized ship activity, such as **ship-to-ship transfers** that may be used for smuggling or sanctions evasion. A notable application is using deep learning methods on satellite images to automatically detect these \"dark\" vessels and their interactions, such as dark ship-to-ship transfers, by analyzing visual data combined with other sources like GPS[1].\n",
      "\n",
      "The concept is part of remote sensing and maritime security efforts to track vessels that purposely avoid detection by conventional monitoring systems. These dark vessels appear visually in satellite imagery but lack accompanying location data, making their detection a difficult but important intelligence task.\n",
      "\n",
      "No other relevant uses of \"dark vessel detection\" were identified in the search results; most relate to either maritime surveillance or unrelated histological/medical contexts. Therefore, dark vessel detection is generally about **automated remote sensing techniques to find hidden or unreported ships via satellite images**.\n",
      "{'title': 'Automatic Detection of Dark Ship-to-Ship Transfers Using Deep Learning and Satellite Imagery', 'url': 'https://ieeexplore.ieee.org/document/10641983/', 'date': '2024-04-11', 'last_updated': None}\n",
      "{'title': 'Applying Light, Histochemical and Scanning Histological Methods forthe Detection of Unauthorized Animal and Herbal Content in Street MeatSandwich: What is in the Sandwich We Eat?', 'url': 'https://www.omicsonline.org/open-access/applying-light-histochemical-and-scanning-histological-methods-forthe-detection-of-unauthorized-animal-and-herbal-content-in-stree-2157-7110-1000643.php?aid=84187', 'date': '2016-12-15', 'last_updated': None}\n",
      "{'title': 'Special Feature UT SOUTHWESTERN INTERNAL MEDICINE CONFERENCE Acute Kidney Injury: The Beginning of the End of the Dark Ages', 'url': 'https://www.semanticscholar.org/paper/4abc979540e3391a52a388ec2a62d5316998c37f', 'date': None, 'last_updated': None}\n",
      "{'title': 'Efforts for Detection and Recovery of Submerged Oils', 'url': 'https://www.semanticscholar.org/paper/c463fcda3c733ac2345c852ced5e23c62385357f', 'date': None, 'last_updated': None}\n",
      "{'title': 'A Panoply of Nevi', 'url': 'https://www.semanticscholar.org/paper/18cbcb13dcff9819f5acf6cc9886c6f085656266', 'date': None, 'last_updated': None}\n"
     ]
    }
   ],
   "source": [
    "# Basic Academic Search\n",
    "import requests\n",
    "import os\n",
    "\n",
    "api_key = os.environ.get(\"SONAR_API_KEY\")\n",
    "url = \"https://api.perplexity.ai/chat/completions\"\n",
    "headers = {\n",
    "    \"accept\": \"application/json\",\n",
    "    \"authorization\": f\"Bearer {api_key}\",\n",
    "    \"content-type\": \"application/json\"\n",
    "}\n",
    "payload = {\n",
    "    \"model\": \"sonar\",\n",
    "    \"messages\": [{\"role\": \"user\", \"content\": \"What is dark vessel detection?\"}],\n",
    "    \"stream\": False,\n",
    "    \"search_mode\": \"academic\",\n",
    "    \"web_search_options\": {\"search_context_size\": \"low\"}\n",
    "}\n",
    "\n",
    "response = requests.post(url, headers=headers, json=payload).json()\n",
    "print(response[\"choices\"][0][\"message\"][\"content\"])\n",
    "for search_result in response.get(\"search_results\", []):\n",
    "    print(search_result)"
   ]
  },
  {
   "cell_type": "code",
   "execution_count": 18,
   "id": "3e84b2f9",
   "metadata": {},
   "outputs": [
    {
     "name": "stdout",
     "output_type": "stream",
     "text": [
      "**Dark vessel detection** primarily refers to the identification of ships (\"vessels\") that are not broadcasting their location data (such as AIS transponders), making them \"dark\" or hidden in maritime monitoring contexts. This detection is often done using satellite imagery combined with advanced methods like deep learning to find these vessels and their activities, which may include illicit practices such as ship-to-ship transfers without authorization.\n",
      "\n",
      "Specifically, \"dark vessel detection\" involves using remote sensing data from satellites, then applying convolutional neural networks (a type of deep learning model) to automatically detect different types of cargo vessels and identify ship-to-ship transfers (transshipments) that do not appear in AIS data. This method helps uncover over 400 suspected illicit dark transshipment events in monitored regions, such as the Kerch Strait between Ukraine and Russia since 2022[1].\n",
      "\n",
      "Thus, in maritime and surveillance contexts, **dark vessel detection means detecting vessels that deliberately hide their presence using machine learning techniques on satellite images**, enabling authorities to spot suspicious shipping activities despite the absence of onboard tracking signals. \n",
      "\n",
      "The term \"dark vessel detection\" does not seem to pertain to biological or medical vessel (e.g., blood vessel) detection based on the search results provided.\n",
      "{'title': 'Automatic Detection of Dark Ship-to-Ship Transfers Using Deep Learning and Satellite Imagery', 'url': 'https://ieeexplore.ieee.org/document/10641983/', 'date': '2024-04-11', 'last_updated': None}\n",
      "{'title': 'Applying Light, Histochemical and Scanning Histological Methods forthe Detection of Unauthorized Animal and Herbal Content in Street MeatSandwich: What is in the Sandwich We Eat?', 'url': 'https://www.omicsonline.org/open-access/applying-light-histochemical-and-scanning-histological-methods-forthe-detection-of-unauthorized-animal-and-herbal-content-in-stree-2157-7110-1000643.php?aid=84187', 'date': '2016-12-15', 'last_updated': None}\n",
      "{'title': 'Special Feature UT SOUTHWESTERN INTERNAL MEDICINE CONFERENCE Acute Kidney Injury: The Beginning of the End of the Dark Ages', 'url': 'https://www.semanticscholar.org/paper/4abc979540e3391a52a388ec2a62d5316998c37f', 'date': None, 'last_updated': None}\n",
      "{'title': 'Efforts for Detection and Recovery of Submerged Oils', 'url': 'https://www.semanticscholar.org/paper/c463fcda3c733ac2345c852ced5e23c62385357f', 'date': None, 'last_updated': None}\n",
      "{'title': 'A Panoply of Nevi', 'url': 'https://www.semanticscholar.org/paper/18cbcb13dcff9819f5acf6cc9886c6f085656266', 'date': None, 'last_updated': None}\n",
      "{'title': 'Preliminary Results for Oil on the Bottom Detection Technologies', 'url': 'https://www.semanticscholar.org/paper/32946a35b7f8ffc3501a0269065e865f9ece1476', 'date': None, 'last_updated': None}\n",
      "{'title': 'Spectroscopic imaging of blood vessels only near the skin surface for non-invasive blood glucose measurement', 'url': 'http://proceedings.spiedigitallibrary.org/proceeding.aspx?doi=10.1117/12.2183671', 'date': '2015-07-15', 'last_updated': None}\n",
      "{'title': 'Non-Invasive Fluorescence Detection of Cancer-Associated Protease Activity', 'url': 'http://www.tandfonline.com/doi/abs/10.4161/cbt.4.9.2127', 'date': '2005-09-01', 'last_updated': None}\n",
      "{'title': 'THE ACTION OF PHYSOSTIGMINE AND PITUITRIN', 'url': 'https://www.bmj.com/lookup/doi/10.1136/bmj.1.3288.9', 'date': '1924-01-05', 'last_updated': None}\n",
      "{'title': 'Growth Factors in Olfaction', 'url': 'http://link.springer.com/10.1007/978-1-4419-1795-9_85', 'date': None, 'last_updated': None}\n"
     ]
    }
   ],
   "source": [
    "# Combining Academic Mode with Other Parameters\n",
    "import requests\n",
    "import os\n",
    "\n",
    "api_key = os.environ.get(\"SONAR_API_KEY\")\n",
    "url = \"https://api.perplexity.ai/chat/completions\"\n",
    "headers = {\n",
    "    \"accept\": \"application/json\",\n",
    "    \"authorization\": f\"Bearer {api_key}\",\n",
    "    \"content-type\": \"application/json\"\n",
    "}\n",
    "payload = {\n",
    "    \"model\": \"sonar\",\n",
    "    \"messages\": [{\"role\": \"user\", \"content\": \"What is dark vessel detection?\"}],\n",
    "    \"stream\": False,\n",
    "    \"search_mode\": \"academic\",\n",
    "    \"search_after_date_filter\": \"1/1/2023\",\n",
    "    \"web_search_options\": {\"search_context_size\": \"high\"}\n",
    "}\n",
    "\n",
    "response = requests.post(url, headers=headers, json=payload).json()\n",
    "print(response[\"choices\"][0][\"message\"][\"content\"])\n",
    "for search_result in response.get(\"search_results\", []):\n",
    "    print(search_result)"
   ]
  },
  {
   "cell_type": "markdown",
   "id": "88497b05",
   "metadata": {},
   "source": []
  }
 ],
 "metadata": {
  "kernelspec": {
   "display_name": "ai_tpm",
   "language": "python",
   "name": "python3"
  },
  "language_info": {
   "codemirror_mode": {
    "name": "ipython",
    "version": 3
   },
   "file_extension": ".py",
   "mimetype": "text/x-python",
   "name": "python",
   "nbconvert_exporter": "python",
   "pygments_lexer": "ipython3",
   "version": "3.13.5"
  }
 },
 "nbformat": 4,
 "nbformat_minor": 5
}
