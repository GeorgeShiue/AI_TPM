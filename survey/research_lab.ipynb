{
 "cells": [
  {
   "cell_type": "markdown",
   "id": "c998d6c7",
   "metadata": {},
   "source": [
    "# API Settings"
   ]
  },
  {
   "cell_type": "code",
   "execution_count": 1,
   "id": "890bd38c",
   "metadata": {},
   "outputs": [
    {
     "data": {
      "text/plain": [
       "True"
      ]
     },
     "execution_count": 1,
     "metadata": {},
     "output_type": "execute_result"
    }
   ],
   "source": [
    "import os\n",
    "from dotenv import load_dotenv\n",
    "\n",
    "api_key = os.environ.get(\"SONAR_API_KEY\")\n",
    "load_dotenv()"
   ]
  },
  {
   "cell_type": "code",
   "execution_count": 2,
   "id": "5e0a6953",
   "metadata": {},
   "outputs": [],
   "source": [
    "url = \"https://api.perplexity.ai/chat/completions\"\n",
    "headers = {\n",
    "    \"accept\": \"application/json\",\n",
    "    \"authorization\": f\"Bearer {api_key}\",\n",
    "    \"content-type\": \"application/json\"\n",
    "}"
   ]
  },
  {
   "cell_type": "markdown",
   "id": "3742a38c",
   "metadata": {},
   "source": [
    "# Payload"
   ]
  },
  {
   "cell_type": "code",
   "execution_count": 3,
   "id": "48733613",
   "metadata": {},
   "outputs": [],
   "source": [
    "# Normal\n",
    "payload = {\n",
    "    \"model\": \"sonar\",\n",
    "    \"messages\": [\n",
    "        {\"role\": \"system\", \"content\":\"\"\"You are a helpful AI assistant.\n",
    "Your task is to review all retrieved search results and synthesize them into a single, coherent answer.\n",
    "Rules:\n",
    "1. Base your answer only on the provided search results.\n",
    "2. Merge overlapping information and resolve any contradictions using the most credible sources.\n",
    "3. Present the answer in a clear, well-structured format with concise language.\n",
    "4. If relevant, include key facts, dates, figures, and context to support the explanation.\n",
    "5. If search results do not fully answer the question, explicitly state the missing information.\n",
    "\"\"\"},\n",
    "        {\"role\": \"user\", \"content\": \"What is dark vessel detection?\"}\n",
    "    ],\n",
    "    \"stream\": False,\n",
    "}\n",
    "\n",
    "# Academic\n",
    "# payload = {\n",
    "#     \"model\": \"sonar\",\n",
    "#     \"messages\": [{\"role\": \"user\", \"content\": \"What is dark vessel detection?\"}],\n",
    "#     \"stream\": False,\n",
    "#     \"search_mode\": \"academic\",\n",
    "#     \"search_after_date_filter\": \"8/1/2023\",\n",
    "#     \"web_search_options\": {\"search_context_size\": \"high\"},\n",
    "#     # \"search_domain_filter\": [\n",
    "#     #     \"ieee.org\",\n",
    "#     # ]\n",
    "# }"
   ]
  },
  {
   "cell_type": "markdown",
   "id": "7a6e8f23",
   "metadata": {},
   "source": [
    "# Search"
   ]
  },
  {
   "cell_type": "code",
   "execution_count": null,
   "id": "dda8c8d6",
   "metadata": {},
   "outputs": [
    {
     "name": "stdout",
     "output_type": "stream",
     "text": [
      "Response:\n",
      "**Dark vessel detection** is a method of identifying vessels at sea that do not broadcast their location through standard identification systems like the Automatic Identification System (AIS), making them \"dark\" or invisible to conventional tracking methods[4]. These vessels often evade surveillance for purposes such as illegal fishing, trafficking, or other illicit activities.\n",
      "\n",
      "This detection is primarily achieved using **satellite technology** that scans large ocean areas routinely, employing multiple sensor types:\n",
      "\n",
      "- **Optical imagers** capture images in visible light.\n",
      "- **Synthetic Aperture Radar (SAR)** penetrates clouds and darkness, providing reliable imaging day and night.\n",
      "- **Radio Frequency (RF) geolocation** detects radio transmissions from vessels[1].\n",
      "\n",
      "The process involves analyzing satellite data with advanced algorithms and feature detection to identify anomalies indicative of vessels. Detected vessels are then cross-checked against AIS and Vessel Monitoring System (VMS) data to distinguish known ships from \"dark\" vessels, using spatial matching criteria based on sensor accuracy[1].\n",
      "\n",
      "Recent developments include using **machine learning and artificial intelligence** onboard satellites to pre-filter and prioritize images containing ships, speeding detection and reducing data processing loads on the ground[2].\n",
      "\n",
      "Programs like **MDA Space’s Dark Vessel Detection (DVD)** integrate data from multiple satellites, including RADARSAT-2, combining SAR imagery with space-based radio frequency detection and multisensor data fusion. These efforts support monitoring and combating illegal, unreported, and unregulated (IUU) fishing globally, with applications around sensitive areas like the Galapagos Islands and the Indo-Pacific[3][5].\n",
      "\n",
      "In summary, dark vessel detection leverages multispectral satellite sensing, AI data processing, and integration with ship tracking databases to reveal and monitor vessels that intentionally hide their position for illicit purposes, improving maritime domain awareness and ocean security[1][3][4][5].\n",
      "\n",
      "Total 5 Citations:\n",
      "https://www.starboardintelligence.com/articles/satellite-dark-vessel-detection-for-maritime-domain-awareness\n",
      "https://www.esa.int/Enabling_Support/Space_Engineering_Technology/Shaping_the_Future/Machine-learning_system_can_detect_dark_vessels_faster\n",
      "https://mda.space/dark-vessel\n",
      "https://globalfishingwatch.org/research-project-dark-vessels/\n",
      "https://canadiangeographic.ca/articles/dark-vessels-and-how-to-find-them/\n",
      "\n",
      "Total 5 Search Results:\n",
      "{\n",
      "  \"title\": \"Satellite dark vessel detection for maritime domain ...\",\n",
      "  \"url\": \"https://www.starboardintelligence.com/articles/satellite-dark-vessel-detection-for-maritime-domain-awareness\",\n",
      "  \"date\": \"2022-11-12\",\n",
      "  \"last_updated\": \"2025-06-16\"\n",
      "}\n",
      "{\n",
      "  \"title\": \"Machine-learning system can detect dark vessels faster\",\n",
      "  \"url\": \"https://www.esa.int/Enabling_Support/Space_Engineering_Technology/Shaping_the_Future/Machine-learning_system_can_detect_dark_vessels_faster\",\n",
      "  \"date\": \"2024-10-16\",\n",
      "  \"last_updated\": \"2024-10-31\"\n",
      "}\n",
      "{\n",
      "  \"title\": \"Dark Vessel Detection\",\n",
      "  \"url\": \"https://mda.space/dark-vessel\",\n",
      "  \"date\": \"2025-07-18\",\n",
      "  \"last_updated\": \"2025-07-18\"\n",
      "}\n",
      "{\n",
      "  \"title\": \"Dark Vessels\",\n",
      "  \"url\": \"https://globalfishingwatch.org/research-project-dark-vessels/\",\n",
      "  \"date\": \"2022-05-03\",\n",
      "  \"last_updated\": \"2024-10-30\"\n",
      "}\n",
      "{\n",
      "  \"title\": \"Dark vessels and how to find them\",\n",
      "  \"url\": \"https://canadiangeographic.ca/articles/dark-vessels-and-how-to-find-them/\",\n",
      "  \"date\": \"2021-04-22\",\n",
      "  \"last_updated\": \"2024-12-02\"\n",
      "}\n"
     ]
    }
   ],
   "source": [
    "import requests\n",
    "import json\n",
    "\n",
    "response = requests.post(url, headers=headers, json=payload).json()\n",
    "print(f\"Response:\\n{response['choices'][0]['message']['content']}\")\n",
    "\n",
    "# citations = response.get(\"citations\", [])\n",
    "# print(f\"\\nTotal {len(citations)} Citations:\")\n",
    "# for citation in citations:\n",
    "#     print(citation)\n",
    "\n",
    "search_results = response.get(\"search_results\", [])\n",
    "print(f\"\\nTotal {len(search_results)} Search Results:\")\n",
    "for search_result in search_results:\n",
    "    print(json.dumps(search_result, indent=2, ensure_ascii=False))"
   ]
  },
  {
   "cell_type": "code",
   "execution_count": 9,
   "id": "72a3f94d",
   "metadata": {},
   "outputs": [
    {
     "name": "stdout",
     "output_type": "stream",
     "text": [
      "{'title': 'Satellite dark vessel detection for maritime domain ...', 'url': 'https://www.starboardintelligence.com/articles/satellite-dark-vessel-detection-for-maritime-domain-awareness', 'date': '2022-11-12', 'last_updated': '2025-06-16'}\n",
      "{'title': 'Machine-learning system can detect dark vessels faster', 'url': 'https://www.esa.int/Enabling_Support/Space_Engineering_Technology/Shaping_the_Future/Machine-learning_system_can_detect_dark_vessels_faster', 'date': '2024-10-16', 'last_updated': '2024-10-31'}\n",
      "{'title': 'Dark Vessel Detection', 'url': 'https://mda.space/dark-vessel', 'date': '2025-07-18', 'last_updated': '2025-07-18'}\n",
      "{'title': 'Dark Vessels', 'url': 'https://globalfishingwatch.org/research-project-dark-vessels/', 'date': '2022-05-03', 'last_updated': '2024-10-30'}\n",
      "{'title': 'Dark vessels and how to find them', 'url': 'https://canadiangeographic.ca/articles/dark-vessels-and-how-to-find-them/', 'date': '2021-04-22', 'last_updated': '2024-12-02'}\n"
     ]
    }
   ],
   "source": [
    "for search_result in search_results:\n",
    "    print(search_result)"
   ]
  },
  {
   "cell_type": "code",
   "execution_count": 5,
   "id": "e566d6eb",
   "metadata": {},
   "outputs": [],
   "source": [
    "# save search result as json file\n",
    "import json\n",
    "\n",
    "with open(\"result/response.md\", \"w\", encoding=\"utf-8\") as f:\n",
    "    f.write(response['choices'][0]['message']['content'])\n",
    "\n",
    "with open(\"result/search_results.json\", \"w\", encoding=\"utf-8\") as f:\n",
    "    json.dump(search_results, f, ensure_ascii=False, indent=2)"
   ]
  },
  {
   "cell_type": "markdown",
   "id": "31c63483",
   "metadata": {},
   "source": [
    "# Crawling"
   ]
  },
  {
   "cell_type": "code",
   "execution_count": 15,
   "id": "993daa8f",
   "metadata": {},
   "outputs": [],
   "source": [
    "import shutil\n",
    "import os\n",
    "import nest_asyncio\n",
    "\n",
    "shutil.rmtree(\"result/md_docs\")\n",
    "os.makedirs(\"result/md_docs\", exist_ok=True)\n",
    "nest_asyncio.apply()"
   ]
  },
  {
   "cell_type": "code",
   "execution_count": null,
   "id": "1b2e81a7",
   "metadata": {},
   "outputs": [
    {
     "data": {
      "text/html": [
       "<pre style=\"white-space:pre;overflow-x:auto;line-height:normal;font-family:Menlo,'DejaVu Sans Mono',consolas,'Courier New',monospace\"><span style=\"color: #008080; text-decoration-color: #008080; font-weight: bold\">[</span><span style=\"color: #008080; text-decoration-color: #008080\">INIT</span><span style=\"color: #008080; text-decoration-color: #008080; font-weight: bold\">]</span><span style=\"color: #008080; text-decoration-color: #008080\">.... → Crawl4AI </span><span style=\"color: #008080; text-decoration-color: #008080; font-weight: bold\">0.7</span><span style=\"color: #008080; text-decoration-color: #008080\">.</span><span style=\"color: #008080; text-decoration-color: #008080; font-weight: bold\">3</span><span style=\"color: #008080; text-decoration-color: #008080\"> </span>\n",
       "</pre>\n"
      ],
      "text/plain": [
       "\u001b[1;36m[\u001b[0m\u001b[36mINIT\u001b[0m\u001b[1;36m]\u001b[0m\u001b[36m...\u001b[0m\u001b[36m. → Crawl4AI \u001b[0m\u001b[1;36m0.7\u001b[0m\u001b[36m.\u001b[0m\u001b[1;36m3\u001b[0m\u001b[36m \u001b[0m\n"
      ]
     },
     "metadata": {},
     "output_type": "display_data"
    },
    {
     "data": {
      "text/html": [
       "<pre style=\"white-space:pre;overflow-x:auto;line-height:normal;font-family:Menlo,'DejaVu Sans Mono',consolas,'Courier New',monospace\"><span style=\"color: #008000; text-decoration-color: #008000; font-weight: bold\">[</span><span style=\"color: #008000; text-decoration-color: #008000\">FETCH</span><span style=\"color: #008000; text-decoration-color: #008000; font-weight: bold\">]</span><span style=\"color: #008000; text-decoration-color: #008000\">... ↓ </span><span style=\"color: #008000; text-decoration-color: #008000; text-decoration: underline\">https://canadiangeographic.ca/articles/dark-vessels-and-how-to-find-them/</span><span style=\"color: #008000; text-decoration-color: #008000\">                            |</span>\n",
       "<span style=\"color: #008000; text-decoration-color: #008000\">✓ | ⏱: </span><span style=\"color: #008000; text-decoration-color: #008000; font-weight: bold\">1.</span><span style=\"color: #008000; text-decoration-color: #008000\">39s </span>\n",
       "</pre>\n"
      ],
      "text/plain": [
       "\u001b[1;32m[\u001b[0m\u001b[32mFETCH\u001b[0m\u001b[1;32m]\u001b[0m\u001b[32m...\u001b[0m\u001b[32m ↓ \u001b[0m\u001b[4;32mhttps://canadiangeographic.ca/articles/dark-vessels-and-how-to-find-them/\u001b[0m\u001b[32m                            |\u001b[0m\n",
       "\u001b[32m✓\u001b[0m\u001b[32m | ⏱: \u001b[0m\u001b[1;32m1.\u001b[0m\u001b[32m39s \u001b[0m\n"
      ]
     },
     "metadata": {},
     "output_type": "display_data"
    },
    {
     "data": {
      "text/html": [
       "<pre style=\"white-space:pre;overflow-x:auto;line-height:normal;font-family:Menlo,'DejaVu Sans Mono',consolas,'Courier New',monospace\"><span style=\"color: #008000; text-decoration-color: #008000; font-weight: bold\">[</span><span style=\"color: #008000; text-decoration-color: #008000\">SCRAPE</span><span style=\"color: #008000; text-decoration-color: #008000; font-weight: bold\">]</span><span style=\"color: #008000; text-decoration-color: #008000\">.. ◆ </span><span style=\"color: #008000; text-decoration-color: #008000; text-decoration: underline\">https://canadiangeographic.ca/articles/dark-vessels-and-how-to-find-them/</span><span style=\"color: #008000; text-decoration-color: #008000\">                            |</span>\n",
       "<span style=\"color: #008000; text-decoration-color: #008000\">✓ | ⏱: </span><span style=\"color: #008000; text-decoration-color: #008000; font-weight: bold\">0.</span><span style=\"color: #008000; text-decoration-color: #008000\">00s </span>\n",
       "</pre>\n"
      ],
      "text/plain": [
       "\u001b[1;32m[\u001b[0m\u001b[32mSCRAPE\u001b[0m\u001b[1;32m]\u001b[0m\u001b[32m.. ◆ \u001b[0m\u001b[4;32mhttps://canadiangeographic.ca/articles/dark-vessels-and-how-to-find-them/\u001b[0m\u001b[32m                            |\u001b[0m\n",
       "\u001b[32m✓\u001b[0m\u001b[32m | ⏱: \u001b[0m\u001b[1;32m0.\u001b[0m\u001b[32m00s \u001b[0m\n"
      ]
     },
     "metadata": {},
     "output_type": "display_data"
    },
    {
     "data": {
      "text/html": [
       "<pre style=\"white-space:pre;overflow-x:auto;line-height:normal;font-family:Menlo,'DejaVu Sans Mono',consolas,'Courier New',monospace\"><span style=\"color: #008000; text-decoration-color: #008000; font-weight: bold\">[</span><span style=\"color: #008000; text-decoration-color: #008000\">COMPLETE</span><span style=\"color: #008000; text-decoration-color: #008000; font-weight: bold\">]</span><span style=\"color: #008000; text-decoration-color: #008000\"> ● </span><span style=\"color: #008000; text-decoration-color: #008000; text-decoration: underline\">https://canadiangeographic.ca/articles/dark-vessels-and-how-to-find-them/</span><span style=\"color: #008000; text-decoration-color: #008000\">                            |</span>\n",
       "<span style=\"color: #008000; text-decoration-color: #008000\">✓ | ⏱: </span><span style=\"color: #008000; text-decoration-color: #008000; font-weight: bold\">1.</span><span style=\"color: #008000; text-decoration-color: #008000\">40s </span>\n",
       "</pre>\n"
      ],
      "text/plain": [
       "\u001b[1;32m[\u001b[0m\u001b[32mCOMPLETE\u001b[0m\u001b[1;32m]\u001b[0m\u001b[32m ● \u001b[0m\u001b[4;32mhttps://canadiangeographic.ca/articles/dark-vessels-and-how-to-find-them/\u001b[0m\u001b[32m                            |\u001b[0m\n",
       "\u001b[32m✓\u001b[0m\u001b[32m | ⏱: \u001b[0m\u001b[1;32m1.\u001b[0m\u001b[32m40s \u001b[0m\n"
      ]
     },
     "metadata": {},
     "output_type": "display_data"
    },
    {
     "data": {
      "text/html": [
       "<pre style=\"white-space:pre;overflow-x:auto;line-height:normal;font-family:Menlo,'DejaVu Sans Mono',consolas,'Courier New',monospace\"><span style=\"color: #008000; text-decoration-color: #008000; font-weight: bold\">[</span><span style=\"color: #008000; text-decoration-color: #008000\">FETCH</span><span style=\"color: #008000; text-decoration-color: #008000; font-weight: bold\">]</span><span style=\"color: #008000; text-decoration-color: #008000\">... ↓ </span><span style=\"color: #008000; text-decoration-color: #008000; text-decoration: underline\">https://www.esa.int/Enabling_Support/Space_Engin...e-learning_system_can_detect_dark_vessels_faster</span><span style=\"color: #008000; text-decoration-color: #008000\">  |</span>\n",
       "<span style=\"color: #008000; text-decoration-color: #008000\">✓ | ⏱: </span><span style=\"color: #008000; text-decoration-color: #008000; font-weight: bold\">1.</span><span style=\"color: #008000; text-decoration-color: #008000\">58s </span>\n",
       "</pre>\n"
      ],
      "text/plain": [
       "\u001b[1;32m[\u001b[0m\u001b[32mFETCH\u001b[0m\u001b[1;32m]\u001b[0m\u001b[32m...\u001b[0m\u001b[32m ↓ \u001b[0m\u001b[4;32mhttps://www.esa.int/Enabling_Support/Space_Engin...e-learning_system_can_detect_dark_vessels_faster\u001b[0m\u001b[32m  |\u001b[0m\n",
       "\u001b[32m✓\u001b[0m\u001b[32m | ⏱: \u001b[0m\u001b[1;32m1.\u001b[0m\u001b[32m58s \u001b[0m\n"
      ]
     },
     "metadata": {},
     "output_type": "display_data"
    },
    {
     "data": {
      "text/html": [
       "<pre style=\"white-space:pre;overflow-x:auto;line-height:normal;font-family:Menlo,'DejaVu Sans Mono',consolas,'Courier New',monospace\"><span style=\"color: #008000; text-decoration-color: #008000; font-weight: bold\">[</span><span style=\"color: #008000; text-decoration-color: #008000\">SCRAPE</span><span style=\"color: #008000; text-decoration-color: #008000; font-weight: bold\">]</span><span style=\"color: #008000; text-decoration-color: #008000\">.. ◆ </span><span style=\"color: #008000; text-decoration-color: #008000; text-decoration: underline\">https://www.esa.int/Enabling_Support/Space_Engin...e-learning_system_can_detect_dark_vessels_faster</span><span style=\"color: #008000; text-decoration-color: #008000\">  |</span>\n",
       "<span style=\"color: #008000; text-decoration-color: #008000\">✓ | ⏱: </span><span style=\"color: #008000; text-decoration-color: #008000; font-weight: bold\">0.</span><span style=\"color: #008000; text-decoration-color: #008000\">03s </span>\n",
       "</pre>\n"
      ],
      "text/plain": [
       "\u001b[1;32m[\u001b[0m\u001b[32mSCRAPE\u001b[0m\u001b[1;32m]\u001b[0m\u001b[32m.. ◆ \u001b[0m\u001b[4;32mhttps://www.esa.int/Enabling_Support/Space_Engin...e-learning_system_can_detect_dark_vessels_faster\u001b[0m\u001b[32m  |\u001b[0m\n",
       "\u001b[32m✓\u001b[0m\u001b[32m | ⏱: \u001b[0m\u001b[1;32m0.\u001b[0m\u001b[32m03s \u001b[0m\n"
      ]
     },
     "metadata": {},
     "output_type": "display_data"
    },
    {
     "data": {
      "text/html": [
       "<pre style=\"white-space:pre;overflow-x:auto;line-height:normal;font-family:Menlo,'DejaVu Sans Mono',consolas,'Courier New',monospace\"><span style=\"color: #008000; text-decoration-color: #008000; font-weight: bold\">[</span><span style=\"color: #008000; text-decoration-color: #008000\">COMPLETE</span><span style=\"color: #008000; text-decoration-color: #008000; font-weight: bold\">]</span><span style=\"color: #008000; text-decoration-color: #008000\"> ● </span><span style=\"color: #008000; text-decoration-color: #008000; text-decoration: underline\">https://www.esa.int/Enabling_Support/Space_Engin...e-learning_system_can_detect_dark_vessels_faster</span><span style=\"color: #008000; text-decoration-color: #008000\">  |</span>\n",
       "<span style=\"color: #008000; text-decoration-color: #008000\">✓ | ⏱: </span><span style=\"color: #008000; text-decoration-color: #008000; font-weight: bold\">1.</span><span style=\"color: #008000; text-decoration-color: #008000\">62s </span>\n",
       "</pre>\n"
      ],
      "text/plain": [
       "\u001b[1;32m[\u001b[0m\u001b[32mCOMPLETE\u001b[0m\u001b[1;32m]\u001b[0m\u001b[32m ● \u001b[0m\u001b[4;32mhttps://www.esa.int/Enabling_Support/Space_Engin...e-learning_system_can_detect_dark_vessels_faster\u001b[0m\u001b[32m  |\u001b[0m\n",
       "\u001b[32m✓\u001b[0m\u001b[32m | ⏱: \u001b[0m\u001b[1;32m1.\u001b[0m\u001b[32m62s \u001b[0m\n"
      ]
     },
     "metadata": {},
     "output_type": "display_data"
    },
    {
     "data": {
      "text/html": [
       "<pre style=\"white-space:pre;overflow-x:auto;line-height:normal;font-family:Menlo,'DejaVu Sans Mono',consolas,'Courier New',monospace\"><span style=\"color: #008000; text-decoration-color: #008000; font-weight: bold\">[</span><span style=\"color: #008000; text-decoration-color: #008000\">FETCH</span><span style=\"color: #008000; text-decoration-color: #008000; font-weight: bold\">]</span><span style=\"color: #008000; text-decoration-color: #008000\">... ↓ </span><span style=\"color: #008000; text-decoration-color: #008000; text-decoration: underline\">https://www.starboardintelligence.com/articles/s...k-vessel-detection-for-maritime-domain-awareness</span><span style=\"color: #008000; text-decoration-color: #008000\">  |</span>\n",
       "<span style=\"color: #008000; text-decoration-color: #008000\">✓ | ⏱: </span><span style=\"color: #008000; text-decoration-color: #008000; font-weight: bold\">2.</span><span style=\"color: #008000; text-decoration-color: #008000\">49s </span>\n",
       "</pre>\n"
      ],
      "text/plain": [
       "\u001b[1;32m[\u001b[0m\u001b[32mFETCH\u001b[0m\u001b[1;32m]\u001b[0m\u001b[32m...\u001b[0m\u001b[32m ↓ \u001b[0m\u001b[4;32mhttps://www.starboardintelligence.com/articles/s...k-vessel-detection-for-maritime-domain-awareness\u001b[0m\u001b[32m  |\u001b[0m\n",
       "\u001b[32m✓\u001b[0m\u001b[32m | ⏱: \u001b[0m\u001b[1;32m2.\u001b[0m\u001b[32m49s \u001b[0m\n"
      ]
     },
     "metadata": {},
     "output_type": "display_data"
    },
    {
     "data": {
      "text/html": [
       "<pre style=\"white-space:pre;overflow-x:auto;line-height:normal;font-family:Menlo,'DejaVu Sans Mono',consolas,'Courier New',monospace\"><span style=\"color: #008000; text-decoration-color: #008000; font-weight: bold\">[</span><span style=\"color: #008000; text-decoration-color: #008000\">SCRAPE</span><span style=\"color: #008000; text-decoration-color: #008000; font-weight: bold\">]</span><span style=\"color: #008000; text-decoration-color: #008000\">.. ◆ </span><span style=\"color: #008000; text-decoration-color: #008000; text-decoration: underline\">https://www.starboardintelligence.com/articles/s...k-vessel-detection-for-maritime-domain-awareness</span><span style=\"color: #008000; text-decoration-color: #008000\">  |</span>\n",
       "<span style=\"color: #008000; text-decoration-color: #008000\">✓ | ⏱: </span><span style=\"color: #008000; text-decoration-color: #008000; font-weight: bold\">0.</span><span style=\"color: #008000; text-decoration-color: #008000\">01s </span>\n",
       "</pre>\n"
      ],
      "text/plain": [
       "\u001b[1;32m[\u001b[0m\u001b[32mSCRAPE\u001b[0m\u001b[1;32m]\u001b[0m\u001b[32m.. ◆ \u001b[0m\u001b[4;32mhttps://www.starboardintelligence.com/articles/s...k-vessel-detection-for-maritime-domain-awareness\u001b[0m\u001b[32m  |\u001b[0m\n",
       "\u001b[32m✓\u001b[0m\u001b[32m | ⏱: \u001b[0m\u001b[1;32m0.\u001b[0m\u001b[32m01s \u001b[0m\n"
      ]
     },
     "metadata": {},
     "output_type": "display_data"
    },
    {
     "data": {
      "text/html": [
       "<pre style=\"white-space:pre;overflow-x:auto;line-height:normal;font-family:Menlo,'DejaVu Sans Mono',consolas,'Courier New',monospace\"><span style=\"color: #008000; text-decoration-color: #008000; font-weight: bold\">[</span><span style=\"color: #008000; text-decoration-color: #008000\">COMPLETE</span><span style=\"color: #008000; text-decoration-color: #008000; font-weight: bold\">]</span><span style=\"color: #008000; text-decoration-color: #008000\"> ● </span><span style=\"color: #008000; text-decoration-color: #008000; text-decoration: underline\">https://www.starboardintelligence.com/articles/s...k-vessel-detection-for-maritime-domain-awareness</span><span style=\"color: #008000; text-decoration-color: #008000\">  |</span>\n",
       "<span style=\"color: #008000; text-decoration-color: #008000\">✓ | ⏱: </span><span style=\"color: #008000; text-decoration-color: #008000; font-weight: bold\">2.</span><span style=\"color: #008000; text-decoration-color: #008000\">51s </span>\n",
       "</pre>\n"
      ],
      "text/plain": [
       "\u001b[1;32m[\u001b[0m\u001b[32mCOMPLETE\u001b[0m\u001b[1;32m]\u001b[0m\u001b[32m ● \u001b[0m\u001b[4;32mhttps://www.starboardintelligence.com/articles/s...k-vessel-detection-for-maritime-domain-awareness\u001b[0m\u001b[32m  |\u001b[0m\n",
       "\u001b[32m✓\u001b[0m\u001b[32m | ⏱: \u001b[0m\u001b[1;32m2.\u001b[0m\u001b[32m51s \u001b[0m\n"
      ]
     },
     "metadata": {},
     "output_type": "display_data"
    },
    {
     "data": {
      "text/html": [
       "<pre style=\"white-space:pre;overflow-x:auto;line-height:normal;font-family:Menlo,'DejaVu Sans Mono',consolas,'Courier New',monospace\"><span style=\"color: #008000; text-decoration-color: #008000; font-weight: bold\">[</span><span style=\"color: #008000; text-decoration-color: #008000\">FETCH</span><span style=\"color: #008000; text-decoration-color: #008000; font-weight: bold\">]</span><span style=\"color: #008000; text-decoration-color: #008000\">... ↓ </span><span style=\"color: #008000; text-decoration-color: #008000; text-decoration: underline\">https://globalfishingwatch.org/research-project-dark-vessels/</span><span style=\"color: #008000; text-decoration-color: #008000\">                                        |</span>\n",
       "<span style=\"color: #008000; text-decoration-color: #008000\">✓ | ⏱: </span><span style=\"color: #008000; text-decoration-color: #008000; font-weight: bold\">2.</span><span style=\"color: #008000; text-decoration-color: #008000\">50s </span>\n",
       "</pre>\n"
      ],
      "text/plain": [
       "\u001b[1;32m[\u001b[0m\u001b[32mFETCH\u001b[0m\u001b[1;32m]\u001b[0m\u001b[32m...\u001b[0m\u001b[32m ↓ \u001b[0m\u001b[4;32mhttps://globalfishingwatch.org/research-project-dark-vessels/\u001b[0m\u001b[32m                                        |\u001b[0m\n",
       "\u001b[32m✓\u001b[0m\u001b[32m | ⏱: \u001b[0m\u001b[1;32m2.\u001b[0m\u001b[32m50s \u001b[0m\n"
      ]
     },
     "metadata": {},
     "output_type": "display_data"
    },
    {
     "data": {
      "text/html": [
       "<pre style=\"white-space:pre;overflow-x:auto;line-height:normal;font-family:Menlo,'DejaVu Sans Mono',consolas,'Courier New',monospace\"><span style=\"color: #008000; text-decoration-color: #008000; font-weight: bold\">[</span><span style=\"color: #008000; text-decoration-color: #008000\">SCRAPE</span><span style=\"color: #008000; text-decoration-color: #008000; font-weight: bold\">]</span><span style=\"color: #008000; text-decoration-color: #008000\">.. ◆ </span><span style=\"color: #008000; text-decoration-color: #008000; text-decoration: underline\">https://globalfishingwatch.org/research-project-dark-vessels/</span><span style=\"color: #008000; text-decoration-color: #008000\">                                        |</span>\n",
       "<span style=\"color: #008000; text-decoration-color: #008000\">✓ | ⏱: </span><span style=\"color: #008000; text-decoration-color: #008000; font-weight: bold\">0.</span><span style=\"color: #008000; text-decoration-color: #008000\">04s </span>\n",
       "</pre>\n"
      ],
      "text/plain": [
       "\u001b[1;32m[\u001b[0m\u001b[32mSCRAPE\u001b[0m\u001b[1;32m]\u001b[0m\u001b[32m.. ◆ \u001b[0m\u001b[4;32mhttps://globalfishingwatch.org/research-project-dark-vessels/\u001b[0m\u001b[32m                                        |\u001b[0m\n",
       "\u001b[32m✓\u001b[0m\u001b[32m | ⏱: \u001b[0m\u001b[1;32m0.\u001b[0m\u001b[32m04s \u001b[0m\n"
      ]
     },
     "metadata": {},
     "output_type": "display_data"
    },
    {
     "data": {
      "text/html": [
       "<pre style=\"white-space:pre;overflow-x:auto;line-height:normal;font-family:Menlo,'DejaVu Sans Mono',consolas,'Courier New',monospace\"><span style=\"color: #008000; text-decoration-color: #008000; font-weight: bold\">[</span><span style=\"color: #008000; text-decoration-color: #008000\">COMPLETE</span><span style=\"color: #008000; text-decoration-color: #008000; font-weight: bold\">]</span><span style=\"color: #008000; text-decoration-color: #008000\"> ● </span><span style=\"color: #008000; text-decoration-color: #008000; text-decoration: underline\">https://globalfishingwatch.org/research-project-dark-vessels/</span><span style=\"color: #008000; text-decoration-color: #008000\">                                        |</span>\n",
       "<span style=\"color: #008000; text-decoration-color: #008000\">✓ | ⏱: </span><span style=\"color: #008000; text-decoration-color: #008000; font-weight: bold\">2.</span><span style=\"color: #008000; text-decoration-color: #008000\">54s </span>\n",
       "</pre>\n"
      ],
      "text/plain": [
       "\u001b[1;32m[\u001b[0m\u001b[32mCOMPLETE\u001b[0m\u001b[1;32m]\u001b[0m\u001b[32m ● \u001b[0m\u001b[4;32mhttps://globalfishingwatch.org/research-project-dark-vessels/\u001b[0m\u001b[32m                                        |\u001b[0m\n",
       "\u001b[32m✓\u001b[0m\u001b[32m | ⏱: \u001b[0m\u001b[1;32m2.\u001b[0m\u001b[32m54s \u001b[0m\n"
      ]
     },
     "metadata": {},
     "output_type": "display_data"
    },
    {
     "data": {
      "text/html": [
       "<pre style=\"white-space:pre;overflow-x:auto;line-height:normal;font-family:Menlo,'DejaVu Sans Mono',consolas,'Courier New',monospace\"><span style=\"color: #008000; text-decoration-color: #008000; font-weight: bold\">[</span><span style=\"color: #008000; text-decoration-color: #008000\">FETCH</span><span style=\"color: #008000; text-decoration-color: #008000; font-weight: bold\">]</span><span style=\"color: #008000; text-decoration-color: #008000\">... ↓ </span><span style=\"color: #008000; text-decoration-color: #008000; text-decoration: underline\">https://mda.space/dark-vessel</span><span style=\"color: #008000; text-decoration-color: #008000\">                                                                        |</span>\n",
       "<span style=\"color: #008000; text-decoration-color: #008000\">✓ | ⏱: </span><span style=\"color: #008000; text-decoration-color: #008000; font-weight: bold\">3.</span><span style=\"color: #008000; text-decoration-color: #008000\">05s </span>\n",
       "</pre>\n"
      ],
      "text/plain": [
       "\u001b[1;32m[\u001b[0m\u001b[32mFETCH\u001b[0m\u001b[1;32m]\u001b[0m\u001b[32m...\u001b[0m\u001b[32m ↓ \u001b[0m\u001b[4;32mhttps://mda.space/dark-vessel\u001b[0m\u001b[32m                                                                        |\u001b[0m\n",
       "\u001b[32m✓\u001b[0m\u001b[32m | ⏱: \u001b[0m\u001b[1;32m3.\u001b[0m\u001b[32m05s \u001b[0m\n"
      ]
     },
     "metadata": {},
     "output_type": "display_data"
    },
    {
     "data": {
      "text/html": [
       "<pre style=\"white-space:pre;overflow-x:auto;line-height:normal;font-family:Menlo,'DejaVu Sans Mono',consolas,'Courier New',monospace\"><span style=\"color: #008000; text-decoration-color: #008000; font-weight: bold\">[</span><span style=\"color: #008000; text-decoration-color: #008000\">SCRAPE</span><span style=\"color: #008000; text-decoration-color: #008000; font-weight: bold\">]</span><span style=\"color: #008000; text-decoration-color: #008000\">.. ◆ </span><span style=\"color: #008000; text-decoration-color: #008000; text-decoration: underline\">https://mda.space/dark-vessel</span><span style=\"color: #008000; text-decoration-color: #008000\">                                                                        |</span>\n",
       "<span style=\"color: #008000; text-decoration-color: #008000\">✓ | ⏱: </span><span style=\"color: #008000; text-decoration-color: #008000; font-weight: bold\">0.</span><span style=\"color: #008000; text-decoration-color: #008000\">01s </span>\n",
       "</pre>\n"
      ],
      "text/plain": [
       "\u001b[1;32m[\u001b[0m\u001b[32mSCRAPE\u001b[0m\u001b[1;32m]\u001b[0m\u001b[32m.. ◆ \u001b[0m\u001b[4;32mhttps://mda.space/dark-vessel\u001b[0m\u001b[32m                                                                        |\u001b[0m\n",
       "\u001b[32m✓\u001b[0m\u001b[32m | ⏱: \u001b[0m\u001b[1;32m0.\u001b[0m\u001b[32m01s \u001b[0m\n"
      ]
     },
     "metadata": {},
     "output_type": "display_data"
    },
    {
     "data": {
      "text/html": [
       "<pre style=\"white-space:pre;overflow-x:auto;line-height:normal;font-family:Menlo,'DejaVu Sans Mono',consolas,'Courier New',monospace\"><span style=\"color: #008000; text-decoration-color: #008000; font-weight: bold\">[</span><span style=\"color: #008000; text-decoration-color: #008000\">COMPLETE</span><span style=\"color: #008000; text-decoration-color: #008000; font-weight: bold\">]</span><span style=\"color: #008000; text-decoration-color: #008000\"> ● </span><span style=\"color: #008000; text-decoration-color: #008000; text-decoration: underline\">https://mda.space/dark-vessel</span><span style=\"color: #008000; text-decoration-color: #008000\">                                                                        |</span>\n",
       "<span style=\"color: #008000; text-decoration-color: #008000\">✓ | ⏱: </span><span style=\"color: #008000; text-decoration-color: #008000; font-weight: bold\">3.</span><span style=\"color: #008000; text-decoration-color: #008000\">06s </span>\n",
       "</pre>\n"
      ],
      "text/plain": [
       "\u001b[1;32m[\u001b[0m\u001b[32mCOMPLETE\u001b[0m\u001b[1;32m]\u001b[0m\u001b[32m ● \u001b[0m\u001b[4;32mhttps://mda.space/dark-vessel\u001b[0m\u001b[32m                                                                        |\u001b[0m\n",
       "\u001b[32m✓\u001b[0m\u001b[32m | ⏱: \u001b[0m\u001b[1;32m3.\u001b[0m\u001b[32m06s \u001b[0m\n"
      ]
     },
     "metadata": {},
     "output_type": "display_data"
    },
    {
     "name": "stdout",
     "output_type": "stream",
     "text": [
      "✅ Saved: Satellite dark vessel detection for maritime domain ...\n",
      "✅ Saved: Machine-learning system can detect dark vessels faster\n",
      "✅ Saved: Dark Vessel Detection\n",
      "✅ Saved: Dark Vessels\n",
      "✅ Saved: Dark vessels and how to find them\n"
     ]
    }
   ],
   "source": [
    "import asyncio\n",
    "from crawl4ai import AsyncWebCrawler, BrowserConfig, CrawlerRunConfig, CacheMode\n",
    "import aiofiles\n",
    "import re\n",
    "\n",
    "async def crawl_single_url(crawler, url, title):\n",
    "    try:\n",
    "        run_conf = CrawlerRunConfig(cache_mode=CacheMode.BYPASS)\n",
    "        result = await crawler.arun(url=url, config=run_conf)\n",
    "        \n",
    "        if result.success:\n",
    "            # 處理檔名\n",
    "            safe_filename = re.sub(r'[^\\w\\s-]', '', title).strip()[:100]\n",
    "            safe_filename = re.sub(r'[-\\s]+', '-', safe_filename)\n",
    "            filename = f\"result/md_docs/{safe_filename}.md\"\n",
    "            \n",
    "            # 使用 aiofiles 進行異步文件寫入\n",
    "            async with aiofiles.open(filename, \"w\", encoding=\"utf-8\") as f:\n",
    "                await f.write(result.markdown.raw_markdown)\n",
    "            \n",
    "            return {\"status\": \"success\", \"title\": title, \"url\": url}\n",
    "        else:\n",
    "            return {\"status\": \"failed\", \"title\": title, \"url\": url, \"error\": result.error_message}\n",
    "    except Exception as e:\n",
    "        return {\"status\": \"error\", \"title\": title, \"url\": url, \"error\": str(e)}\n",
    "\n",
    "async def parallel_crawling(search_results):\n",
    "    browser_conf = BrowserConfig(headless=True)\n",
    "    \n",
    "    async with AsyncWebCrawler(config=browser_conf) as crawler:\n",
    "        # 建立所有爬取任務\n",
    "        tasks = [\n",
    "            crawl_single_url(crawler, sr['url'], sr['title']) \n",
    "            for sr in search_results\n",
    "        ]\n",
    "        \n",
    "        # 並行執行所有任務\n",
    "        results = await asyncio.gather(*tasks, return_exceptions=True)\n",
    "        \n",
    "        # 處理結果\n",
    "        for result in results:\n",
    "            if isinstance(result, dict):\n",
    "                if result[\"status\"] == \"success\":\n",
    "                    print(f\"✅ Saved: {result['title']}\")\n",
    "                else:\n",
    "                    print(f\"❌ Failed: {result['title']} - {result.get('error', 'Unknown error')}\")\n",
    "            else:\n",
    "                print(f\"❌ Exception: {result}\")\n",
    "\n",
    "asyncio.run(parallel_crawling(search_results))"
   ]
  }
 ],
 "metadata": {
  "kernelspec": {
   "display_name": "ai_tpm",
   "language": "python",
   "name": "python3"
  },
  "language_info": {
   "codemirror_mode": {
    "name": "ipython",
    "version": 3
   },
   "file_extension": ".py",
   "mimetype": "text/x-python",
   "name": "python",
   "nbconvert_exporter": "python",
   "pygments_lexer": "ipython3",
   "version": "3.13.5"
  }
 },
 "nbformat": 4,
 "nbformat_minor": 5
}
